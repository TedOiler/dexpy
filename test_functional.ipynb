{
 "cells": [
  {
   "cell_type": "code",
   "execution_count": 1,
   "metadata": {
    "collapsed": true
   },
   "outputs": [],
   "source": [
    "import optidex as dx\n",
    "import numpy as np\n",
    "import pandas as pd"
   ]
  },
  {
   "cell_type": "code",
   "execution_count": 2,
   "outputs": [],
   "source": [
    "def get_model_matrix(data, order, interactions_only=False, bias=True) -> pd.DataFrame:\n",
    "    \"\"\"\n",
    "    :param pd.DataFrame data: Design matrix\n",
    "    :param int order: Order of the polynomial (1-main effects, 2-quadratic effects, ...)\n",
    "    :param bool interactions_only: Include terms as x1^2 or not\n",
    "    :param bool bias: Include a beta_0 on the design matrix or not\n",
    "    Generate the model matrix of a design matrix (argument)\n",
    "    \"\"\"\n",
    "    from sklearn.preprocessing import PolynomialFeatures\n",
    "\n",
    "    poly = PolynomialFeatures(order, interaction_only=interactions_only, include_bias=bias)\n",
    "    df = pd.DataFrame(poly.fit_transform(data))\n",
    "    df.columns = poly.get_feature_names(data.columns)\n",
    "    return df"
   ],
   "metadata": {
    "collapsed": false,
    "pycharm": {
     "name": "#%%\n"
    }
   }
  },
  {
   "cell_type": "code",
   "execution_count": 3,
   "outputs": [],
   "source": [
    "def poly_basis(start=-1, stop=1, order=3, bias=True):\n",
    "    X = pd.DataFrame(np.linspace(start, stop, 50), columns=['x1'])\n",
    "    XX = get_model_matrix(data=X, order=order, bias=bias)\n",
    "    w = pd.DataFrame([3, 1 ,0.9, 1], index=XX.columns)\n",
    "    return (XX @ w), XX"
   ],
   "metadata": {
    "collapsed": false,
    "pycharm": {
     "name": "#%%\n"
    }
   }
  },
  {
   "cell_type": "code",
   "execution_count": 4,
   "outputs": [
    {
     "data": {
      "text/plain": "<AxesSubplot:>"
     },
     "execution_count": 4,
     "metadata": {},
     "output_type": "execute_result"
    },
    {
     "data": {
      "text/plain": "<Figure size 432x288 with 1 Axes>",
      "image/png": "[encoded data removed]"
     },
     "metadata": {
      "needs_background": "light"
     },
     "output_type": "display_data"
    }
   ],
   "source": [
    "data, model_mat = poly_basis(start=-1, stop=1, order=3, bias=True)\n",
    "data.plot()"
   ],
   "metadata": {
    "collapsed": false,
    "pycharm": {
     "name": "#%%\n"
    }
   }
  },
  {
   "cell_type": "code",
   "execution_count": 5,
   "outputs": [
    {
     "data": {
      "text/plain": "      1        x1      x1^2      x1^3\n0   1.0 -1.000000  1.000000 -1.000000\n1   1.0 -0.959184  0.920033 -0.882481\n2   1.0 -0.918367  0.843399 -0.774550\n3   1.0 -0.877551  0.770096 -0.675798\n4   1.0 -0.836735  0.700125 -0.585819\n5   1.0 -0.795918  0.633486 -0.504203\n6   1.0 -0.755102  0.570179 -0.430543\n7   1.0 -0.714286  0.510204 -0.364431\n8   1.0 -0.673469  0.453561 -0.305459\n9   1.0 -0.632653  0.400250 -0.253219\n10  1.0 -0.591837  0.350271 -0.207303\n11  1.0 -0.551020  0.303623 -0.167303\n12  1.0 -0.510204  0.260308 -0.132810\n13  1.0 -0.469388  0.220325 -0.103418\n14  1.0 -0.428571  0.183673 -0.078717\n15  1.0 -0.387755  0.150354 -0.058301\n16  1.0 -0.346939  0.120367 -0.041760\n17  1.0 -0.306122  0.093711 -0.028687\n18  1.0 -0.265306  0.070387 -0.018674\n19  1.0 -0.224490  0.050396 -0.011313\n20  1.0 -0.183673  0.033736 -0.006196\n21  1.0 -0.142857  0.020408 -0.002915\n22  1.0 -0.102041  0.010412 -0.001062\n23  1.0 -0.061224  0.003748 -0.000229\n24  1.0 -0.020408  0.000416 -0.000008\n25  1.0  0.020408  0.000416  0.000008\n26  1.0  0.061224  0.003748  0.000229\n27  1.0  0.102041  0.010412  0.001062\n28  1.0  0.142857  0.020408  0.002915\n29  1.0  0.183673  0.033736  0.006196\n30  1.0  0.224490  0.050396  0.011313\n31  1.0  0.265306  0.070387  0.018674\n32  1.0  0.306122  0.093711  0.028687\n33  1.0  0.346939  0.120367  0.041760\n34  1.0  0.387755  0.150354  0.058301\n35  1.0  0.428571  0.183673  0.078717\n36  1.0  0.469388  0.220325  0.103418\n37  1.0  0.510204  0.260308  0.132810\n38  1.0  0.551020  0.303623  0.167303\n39  1.0  0.591837  0.350271  0.207303\n40  1.0  0.632653  0.400250  0.253219\n41  1.0  0.673469  0.453561  0.305459\n42  1.0  0.714286  0.510204  0.364431\n43  1.0  0.755102  0.570179  0.430543\n44  1.0  0.795918  0.633486  0.504203\n45  1.0  0.836735  0.700125  0.585819\n46  1.0  0.877551  0.770096  0.675798\n47  1.0  0.918367  0.843399  0.774550\n48  1.0  0.959184  0.920033  0.882481\n49  1.0  1.000000  1.000000  1.000000",
      "text/html": "<div>\n<style scoped>\n    .dataframe tbody tr th:only-of-type {\n        vertical-align: middle;\n    }\n\n    .dataframe tbody tr th {\n        vertical-align: top;\n    }\n\n    .dataframe thead th {\n        text-align: right;\n    }\n</style>\n<table border=\"1\" class=\"dataframe\">\n  <thead>\n    <tr style=\"text-align: right;\">\n      <th></th>\n      <th>1</th>\n      <th>x1</th>\n      <th>x1^2</th>\n      <th>x1^3</th>\n    </tr>\n  </thead>\n  <tbody>\n    <tr>\n      <th>0</th>\n      <td>1.0</td>\n      <td>-1.000000</td>\n      <td>1.000000</td>\n      <td>-1.000000</td>\n    </tr>\n    <tr>\n      <th>1</th>\n      <td>1.0</td>\n      <td>-0.959184</td>\n      <td>0.920033</td>\n      <td>-0.882481</td>\n    </tr>\n    <tr>\n      <th>2</th>\n      <td>1.0</td>\n      <td>-0.918367</td>\n      <td>0.843399</td>\n      <td>-0.774550</td>\n    </tr>\n    <tr>\n      <th>3</th>\n      <td>1.0</td>\n      <td>-0.877551</td>\n      <td>0.770096</td>\n      <td>-0.675798</td>\n    </tr>\n    <tr>\n      <th>4</th>\n      <td>1.0</td>\n      <td>-0.836735</td>\n      <td>0.700125</td>\n      <td>-0.585819</td>\n    </tr>\n    <tr>\n      <th>5</th>\n      <td>1.0</td>\n      <td>-0.795918</td>\n      <td>0.633486</td>\n      <td>-0.504203</td>\n    </tr>\n    <tr>\n      <th>6</th>\n      <td>1.0</td>\n      <td>-0.755102</td>\n      <td>0.570179</td>\n      <td>-0.430543</td>\n    </tr>\n    <tr>\n      <th>7</th>\n      <td>1.0</td>\n      <td>-0.714286</td>\n      <td>0.510204</td>\n      <td>-0.364431</td>\n    </tr>\n    <tr>\n      <th>8</th>\n      <td>1.0</td>\n      <td>-0.673469</td>\n      <td>0.453561</td>\n      <td>-0.305459</td>\n    </tr>\n    <tr>\n      <th>9</th>\n      <td>1.0</td>\n      <td>-0.632653</td>\n      <td>0.400250</td>\n      <td>-0.253219</td>\n    </tr>\n    <tr>\n      <th>10</th>\n      <td>1.0</td>\n      <td>-0.591837</td>\n      <td>0.350271</td>\n      <td>-0.207303</td>\n    </tr>\n    <tr>\n      <th>11</th>\n      <td>1.0</td>\n      <td>-0.551020</td>\n      <td>0.303623</td>\n      <td>-0.167303</td>\n    </tr>\n    <tr>\n      <th>12</th>\n      <td>1.0</td>\n      <td>-0.510204</td>\n      <td>0.260308</td>\n      <td>-0.132810</td>\n    </tr>\n    <tr>\n      <th>13</th>\n      <td>1.0</td>\n      <td>-0.469388</td>\n      <td>0.220325</td>\n      <td>-0.103418</td>\n    </tr>\n    <tr>\n      <th>14</th>\n      <td>1.0</td>\n      <td>-0.428571</td>\n      <td>0.183673</td>\n      <td>-0.078717</td>\n    </tr>\n    <tr>\n      <th>15</th>\n      <td>1.0</td>\n      <td>-0.387755</td>\n      <td>0.150354</td>\n      <td>-0.058301</td>\n    </tr>\n    <tr>\n      <th>16</th>\n      <td>1.0</td>\n      <td>-0.346939</td>\n      <td>0.120367</td>\n      <td>-0.041760</td>\n    </tr>\n    <tr>\n      <th>17</th>\n      <td>1.0</td>\n      <td>-0.306122</td>\n      <td>0.093711</td>\n      <td>-0.028687</td>\n    </tr>\n    <tr>\n      <th>18</th>\n      <td>1.0</td>\n      <td>-0.265306</td>\n      <td>0.070387</td>\n      <td>-0.018674</td>\n    </tr>\n    <tr>\n      <th>19</th>\n      <td>1.0</td>\n      <td>-0.224490</td>\n      <td>0.050396</td>\n      <td>-0.011313</td>\n    </tr>\n    <tr>\n      <th>20</th>\n      <td>1.0</td>\n      <td>-0.183673</td>\n      <td>0.033736</td>\n      <td>-0.006196</td>\n    </tr>\n    <tr>\n      <th>21</th>\n      <td>1.0</td>\n      <td>-0.142857</td>\n      <td>0.020408</td>\n      <td>-0.002915</td>\n    </tr>\n    <tr>\n      <th>22</th>\n      <td>1.0</td>\n      <td>-0.102041</td>\n      <td>0.010412</td>\n      <td>-0.001062</td>\n    </tr>\n    <tr>\n      <th>23</th>\n      <td>1.0</td>\n      <td>-0.061224</td>\n      <td>0.003748</td>\n      <td>-0.000229</td>\n    </tr>\n    <tr>\n      <th>24</th>\n      <td>1.0</td>\n      <td>-0.020408</td>\n      <td>0.000416</td>\n      <td>-0.000008</td>\n    </tr>\n    <tr>\n      <th>25</th>\n      <td>1.0</td>\n      <td>0.020408</td>\n      <td>0.000416</td>\n      <td>0.000008</td>\n    </tr>\n    <tr>\n      <th>26</th>\n      <td>1.0</td>\n      <td>0.061224</td>\n      <td>0.003748</td>\n      <td>0.000229</td>\n    </tr>\n    <tr>\n      <th>27</th>\n      <td>1.0</td>\n      <td>0.102041</td>\n      <td>0.010412</td>\n      <td>0.001062</td>\n    </tr>\n    <tr>\n      <th>28</th>\n      <td>1.0</td>\n      <td>0.142857</td>\n      <td>0.020408</td>\n      <td>0.002915</td>\n    </tr>\n    <tr>\n      <th>29</th>\n      <td>1.0</td>\n      <td>0.183673</td>\n      <td>0.033736</td>\n      <td>0.006196</td>\n    </tr>\n    <tr>\n      <th>30</th>\n      <td>1.0</td>\n      <td>0.224490</td>\n      <td>0.050396</td>\n      <td>0.011313</td>\n    </tr>\n    <tr>\n      <th>31</th>\n      <td>1.0</td>\n      <td>0.265306</td>\n      <td>0.070387</td>\n      <td>0.018674</td>\n    </tr>\n    <tr>\n      <th>32</th>\n      <td>1.0</td>\n      <td>0.306122</td>\n      <td>0.093711</td>\n      <td>0.028687</td>\n    </tr>\n    <tr>\n      <th>33</th>\n      <td>1.0</td>\n      <td>0.346939</td>\n      <td>0.120367</td>\n      <td>0.041760</td>\n    </tr>\n    <tr>\n      <th>34</th>\n      <td>1.0</td>\n      <td>0.387755</td>\n      <td>0.150354</td>\n      <td>0.058301</td>\n    </tr>\n    <tr>\n      <th>35</th>\n      <td>1.0</td>\n      <td>0.428571</td>\n      <td>0.183673</td>\n      <td>0.078717</td>\n    </tr>\n    <tr>\n      <th>36</th>\n      <td>1.0</td>\n      <td>0.469388</td>\n      <td>0.220325</td>\n      <td>0.103418</td>\n    </tr>\n    <tr>\n      <th>37</th>\n      <td>1.0</td>\n      <td>0.510204</td>\n      <td>0.260308</td>\n      <td>0.132810</td>\n    </tr>\n    <tr>\n      <th>38</th>\n      <td>1.0</td>\n      <td>0.551020</td>\n      <td>0.303623</td>\n      <td>0.167303</td>\n    </tr>\n    <tr>\n      <th>39</th>\n      <td>1.0</td>\n      <td>0.591837</td>\n      <td>0.350271</td>\n      <td>0.207303</td>\n    </tr>\n    <tr>\n      <th>40</th>\n      <td>1.0</td>\n      <td>0.632653</td>\n      <td>0.400250</td>\n      <td>0.253219</td>\n    </tr>\n    <tr>\n      <th>41</th>\n      <td>1.0</td>\n      <td>0.673469</td>\n      <td>0.453561</td>\n      <td>0.305459</td>\n    </tr>\n    <tr>\n      <th>42</th>\n      <td>1.0</td>\n      <td>0.714286</td>\n      <td>0.510204</td>\n      <td>0.364431</td>\n    </tr>\n    <tr>\n      <th>43</th>\n      <td>1.0</td>\n      <td>0.755102</td>\n      <td>0.570179</td>\n      <td>0.430543</td>\n    </tr>\n    <tr>\n      <th>44</th>\n      <td>1.0</td>\n      <td>0.795918</td>\n      <td>0.633486</td>\n      <td>0.504203</td>\n    </tr>\n    <tr>\n      <th>45</th>\n      <td>1.0</td>\n      <td>0.836735</td>\n      <td>0.700125</td>\n      <td>0.585819</td>\n    </tr>\n    <tr>\n      <th>46</th>\n      <td>1.0</td>\n      <td>0.877551</td>\n      <td>0.770096</td>\n      <td>0.675798</td>\n    </tr>\n    <tr>\n      <th>47</th>\n      <td>1.0</td>\n      <td>0.918367</td>\n      <td>0.843399</td>\n      <td>0.774550</td>\n    </tr>\n    <tr>\n      <th>48</th>\n      <td>1.0</td>\n      <td>0.959184</td>\n      <td>0.920033</td>\n      <td>0.882481</td>\n    </tr>\n    <tr>\n      <th>49</th>\n      <td>1.0</td>\n      <td>1.000000</td>\n      <td>1.000000</td>\n      <td>1.000000</td>\n    </tr>\n  </tbody>\n</table>\n</div>"
     },
     "execution_count": 5,
     "metadata": {},
     "output_type": "execute_result"
    }
   ],
   "source": [
    "model_mat"
   ],
   "metadata": {
    "collapsed": false,
    "pycharm": {
     "name": "#%%\n"
    }
   }
  },
  {
   "cell_type": "code",
   "execution_count": 6,
   "outputs": [
    {
     "ename": "AttributeError",
     "evalue": "'Design' object has no attribute 'set_model'",
     "output_type": "error",
     "traceback": [
      "\u001B[0;31m---------------------------------------------------------------------------\u001B[0m",
      "\u001B[0;31mAttributeError\u001B[0m                            Traceback (most recent call last)",
      "\u001B[0;32m/var/folders/bb/tzggm8cx2f5fyxfhdmmhn7j40000gn/T/ipykernel_93429/3162064743.py\u001B[0m in \u001B[0;36m<module>\u001B[0;34m\u001B[0m\n\u001B[1;32m      6\u001B[0m                       \u001B[0;36m3\u001B[0m\u001B[0;34m:\u001B[0m \u001B[0;34m[\u001B[0m\u001B[0;34m-\u001B[0m\u001B[0;36m1\u001B[0m\u001B[0;34m,\u001B[0m \u001B[0;36m0\u001B[0m\u001B[0;34m,\u001B[0m \u001B[0;36m1\u001B[0m\u001B[0;34m]\u001B[0m\u001B[0;34m\u001B[0m\u001B[0;34m\u001B[0m\u001B[0m\n\u001B[1;32m      7\u001B[0m                   })\n\u001B[0;32m----> 8\u001B[0;31m \u001B[0mdes_1\u001B[0m\u001B[0;34m.\u001B[0m\u001B[0mset_model\u001B[0m\u001B[0;34m(\u001B[0m\u001B[0morder\u001B[0m\u001B[0;34m=\u001B[0m\u001B[0;36m2\u001B[0m\u001B[0;34m,\u001B[0m \u001B[0minteractions_only\u001B[0m\u001B[0;34m=\u001B[0m\u001B[0;32mFalse\u001B[0m\u001B[0;34m,\u001B[0m \u001B[0mbias\u001B[0m\u001B[0;34m=\u001B[0m\u001B[0;32mTrue\u001B[0m\u001B[0;34m)\u001B[0m\u001B[0;34m\u001B[0m\u001B[0;34m\u001B[0m\u001B[0m\n\u001B[0m\u001B[1;32m      9\u001B[0m \u001B[0mdes_1\u001B[0m\u001B[0;34m.\u001B[0m\u001B[0mset_algorithm\u001B[0m\u001B[0;34m(\u001B[0m\u001B[0mengine\u001B[0m\u001B[0;34m=\u001B[0m\u001B[0;34m\"det\"\u001B[0m\u001B[0;34m,\u001B[0m \u001B[0mepochs\u001B[0m\u001B[0;34m=\u001B[0m\u001B[0;36m100\u001B[0m\u001B[0;34m)\u001B[0m\u001B[0;34m\u001B[0m\u001B[0;34m\u001B[0m\u001B[0m\n\u001B[1;32m     10\u001B[0m \u001B[0mdes_1\u001B[0m\u001B[0;34m.\u001B[0m\u001B[0m__dict__\u001B[0m\u001B[0;34m\u001B[0m\u001B[0;34m\u001B[0m\u001B[0m\n",
      "\u001B[0;31mAttributeError\u001B[0m: 'Design' object has no attribute 'set_model'"
     ]
    }
   ],
   "source": [
    "des_1 = dx.Design(experiments=10,\n",
    "                  levels={\n",
    "                      0: [-1, 0, 1],\n",
    "                      1: [-5, 5],\n",
    "                      2: [-1, 0, 1],\n",
    "                      3: [-1, 0, 1]\n",
    "                  })\n",
    "des_1.set_model(order=2, interactions_only=False, bias=True)\n",
    "des_1.set_algorithm(engine=\"det\", epochs=100)\n",
    "des_1.__dict__"
   ],
   "metadata": {
    "collapsed": false,
    "pycharm": {
     "name": "#%%\n"
    }
   }
  },
  {
   "cell_type": "code",
   "execution_count": null,
   "outputs": [],
   "source": [
    "des_2 = dx.Functional(experiments=10,\n",
    "                      levels={\n",
    "                          0: [-1, 0, 1],\n",
    "                          1: [-5, 5],\n",
    "                          2: [-1, 0, 1],\n",
    "                          3: [-1, 0, 1]\n",
    "                      })\n",
    "des_2.__dict__"
   ],
   "metadata": {
    "collapsed": false,
    "pycharm": {
     "name": "#%%\n"
    }
   }
  },
  {
   "cell_type": "code",
   "execution_count": null,
   "outputs": [],
   "source": [
    "f_des = dx.Functional(experiments=10,\n",
    "                      levels={\n",
    "                          0: [-1, 0, 1],\n",
    "                          1: [-5, 5],\n",
    "                          2: [-1, 0, 1],\n",
    "                          3: [-1, 0, 1]\n",
    "                      })"
   ],
   "metadata": {
    "collapsed": false,
    "pycharm": {
     "name": "#%%\n"
    }
   }
  },
  {
   "cell_type": "code",
   "execution_count": null,
   "outputs": [],
   "source": [
    "f_des.set_model(order=2)"
   ],
   "metadata": {
    "collapsed": false,
    "pycharm": {
     "name": "#%%\n"
    }
   }
  },
  {
   "cell_type": "code",
   "execution_count": null,
   "outputs": [],
   "source": [
    "f_des.set_algorithm(epochs=100, engine='det')"
   ],
   "metadata": {
    "collapsed": false,
    "pycharm": {
     "name": "#%%\n"
    }
   }
  },
  {
   "cell_type": "code",
   "execution_count": null,
   "outputs": [],
   "source": [
    "f_des.__dict__"
   ],
   "metadata": {
    "collapsed": false,
    "pycharm": {
     "name": "#%%\n"
    }
   }
  },
  {
   "cell_type": "code",
   "execution_count": null,
   "outputs": [],
   "source": [
    "f_des.test()"
   ],
   "metadata": {
    "collapsed": false,
    "pycharm": {
     "name": "#%%\n"
    }
   }
  },
  {
   "cell_type": "code",
   "execution_count": null,
   "outputs": [],
   "source": [
    "t = np.linspace(-1,1)\n",
    "((t>0) & (t<0.5))*t"
   ],
   "metadata": {
    "collapsed": false,
    "pycharm": {
     "name": "#%%\n"
    }
   }
  },
  {
   "cell_type": "code",
   "execution_count": null,
   "outputs": [],
   "source": [
    "def tanh(t, c):\n",
    "    return (np.exp(t + c) - np.exp(c - t)) / (np.exp(t + c) + np.exp(c - t))"
   ],
   "metadata": {
    "collapsed": false,
    "pycharm": {
     "name": "#%%\n"
    }
   }
  },
  {
   "cell_type": "code",
   "execution_count": null,
   "outputs": [],
   "source": [
    "W = np.array([3, -5, 6, -2])\n",
    "c_t = np.array([1, tanh(t, -1), tanh(t, 0), tanh(t, 1)])\n"
   ],
   "metadata": {
    "collapsed": false,
    "pycharm": {
     "name": "#%%\n"
    }
   }
  },
  {
   "cell_type": "code",
   "execution_count": 1,
   "outputs": [],
   "source": [
    "from basis import *"
   ],
   "metadata": {
    "collapsed": false,
    "pycharm": {
     "name": "#%%\n"
    }
   }
  },
  {
   "cell_type": "code",
   "execution_count": 2,
   "outputs": [
    {
     "data": {
      "text/plain": "2.2018106669168622"
     },
     "execution_count": 2,
     "metadata": {},
     "output_type": "execute_result"
    }
   ],
   "source": [
    "t = smp.symbols('t')\n",
    "scaling = evaluate(vec1=sigmoid(x=t, centers=[-1,0,1]),\n",
    "                   vec2=sigmoid(x=t, centers=[-1,0,1]),\n",
    "                   symbol=t,\n",
    "                   lower=0,\n",
    "                   upper=1)\n",
    "scaling"
   ],
   "metadata": {
    "collapsed": false,
    "pycharm": {
     "name": "#%%\n"
    }
   }
  },
  {
   "cell_type": "code",
   "execution_count": 27,
   "outputs": [
    {
     "ename": "ValueError",
     "evalue": "matmul: Input operand 1 has a mismatch in its core dimension 0, with gufunc signature (n?,k),(k,m?)->(n?,m?) (size 1 is different from 4)",
     "output_type": "error",
     "traceback": [
      "\u001B[0;31m---------------------------------------------------------------------------\u001B[0m",
      "\u001B[0;31mValueError\u001B[0m                                Traceback (most recent call last)",
      "\u001B[0;32m/var/folders/bb/tzggm8cx2f5fyxfhdmmhn7j40000gn/T/ipykernel_81627/276196990.py\u001B[0m in \u001B[0;36m<module>\u001B[0;34m\u001B[0m\n\u001B[1;32m      1\u001B[0m \u001B[0ma\u001B[0m \u001B[0;34m=\u001B[0m \u001B[0mtanh\u001B[0m\u001B[0;34m(\u001B[0m\u001B[0mx\u001B[0m\u001B[0;34m=\u001B[0m\u001B[0mt\u001B[0m\u001B[0;34m,\u001B[0m \u001B[0mcenters\u001B[0m\u001B[0;34m=\u001B[0m\u001B[0;34m[\u001B[0m\u001B[0;34m-\u001B[0m\u001B[0;36m1\u001B[0m\u001B[0;34m,\u001B[0m \u001B[0;36m0\u001B[0m\u001B[0;34m,\u001B[0m \u001B[0;36m1\u001B[0m\u001B[0;34m]\u001B[0m\u001B[0;34m)\u001B[0m\u001B[0;34m\u001B[0m\u001B[0;34m\u001B[0m\u001B[0m\n\u001B[1;32m      2\u001B[0m \u001B[0mw\u001B[0m \u001B[0;34m=\u001B[0m \u001B[0;34m[\u001B[0m\u001B[0;36m1\u001B[0m\u001B[0;34m,\u001B[0m\u001B[0;34m-\u001B[0m\u001B[0;36m1\u001B[0m\u001B[0;34m,\u001B[0m\u001B[0;36m2\u001B[0m\u001B[0;34m,\u001B[0m\u001B[0;36m2\u001B[0m\u001B[0;34m]\u001B[0m\u001B[0;34m\u001B[0m\u001B[0;34m\u001B[0m\u001B[0m\n\u001B[0;32m----> 3\u001B[0;31m \u001B[0msmp\u001B[0m\u001B[0;34m.\u001B[0m\u001B[0mplot\u001B[0m\u001B[0;34m(\u001B[0m\u001B[0mw\u001B[0m \u001B[0;34m@\u001B[0m \u001B[0ma\u001B[0m\u001B[0;34m.\u001B[0m\u001B[0mT\u001B[0m\u001B[0;34m)\u001B[0m\u001B[0;34m\u001B[0m\u001B[0;34m\u001B[0m\u001B[0m\n\u001B[0m",
      "\u001B[0;31mValueError\u001B[0m: matmul: Input operand 1 has a mismatch in its core dimension 0, with gufunc signature (n?,k),(k,m?)->(n?,m?) (size 1 is different from 4)"
     ]
    }
   ],
   "source": [
    "a = tanh(x=t, centers=[-1, 0, 1])\n",
    "w = [1,-1,2,2]\n",
    "smp.plot(w @ a.T)"
   ],
   "metadata": {
    "collapsed": false,
    "pycharm": {
     "name": "#%%\n"
    }
   }
  },
  {
   "cell_type": "code",
   "execution_count": 4,
   "outputs": [
    {
     "ename": "TypeError",
     "evalue": "unsupported operand type(s) for &: 'int' and 'Symbol'",
     "output_type": "error",
     "traceback": [
      "\u001B[0;31m---------------------------------------------------------------------------\u001B[0m",
      "\u001B[0;31mTypeError\u001B[0m                                 Traceback (most recent call last)",
      "\u001B[0;32m/var/folders/bb/tzggm8cx2f5fyxfhdmmhn7j40000gn/T/ipykernel_9161/3798300906.py\u001B[0m in \u001B[0;36m<module>\u001B[0;34m\u001B[0m\n\u001B[0;32m----> 1\u001B[0;31m \u001B[0ma\u001B[0m \u001B[0;34m=\u001B[0m \u001B[0mstep\u001B[0m\u001B[0;34m(\u001B[0m\u001B[0mx\u001B[0m\u001B[0;34m=\u001B[0m\u001B[0mt\u001B[0m\u001B[0;34m,\u001B[0m \u001B[0mcenters\u001B[0m\u001B[0;34m=\u001B[0m\u001B[0;34m[\u001B[0m\u001B[0;36m0\u001B[0m\u001B[0;34m,\u001B[0m\u001B[0;36m1\u001B[0m\u001B[0;34m]\u001B[0m\u001B[0;34m,\u001B[0m \u001B[0mh\u001B[0m\u001B[0;34m=\u001B[0m\u001B[0;34m-\u001B[0m\u001B[0;36m1\u001B[0m\u001B[0;34m)\u001B[0m\u001B[0;34m\u001B[0m\u001B[0;34m\u001B[0m\u001B[0m\n\u001B[0m\u001B[1;32m      2\u001B[0m \u001B[0ma\u001B[0m\u001B[0;34m\u001B[0m\u001B[0;34m\u001B[0m\u001B[0m\n",
      "\u001B[0;32m~/Documents/code/optidex/basis.py\u001B[0m in \u001B[0;36mstep\u001B[0;34m(x, centers, h)\u001B[0m\n\u001B[1;32m     41\u001B[0m \u001B[0;34m\u001B[0m\u001B[0m\n\u001B[1;32m     42\u001B[0m \u001B[0;32mdef\u001B[0m \u001B[0mstep\u001B[0m\u001B[0;34m(\u001B[0m\u001B[0mx\u001B[0m\u001B[0;34m,\u001B[0m \u001B[0mcenters\u001B[0m\u001B[0;34m,\u001B[0m \u001B[0mh\u001B[0m\u001B[0;34m)\u001B[0m\u001B[0;34m:\u001B[0m\u001B[0;34m\u001B[0m\u001B[0;34m\u001B[0m\u001B[0m\n\u001B[0;32m---> 43\u001B[0;31m     \u001B[0;32mreturn\u001B[0m \u001B[0;34m[\u001B[0m\u001B[0msmp\u001B[0m\u001B[0;34m.\u001B[0m\u001B[0mPiecewise\u001B[0m\u001B[0;34m(\u001B[0m\u001B[0;34m(\u001B[0m\u001B[0;36m1\u001B[0m\u001B[0;34m,\u001B[0m \u001B[0;34m(\u001B[0m\u001B[0mx\u001B[0m \u001B[0;34m>\u001B[0m \u001B[0mh\u001B[0m \u001B[0;34m&\u001B[0m \u001B[0mx\u001B[0m \u001B[0;34m<\u001B[0m \u001B[0mc\u001B[0m\u001B[0;34m)\u001B[0m\u001B[0;34m)\u001B[0m\u001B[0;34m,\u001B[0m \u001B[0;36m0\u001B[0m\u001B[0;34m)\u001B[0m \u001B[0;32mfor\u001B[0m \u001B[0mc\u001B[0m \u001B[0;32min\u001B[0m \u001B[0mcenters\u001B[0m\u001B[0;34m]\u001B[0m\u001B[0;34m\u001B[0m\u001B[0;34m\u001B[0m\u001B[0m\n\u001B[0m",
      "\u001B[0;32m~/Documents/code/optidex/basis.py\u001B[0m in \u001B[0;36m<listcomp>\u001B[0;34m(.0)\u001B[0m\n\u001B[1;32m     41\u001B[0m \u001B[0;34m\u001B[0m\u001B[0m\n\u001B[1;32m     42\u001B[0m \u001B[0;32mdef\u001B[0m \u001B[0mstep\u001B[0m\u001B[0;34m(\u001B[0m\u001B[0mx\u001B[0m\u001B[0;34m,\u001B[0m \u001B[0mcenters\u001B[0m\u001B[0;34m,\u001B[0m \u001B[0mh\u001B[0m\u001B[0;34m)\u001B[0m\u001B[0;34m:\u001B[0m\u001B[0;34m\u001B[0m\u001B[0;34m\u001B[0m\u001B[0m\n\u001B[0;32m---> 43\u001B[0;31m     \u001B[0;32mreturn\u001B[0m \u001B[0;34m[\u001B[0m\u001B[0msmp\u001B[0m\u001B[0;34m.\u001B[0m\u001B[0mPiecewise\u001B[0m\u001B[0;34m(\u001B[0m\u001B[0;34m(\u001B[0m\u001B[0;36m1\u001B[0m\u001B[0;34m,\u001B[0m \u001B[0;34m(\u001B[0m\u001B[0mx\u001B[0m \u001B[0;34m>\u001B[0m \u001B[0mh\u001B[0m \u001B[0;34m&\u001B[0m \u001B[0mx\u001B[0m \u001B[0;34m<\u001B[0m \u001B[0mc\u001B[0m\u001B[0;34m)\u001B[0m\u001B[0;34m)\u001B[0m\u001B[0;34m,\u001B[0m \u001B[0;36m0\u001B[0m\u001B[0;34m)\u001B[0m \u001B[0;32mfor\u001B[0m \u001B[0mc\u001B[0m \u001B[0;32min\u001B[0m \u001B[0mcenters\u001B[0m\u001B[0;34m]\u001B[0m\u001B[0;34m\u001B[0m\u001B[0;34m\u001B[0m\u001B[0m\n\u001B[0m",
      "\u001B[0;31mTypeError\u001B[0m: unsupported operand type(s) for &: 'int' and 'Symbol'"
     ]
    }
   ],
   "source": [
    "a = step(x=t, centers=[0,1], h=-1)\n",
    "a"
   ],
   "metadata": {
    "collapsed": false,
    "pycharm": {
     "name": "#%%\n"
    }
   }
  },
  {
   "cell_type": "code",
   "execution_count": 7,
   "outputs": [
    {
     "ename": "TypeError",
     "evalue": "sympy.functions.elementary.piecewise.ExprCondPair() argument after * must be an iterable, not int",
     "output_type": "error",
     "traceback": [
      "\u001B[0;31m---------------------------------------------------------------------------\u001B[0m",
      "\u001B[0;31mTypeError\u001B[0m                                 Traceback (most recent call last)",
      "\u001B[0;32m/var/folders/bb/tzggm8cx2f5fyxfhdmmhn7j40000gn/T/ipykernel_9161/906537080.py\u001B[0m in \u001B[0;36m<module>\u001B[0;34m\u001B[0m\n\u001B[0;32m----> 1\u001B[0;31m \u001B[0msmp\u001B[0m\u001B[0;34m.\u001B[0m\u001B[0mPiecewise\u001B[0m\u001B[0;34m(\u001B[0m\u001B[0;36m1\u001B[0m\u001B[0;34m,\u001B[0m \u001B[0;34m(\u001B[0m\u001B[0;34m(\u001B[0m\u001B[0mt\u001B[0m\u001B[0;34m>\u001B[0m\u001B[0;34m-\u001B[0m\u001B[0;36m1\u001B[0m\u001B[0;34m)\u001B[0m \u001B[0;34m&\u001B[0m \u001B[0;34m(\u001B[0m\u001B[0mt\u001B[0m\u001B[0;34m<\u001B[0m\u001B[0;36m0\u001B[0m\u001B[0;34m)\u001B[0m\u001B[0;34m)\u001B[0m\u001B[0;34m,\u001B[0m \u001B[0;36m0\u001B[0m\u001B[0;34m)\u001B[0m\u001B[0;34m\u001B[0m\u001B[0;34m\u001B[0m\u001B[0m\n\u001B[0m",
      "\u001B[0;32m~/opt/anaconda3/lib/python3.9/site-packages/sympy/functions/elementary/piecewise.py\u001B[0m in \u001B[0;36m__new__\u001B[0;34m(cls, *args, **options)\u001B[0m\n\u001B[1;32m    125\u001B[0m         \u001B[0;32mfor\u001B[0m \u001B[0mec\u001B[0m \u001B[0;32min\u001B[0m \u001B[0margs\u001B[0m\u001B[0;34m:\u001B[0m\u001B[0;34m\u001B[0m\u001B[0;34m\u001B[0m\u001B[0m\n\u001B[1;32m    126\u001B[0m             \u001B[0;31m# ec could be a ExprCondPair or a tuple\u001B[0m\u001B[0;34m\u001B[0m\u001B[0;34m\u001B[0m\u001B[0m\n\u001B[0;32m--> 127\u001B[0;31m             \u001B[0mpair\u001B[0m \u001B[0;34m=\u001B[0m \u001B[0mExprCondPair\u001B[0m\u001B[0;34m(\u001B[0m\u001B[0;34m*\u001B[0m\u001B[0mgetattr\u001B[0m\u001B[0;34m(\u001B[0m\u001B[0mec\u001B[0m\u001B[0;34m,\u001B[0m \u001B[0;34m'args'\u001B[0m\u001B[0;34m,\u001B[0m \u001B[0mec\u001B[0m\u001B[0;34m)\u001B[0m\u001B[0;34m)\u001B[0m\u001B[0;34m\u001B[0m\u001B[0;34m\u001B[0m\u001B[0m\n\u001B[0m\u001B[1;32m    128\u001B[0m             \u001B[0mcond\u001B[0m \u001B[0;34m=\u001B[0m \u001B[0mpair\u001B[0m\u001B[0;34m.\u001B[0m\u001B[0mcond\u001B[0m\u001B[0;34m\u001B[0m\u001B[0;34m\u001B[0m\u001B[0m\n\u001B[1;32m    129\u001B[0m             \u001B[0;32mif\u001B[0m \u001B[0mcond\u001B[0m \u001B[0;32mis\u001B[0m \u001B[0mfalse\u001B[0m\u001B[0;34m:\u001B[0m\u001B[0;34m\u001B[0m\u001B[0;34m\u001B[0m\u001B[0m\n",
      "\u001B[0;31mTypeError\u001B[0m: sympy.functions.elementary.piecewise.ExprCondPair() argument after * must be an iterable, not int"
     ]
    }
   ],
   "source": [
    "smp.Piecewise(1, ((t>-1) & (t<0)), 0)"
   ],
   "metadata": {
    "collapsed": false,
    "pycharm": {
     "name": "#%%\n"
    }
   }
  },
  {
   "cell_type": "code",
   "execution_count": 21,
   "outputs": [
    {
     "data": {
      "text/plain": "array([1, Piecewise((1, (t <= -0.5) & (t > -1)), (0, True)),\n       Piecewise((1, (t <= 0) & (t > -0.5)), (0, True)),\n       Piecewise((1, (t <= 0.5) & (t > 0)), (0, True)),\n       Piecewise((1, (t <= 1) & (t > 0.5)), (0, True))], dtype=object)"
     },
     "execution_count": 21,
     "metadata": {},
     "output_type": "execute_result"
    }
   ],
   "source": [
    "c_t = np.append(1, np.array([smp.Piecewise((1, ((t>-1) & (t<=-0.5))), (0, True)),\n",
    "                             smp.Piecewise((1, ((t>-0.5) & (t<=0))), (0, True)),\n",
    "                             smp.Piecewise((1, ((t>0) & (t<=0.5))), (0, True)),\n",
    "                             smp.Piecewise((1, ((t>0.5) & (t<=1))), (0, True))]))\n",
    "c_t"
   ],
   "metadata": {
    "collapsed": false,
    "pycharm": {
     "name": "#%%\n"
    }
   }
  },
  {
   "cell_type": "code",
   "execution_count": 38,
   "outputs": [],
   "source": [
    "def divide(number, parts):\n",
    "    '''\n",
    "    number is the last number of the range and parts is no. of intervals you\n",
    "    want to make\n",
    "    '''\n",
    "    chunksize = number/parts              # size of each interval\n",
    "    chunkstart = 1                        # start of interval\n",
    "    chunkend = chunkstart + chunksize -1  # end of that interval\n",
    "    while chunkstart < number:            # don't go beyond the range\n",
    "        if chunkend > number:             # interval end is beyond the range\n",
    "            print(chunkstart, number)\n",
    "            break                         # we are beyond the range now\n",
    "        print(chunkstart, chunkend)\n",
    "        chunkstart += chunksize           # take me to beginning of next interval\n",
    "        chunkend += chunksize             # also tell me where to end that"
   ],
   "metadata": {
    "collapsed": false,
    "pycharm": {
     "name": "#%%\n"
    }
   }
  },
  {
   "cell_type": "code",
   "execution_count": 39,
   "outputs": [
    {
     "name": "stdout",
     "output_type": "stream",
     "text": [
      "1 20.4\n",
      "21.4 40.8\n",
      "41.8 61.199999999999996\n",
      "62.199999999999996 81.6\n",
      "82.6 102.0\n"
     ]
    }
   ],
   "source": [
    "divide(102,5)"
   ],
   "metadata": {
    "collapsed": false,
    "pycharm": {
     "name": "#%%\n"
    }
   }
  },
  {
   "cell_type": "code",
   "execution_count": 6,
   "outputs": [
    {
     "data": {
      "text/plain": "<Figure size 432x288 with 1 Axes>",
      "image/png": "[encoded data removed]"
     },
     "metadata": {
      "needs_background": "light"
     },
     "output_type": "display_data"
    },
    {
     "data": {
      "text/plain": "<sympy.plotting.plot.Plot at 0x7fc572953e50>"
     },
     "execution_count": 6,
     "metadata": {},
     "output_type": "execute_result"
    }
   ],
   "source": [
    "import sympy as smp\n",
    "from basis import *\n",
    "t = smp.symbols('t')\n",
    "\n",
    "c_t = gaussian_k(x=t, centers=[0, 5, 10], h=1).reshape((-1,))\n",
    "w_c_t = [0, 1, -1, 0.2]\n",
    "\n",
    "smp.plot(w_c_t @ c_t)"
   ],
   "metadata": {
    "collapsed": false,
    "pycharm": {
     "name": "#%%\n"
    }
   }
  },
  {
   "cell_type": "markdown",
   "source": [
    "---"
   ],
   "metadata": {
    "collapsed": false
   }
  },
  {
   "cell_type": "code",
   "execution_count": 74,
   "outputs": [
    {
     "data": {
      "text/plain": "array([[1, (t - 1)/(exp(1 - t) + 1), (t + 1)/(exp(-t - 1) + 1)],\n       [Max(0, t - 1), (t - 1)*Max(0, t - 1)/(exp(1 - t) + 1),\n        (t + 1)*Max(0, t - 1)/(exp(-t - 1) + 1)],\n       [Max(0, t + 1), (t - 1)*Max(0, t + 1)/(exp(1 - t) + 1),\n        (t + 1)*Max(0, t + 1)/(exp(-t - 1) + 1)]], dtype=object)"
     },
     "execution_count": 74,
     "metadata": {},
     "output_type": "execute_result"
    }
   ],
   "source": [
    "import time\n",
    "T = smp.symbols('T')\n",
    "t = smp.symbols('t')\n",
    "\n",
    "c_t = relu(t, centers=[-1,1])\n",
    "b_t = swish(t, centers=[-1,1])\n",
    "mult = c_t @ b_t.T\n",
    "mult"
   ],
   "metadata": {
    "collapsed": false,
    "pycharm": {
     "name": "#%%\n"
    }
   }
  },
  {
   "cell_type": "code",
   "execution_count": null,
   "outputs": [],
   "source": [
    "start = time.time()\n",
    "MM = smp.Matrix(mult).integrate((t,0,1)).evalf()\n",
    "end = time.time()\n",
    "MM"
   ],
   "metadata": {
    "collapsed": false,
    "pycharm": {
     "name": "#%%\n"
    }
   }
  },
  {
   "cell_type": "code",
   "execution_count": 56,
   "outputs": [
    {
     "data": {
      "text/plain": "Max"
     },
     "execution_count": 56,
     "metadata": {},
     "output_type": "execute_result"
    }
   ],
   "source": [
    "mult[0,1]"
   ],
   "metadata": {
    "collapsed": false,
    "pycharm": {
     "name": "#%%\n"
    }
   }
  },
  {
   "cell_type": "code",
   "execution_count": 59,
   "outputs": [],
   "source": [
    "from scipy.integrate import quad"
   ],
   "metadata": {
    "collapsed": false,
    "pycharm": {
     "name": "#%%\n"
    }
   }
  },
  {
   "cell_type": "code",
   "execution_count": 98,
   "outputs": [],
   "source": [],
   "metadata": {
    "collapsed": false,
    "pycharm": {
     "name": "#%%\n"
    }
   }
  },
  {
   "cell_type": "code",
   "execution_count": 68,
   "outputs": [
    {
     "ename": "TypeError",
     "evalue": "only size-1 arrays can be converted to Python scalars",
     "output_type": "error",
     "traceback": [
      "\u001B[0;31m---------------------------------------------------------------------------\u001B[0m",
      "\u001B[0;31mTypeError\u001B[0m                                 Traceback (most recent call last)",
      "\u001B[0;32m/var/folders/bb/tzggm8cx2f5fyxfhdmmhn7j40000gn/T/ipykernel_81835/4041777376.py\u001B[0m in \u001B[0;36m<module>\u001B[0;34m\u001B[0m\n\u001B[1;32m      1\u001B[0m \u001B[0mf\u001B[0m \u001B[0;34m=\u001B[0m \u001B[0;32mlambda\u001B[0m \u001B[0mx\u001B[0m\u001B[0;34m:\u001B[0m \u001B[0mnp\u001B[0m\u001B[0;34m.\u001B[0m\u001B[0mappend\u001B[0m\u001B[0;34m(\u001B[0m\u001B[0;36m1\u001B[0m\u001B[0;34m,\u001B[0m \u001B[0mnp\u001B[0m\u001B[0;34m.\u001B[0m\u001B[0marray\u001B[0m\u001B[0;34m(\u001B[0m\u001B[0mnp\u001B[0m\u001B[0;34m.\u001B[0m\u001B[0mlog\u001B[0m\u001B[0;34m(\u001B[0m\u001B[0mx\u001B[0m\u001B[0;34m)\u001B[0m\u001B[0;34m)\u001B[0m\u001B[0;34m)\u001B[0m\u001B[0;34m\u001B[0m\u001B[0;34m\u001B[0m\u001B[0m\n\u001B[0;32m----> 2\u001B[0;31m \u001B[0mquad\u001B[0m\u001B[0;34m(\u001B[0m\u001B[0mf\u001B[0m\u001B[0;34m,\u001B[0m \u001B[0;36m1\u001B[0m\u001B[0;34m,\u001B[0m \u001B[0;36m2\u001B[0m\u001B[0;34m)\u001B[0m\u001B[0;34m[\u001B[0m\u001B[0;36m0\u001B[0m\u001B[0;34m]\u001B[0m\u001B[0;34m\u001B[0m\u001B[0;34m\u001B[0m\u001B[0m\n\u001B[0m",
      "\u001B[0;32m~/opt/anaconda3/lib/python3.9/site-packages/scipy/integrate/quadpack.py\u001B[0m in \u001B[0;36mquad\u001B[0;34m(func, a, b, args, full_output, epsabs, epsrel, limit, points, weight, wvar, wopts, maxp1, limlst)\u001B[0m\n\u001B[1;32m    349\u001B[0m \u001B[0;34m\u001B[0m\u001B[0m\n\u001B[1;32m    350\u001B[0m     \u001B[0;32mif\u001B[0m \u001B[0mweight\u001B[0m \u001B[0;32mis\u001B[0m \u001B[0;32mNone\u001B[0m\u001B[0;34m:\u001B[0m\u001B[0;34m\u001B[0m\u001B[0;34m\u001B[0m\u001B[0m\n\u001B[0;32m--> 351\u001B[0;31m         retval = _quad(func, a, b, args, full_output, epsabs, epsrel, limit,\n\u001B[0m\u001B[1;32m    352\u001B[0m                        points)\n\u001B[1;32m    353\u001B[0m     \u001B[0;32melse\u001B[0m\u001B[0;34m:\u001B[0m\u001B[0;34m\u001B[0m\u001B[0;34m\u001B[0m\u001B[0m\n",
      "\u001B[0;32m~/opt/anaconda3/lib/python3.9/site-packages/scipy/integrate/quadpack.py\u001B[0m in \u001B[0;36m_quad\u001B[0;34m(func, a, b, args, full_output, epsabs, epsrel, limit, points)\u001B[0m\n\u001B[1;32m    461\u001B[0m     \u001B[0;32mif\u001B[0m \u001B[0mpoints\u001B[0m \u001B[0;32mis\u001B[0m \u001B[0;32mNone\u001B[0m\u001B[0;34m:\u001B[0m\u001B[0;34m\u001B[0m\u001B[0;34m\u001B[0m\u001B[0m\n\u001B[1;32m    462\u001B[0m         \u001B[0;32mif\u001B[0m \u001B[0minfbounds\u001B[0m \u001B[0;34m==\u001B[0m \u001B[0;36m0\u001B[0m\u001B[0;34m:\u001B[0m\u001B[0;34m\u001B[0m\u001B[0;34m\u001B[0m\u001B[0m\n\u001B[0;32m--> 463\u001B[0;31m             \u001B[0;32mreturn\u001B[0m \u001B[0m_quadpack\u001B[0m\u001B[0;34m.\u001B[0m\u001B[0m_qagse\u001B[0m\u001B[0;34m(\u001B[0m\u001B[0mfunc\u001B[0m\u001B[0;34m,\u001B[0m\u001B[0ma\u001B[0m\u001B[0;34m,\u001B[0m\u001B[0mb\u001B[0m\u001B[0;34m,\u001B[0m\u001B[0margs\u001B[0m\u001B[0;34m,\u001B[0m\u001B[0mfull_output\u001B[0m\u001B[0;34m,\u001B[0m\u001B[0mepsabs\u001B[0m\u001B[0;34m,\u001B[0m\u001B[0mepsrel\u001B[0m\u001B[0;34m,\u001B[0m\u001B[0mlimit\u001B[0m\u001B[0;34m)\u001B[0m\u001B[0;34m\u001B[0m\u001B[0;34m\u001B[0m\u001B[0m\n\u001B[0m\u001B[1;32m    464\u001B[0m         \u001B[0;32melse\u001B[0m\u001B[0;34m:\u001B[0m\u001B[0;34m\u001B[0m\u001B[0;34m\u001B[0m\u001B[0m\n\u001B[1;32m    465\u001B[0m             \u001B[0;32mreturn\u001B[0m \u001B[0m_quadpack\u001B[0m\u001B[0;34m.\u001B[0m\u001B[0m_qagie\u001B[0m\u001B[0;34m(\u001B[0m\u001B[0mfunc\u001B[0m\u001B[0;34m,\u001B[0m\u001B[0mbound\u001B[0m\u001B[0;34m,\u001B[0m\u001B[0minfbounds\u001B[0m\u001B[0;34m,\u001B[0m\u001B[0margs\u001B[0m\u001B[0;34m,\u001B[0m\u001B[0mfull_output\u001B[0m\u001B[0;34m,\u001B[0m\u001B[0mepsabs\u001B[0m\u001B[0;34m,\u001B[0m\u001B[0mepsrel\u001B[0m\u001B[0;34m,\u001B[0m\u001B[0mlimit\u001B[0m\u001B[0;34m)\u001B[0m\u001B[0;34m\u001B[0m\u001B[0;34m\u001B[0m\u001B[0m\n",
      "\u001B[0;31mTypeError\u001B[0m: only size-1 arrays can be converted to Python scalars"
     ]
    }
   ],
   "source": [
    "f = lambda x: np.append(1, np.array(np.log(x)))\n",
    "quad(f, 1, 2)[0]"
   ],
   "metadata": {
    "collapsed": false,
    "pycharm": {
     "name": "#%%\n"
    }
   }
  },
  {
   "cell_type": "code",
   "execution_count": 79,
   "outputs": [
    {
     "ename": "TypeError",
     "evalue": "unsupported operand type(s) for *: 'function' and 'function'",
     "output_type": "error",
     "traceback": [
      "\u001B[0;31m---------------------------------------------------------------------------\u001B[0m",
      "\u001B[0;31mTypeError\u001B[0m                                 Traceback (most recent call last)",
      "\u001B[0;32m/var/folders/bb/tzggm8cx2f5fyxfhdmmhn7j40000gn/T/ipykernel_81835/1331705282.py\u001B[0m in \u001B[0;36m<module>\u001B[0;34m\u001B[0m\n\u001B[1;32m      6\u001B[0m \u001B[0;34m\u001B[0m\u001B[0m\n\u001B[1;32m      7\u001B[0m \u001B[0;34m\u001B[0m\u001B[0m\n\u001B[0;32m----> 8\u001B[0;31m \u001B[0mquad\u001B[0m\u001B[0;34m(\u001B[0m\u001B[0mf_1\u001B[0m\u001B[0;34m*\u001B[0m\u001B[0mf_2\u001B[0m\u001B[0;34m,\u001B[0m \u001B[0;36m0\u001B[0m\u001B[0;34m,\u001B[0m \u001B[0;36m1\u001B[0m\u001B[0;34m,\u001B[0m \u001B[0margs\u001B[0m\u001B[0;34m=\u001B[0m\u001B[0;34m(\u001B[0m\u001B[0;34m-\u001B[0m\u001B[0;36m1\u001B[0m\u001B[0;34m,\u001B[0m\u001B[0;34m)\u001B[0m\u001B[0;34m)\u001B[0m\u001B[0;34m[\u001B[0m\u001B[0;36m0\u001B[0m\u001B[0;34m]\u001B[0m\u001B[0;34m\u001B[0m\u001B[0;34m\u001B[0m\u001B[0m\n\u001B[0m",
      "\u001B[0;31mTypeError\u001B[0m: unsupported operand type(s) for *: 'function' and 'function'"
     ]
    }
   ],
   "source": [
    "f = lambda x,a : a*x\n",
    "\n",
    "f_1 = lambda x,c : max(0, x+c)\n",
    "f_2 = lambda x,c : max(0, x+c)\n",
    "\n",
    "expr = f_1()\n",
    "\n",
    "quad(f_1, 0, 1, args=(-1,))[0]"
   ],
   "metadata": {
    "collapsed": false,
    "pycharm": {
     "name": "#%%\n"
    }
   }
  },
  {
   "cell_type": "code",
   "execution_count": 195,
   "outputs": [
    {
     "data": {
      "text/plain": "(-1.0, 1.0)"
     },
     "execution_count": 195,
     "metadata": {},
     "output_type": "execute_result"
    },
    {
     "data": {
      "text/plain": "<Figure size 432x288 with 1 Axes>",
      "image/png": "[encoded data removed]"
     },
     "metadata": {
      "needs_background": "light"
     },
     "output_type": "display_data"
    }
   ],
   "source": [
    "############################################ IMPORTANT #######################################################\n",
    "from matplotlib import pyplot as plt\n",
    "def f(x, centers):\n",
    "    return np.vstack([[1]*x.shape[0], np.array([(x+c)*(x+c>0) for c in centers])])\n",
    "\n",
    "t = np.linspace(-1, 1, 5)\n",
    "c_t = f(x=t, centers=[-1, 0, 1])\n",
    "\n",
    "\n",
    "w_c_t = [0, -1, -2, 1]\n",
    "plt.plot(t, np.sum((c_t.T * w_c_t).T, axis=0))\n",
    "plt.xlim((-1,1))"
   ],
   "metadata": {
    "collapsed": false,
    "pycharm": {
     "name": "#%%\n"
    }
   }
  },
  {
   "cell_type": "code",
   "execution_count": 191,
   "outputs": [
    {
     "data": {
      "text/plain": "array([[1. , 0. , 1. ],\n       [0. , 0. , 0. ],\n       [1. , 0. , 1.5]])"
     },
     "execution_count": 191,
     "metadata": {},
     "output_type": "execute_result"
    }
   ],
   "source": [
    "############################################ IMPORTANT #######################################################\n",
    "detail = 5\n",
    "t = np.linspace(-1, 1, detail)\n",
    "c_t = f(x=t, centers=[-1, 1])\n",
    "b_t = f(x=t, centers=[-1, 1])\n",
    "(c_t @ b_t.T)/detail"
   ],
   "metadata": {
    "collapsed": false,
    "pycharm": {
     "name": "#%%\n"
    }
   }
  },
  {
   "cell_type": "code",
   "execution_count": 138,
   "outputs": [
    {
     "data": {
      "text/plain": "array([[2, 4, 6],\n       [4, 5, 6]])"
     },
     "execution_count": 138,
     "metadata": {},
     "output_type": "execute_result"
    }
   ],
   "source": [
    "A = np.array(([1,2,3], [4,5,6]))\n",
    "b = np.array([2,1])\n",
    "(A.T * b).T"
   ],
   "metadata": {
    "collapsed": false,
    "pycharm": {
     "name": "#%%\n"
    }
   }
  },
  {
   "cell_type": "code",
   "execution_count": 108,
   "outputs": [
    {
     "data": {
      "text/plain": "[<matplotlib.lines.Line2D at 0x7fc5839464f0>]"
     },
     "execution_count": 108,
     "metadata": {},
     "output_type": "execute_result"
    },
    {
     "data": {
      "text/plain": "<Figure size 432x288 with 1 Axes>",
      "image/png": "[encoded data removed]"
     },
     "metadata": {
      "needs_background": "light"
     },
     "output_type": "display_data"
    }
   ],
   "source": [
    "np.gradient(c_t, t)\n",
    "c_t = t**0 + t**2\n",
    "\n",
    "derivative = np.gradient(c_t, t)\n",
    "integral = np.cumsum(c_t) * (t[0] - t[1])\n",
    "\n",
    "plt.plot(t, c_t)\n",
    "plt.plot(t, derivative)\n",
    "plt.plot(t, integral)"
   ],
   "metadata": {
    "collapsed": false,
    "pycharm": {
     "name": "#%%\n"
    }
   }
  },
  {
   "cell_type": "code",
   "execution_count": null,
   "outputs": [],
   "source": [
    "# test message\n",
    "# test message 2"
   ],
   "metadata": {
    "collapsed": false,
    "pycharm": {
     "name": "#%%\n"
    }
   }
  }
 ],
 "metadata": {
  "kernelspec": {
   "display_name": "Python 3",
   "language": "python",
   "name": "python3"
  },
  "language_info": {
   "codemirror_mode": {
    "name": "ipython",
    "version": 2
   },
   "file_extension": ".py",
   "mimetype": "text/x-python",
   "name": "python",
   "nbconvert_exporter": "python",
   "pygments_lexer": "ipython2",
   "version": "2.7.6"
  }
 },
 "nbformat": 4,
 "nbformat_minor": 0
}