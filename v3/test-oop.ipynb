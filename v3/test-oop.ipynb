{
 "cells": [
  {
   "cell_type": "code",
   "execution_count": 1,
   "metadata": {
    "collapsed": true
   },
   "outputs": [],
   "source": [
    "from utilities.calc_J_CH import calc_J_CH\n",
    "from utilities.gen_rand_design import gen_rand_design_m\n",
    "from utilities.calc_I_theta import calc_I_theta\n",
    "from utilities.calc_Sigma import calc_Sigma\n",
    "from utilities.Jcb import Jcb, calc_basis_matrix\n",
    "\n",
    "from models.f_on_f import FunctionOnFunctionModel\n",
    "from models.s_on_f import ScalarOnFunctionModel\n",
    "from optimizers.cordex_continuous import CordexContinuous\n",
    "from utilities.plot_fun import subplot_results\n",
    "\n",
    "import numpy as np"
   ]
  },
  {
   "cell_type": "code",
   "execution_count": 21,
   "outputs": [],
   "source": [
    "N = 4\n",
    "Ky = 2\n",
    "Kx = [[3]]\n",
    "Kb = [[2]]\n",
    "epochs = 1000"
   ],
   "metadata": {
    "collapsed": false
   }
  },
  {
   "cell_type": "code",
   "execution_count": 22,
   "outputs": [],
   "source": [
    "I_theta = calc_I_theta(Kx=Kx, Ky=Ky)\n",
    "J_CH = calc_J_CH(Kx=Kx, Kb=Kb)\n",
    "Sigma_best = calc_Sigma(Kx=Kx, Ky=Ky, N=N, decay=np.inf)\n",
    "Sigma_mid = calc_Sigma(Kx=Kx, Ky=Ky, N=N, decay=3)\n",
    "Sigma_worst = calc_Sigma(Kx=Kx, Ky=Ky, N=N, decay=0)\n",
    "J_cb = Jcb(*[calc_basis_matrix(x_basis=x, b_basis=b) for x, b in zip(Kx[0], Kb[0])])"
   ],
   "metadata": {
    "collapsed": false
   }
  },
  {
   "cell_type": "code",
   "execution_count": 23,
   "outputs": [
    {
     "name": "stdout",
     "output_type": "stream",
     "text": [
      "(4, 3)\n"
     ]
    }
   ],
   "source": [
    "print(J_CH.shape) # Ask Caterina"
   ],
   "metadata": {
    "collapsed": false
   }
  },
  {
   "cell_type": "code",
   "execution_count": 24,
   "outputs": [],
   "source": [
    "f_on_f_model_worst = FunctionOnFunctionModel(I_theta=I_theta, J_CH=J_CH, Sigma=Sigma_worst)\n",
    "f_on_f_model_mid = FunctionOnFunctionModel(I_theta=I_theta, J_CH=J_CH, Sigma=Sigma_mid)\n",
    "f_on_f_model_best = FunctionOnFunctionModel(I_theta=I_theta, J_CH=J_CH, Sigma=Sigma_best)\n",
    "\n",
    "s_on_f_model = ScalarOnFunctionModel(J_cb=J_cb)"
   ],
   "metadata": {
    "collapsed": false
   }
  },
  {
   "cell_type": "code",
   "execution_count": 25,
   "outputs": [],
   "source": [
    "optimizer_f_on_f_worst = CordexContinuous(model=f_on_f_model_worst)\n",
    "optimizer_f_on_f_mid = CordexContinuous(model=f_on_f_model_mid)\n",
    "optimizer_f_on_f_best = CordexContinuous(model=f_on_f_model_best)\n",
    "\n",
    "optimizer_s_on_f = CordexContinuous(model=s_on_f_model)"
   ],
   "metadata": {
    "collapsed": false
   }
  },
  {
   "cell_type": "code",
   "execution_count": 26,
   "outputs": [
    {
     "name": "stderr",
     "output_type": "stream",
     "text": [
      "100%|██████████| 1000/1000 [00:04<00:00, 228.66it/s]\n"
     ]
    }
   ],
   "source": [
    "best_design_s_on_f, best_objective_value_s_on_f = optimizer_s_on_f.optimize(runs=N, nx=Kx[0], epochs=epochs)"
   ],
   "metadata": {
    "collapsed": false
   }
  },
  {
   "cell_type": "code",
   "execution_count": 27,
   "outputs": [
    {
     "name": "stderr",
     "output_type": "stream",
     "text": [
      "100%|██████████| 1000/1000 [00:05<00:00, 190.65it/s]\n",
      "100%|██████████| 1000/1000 [00:04<00:00, 201.30it/s]\n",
      "100%|██████████| 1000/1000 [00:04<00:00, 204.64it/s]\n"
     ]
    }
   ],
   "source": [
    "best_design_f_on_f_worst, best_objective_value_sf_on_f_worst = optimizer_f_on_f_worst.optimize(runs=N, nx=Kx[0], epochs=epochs)\n",
    "best_design_f_on_f_mid, best_objective_value_sf_on_f_mid = optimizer_f_on_f_mid.optimize(runs=N, nx=Kx[0], epochs=epochs)\n",
    "best_design_f_on_f_best, best_objective_value_sf_on_f_best = optimizer_f_on_f_best.optimize(runs=N, nx=Kx[0], epochs=epochs)"
   ],
   "metadata": {
    "collapsed": false
   }
  },
  {
   "cell_type": "code",
   "execution_count": 28,
   "outputs": [
    {
     "name": "stdout",
     "output_type": "stream",
     "text": [
      "68.84978639325773 \n",
      " 14.903696310721678 \n",
      " 0.36772293229583675\n"
     ]
    }
   ],
   "source": [
    "print(best_objective_value_sf_on_f_worst, '\\n', best_objective_value_sf_on_f_mid, '\\n', best_objective_value_sf_on_f_best)"
   ],
   "metadata": {
    "collapsed": false
   }
  },
  {
   "cell_type": "code",
   "execution_count": 9,
   "outputs": [],
   "source": [],
   "metadata": {
    "collapsed": false
   }
  }
 ],
 "metadata": {
  "kernelspec": {
   "display_name": "Python 3",
   "language": "python",
   "name": "python3"
  },
  "language_info": {
   "codemirror_mode": {
    "name": "ipython",
    "version": 2
   },
   "file_extension": ".py",
   "mimetype": "text/x-python",
   "name": "python",
   "nbconvert_exporter": "python",
   "pygments_lexer": "ipython2",
   "version": "2.7.6"
  }
 },
 "nbformat": 4,
 "nbformat_minor": 0
}
