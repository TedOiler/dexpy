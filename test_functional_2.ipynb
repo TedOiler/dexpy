{
 "cells": [
  {
   "cell_type": "code",
   "execution_count": 1,
   "metadata": {
    "collapsed": true
   },
   "outputs": [],
   "source": [
    "import numpy as np\n",
    "import pandas as pd\n",
    "from matplotlib import pyplot as plt\n",
    "from tqdm import tqdm\n",
    "import math\n",
    "pd.set_option(\"display.max_rows\", None)\n",
    "np.random.seed(seed=1903)"
   ]
  },
  {
   "cell_type": "code",
   "execution_count": 2,
   "outputs": [],
   "source": [
    "def numrelu(x, breaks):\n",
    "    centers = np.linspace(0, 1, breaks).tolist()\n",
    "    return np.vstack([[1]*x.shape[0], np.array([(x-c)*(x>c) for c in centers])]).T"
   ],
   "metadata": {
    "collapsed": false,
    "pycharm": {
     "name": "#%%\n"
    }
   }
  },
  {
   "cell_type": "code",
   "execution_count": 3,
   "outputs": [],
   "source": [
    "def numpoly(x, degree):\n",
    "    # TODO: Fix. There is no need to add a column of ones because the first colun of x**0 is a column of ones.\n",
    "    return np.vstack([[1]*x.shape[0], np.array([t**c for c in range(degree)])]).T"
   ],
   "metadata": {
    "collapsed": false,
    "pycharm": {
     "name": "#%%\n"
    }
   }
  },
  {
   "cell_type": "code",
   "execution_count": 4,
   "outputs": [],
   "source": [
    "def numstep(x, breaks):\n",
    "    centers = np.linspace(0, 1, breaks).tolist()\n",
    "    # TODO: Fix. There is no need to have a column of ones in the beginning for this basis, let alone two.\n",
    "    return np.vstack([[1]*x.shape[0], [1]*x.shape[0], np.array([np.piecewise(x, [(x >= centers[i]) & (x <= centers[i+1])], [1., 0.]) for i in range(breaks-1)])]).T"
   ],
   "metadata": {
    "collapsed": false,
    "pycharm": {
     "name": "#%%\n"
    }
   }
  },
  {
   "cell_type": "code",
   "execution_count": 5,
   "outputs": [],
   "source": [
    "def numbsplines(x, centers):\n",
    "    # TODO: Implement\n",
    "    pass"
   ],
   "metadata": {
    "collapsed": false,
    "pycharm": {
     "name": "#%%\n"
    }
   }
  },
  {
   "cell_type": "code",
   "execution_count": 6,
   "outputs": [],
   "source": [
    "def reconstruct_function(x, w_x):\n",
    "    return np.sum((x * w_x).T, axis=0)"
   ],
   "metadata": {
    "collapsed": false,
    "pycharm": {
     "name": "#%%\n"
    }
   }
  },
  {
   "cell_type": "code",
   "execution_count": 7,
   "outputs": [],
   "source": [
    "def gen_random_design(dims, a=-1, b=1):\n",
    "    experiments = dims[0]\n",
    "    features = dims[1]\n",
    "    df = pd.DataFrame((b - a)*np.random.random((experiments, features)) + a) # random uniform [-1,1]\n",
    "    df.columns = ['w' + str(x) for x in list(range(features))]\n",
    "    return df"
   ],
   "metadata": {
    "collapsed": false,
    "pycharm": {
     "name": "#%%\n"
    }
   }
  },
  {
   "cell_type": "code",
   "execution_count": 8,
   "outputs": [],
   "source": [
    "def gen_model_matrix(data, J_mat):\n",
    "    J_cgb = data @ J_mat\n",
    "    Z_mat = np.append(np.array([1]*J_cgb.shape[0]).reshape((-1,1)), J_cgb, axis=1)\n",
    "    return Z_mat"
   ],
   "metadata": {
    "collapsed": false,
    "pycharm": {
     "name": "#%%\n"
    }
   }
  },
  {
   "cell_type": "code",
   "execution_count": 13,
   "outputs": [
    {
     "data": {
      "text/plain": "(6, 11)"
     },
     "execution_count": 13,
     "metadata": {},
     "output_type": "execute_result"
    }
   ],
   "source": [
    "t_detail = 100\n",
    "w_detail = 5\n",
    "\n",
    "n_exp = 12\n",
    "x_breaks = 5\n",
    "b_brakes = 10\n",
    "\n",
    "t = np.linspace(0, 1, t_detail)\n",
    "dt = t[1] - t[0]\n",
    "\n",
    "w_levels = {}\n",
    "for i in range(x_breaks + 1):\n",
    "    w_levels[i] = np.linspace(-1, 1, w_detail).tolist()\n",
    "\n",
    "# Define basis and centers\n",
    "# c_t = numrelu(x=t, breaks=x_breaks)\n",
    "# c_t = numpoly(x=t, degree=x_breaks)\n",
    "c_t = numstep(x=t, breaks=x_breaks)\n",
    "c_bas = 'numstep'\n",
    "b_t = numrelu(x=t, breaks=b_brakes)\n",
    "J_cb = np.cumsum((c_t.T @ b_t)/t_detail, axis=1) * dt # Calculate Integral of basis matrix\n",
    "J_cb.shape"
   ],
   "metadata": {
    "collapsed": false,
    "pycharm": {
     "name": "#%%\n"
    }
   }
  },
  {
   "cell_type": "code",
   "execution_count": 14,
   "outputs": [
    {
     "name": "stderr",
     "output_type": "stream",
     "text": [
      "100%|██████████| 12/12 [00:00<00:00, 216.24it/s]\n"
     ]
    },
    {
     "data": {
      "text/plain": "     w0   w1   w2   w3   w4   w5\n0   1.0  1.0  0.5  1.0  0.0  0.5\n1   1.0  0.0  1.0 -1.0  0.5  0.0\n2   0.0  0.5 -1.0 -1.0 -1.0  1.0\n3   0.0 -1.0  0.5  0.0  0.5  0.5\n4   0.5 -0.5 -0.5 -1.0 -1.0  1.0\n5  -1.0 -1.0  1.0  0.0  0.5  0.5\n6  -1.0  0.0 -0.5  0.0  0.0 -0.5\n7   0.5  1.0 -0.5 -1.0  0.5  1.0\n8   0.5 -1.0  1.0  1.0 -1.0 -1.0\n9   0.0 -1.0 -1.0 -0.5 -1.0  1.0\n10  0.0  0.0  0.5 -1.0 -0.5  0.5\n11  0.5  1.0 -1.0  1.0  0.5  0.5",
      "text/html": "<div>\n<style scoped>\n    .dataframe tbody tr th:only-of-type {\n        vertical-align: middle;\n    }\n\n    .dataframe tbody tr th {\n        vertical-align: top;\n    }\n\n    .dataframe thead th {\n        text-align: right;\n    }\n</style>\n<table border=\"1\" class=\"dataframe\">\n  <thead>\n    <tr style=\"text-align: right;\">\n      <th></th>\n      <th>w0</th>\n      <th>w1</th>\n      <th>w2</th>\n      <th>w3</th>\n      <th>w4</th>\n      <th>w5</th>\n    </tr>\n  </thead>\n  <tbody>\n    <tr>\n      <th>0</th>\n      <td>1.0</td>\n      <td>1.0</td>\n      <td>0.5</td>\n      <td>1.0</td>\n      <td>0.0</td>\n      <td>0.5</td>\n    </tr>\n    <tr>\n      <th>1</th>\n      <td>1.0</td>\n      <td>0.0</td>\n      <td>1.0</td>\n      <td>-1.0</td>\n      <td>0.5</td>\n      <td>0.0</td>\n    </tr>\n    <tr>\n      <th>2</th>\n      <td>0.0</td>\n      <td>0.5</td>\n      <td>-1.0</td>\n      <td>-1.0</td>\n      <td>-1.0</td>\n      <td>1.0</td>\n    </tr>\n    <tr>\n      <th>3</th>\n      <td>0.0</td>\n      <td>-1.0</td>\n      <td>0.5</td>\n      <td>0.0</td>\n      <td>0.5</td>\n      <td>0.5</td>\n    </tr>\n    <tr>\n      <th>4</th>\n      <td>0.5</td>\n      <td>-0.5</td>\n      <td>-0.5</td>\n      <td>-1.0</td>\n      <td>-1.0</td>\n      <td>1.0</td>\n    </tr>\n    <tr>\n      <th>5</th>\n      <td>-1.0</td>\n      <td>-1.0</td>\n      <td>1.0</td>\n      <td>0.0</td>\n      <td>0.5</td>\n      <td>0.5</td>\n    </tr>\n    <tr>\n      <th>6</th>\n      <td>-1.0</td>\n      <td>0.0</td>\n      <td>-0.5</td>\n      <td>0.0</td>\n      <td>0.0</td>\n      <td>-0.5</td>\n    </tr>\n    <tr>\n      <th>7</th>\n      <td>0.5</td>\n      <td>1.0</td>\n      <td>-0.5</td>\n      <td>-1.0</td>\n      <td>0.5</td>\n      <td>1.0</td>\n    </tr>\n    <tr>\n      <th>8</th>\n      <td>0.5</td>\n      <td>-1.0</td>\n      <td>1.0</td>\n      <td>1.0</td>\n      <td>-1.0</td>\n      <td>-1.0</td>\n    </tr>\n    <tr>\n      <th>9</th>\n      <td>0.0</td>\n      <td>-1.0</td>\n      <td>-1.0</td>\n      <td>-0.5</td>\n      <td>-1.0</td>\n      <td>1.0</td>\n    </tr>\n    <tr>\n      <th>10</th>\n      <td>0.0</td>\n      <td>0.0</td>\n      <td>0.5</td>\n      <td>-1.0</td>\n      <td>-0.5</td>\n      <td>0.5</td>\n    </tr>\n    <tr>\n      <th>11</th>\n      <td>0.5</td>\n      <td>1.0</td>\n      <td>-1.0</td>\n      <td>1.0</td>\n      <td>0.5</td>\n      <td>0.5</td>\n    </tr>\n  </tbody>\n</table>\n</div>"
     },
     "execution_count": 14,
     "metadata": {},
     "output_type": "execute_result"
    }
   ],
   "source": [
    "hstry_opt_cr = []\n",
    "hstry_designs = np.array([]).reshape((0, x_breaks + 1))\n",
    "design_matrix = gen_random_design((n_exp, x_breaks + 1)) # Start with random design matrix\n",
    "\n",
    "for exp in tqdm(range(n_exp)):\n",
    "    for weight in range(x_breaks+1):\n",
    "        coordinate_opt_cr = []\n",
    "        for _, level in enumerate(w_levels[weight]):\n",
    "            design_matrix.iat[exp, weight] = level\n",
    "            model_matrix = gen_model_matrix(data=design_matrix, J_mat=J_cb)\n",
    "            # Calculate Criterion\n",
    "            engine = np.linalg.det(model_matrix.T @ model_matrix)\n",
    "            coordinate_opt_cr.append(engine)\n",
    "\n",
    "        hstry_opt_cr.append([exp, weight, *coordinate_opt_cr])\n",
    "        # Change W matrix in order to maximize d_opt_criterion\n",
    "        design_matrix.iat[exp, weight] = w_levels[weight][coordinate_opt_cr.index(max(coordinate_opt_cr))]\n",
    "design_matrix"
   ],
   "metadata": {
    "collapsed": false,
    "pycharm": {
     "name": "#%%\n"
    }
   }
  },
  {
   "cell_type": "code",
   "execution_count": 15,
   "outputs": [],
   "source": [
    "if c_bas == 'numrelu':\n",
    "    for _ in range(1, x_breaks + 1):\n",
    "        design_matrix[f'w{_}_scaled'] = 2 / (x_breaks + 1) * (design_matrix[f'w{_}'] - design_matrix['w0'])\n",
    "    design_matrix_scaled = design_matrix[['w0', *[f'w{i}_scaled' for i in range(1, x_breaks + 1)]]]\n",
    "elif c_bas in ['numpoly', 'numstep']:\n",
    "    design_matrix_scaled = design_matrix[['w0', *[f'w{i}' for i in range(1, x_breaks + 1)]]]"
   ],
   "metadata": {
    "collapsed": false,
    "pycharm": {
     "name": "#%%\n"
    }
   }
  },
  {
   "cell_type": "code",
   "execution_count": 16,
   "outputs": [
    {
     "data": {
      "text/plain": "<Figure size 864x864 with 12 Axes>",
      "image/png": "[encoded data removed]"
     },
     "metadata": {
      "needs_background": "light"
     },
     "output_type": "display_data"
    }
   ],
   "source": [
    "rows = math.ceil(n_exp/2)\n",
    "cols = 2\n",
    "fig, axs = plt.subplots(rows,cols, figsize=(12,12))\n",
    "fig.tight_layout()\n",
    "n=0\n",
    "for i in range(rows):\n",
    "    for j in range(cols):\n",
    "        try:\n",
    "            axs[i, j].plot(t, reconstruct_function(c_t, np.array(design_matrix_scaled.iloc[n, :]).reshape((-1,1)).T))\n",
    "            axs[i, j].set_title(f'Experiment ({chr(65 + n)})')\n",
    "            n += 1\n",
    "        except:\n",
    "            pass\n",
    "\n",
    "for ax in axs.flat:\n",
    "    ax.set_xlabel('x-label')\n",
    "    ax.set_ylabel('y-label')\n",
    "    if c_bas == 'numrelu':\n",
    "        ax.set_xlim([-0.05, 1.05])\n",
    "        ax.set_ylim([-1.2, 1.2])\n",
    "\n",
    "for ax in axs.flat:\n",
    "    ax.label_outer()"
   ],
   "metadata": {
    "collapsed": false,
    "pycharm": {
     "name": "#%%\n"
    }
   }
  },
  {
   "cell_type": "code",
   "execution_count": 16,
   "outputs": [],
   "source": [],
   "metadata": {
    "collapsed": false,
    "pycharm": {
     "name": "#%%\n"
    }
   }
  },
  {
   "cell_type": "code",
   "execution_count": 12,
   "outputs": [],
   "source": [],
   "metadata": {
    "collapsed": false,
    "pycharm": {
     "name": "#%%\n"
    }
   }
  },
  {
   "cell_type": "code",
   "execution_count": 12,
   "outputs": [],
   "source": [],
   "metadata": {
    "collapsed": false,
    "pycharm": {
     "name": "#%%\n"
    }
   }
  }
 ],
 "metadata": {
  "kernelspec": {
   "display_name": "Python 3",
   "language": "python",
   "name": "python3"
  },
  "language_info": {
   "codemirror_mode": {
    "name": "ipython",
    "version": 2
   },
   "file_extension": ".py",
   "mimetype": "text/x-python",
   "name": "python",
   "nbconvert_exporter": "python",
   "pygments_lexer": "ipython2",
   "version": "2.7.6"
  }
 },
 "nbformat": 4,
 "nbformat_minor": 0
}