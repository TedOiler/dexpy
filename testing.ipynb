{
 "cells": [
  {
   "cell_type": "code",
   "execution_count": 1,
   "metadata": {
    "collapsed": true
   },
   "outputs": [
    {
     "data": {
      "text/plain": "{'experiments': 10,\n 'levels': {0: [-1, 0, 1], 1: [-5, 5], 2: [-1, 0, 1], 3: [-1, 0, 1]},\n 'features': 4,\n 'order': 2,\n 'interactions_only': False,\n 'bias': True,\n 'epochs': 100,\n 'criterion': 'det'}"
     },
     "execution_count": 1,
     "metadata": {},
     "output_type": "execute_result"
    }
   ],
   "source": [
    "import optidex as dx\n",
    "des_1 = dx.Design(experiments=10,\n",
    "                  levels={\n",
    "                      0: [-1, 0, 1],\n",
    "                      1: [-5, 5],\n",
    "                      2: [-1, 0, 1],\n",
    "                      3: [-1, 0, 1]\n",
    "                  })\n",
    "des_1.set_model(order=2, interactions_only=False, bias=True)\n",
    "des_1.set_algorithm(criterion=\"det\", epochs=100)\n",
    "des_1.__dict__"
   ]
  },
  {
   "cell_type": "code",
   "execution_count": 2,
   "outputs": [],
   "source": [
    "design, model, design_hist, optimality_hist = des_1.fit()"
   ],
   "metadata": {
    "collapsed": false,
    "pycharm": {
     "name": "#%%\n"
    }
   }
  },
  {
   "cell_type": "code",
   "execution_count": 3,
   "outputs": [
    {
     "data": {
      "text/plain": "    x0   x1   x2   x3\n0 -1.0 -5.0 -1.0 -1.0\n1  0.0 -5.0  0.0  1.0\n2 -1.0  5.0  0.0 -1.0\n3 -1.0  5.0  1.0  1.0\n4  0.0  5.0  1.0 -1.0\n5  1.0 -5.0 -1.0  1.0\n6 -1.0  5.0 -1.0  1.0\n7  1.0 -5.0  0.0  1.0\n8  0.0 -5.0  1.0 -1.0\n9  1.0  5.0 -1.0 -1.0",
      "text/html": "<div>\n<style scoped>\n    .dataframe tbody tr th:only-of-type {\n        vertical-align: middle;\n    }\n\n    .dataframe tbody tr th {\n        vertical-align: top;\n    }\n\n    .dataframe thead th {\n        text-align: right;\n    }\n</style>\n<table border=\"1\" class=\"dataframe\">\n  <thead>\n    <tr style=\"text-align: right;\">\n      <th></th>\n      <th>x0</th>\n      <th>x1</th>\n      <th>x2</th>\n      <th>x3</th>\n    </tr>\n  </thead>\n  <tbody>\n    <tr>\n      <th>0</th>\n      <td>-1.0</td>\n      <td>-5.0</td>\n      <td>-1.0</td>\n      <td>-1.0</td>\n    </tr>\n    <tr>\n      <th>1</th>\n      <td>0.0</td>\n      <td>-5.0</td>\n      <td>0.0</td>\n      <td>1.0</td>\n    </tr>\n    <tr>\n      <th>2</th>\n      <td>-1.0</td>\n      <td>5.0</td>\n      <td>0.0</td>\n      <td>-1.0</td>\n    </tr>\n    <tr>\n      <th>3</th>\n      <td>-1.0</td>\n      <td>5.0</td>\n      <td>1.0</td>\n      <td>1.0</td>\n    </tr>\n    <tr>\n      <th>4</th>\n      <td>0.0</td>\n      <td>5.0</td>\n      <td>1.0</td>\n      <td>-1.0</td>\n    </tr>\n    <tr>\n      <th>5</th>\n      <td>1.0</td>\n      <td>-5.0</td>\n      <td>-1.0</td>\n      <td>1.0</td>\n    </tr>\n    <tr>\n      <th>6</th>\n      <td>-1.0</td>\n      <td>5.0</td>\n      <td>-1.0</td>\n      <td>1.0</td>\n    </tr>\n    <tr>\n      <th>7</th>\n      <td>1.0</td>\n      <td>-5.0</td>\n      <td>0.0</td>\n      <td>1.0</td>\n    </tr>\n    <tr>\n      <th>8</th>\n      <td>0.0</td>\n      <td>-5.0</td>\n      <td>1.0</td>\n      <td>-1.0</td>\n    </tr>\n    <tr>\n      <th>9</th>\n      <td>1.0</td>\n      <td>5.0</td>\n      <td>-1.0</td>\n      <td>-1.0</td>\n    </tr>\n  </tbody>\n</table>\n</div>"
     },
     "execution_count": 3,
     "metadata": {},
     "output_type": "execute_result"
    }
   ],
   "source": [
    "design"
   ],
   "metadata": {
    "collapsed": false,
    "pycharm": {
     "name": "#%%\n"
    }
   }
  },
  {
   "cell_type": "code",
   "execution_count": 4,
   "outputs": [
    {
     "data": {
      "text/plain": "     1   x0   x1   x2   x3  x0^2  x0 x1  x0 x2  x0 x3  x1^2  x1 x2  x1 x3  \\\n0  1.0 -1.0 -5.0 -1.0 -1.0   1.0    5.0    1.0    1.0  25.0    5.0    5.0   \n1  1.0  0.0 -5.0  0.0  1.0   0.0   -0.0    0.0    0.0  25.0   -0.0   -5.0   \n2  1.0 -1.0  5.0  0.0 -1.0   1.0   -5.0   -0.0    1.0  25.0    0.0   -5.0   \n3  1.0 -1.0  5.0  1.0  1.0   1.0   -5.0   -1.0   -1.0  25.0    5.0    5.0   \n4  1.0  0.0  5.0  1.0 -1.0   0.0    0.0    0.0   -0.0  25.0    5.0   -5.0   \n5  1.0  1.0 -5.0 -1.0  1.0   1.0   -5.0   -1.0    1.0  25.0    5.0   -5.0   \n6  1.0 -1.0  5.0 -1.0  1.0   1.0   -5.0    1.0   -1.0  25.0   -5.0    5.0   \n7  1.0  1.0 -5.0  0.0  1.0   1.0   -5.0    0.0    1.0  25.0   -0.0   -5.0   \n8  1.0  0.0 -5.0  1.0 -1.0   0.0   -0.0    0.0   -0.0  25.0   -5.0    5.0   \n9  1.0  1.0  5.0 -1.0 -1.0   1.0    5.0   -1.0   -1.0  25.0   -5.0   -5.0   \n\n   x2^2  x2 x3  x3^2  \n0   1.0    1.0   1.0  \n1   0.0    0.0   1.0  \n2   0.0   -0.0   1.0  \n3   1.0    1.0   1.0  \n4   1.0   -1.0   1.0  \n5   1.0   -1.0   1.0  \n6   1.0   -1.0   1.0  \n7   0.0    0.0   1.0  \n8   1.0   -1.0   1.0  \n9   1.0    1.0   1.0  ",
      "text/html": "<div>\n<style scoped>\n    .dataframe tbody tr th:only-of-type {\n        vertical-align: middle;\n    }\n\n    .dataframe tbody tr th {\n        vertical-align: top;\n    }\n\n    .dataframe thead th {\n        text-align: right;\n    }\n</style>\n<table border=\"1\" class=\"dataframe\">\n  <thead>\n    <tr style=\"text-align: right;\">\n      <th></th>\n      <th>1</th>\n      <th>x0</th>\n      <th>x1</th>\n      <th>x2</th>\n      <th>x3</th>\n      <th>x0^2</th>\n      <th>x0 x1</th>\n      <th>x0 x2</th>\n      <th>x0 x3</th>\n      <th>x1^2</th>\n      <th>x1 x2</th>\n      <th>x1 x3</th>\n      <th>x2^2</th>\n      <th>x2 x3</th>\n      <th>x3^2</th>\n    </tr>\n  </thead>\n  <tbody>\n    <tr>\n      <th>0</th>\n      <td>1.0</td>\n      <td>-1.0</td>\n      <td>-5.0</td>\n      <td>-1.0</td>\n      <td>-1.0</td>\n      <td>1.0</td>\n      <td>5.0</td>\n      <td>1.0</td>\n      <td>1.0</td>\n      <td>25.0</td>\n      <td>5.0</td>\n      <td>5.0</td>\n      <td>1.0</td>\n      <td>1.0</td>\n      <td>1.0</td>\n    </tr>\n    <tr>\n      <th>1</th>\n      <td>1.0</td>\n      <td>0.0</td>\n      <td>-5.0</td>\n      <td>0.0</td>\n      <td>1.0</td>\n      <td>0.0</td>\n      <td>-0.0</td>\n      <td>0.0</td>\n      <td>0.0</td>\n      <td>25.0</td>\n      <td>-0.0</td>\n      <td>-5.0</td>\n      <td>0.0</td>\n      <td>0.0</td>\n      <td>1.0</td>\n    </tr>\n    <tr>\n      <th>2</th>\n      <td>1.0</td>\n      <td>-1.0</td>\n      <td>5.0</td>\n      <td>0.0</td>\n      <td>-1.0</td>\n      <td>1.0</td>\n      <td>-5.0</td>\n      <td>-0.0</td>\n      <td>1.0</td>\n      <td>25.0</td>\n      <td>0.0</td>\n      <td>-5.0</td>\n      <td>0.0</td>\n      <td>-0.0</td>\n      <td>1.0</td>\n    </tr>\n    <tr>\n      <th>3</th>\n      <td>1.0</td>\n      <td>-1.0</td>\n      <td>5.0</td>\n      <td>1.0</td>\n      <td>1.0</td>\n      <td>1.0</td>\n      <td>-5.0</td>\n      <td>-1.0</td>\n      <td>-1.0</td>\n      <td>25.0</td>\n      <td>5.0</td>\n      <td>5.0</td>\n      <td>1.0</td>\n      <td>1.0</td>\n      <td>1.0</td>\n    </tr>\n    <tr>\n      <th>4</th>\n      <td>1.0</td>\n      <td>0.0</td>\n      <td>5.0</td>\n      <td>1.0</td>\n      <td>-1.0</td>\n      <td>0.0</td>\n      <td>0.0</td>\n      <td>0.0</td>\n      <td>-0.0</td>\n      <td>25.0</td>\n      <td>5.0</td>\n      <td>-5.0</td>\n      <td>1.0</td>\n      <td>-1.0</td>\n      <td>1.0</td>\n    </tr>\n    <tr>\n      <th>5</th>\n      <td>1.0</td>\n      <td>1.0</td>\n      <td>-5.0</td>\n      <td>-1.0</td>\n      <td>1.0</td>\n      <td>1.0</td>\n      <td>-5.0</td>\n      <td>-1.0</td>\n      <td>1.0</td>\n      <td>25.0</td>\n      <td>5.0</td>\n      <td>-5.0</td>\n      <td>1.0</td>\n      <td>-1.0</td>\n      <td>1.0</td>\n    </tr>\n    <tr>\n      <th>6</th>\n      <td>1.0</td>\n      <td>-1.0</td>\n      <td>5.0</td>\n      <td>-1.0</td>\n      <td>1.0</td>\n      <td>1.0</td>\n      <td>-5.0</td>\n      <td>1.0</td>\n      <td>-1.0</td>\n      <td>25.0</td>\n      <td>-5.0</td>\n      <td>5.0</td>\n      <td>1.0</td>\n      <td>-1.0</td>\n      <td>1.0</td>\n    </tr>\n    <tr>\n      <th>7</th>\n      <td>1.0</td>\n      <td>1.0</td>\n      <td>-5.0</td>\n      <td>0.0</td>\n      <td>1.0</td>\n      <td>1.0</td>\n      <td>-5.0</td>\n      <td>0.0</td>\n      <td>1.0</td>\n      <td>25.0</td>\n      <td>-0.0</td>\n      <td>-5.0</td>\n      <td>0.0</td>\n      <td>0.0</td>\n      <td>1.0</td>\n    </tr>\n    <tr>\n      <th>8</th>\n      <td>1.0</td>\n      <td>0.0</td>\n      <td>-5.0</td>\n      <td>1.0</td>\n      <td>-1.0</td>\n      <td>0.0</td>\n      <td>-0.0</td>\n      <td>0.0</td>\n      <td>-0.0</td>\n      <td>25.0</td>\n      <td>-5.0</td>\n      <td>5.0</td>\n      <td>1.0</td>\n      <td>-1.0</td>\n      <td>1.0</td>\n    </tr>\n    <tr>\n      <th>9</th>\n      <td>1.0</td>\n      <td>1.0</td>\n      <td>5.0</td>\n      <td>-1.0</td>\n      <td>-1.0</td>\n      <td>1.0</td>\n      <td>5.0</td>\n      <td>-1.0</td>\n      <td>-1.0</td>\n      <td>25.0</td>\n      <td>-5.0</td>\n      <td>-5.0</td>\n      <td>1.0</td>\n      <td>1.0</td>\n      <td>1.0</td>\n    </tr>\n  </tbody>\n</table>\n</div>"
     },
     "execution_count": 4,
     "metadata": {},
     "output_type": "execute_result"
    }
   ],
   "source": [
    "model"
   ],
   "metadata": {
    "collapsed": false,
    "pycharm": {
     "name": "#%%\n"
    }
   }
  },
  {
   "cell_type": "code",
   "execution_count": 5,
   "outputs": [
    {
     "data": {
      "text/plain": "     epoch   x0   x1   x2   x3\n0      0.0 -1.0  5.0  0.0  0.0\n1      0.0 -1.0 -5.0  0.0  0.0\n2      0.0 -1.0  5.0  0.0  0.0\n3      0.0 -1.0  5.0  0.0  0.0\n4      0.0  1.0 -5.0 -1.0  1.0\n..     ...  ...  ...  ...  ...\n995   99.0  0.0 -5.0  0.0 -1.0\n996   99.0  1.0 -5.0  1.0  0.0\n997   99.0  1.0  5.0  0.0  0.0\n998   99.0  1.0 -5.0 -1.0 -1.0\n999   99.0  1.0 -5.0  0.0 -1.0\n\n[1000 rows x 5 columns]",
      "text/html": "<div>\n<style scoped>\n    .dataframe tbody tr th:only-of-type {\n        vertical-align: middle;\n    }\n\n    .dataframe tbody tr th {\n        vertical-align: top;\n    }\n\n    .dataframe thead th {\n        text-align: right;\n    }\n</style>\n<table border=\"1\" class=\"dataframe\">\n  <thead>\n    <tr style=\"text-align: right;\">\n      <th></th>\n      <th>epoch</th>\n      <th>x0</th>\n      <th>x1</th>\n      <th>x2</th>\n      <th>x3</th>\n    </tr>\n  </thead>\n  <tbody>\n    <tr>\n      <th>0</th>\n      <td>0.0</td>\n      <td>-1.0</td>\n      <td>5.0</td>\n      <td>0.0</td>\n      <td>0.0</td>\n    </tr>\n    <tr>\n      <th>1</th>\n      <td>0.0</td>\n      <td>-1.0</td>\n      <td>-5.0</td>\n      <td>0.0</td>\n      <td>0.0</td>\n    </tr>\n    <tr>\n      <th>2</th>\n      <td>0.0</td>\n      <td>-1.0</td>\n      <td>5.0</td>\n      <td>0.0</td>\n      <td>0.0</td>\n    </tr>\n    <tr>\n      <th>3</th>\n      <td>0.0</td>\n      <td>-1.0</td>\n      <td>5.0</td>\n      <td>0.0</td>\n      <td>0.0</td>\n    </tr>\n    <tr>\n      <th>4</th>\n      <td>0.0</td>\n      <td>1.0</td>\n      <td>-5.0</td>\n      <td>-1.0</td>\n      <td>1.0</td>\n    </tr>\n    <tr>\n      <th>...</th>\n      <td>...</td>\n      <td>...</td>\n      <td>...</td>\n      <td>...</td>\n      <td>...</td>\n    </tr>\n    <tr>\n      <th>995</th>\n      <td>99.0</td>\n      <td>0.0</td>\n      <td>-5.0</td>\n      <td>0.0</td>\n      <td>-1.0</td>\n    </tr>\n    <tr>\n      <th>996</th>\n      <td>99.0</td>\n      <td>1.0</td>\n      <td>-5.0</td>\n      <td>1.0</td>\n      <td>0.0</td>\n    </tr>\n    <tr>\n      <th>997</th>\n      <td>99.0</td>\n      <td>1.0</td>\n      <td>5.0</td>\n      <td>0.0</td>\n      <td>0.0</td>\n    </tr>\n    <tr>\n      <th>998</th>\n      <td>99.0</td>\n      <td>1.0</td>\n      <td>-5.0</td>\n      <td>-1.0</td>\n      <td>-1.0</td>\n    </tr>\n    <tr>\n      <th>999</th>\n      <td>99.0</td>\n      <td>1.0</td>\n      <td>-5.0</td>\n      <td>0.0</td>\n      <td>-1.0</td>\n    </tr>\n  </tbody>\n</table>\n<p>1000 rows × 5 columns</p>\n</div>"
     },
     "execution_count": 5,
     "metadata": {},
     "output_type": "execute_result"
    }
   ],
   "source": [
    "design_hist"
   ],
   "metadata": {
    "collapsed": false,
    "pycharm": {
     "name": "#%%\n"
    }
   }
  },
  {
   "cell_type": "code",
   "execution_count": 6,
   "outputs": [
    {
     "data": {
      "text/plain": "      epoch  experiment  feature             3             4             5  \\\n0         0           0        0  2.222142e-86 -6.070188e-90 -1.262618e-87   \n1         0           0        1 -8.128322e-81  3.413204e-80           NaN   \n2         0           0        2 -2.657858e-79  1.322892e-80 -2.339025e-79   \n3         0           0        3 -1.563190e-79 -1.318523e-80 -1.429406e-79   \n4         0           1        0  3.381077e-80  1.898903e-82  5.142503e-81   \n...     ...         ...      ...           ...           ...           ...   \n3995     99           8        3 -6.626336e-79 -3.280510e-78 -2.401185e-78   \n3996     99           9        0  1.923017e-79  5.624675e-80  7.628207e-79   \n3997     99           9        1  7.996742e-80 -7.829898e-80           NaN   \n3998     99           9        2 -5.920604e-79  7.258013e-79  2.042740e-80   \n3999     99           9        3  0.000000e+00  0.000000e+00  0.000000e+00   \n\n               max  \n0     2.222142e-86  \n1     3.413204e-80  \n2     1.322892e-80  \n3    -1.318523e-80  \n4     3.381077e-80  \n...            ...  \n3995 -6.626336e-79  \n3996  7.628207e-79  \n3997  7.996742e-80  \n3998  7.258013e-79  \n3999  0.000000e+00  \n\n[4000 rows x 7 columns]",
      "text/html": "<div>\n<style scoped>\n    .dataframe tbody tr th:only-of-type {\n        vertical-align: middle;\n    }\n\n    .dataframe tbody tr th {\n        vertical-align: top;\n    }\n\n    .dataframe thead th {\n        text-align: right;\n    }\n</style>\n<table border=\"1\" class=\"dataframe\">\n  <thead>\n    <tr style=\"text-align: right;\">\n      <th></th>\n      <th>epoch</th>\n      <th>experiment</th>\n      <th>feature</th>\n      <th>3</th>\n      <th>4</th>\n      <th>5</th>\n      <th>max</th>\n    </tr>\n  </thead>\n  <tbody>\n    <tr>\n      <th>0</th>\n      <td>0</td>\n      <td>0</td>\n      <td>0</td>\n      <td>2.222142e-86</td>\n      <td>-6.070188e-90</td>\n      <td>-1.262618e-87</td>\n      <td>2.222142e-86</td>\n    </tr>\n    <tr>\n      <th>1</th>\n      <td>0</td>\n      <td>0</td>\n      <td>1</td>\n      <td>-8.128322e-81</td>\n      <td>3.413204e-80</td>\n      <td>NaN</td>\n      <td>3.413204e-80</td>\n    </tr>\n    <tr>\n      <th>2</th>\n      <td>0</td>\n      <td>0</td>\n      <td>2</td>\n      <td>-2.657858e-79</td>\n      <td>1.322892e-80</td>\n      <td>-2.339025e-79</td>\n      <td>1.322892e-80</td>\n    </tr>\n    <tr>\n      <th>3</th>\n      <td>0</td>\n      <td>0</td>\n      <td>3</td>\n      <td>-1.563190e-79</td>\n      <td>-1.318523e-80</td>\n      <td>-1.429406e-79</td>\n      <td>-1.318523e-80</td>\n    </tr>\n    <tr>\n      <th>4</th>\n      <td>0</td>\n      <td>1</td>\n      <td>0</td>\n      <td>3.381077e-80</td>\n      <td>1.898903e-82</td>\n      <td>5.142503e-81</td>\n      <td>3.381077e-80</td>\n    </tr>\n    <tr>\n      <th>...</th>\n      <td>...</td>\n      <td>...</td>\n      <td>...</td>\n      <td>...</td>\n      <td>...</td>\n      <td>...</td>\n      <td>...</td>\n    </tr>\n    <tr>\n      <th>3995</th>\n      <td>99</td>\n      <td>8</td>\n      <td>3</td>\n      <td>-6.626336e-79</td>\n      <td>-3.280510e-78</td>\n      <td>-2.401185e-78</td>\n      <td>-6.626336e-79</td>\n    </tr>\n    <tr>\n      <th>3996</th>\n      <td>99</td>\n      <td>9</td>\n      <td>0</td>\n      <td>1.923017e-79</td>\n      <td>5.624675e-80</td>\n      <td>7.628207e-79</td>\n      <td>7.628207e-79</td>\n    </tr>\n    <tr>\n      <th>3997</th>\n      <td>99</td>\n      <td>9</td>\n      <td>1</td>\n      <td>7.996742e-80</td>\n      <td>-7.829898e-80</td>\n      <td>NaN</td>\n      <td>7.996742e-80</td>\n    </tr>\n    <tr>\n      <th>3998</th>\n      <td>99</td>\n      <td>9</td>\n      <td>2</td>\n      <td>-5.920604e-79</td>\n      <td>7.258013e-79</td>\n      <td>2.042740e-80</td>\n      <td>7.258013e-79</td>\n    </tr>\n    <tr>\n      <th>3999</th>\n      <td>99</td>\n      <td>9</td>\n      <td>3</td>\n      <td>0.000000e+00</td>\n      <td>0.000000e+00</td>\n      <td>0.000000e+00</td>\n      <td>0.000000e+00</td>\n    </tr>\n  </tbody>\n</table>\n<p>4000 rows × 7 columns</p>\n</div>"
     },
     "execution_count": 6,
     "metadata": {},
     "output_type": "execute_result"
    }
   ],
   "source": [
    "optimality_hist"
   ],
   "metadata": {
    "collapsed": false,
    "pycharm": {
     "name": "#%%\n"
    }
   }
  },
  {
   "cell_type": "code",
   "execution_count": 6,
   "outputs": [],
   "source": [],
   "metadata": {
    "collapsed": false,
    "pycharm": {
     "name": "#%%\n"
    }
   }
  },
  {
   "cell_type": "code",
   "execution_count": 6,
   "outputs": [],
   "source": [],
   "metadata": {
    "collapsed": false,
    "pycharm": {
     "name": "#%%\n"
    }
   }
  }
 ],
 "metadata": {
  "kernelspec": {
   "display_name": "Python 3",
   "language": "python",
   "name": "python3"
  },
  "language_info": {
   "codemirror_mode": {
    "name": "ipython",
    "version": 2
   },
   "file_extension": ".py",
   "mimetype": "text/x-python",
   "name": "python",
   "nbconvert_exporter": "python",
   "pygments_lexer": "ipython2",
   "version": "2.7.6"
  }
 },
 "nbformat": 4,
 "nbformat_minor": 0
}