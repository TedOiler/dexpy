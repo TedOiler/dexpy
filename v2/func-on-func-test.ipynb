{
 "cells": [
  {
   "cell_type": "code",
   "execution_count": 166,
   "metadata": {
    "collapsed": true
   },
   "outputs": [],
   "source": [
    "import numpy as np\n",
    "from Jcb import Jcb, calc_basis_matrix\n",
    "from scipy.linalg import block_diag\n",
    "from tqdm import tqdm\n",
    "from scipy.optimize import minimize"
   ]
  },
  {
   "cell_type": "code",
   "execution_count": 167,
   "outputs": [],
   "source": [
    "p = 2\n",
    "runs = 4\n",
    "Ky = 3\n",
    "Kx = [[4]]\n",
    "Kb = [[2]]"
   ],
   "metadata": {
    "collapsed": false
   }
  },
  {
   "cell_type": "code",
   "execution_count": 193,
   "outputs": [],
   "source": [
    "def calc_I_theta(p, Ky):\n",
    "    return np.eye((p+1)*Ky, dtype=float)\n",
    "def calc_J_CH(Kx, Kb):\n",
    "    J_chs = [Jcb(*[calc_basis_matrix(x_basis=x, b_basis=b) for x, b in zip(x_row, b_row)]) for x_row, b_row in zip(Kx, Kb)]\n",
    "    bases = [1] + J_chs\n",
    "    return block_diag(*bases)\n",
    "def calc_Sigma(p, Ky, N, decay=0):\n",
    "    In = np.eye(N)\n",
    "    # initialization for decay==0\n",
    "    sigma1 = np.eye((p+1)*Ky)\n",
    "    if decay==1:\n",
    "        sigma1 = np.eye((p+1)*Ky)\n",
    "    return np.kron(In, sigma1)\n",
    "def Covar(Gamma, J_CH, I_theta, Sigma):\n",
    "    Z = Gamma @ J_CH\n",
    "    ZtZ_inv = np.linalg.inv(Z.T @ Z)\n",
    "    L1 = ZtZ_inv @ Z.T\n",
    "    L = np.kron(I_theta, L1)\n",
    "    return L @ Sigma @ L.T\n",
    "def optimality(Var, type='A'):\n",
    "    if type=='A':\n",
    "        return np.trace(Var)\n",
    "    elif type =='D':\n",
    "        return np.linalg.det(Var)\n",
    "\n",
    "def cordex_func(runs, Kx,\n",
    "                I_theta, J_CH, Sigma, epochs=1_000):\n",
    "\n",
    "    def objective(x):\n",
    "        Gamma_[run, feat] = x\n",
    "        Gamma = np.hstack((np.ones((runs, 1)), Gamma_))\n",
    "        Z = Gamma @ J_CH\n",
    "        ZtZ_inv = np.linalg.inv(Z.T @ Z)\n",
    "        L1 = ZtZ_inv @ Z.T\n",
    "        L = np.kron(I_theta, L1)\n",
    "        Covar = L @ Sigma @ L.T\n",
    "        return np.trace(Covar)\n",
    "\n",
    "    Best_des = None\n",
    "    Best_obj = np.inf\n",
    "\n",
    "    for _ in tqdm(range(epochs)):\n",
    "        objective_value = np.inf\n",
    "        Gamma_ = np.hstack([np.random.rand(runs, k[0]) for k in Kx])\n",
    "\n",
    "        for run in range(runs):\n",
    "            for feat in range(np.sum(Kx)-1):\n",
    "                res = minimize(objective, Gamma_[run, feat], method='L-BFGS-B', bounds=[(-1., 1.)])\n",
    "                if res.x is not None:\n",
    "                    Gamma_[run, feat] = res.x\n",
    "                objective_value = objective(res.x)\n",
    "        if 0 <= objective_value < Best_obj:\n",
    "            Best_obj = objective_value\n",
    "            Best_des = Gamma_\n",
    "\n",
    "    return Best_des, np.abs(Best_obj)"
   ],
   "metadata": {
    "collapsed": false
   }
  },
  {
   "cell_type": "code",
   "execution_count": 194,
   "outputs": [],
   "source": [
    "I_theta = calc_I_theta(p=p, Ky=Ky)\n",
    "J_CH = calc_J_CH(Kx=Kx, Kb=Kb)\n",
    "Sigma = calc_Sigma(p=p, Ky=Ky, N=runs, decay=0)\n",
    "Gamma = np.hstack([np.ones((runs, 1))] + [np.random.rand(runs, k[0]) for k in Kx])\n",
    "Var = Covar(Gamma=Gamma, J_CH=J_CH, I_theta=I_theta, Sigma=Sigma)"
   ],
   "metadata": {
    "collapsed": false
   }
  },
  {
   "cell_type": "code",
   "execution_count": 195,
   "outputs": [
    {
     "data": {
      "text/plain": "3550.274705003238"
     },
     "execution_count": 195,
     "metadata": {},
     "output_type": "execute_result"
    }
   ],
   "source": [
    "optimality(Var, type='A')"
   ],
   "metadata": {
    "collapsed": false
   }
  },
  {
   "cell_type": "code",
   "execution_count": 195,
   "outputs": [],
   "source": [],
   "metadata": {
    "collapsed": false
   }
  },
  {
   "cell_type": "code",
   "execution_count": 196,
   "outputs": [
    {
     "name": "stderr",
     "output_type": "stream",
     "text": [
      "100%|██████████| 1000/1000 [00:09<00:00, 100.31it/s]\n"
     ]
    }
   ],
   "source": [
    "Des, Cr = cordex_func(runs=runs,\n",
    "                      Kx=Kx,\n",
    "                      I_theta=I_theta,\n",
    "                      J_CH=J_CH,\n",
    "                      Sigma=Sigma,\n",
    "                      epochs=1_000)"
   ],
   "metadata": {
    "collapsed": false
   }
  },
  {
   "cell_type": "code",
   "execution_count": 199,
   "outputs": [
    {
     "data": {
      "text/plain": "array([[-1., -1., -1.,  0.],\n       [ 1.,  1., -1.,  0.],\n       [-1.,  0.,  1.,  1.],\n       [ 1.,  1., -1.,  0.]])"
     },
     "execution_count": 199,
     "metadata": {},
     "output_type": "execute_result"
    }
   ],
   "source": [
    "np.round(Des)"
   ],
   "metadata": {
    "collapsed": false
   }
  },
  {
   "cell_type": "code",
   "execution_count": 198,
   "outputs": [
    {
     "data": {
      "text/plain": "132.48516906911735"
     },
     "execution_count": 198,
     "metadata": {},
     "output_type": "execute_result"
    }
   ],
   "source": [
    "Cr"
   ],
   "metadata": {
    "collapsed": false
   }
  },
  {
   "cell_type": "code",
   "execution_count": null,
   "outputs": [],
   "source": [],
   "metadata": {
    "collapsed": false
   }
  }
 ],
 "metadata": {
  "kernelspec": {
   "display_name": "Python 3",
   "language": "python",
   "name": "python3"
  },
  "language_info": {
   "codemirror_mode": {
    "name": "ipython",
    "version": 2
   },
   "file_extension": ".py",
   "mimetype": "text/x-python",
   "name": "python",
   "nbconvert_exporter": "python",
   "pygments_lexer": "ipython2",
   "version": "2.7.6"
  }
 },
 "nbformat": 4,
 "nbformat_minor": 0
}
