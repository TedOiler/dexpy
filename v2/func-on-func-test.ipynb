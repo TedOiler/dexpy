{
 "cells": [
  {
   "cell_type": "code",
   "execution_count": 159,
   "metadata": {
    "collapsed": true
   },
   "outputs": [],
   "source": [
    "import numpy as np\n",
    "from Jcb import Jcb, calc_basis_matrix\n",
    "from scipy.linalg import block_diag\n",
    "from tqdm import tqdm\n",
    "from scipy.optimize import minimize\n",
    "from plot_fun import subplot_results"
   ]
  },
  {
   "cell_type": "code",
   "execution_count": 250,
   "outputs": [],
   "source": [
    "N = 4\n",
    "Ky = 2\n",
    "Kx = [[2], [2]] # step\n",
    "Kb = [[3], [3]] # polynomial ## --- Tie Kb and Ky"
   ],
   "metadata": {
    "collapsed": false
   }
  },
  {
   "cell_type": "code",
   "execution_count": 251,
   "outputs": [],
   "source": [
    "def calc_I_theta(Kx, Ky):\n",
    "    return np.eye((len(Kx)+1)*Ky, dtype=float)\n",
    "def calc_J_CH(Kx, Kb):\n",
    "    J_chs = [Jcb(*[calc_basis_matrix(x_basis=x, b_basis=b) for x, b in zip(x_row, b_row)]) for x_row, b_row in zip(Kx, Kb)]\n",
    "    bases = [1] + J_chs\n",
    "    return block_diag(*bases)\n",
    "def calc_Sigma(Kx, Ky, N, decay=0):\n",
    "    In = np.eye(N)\n",
    "    inputs = np.linspace(0,1,(len(Kx)+1)*Ky)\n",
    "    def exp_decay(decay, x):\n",
    "        return np.exp(-decay*x)\n",
    "\n",
    "    if decay == 0:\n",
    "        sigma1 = np.diag(exp_decay(decay, inputs))\n",
    "    elif decay==np.inf:\n",
    "        elements = np.zeros((len(Kx)+1)*Ky)\n",
    "        elements[0]=1\n",
    "        sigma1 = np.diag(elements)\n",
    "    else:\n",
    "        sigma1 = np.diag(exp_decay(decay, inputs))\n",
    "    return np.kron(In, sigma1)\n",
    "def Covar(Gamma, J_CH, I_theta, Sigma):\n",
    "    Z = Gamma @ J_CH\n",
    "    ZtZ_inv = np.linalg.inv(Z.T @ Z)\n",
    "    L1 = ZtZ_inv @ Z.T\n",
    "    L = np.kron(I_theta, L1)\n",
    "    return L @ Sigma @ L.T\n",
    "def optimality(Var, type='A'):\n",
    "    if type=='A':\n",
    "        return np.trace(Var)\n",
    "    elif type =='D':\n",
    "        return np.linalg.det(Var)\n",
    "\n",
    "def cordex_func(N, Kx,\n",
    "                I_theta, J_CH, Sigma, epochs=1_000):\n",
    "\n",
    "    def objective(x):\n",
    "        Gamma_[run, feat] = x\n",
    "        Gamma = np.hstack((np.ones((N, 1)), Gamma_))\n",
    "        Z = Gamma @ J_CH\n",
    "        ZtZ_inv = np.linalg.inv(Z.T @ Z)\n",
    "        L1 = ZtZ_inv @ Z.T\n",
    "        L = np.kron(I_theta, L1)\n",
    "        Covar = L @ Sigma @ L.T\n",
    "        return np.trace(Covar)\n",
    "\n",
    "    Best_des = None\n",
    "    Best_obj = np.inf\n",
    "\n",
    "    for _ in tqdm(range(epochs)):\n",
    "        objective_value = np.inf\n",
    "        Gamma_ = np.hstack([np.random.rand(N, k[0]) for k in Kx])\n",
    "\n",
    "        for run in range(N):\n",
    "            for feat in range(np.sum(Kx)-1):\n",
    "                res = minimize(objective, Gamma_[run, feat], method='L-BFGS-B', bounds=[(-1., 1.)])\n",
    "                if res.x is not None:\n",
    "                    Gamma_[run, feat] = res.x\n",
    "                objective_value = objective(res.x)\n",
    "        if 0 <= objective_value < Best_obj:\n",
    "            Best_obj = objective_value\n",
    "            Best_des = Gamma_\n",
    "\n",
    "    return Best_des, np.abs(Best_obj)"
   ],
   "metadata": {
    "collapsed": false
   }
  },
  {
   "cell_type": "code",
   "execution_count": 252,
   "outputs": [],
   "source": [
    "I_theta = calc_I_theta(Kx=Kx, Ky=Ky)\n",
    "J_CH = calc_J_CH(Kx=Kx, Kb=Kb)\n",
    "Sigma = calc_Sigma(Kx=Kx, Ky=Ky, N=N, decay=0)\n",
    "Gamma = np.hstack([np.ones((N, 1))] + [np.random.rand(N, k[0]) for k in Kx])\n",
    "Var = Covar(Gamma=Gamma, J_CH=J_CH, I_theta=I_theta, Sigma=Sigma)"
   ],
   "metadata": {
    "collapsed": false
   }
  },
  {
   "cell_type": "code",
   "execution_count": 253,
   "outputs": [
    {
     "data": {
      "text/plain": "(24, 24)"
     },
     "execution_count": 253,
     "metadata": {},
     "output_type": "execute_result"
    }
   ],
   "source": [
    "Sigma.shape"
   ],
   "metadata": {
    "collapsed": false
   }
  },
  {
   "cell_type": "code",
   "execution_count": 254,
   "outputs": [
    {
     "data": {
      "text/plain": "3.5478255554898966e+221"
     },
     "execution_count": 254,
     "metadata": {},
     "output_type": "execute_result"
    }
   ],
   "source": [
    "optimality(Var, type='D')"
   ],
   "metadata": {
    "collapsed": false
   }
  },
  {
   "cell_type": "code",
   "execution_count": 255,
   "outputs": [
    {
     "name": "stderr",
     "output_type": "stream",
     "text": [
      "100%|██████████| 100/100 [00:04<00:00, 21.95it/s]\n"
     ]
    },
    {
     "data": {
      "text/plain": "2343.6290136039047"
     },
     "execution_count": 255,
     "metadata": {},
     "output_type": "execute_result"
    }
   ],
   "source": [
    "Des, Cr = cordex_func(N=N,\n",
    "                      Kx=Kx,\n",
    "                      I_theta=I_theta,\n",
    "                      J_CH=J_CH,\n",
    "                      Sigma=Sigma,\n",
    "                      epochs=100)\n",
    "Cr"
   ],
   "metadata": {
    "collapsed": false
   }
  },
  {
   "cell_type": "code",
   "execution_count": 256,
   "outputs": [
    {
     "data": {
      "text/plain": "array([[8.61510720e-01, 1.30313338e-01, 6.86389051e-01, 2.11036634e-01],\n       [7.47036246e-01, 3.98626722e-01, 6.84166328e-01, 9.06035204e-01],\n       [4.31984165e-01, 1.65135473e-01, 1.16850322e-01, 9.84372554e-01],\n       [3.87491731e-01, 2.87539928e-01, 1.84339762e-04, 3.00094101e-01]])"
     },
     "execution_count": 256,
     "metadata": {},
     "output_type": "execute_result"
    }
   ],
   "source": [
    "Des"
   ],
   "metadata": {
    "collapsed": false
   }
  },
  {
   "cell_type": "code",
   "execution_count": 257,
   "outputs": [
    {
     "data": {
      "text/plain": "<Figure size 400x400 with 4 Axes>",
      "image/png": "[encoded data removed]"
     },
     "metadata": {},
     "output_type": "display_data"
    }
   ],
   "source": [
    "subplot_results(sub_x=2, sub_y=2, T=np.linspace(0, 1, 100), results=Des)"
   ],
   "metadata": {
    "collapsed": false
   }
  },
  {
   "cell_type": "code",
   "execution_count": null,
   "outputs": [],
   "source": [],
   "metadata": {
    "collapsed": false
   }
  }
 ],
 "metadata": {
  "kernelspec": {
   "display_name": "Python 3",
   "language": "python",
   "name": "python3"
  },
  "language_info": {
   "codemirror_mode": {
    "name": "ipython",
    "version": 2
   },
   "file_extension": ".py",
   "mimetype": "text/x-python",
   "name": "python",
   "nbconvert_exporter": "python",
   "pygments_lexer": "ipython2",
   "version": "2.7.6"
  }
 },
 "nbformat": 4,
 "nbformat_minor": 0
}
