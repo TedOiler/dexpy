{
 "cells": [
  {
   "cell_type": "markdown",
   "source": [
    "## Libraries"
   ],
   "metadata": {
    "collapsed": false
   }
  },
  {
   "cell_type": "code",
   "execution_count": 8,
   "outputs": [],
   "source": [
    "import cProfile\n",
    "import pstats\n",
    "import numpy as np\n",
    "import pandas as pd\n",
    "from timeit import default_timer as timer\n",
    "from datetime import timedelta\n",
    "from matplotlib import pyplot as plt\n",
    "\n",
    "from smooth_output import smooth_fourier\n",
    "from Jcb import calc_basis_matrix\n",
    "from R import calc_penalty_matrix\n",
    "from cordex_discrete import cordex_discrete\n",
    "from cordex_continuous import cordex_continuous\n",
    "from cordex_continuous_v2 import cordex_continuous_v2\n",
    "from plot_fun import subplot_results\n",
    "# from bayesian_continuous import bo_loop\n",
    "from Jcb import Jcb\n",
    "from R import R\n",
    "from scipy.ndimage import gaussian_filter\n",
    "from tqdm import tqdm\n",
    "import plotly.graph_objs as go\n",
    "from plotly.subplots import make_subplots\n",
    "\n",
    "# %load_ext autotime"
   ],
   "metadata": {
    "collapsed": false
   }
  },
  {
   "cell_type": "markdown",
   "source": [
    "## Helpers"
   ],
   "metadata": {
    "collapsed": false
   }
  },
  {
   "cell_type": "code",
   "execution_count": 9,
   "outputs": [],
   "source": [
    "def calc_cr(optimality, results, runs):\n",
    "    Z = np.hstack((np.ones((runs, 1)), results@J_cb))\n",
    "    M = Z.T @ Z\n",
    "    if optimality == 'D':\n",
    "        return np.linalg.det(M)\n",
    "    elif optimality == 'A':\n",
    "        return np.trace(np.linalg.inv(M))\n",
    "    else:\n",
    "        return np.infty"
   ],
   "metadata": {
    "collapsed": false
   }
  },
  {
   "cell_type": "code",
   "execution_count": 10,
   "outputs": [],
   "source": [
    "def run_grid_search(runs, n_x, scalars, optimality, J_cb, R_0, epochs,\n",
    "             lamb_ridge=np.logspace(-5,5, num=10), lamb_smooth=np.logspace(-5,5, num=10)):\n",
    "    results_free, _ = cordex_continuous(runs=runs,\n",
    "                                          f_list=n_x,\n",
    "                                          scalars=scalars,\n",
    "                                          optimality=optimality,\n",
    "                                          J_cb=J_cb,\n",
    "                                          R_0=None,\n",
    "                                          smooth_pen=0,\n",
    "                                          ridge_pen=0,\n",
    "                                          epochs=epochs,\n",
    "                                          final_pass_iter=epochs)\n",
    "    results_free_cr = calc_cr(optimality, results_free, runs)\n",
    "\n",
    "    criteria_list = np.empty((len(lamb_ridge), len(lamb_smooth)))\n",
    "    with tqdm(total=len(lamb_ridge)*len(lamb_smooth)) as pbar:\n",
    "        for i,l in enumerate(lamb_ridge):\n",
    "            for j,k in enumerate(lamb_smooth):\n",
    "                results_smooth_ridge, _ = cordex_continuous(runs=runs,\n",
    "                                                            f_list=n_x,\n",
    "                                                            scalars=scalars,\n",
    "                                                            optimality=optimality,\n",
    "                                                            J_cb=J_cb,\n",
    "                                                            R_0=R_0,\n",
    "                                                            smooth_pen=k,\n",
    "                                                            ridge_pen=l,\n",
    "                                                            epochs=epochs,\n",
    "                                                            final_pass_iter=epochs,\n",
    "                                                            main_bar=False)\n",
    "                best_cr_smooth_ridge = calc_cr(optimality, results_smooth_ridge, 5)\n",
    "                idx_l = np.where(lamb_ridge == l)[0][0]\n",
    "                idx_k = np.where(lamb_smooth == k)[0][0]\n",
    "                criteria_list[idx_l, idx_k] = best_cr_smooth_ridge\n",
    "                pbar.update(1)\n",
    "    if optimality == 'A':\n",
    "        criteria_eff_list = np.round(results_free_cr / criteria_list , 2)\n",
    "        # criteria_eff_list = np.round(np.exp(np.log(criteria_list) - np.log(results_free_cr)) * 100, 2)\n",
    "    else:\n",
    "        criteria_eff_list = np.round(criteria_list / results_free_cr , 2)\n",
    "        # criteria_eff_list = np.round(np.exp(np.log(results_free_cr) - np.log(criteria_list)) * 100, 2)\n",
    "    return criteria_list, criteria_eff_list"
   ],
   "metadata": {
    "collapsed": false
   }
  },
  {
   "cell_type": "code",
   "execution_count": 11,
   "outputs": [],
   "source": [
    "def plot_contour(crit_list, lamb_ridge, lamb_smooth, name='Efficiency'):\n",
    "    crit_smooth = gaussian_filter(crit_list, sigma=1)\n",
    "    fig, ax = plt.subplots()\n",
    "    cs = ax.contourf(lamb_ridge, lamb_smooth, crit_smooth, cmap='plasma', vmin=0, vmax=1)\n",
    "    ax.set_xscale('log')\n",
    "    ax.set_yscale('log')\n",
    "    ax.set_xlabel('Smooth penalty (log scale)')\n",
    "    ax.set_ylabel('Ridge penalty (log scale)')\n",
    "    ax.clabel(cs, inline=True, fontsize=10, fmt='')\n",
    "    cbar = fig.colorbar(cs)\n",
    "    cbar.set_label(f'{name}', rotation=270, labelpad=15, fontsize=12)\n",
    "    plt.show()"
   ],
   "metadata": {
    "collapsed": false
   }
  },
  {
   "cell_type": "code",
   "execution_count": 12,
   "outputs": [],
   "source": [
    "def plot_3d(crit_list, lamb_ridge, lamb_smooth, name='Efficiency'):\n",
    "    xx, yy = np.meshgrid(lamb_ridge, lamb_smooth)\n",
    "    fig = make_subplots(rows=1, cols=1, specs=[[{'type': 'surface'}]])\n",
    "\n",
    "    fig.add_trace(go.Surface(x=xx, y=yy, z=crit_list, colorscale='plasma', cmin=0, cmax=1, showlegend=False), 1, 1)\n",
    "\n",
    "    fig.update_traces(contours_z=dict(show=True, usecolormap=True, highlightcolor=\"limegreen\", project_z=True))\n",
    "    fig.update_layout(scene=dict(xaxis=dict(title='Ridge λ', type='log', tickformat='.0e'),\n",
    "                                 yaxis=dict(title='Smoothness λ', type='log', tickformat='.0e'),\n",
    "                                 zaxis=dict(title=name, tickformat='0%')))\n",
    "    fig.update_layout(title=name)\n",
    "    fig.update_layout(coloraxis=dict(colorbar=dict(title=None)))\n",
    "    fig.update_traces(showscale=False)\n",
    "    fig.show()\n",
    "    fig.write_image(f\"{name}.png\")"
   ],
   "metadata": {
    "collapsed": false
   }
  },
  {
   "cell_type": "markdown",
   "source": [
    "## Settings"
   ],
   "metadata": {
    "collapsed": false
   }
  },
  {
   "cell_type": "code",
   "execution_count": 6,
   "outputs": [],
   "source": [
    "epochs = 100\n",
    "n_x = [4]\n",
    "n_b = [3]\n",
    "scalars = 0\n",
    "J_cb = Jcb(*[calc_basis_matrix(x_basis=x, b_basis=b) for x, b in zip(n_x, n_b)])\n",
    "R_0 = R(*[calc_penalty_matrix(n_b=b) for b in n_b])"
   ],
   "metadata": {
    "collapsed": false
   }
  },
  {
   "cell_type": "markdown",
   "source": [
    "## Comparrissons"
   ],
   "metadata": {
    "collapsed": false
   }
  },
  {
   "cell_type": "markdown",
   "source": [
    "## A-optimality"
   ],
   "metadata": {
    "collapsed": false
   }
  },
  {
   "cell_type": "code",
   "execution_count": 7,
   "outputs": [
    {
     "name": "stderr",
     "output_type": "stream",
     "text": [
      " 18%|█▊        | 18/100 [00:01<00:08, 10.13it/s]\n"
     ]
    },
    {
     "ename": "KeyboardInterrupt",
     "evalue": "",
     "output_type": "error",
     "traceback": [
      "\u001B[0;31m---------------------------------------------------------------------------\u001B[0m",
      "\u001B[0;31mKeyboardInterrupt\u001B[0m                         Traceback (most recent call last)",
      "Cell \u001B[0;32mIn[7], line 3\u001B[0m\n\u001B[1;32m      1\u001B[0m runs \u001B[38;5;241m=\u001B[39m \u001B[38;5;241m10\u001B[39m\n\u001B[1;32m      2\u001B[0m start \u001B[38;5;241m=\u001B[39m timer()\n\u001B[0;32m----> 3\u001B[0m results_A_free, _ \u001B[38;5;241m=\u001B[39m \u001B[43mcordex_continuous\u001B[49m\u001B[43m(\u001B[49m\u001B[43mruns\u001B[49m\u001B[38;5;241;43m=\u001B[39;49m\u001B[43mruns\u001B[49m\u001B[43m,\u001B[49m\n\u001B[1;32m      4\u001B[0m \u001B[43m                                     \u001B[49m\u001B[43mf_list\u001B[49m\u001B[38;5;241;43m=\u001B[39;49m\u001B[43mn_x\u001B[49m\u001B[43m,\u001B[49m\n\u001B[1;32m      5\u001B[0m \u001B[43m                                     \u001B[49m\u001B[43mscalars\u001B[49m\u001B[38;5;241;43m=\u001B[39;49m\u001B[43mscalars\u001B[49m\u001B[43m,\u001B[49m\n\u001B[1;32m      6\u001B[0m \u001B[43m                                     \u001B[49m\u001B[43moptimality\u001B[49m\u001B[38;5;241;43m=\u001B[39;49m\u001B[38;5;124;43m'\u001B[39;49m\u001B[38;5;124;43mA\u001B[39;49m\u001B[38;5;124;43m'\u001B[39;49m\u001B[43m,\u001B[49m\n\u001B[1;32m      7\u001B[0m \u001B[43m                                     \u001B[49m\u001B[43mJ_cb\u001B[49m\u001B[38;5;241;43m=\u001B[39;49m\u001B[43mJ_cb\u001B[49m\u001B[43m,\u001B[49m\n\u001B[1;32m      8\u001B[0m \u001B[43m                                     \u001B[49m\u001B[43mR_0\u001B[49m\u001B[38;5;241;43m=\u001B[39;49m\u001B[38;5;28;43;01mNone\u001B[39;49;00m\u001B[43m,\u001B[49m\n\u001B[1;32m      9\u001B[0m \u001B[43m                                     \u001B[49m\u001B[43msmooth_pen\u001B[49m\u001B[38;5;241;43m=\u001B[39;49m\u001B[38;5;241;43m0\u001B[39;49m\u001B[43m,\u001B[49m\n\u001B[1;32m     10\u001B[0m \u001B[43m                                     \u001B[49m\u001B[43mridge_pen\u001B[49m\u001B[38;5;241;43m=\u001B[39;49m\u001B[38;5;241;43m0\u001B[39;49m\u001B[43m,\u001B[49m\n\u001B[1;32m     11\u001B[0m \u001B[43m                                     \u001B[49m\u001B[43mepochs\u001B[49m\u001B[38;5;241;43m=\u001B[39;49m\u001B[43mepochs\u001B[49m\u001B[43m,\u001B[49m\u001B[43m)\u001B[49m\n\u001B[1;32m     12\u001B[0m end \u001B[38;5;241m=\u001B[39m timer()\n\u001B[1;32m     13\u001B[0m best_cr_A_free \u001B[38;5;241m=\u001B[39m calc_cr(\u001B[38;5;124m'\u001B[39m\u001B[38;5;124mA\u001B[39m\u001B[38;5;124m'\u001B[39m, results_A_free, runs)\n",
      "File \u001B[0;32m~/Documents/code/optidex/v2/cordex_continuous.py:140\u001B[0m, in \u001B[0;36mcordex_continuous\u001B[0;34m(runs, f_list, scalars, optimality, J_cb, R_0, smooth_pen, ridge_pen, epochs, estimator, method, random_start, final_pass, final_pass_iter, main_bar, starting_bar, final_bar)\u001B[0m\n\u001B[1;32m    138\u001B[0m \u001B[38;5;28;01mfor\u001B[39;00m run \u001B[38;5;129;01min\u001B[39;00m \u001B[38;5;28mrange\u001B[39m(runs):\n\u001B[1;32m    139\u001B[0m     \u001B[38;5;28;01mfor\u001B[39;00m feat \u001B[38;5;129;01min\u001B[39;00m \u001B[38;5;28mrange\u001B[39m(f_coeffs \u001B[38;5;241m+\u001B[39m scalars \u001B[38;5;241m-\u001B[39m \u001B[38;5;241m1\u001B[39m):\n\u001B[0;32m--> 140\u001B[0m         res \u001B[38;5;241m=\u001B[39m \u001B[43mminimize\u001B[49m\u001B[43m(\u001B[49m\u001B[43mobjective\u001B[49m\u001B[43m,\u001B[49m\u001B[43m \u001B[49m\u001B[43mModel_mat\u001B[49m\u001B[43m[\u001B[49m\u001B[43mrun\u001B[49m\u001B[43m,\u001B[49m\u001B[43m \u001B[49m\u001B[43mfeat\u001B[49m\u001B[43m]\u001B[49m\u001B[43m,\u001B[49m\u001B[43m \u001B[49m\u001B[43mmethod\u001B[49m\u001B[38;5;241;43m=\u001B[39;49m\u001B[43mmethod\u001B[49m\u001B[43m,\u001B[49m\u001B[43m \u001B[49m\u001B[43mbounds\u001B[49m\u001B[38;5;241;43m=\u001B[39;49m\u001B[43m[\u001B[49m\u001B[43m(\u001B[49m\u001B[38;5;241;43m-\u001B[39;49m\u001B[38;5;241;43m1\u001B[39;49m\u001B[43m,\u001B[49m\u001B[43m \u001B[49m\u001B[38;5;241;43m1\u001B[39;49m\u001B[43m)\u001B[49m\u001B[43m]\u001B[49m\u001B[43m)\u001B[49m\n\u001B[1;32m    141\u001B[0m         \u001B[38;5;28;01mif\u001B[39;00m res\u001B[38;5;241m.\u001B[39mx \u001B[38;5;129;01mis\u001B[39;00m \u001B[38;5;129;01mnot\u001B[39;00m \u001B[38;5;28;01mNone\u001B[39;00m:\n\u001B[1;32m    142\u001B[0m             Model_mat[run, feat] \u001B[38;5;241m=\u001B[39m res\u001B[38;5;241m.\u001B[39mx\n",
      "File \u001B[0;32m~/miniforge3/envs/optidex/lib/python3.10/site-packages/scipy/optimize/_minimize.py:696\u001B[0m, in \u001B[0;36mminimize\u001B[0;34m(fun, x0, args, method, jac, hess, hessp, bounds, constraints, tol, callback, options)\u001B[0m\n\u001B[1;32m    693\u001B[0m     res \u001B[38;5;241m=\u001B[39m _minimize_newtoncg(fun, x0, args, jac, hess, hessp, callback,\n\u001B[1;32m    694\u001B[0m                              \u001B[38;5;241m*\u001B[39m\u001B[38;5;241m*\u001B[39moptions)\n\u001B[1;32m    695\u001B[0m \u001B[38;5;28;01melif\u001B[39;00m meth \u001B[38;5;241m==\u001B[39m \u001B[38;5;124m'\u001B[39m\u001B[38;5;124ml-bfgs-b\u001B[39m\u001B[38;5;124m'\u001B[39m:\n\u001B[0;32m--> 696\u001B[0m     res \u001B[38;5;241m=\u001B[39m \u001B[43m_minimize_lbfgsb\u001B[49m\u001B[43m(\u001B[49m\u001B[43mfun\u001B[49m\u001B[43m,\u001B[49m\u001B[43m \u001B[49m\u001B[43mx0\u001B[49m\u001B[43m,\u001B[49m\u001B[43m \u001B[49m\u001B[43margs\u001B[49m\u001B[43m,\u001B[49m\u001B[43m \u001B[49m\u001B[43mjac\u001B[49m\u001B[43m,\u001B[49m\u001B[43m \u001B[49m\u001B[43mbounds\u001B[49m\u001B[43m,\u001B[49m\n\u001B[1;32m    697\u001B[0m \u001B[43m                           \u001B[49m\u001B[43mcallback\u001B[49m\u001B[38;5;241;43m=\u001B[39;49m\u001B[43mcallback\u001B[49m\u001B[43m,\u001B[49m\u001B[43m \u001B[49m\u001B[38;5;241;43m*\u001B[39;49m\u001B[38;5;241;43m*\u001B[39;49m\u001B[43moptions\u001B[49m\u001B[43m)\u001B[49m\n\u001B[1;32m    698\u001B[0m \u001B[38;5;28;01melif\u001B[39;00m meth \u001B[38;5;241m==\u001B[39m \u001B[38;5;124m'\u001B[39m\u001B[38;5;124mtnc\u001B[39m\u001B[38;5;124m'\u001B[39m:\n\u001B[1;32m    699\u001B[0m     res \u001B[38;5;241m=\u001B[39m _minimize_tnc(fun, x0, args, jac, bounds, callback\u001B[38;5;241m=\u001B[39mcallback,\n\u001B[1;32m    700\u001B[0m                         \u001B[38;5;241m*\u001B[39m\u001B[38;5;241m*\u001B[39moptions)\n",
      "File \u001B[0;32m~/miniforge3/envs/optidex/lib/python3.10/site-packages/scipy/optimize/_lbfgsb_py.py:359\u001B[0m, in \u001B[0;36m_minimize_lbfgsb\u001B[0;34m(fun, x0, args, jac, bounds, disp, maxcor, ftol, gtol, eps, maxfun, maxiter, iprint, callback, maxls, finite_diff_rel_step, **unknown_options)\u001B[0m\n\u001B[1;32m    353\u001B[0m task_str \u001B[38;5;241m=\u001B[39m task\u001B[38;5;241m.\u001B[39mtobytes()\n\u001B[1;32m    354\u001B[0m \u001B[38;5;28;01mif\u001B[39;00m task_str\u001B[38;5;241m.\u001B[39mstartswith(\u001B[38;5;124mb\u001B[39m\u001B[38;5;124m'\u001B[39m\u001B[38;5;124mFG\u001B[39m\u001B[38;5;124m'\u001B[39m):\n\u001B[1;32m    355\u001B[0m     \u001B[38;5;66;03m# The minimization routine wants f and g at the current x.\u001B[39;00m\n\u001B[1;32m    356\u001B[0m     \u001B[38;5;66;03m# Note that interruptions due to maxfun are postponed\u001B[39;00m\n\u001B[1;32m    357\u001B[0m     \u001B[38;5;66;03m# until the completion of the current minimization iteration.\u001B[39;00m\n\u001B[1;32m    358\u001B[0m     \u001B[38;5;66;03m# Overwrite f and g:\u001B[39;00m\n\u001B[0;32m--> 359\u001B[0m     f, g \u001B[38;5;241m=\u001B[39m \u001B[43mfunc_and_grad\u001B[49m\u001B[43m(\u001B[49m\u001B[43mx\u001B[49m\u001B[43m)\u001B[49m\n\u001B[1;32m    360\u001B[0m \u001B[38;5;28;01melif\u001B[39;00m task_str\u001B[38;5;241m.\u001B[39mstartswith(\u001B[38;5;124mb\u001B[39m\u001B[38;5;124m'\u001B[39m\u001B[38;5;124mNEW_X\u001B[39m\u001B[38;5;124m'\u001B[39m):\n\u001B[1;32m    361\u001B[0m     \u001B[38;5;66;03m# new iteration\u001B[39;00m\n\u001B[1;32m    362\u001B[0m     n_iterations \u001B[38;5;241m+\u001B[39m\u001B[38;5;241m=\u001B[39m \u001B[38;5;241m1\u001B[39m\n",
      "File \u001B[0;32m~/miniforge3/envs/optidex/lib/python3.10/site-packages/scipy/optimize/_differentiable_functions.py:285\u001B[0m, in \u001B[0;36mScalarFunction.fun_and_grad\u001B[0;34m(self, x)\u001B[0m\n\u001B[1;32m    283\u001B[0m \u001B[38;5;28;01mif\u001B[39;00m \u001B[38;5;129;01mnot\u001B[39;00m np\u001B[38;5;241m.\u001B[39marray_equal(x, \u001B[38;5;28mself\u001B[39m\u001B[38;5;241m.\u001B[39mx):\n\u001B[1;32m    284\u001B[0m     \u001B[38;5;28mself\u001B[39m\u001B[38;5;241m.\u001B[39m_update_x_impl(x)\n\u001B[0;32m--> 285\u001B[0m \u001B[38;5;28;43mself\u001B[39;49m\u001B[38;5;241;43m.\u001B[39;49m\u001B[43m_update_fun\u001B[49m\u001B[43m(\u001B[49m\u001B[43m)\u001B[49m\n\u001B[1;32m    286\u001B[0m \u001B[38;5;28mself\u001B[39m\u001B[38;5;241m.\u001B[39m_update_grad()\n\u001B[1;32m    287\u001B[0m \u001B[38;5;28;01mreturn\u001B[39;00m \u001B[38;5;28mself\u001B[39m\u001B[38;5;241m.\u001B[39mf, \u001B[38;5;28mself\u001B[39m\u001B[38;5;241m.\u001B[39mg\n",
      "File \u001B[0;32m~/miniforge3/envs/optidex/lib/python3.10/site-packages/scipy/optimize/_differentiable_functions.py:251\u001B[0m, in \u001B[0;36mScalarFunction._update_fun\u001B[0;34m(self)\u001B[0m\n\u001B[1;32m    249\u001B[0m \u001B[38;5;28;01mdef\u001B[39;00m \u001B[38;5;21m_update_fun\u001B[39m(\u001B[38;5;28mself\u001B[39m):\n\u001B[1;32m    250\u001B[0m     \u001B[38;5;28;01mif\u001B[39;00m \u001B[38;5;129;01mnot\u001B[39;00m \u001B[38;5;28mself\u001B[39m\u001B[38;5;241m.\u001B[39mf_updated:\n\u001B[0;32m--> 251\u001B[0m         \u001B[38;5;28;43mself\u001B[39;49m\u001B[38;5;241;43m.\u001B[39;49m\u001B[43m_update_fun_impl\u001B[49m\u001B[43m(\u001B[49m\u001B[43m)\u001B[49m\n\u001B[1;32m    252\u001B[0m         \u001B[38;5;28mself\u001B[39m\u001B[38;5;241m.\u001B[39mf_updated \u001B[38;5;241m=\u001B[39m \u001B[38;5;28;01mTrue\u001B[39;00m\n",
      "File \u001B[0;32m~/miniforge3/envs/optidex/lib/python3.10/site-packages/scipy/optimize/_differentiable_functions.py:155\u001B[0m, in \u001B[0;36mScalarFunction.__init__.<locals>.update_fun\u001B[0;34m()\u001B[0m\n\u001B[1;32m    154\u001B[0m \u001B[38;5;28;01mdef\u001B[39;00m \u001B[38;5;21mupdate_fun\u001B[39m():\n\u001B[0;32m--> 155\u001B[0m     \u001B[38;5;28mself\u001B[39m\u001B[38;5;241m.\u001B[39mf \u001B[38;5;241m=\u001B[39m \u001B[43mfun_wrapped\u001B[49m\u001B[43m(\u001B[49m\u001B[38;5;28;43mself\u001B[39;49m\u001B[38;5;241;43m.\u001B[39;49m\u001B[43mx\u001B[49m\u001B[43m)\u001B[49m\n",
      "File \u001B[0;32m~/miniforge3/envs/optidex/lib/python3.10/site-packages/scipy/optimize/_differentiable_functions.py:137\u001B[0m, in \u001B[0;36mScalarFunction.__init__.<locals>.fun_wrapped\u001B[0;34m(x)\u001B[0m\n\u001B[1;32m    133\u001B[0m \u001B[38;5;28mself\u001B[39m\u001B[38;5;241m.\u001B[39mnfev \u001B[38;5;241m+\u001B[39m\u001B[38;5;241m=\u001B[39m \u001B[38;5;241m1\u001B[39m\n\u001B[1;32m    134\u001B[0m \u001B[38;5;66;03m# Send a copy because the user may overwrite it.\u001B[39;00m\n\u001B[1;32m    135\u001B[0m \u001B[38;5;66;03m# Overwriting results in undefined behaviour because\u001B[39;00m\n\u001B[1;32m    136\u001B[0m \u001B[38;5;66;03m# fun(self.x) will change self.x, with the two no longer linked.\u001B[39;00m\n\u001B[0;32m--> 137\u001B[0m fx \u001B[38;5;241m=\u001B[39m fun(\u001B[43mnp\u001B[49m\u001B[38;5;241;43m.\u001B[39;49m\u001B[43mcopy\u001B[49m\u001B[43m(\u001B[49m\u001B[43mx\u001B[49m\u001B[43m)\u001B[49m, \u001B[38;5;241m*\u001B[39margs)\n\u001B[1;32m    138\u001B[0m \u001B[38;5;66;03m# Make sure the function returns a true scalar\u001B[39;00m\n\u001B[1;32m    139\u001B[0m \u001B[38;5;28;01mif\u001B[39;00m \u001B[38;5;129;01mnot\u001B[39;00m np\u001B[38;5;241m.\u001B[39misscalar(fx):\n",
      "File \u001B[0;32m<__array_function__ internals>:180\u001B[0m, in \u001B[0;36mcopy\u001B[0;34m(*args, **kwargs)\u001B[0m\n",
      "File \u001B[0;32m~/miniforge3/envs/optidex/lib/python3.10/site-packages/numpy/lib/function_base.py:959\u001B[0m, in \u001B[0;36mcopy\u001B[0;34m(a, order, subok)\u001B[0m\n\u001B[1;32m    870\u001B[0m \u001B[38;5;129m@array_function_dispatch\u001B[39m(_copy_dispatcher)\n\u001B[1;32m    871\u001B[0m \u001B[38;5;28;01mdef\u001B[39;00m \u001B[38;5;21mcopy\u001B[39m(a, order\u001B[38;5;241m=\u001B[39m\u001B[38;5;124m'\u001B[39m\u001B[38;5;124mK\u001B[39m\u001B[38;5;124m'\u001B[39m, subok\u001B[38;5;241m=\u001B[39m\u001B[38;5;28;01mFalse\u001B[39;00m):\n\u001B[1;32m    872\u001B[0m     \u001B[38;5;124;03m\"\"\"\u001B[39;00m\n\u001B[1;32m    873\u001B[0m \u001B[38;5;124;03m    Return an array copy of the given object.\u001B[39;00m\n\u001B[1;32m    874\u001B[0m \n\u001B[0;32m   (...)\u001B[0m\n\u001B[1;32m    957\u001B[0m \n\u001B[1;32m    958\u001B[0m \u001B[38;5;124;03m    \"\"\"\u001B[39;00m\n\u001B[0;32m--> 959\u001B[0m     \u001B[38;5;28;01mreturn\u001B[39;00m \u001B[43marray\u001B[49m\u001B[43m(\u001B[49m\u001B[43ma\u001B[49m\u001B[43m,\u001B[49m\u001B[43m \u001B[49m\u001B[43morder\u001B[49m\u001B[38;5;241;43m=\u001B[39;49m\u001B[43morder\u001B[49m\u001B[43m,\u001B[49m\u001B[43m \u001B[49m\u001B[43msubok\u001B[49m\u001B[38;5;241;43m=\u001B[39;49m\u001B[43msubok\u001B[49m\u001B[43m,\u001B[49m\u001B[43m \u001B[49m\u001B[43mcopy\u001B[49m\u001B[38;5;241;43m=\u001B[39;49m\u001B[38;5;28;43;01mTrue\u001B[39;49;00m\u001B[43m)\u001B[49m\n",
      "\u001B[0;31mKeyboardInterrupt\u001B[0m: "
     ]
    }
   ],
   "source": [
    "runs = 10\n",
    "start = timer()\n",
    "results_A_free, _ = cordex_continuous(runs=runs,\n",
    "                                     f_list=n_x,\n",
    "                                     scalars=scalars,\n",
    "                                     optimality='A',\n",
    "                                     J_cb=J_cb,\n",
    "                                     R_0=None,\n",
    "                                     smooth_pen=0,\n",
    "                                     ridge_pen=0,\n",
    "                                     epochs=epochs,)\n",
    "end = timer()\n",
    "best_cr_A_free = calc_cr('A', results_A_free, runs)\n",
    "print(f\"Optimality: {'A'}\"\n",
    "      f\"\\nBest criterion: {np.round(best_cr_A_free,3)}\"\n",
    "      f\"\\nExecution time (s): {timedelta(seconds=end-start)}\")"
   ],
   "metadata": {
    "collapsed": false
   }
  },
  {
   "cell_type": "markdown",
   "source": [
    "## D-optimality"
   ],
   "metadata": {
    "collapsed": false
   }
  },
  {
   "cell_type": "code",
   "execution_count": null,
   "outputs": [],
   "source": [
    "runs = 7\n",
    "start = timer()\n",
    "results_D_free, _ = cordex_continuous(runs=runs,\n",
    "                                      f_list=n_x,\n",
    "                                      scalars=scalars,\n",
    "                                      optimality='D',\n",
    "                                      J_cb=J_cb,\n",
    "                                      R_0=None,\n",
    "                                      smooth_pen=0,\n",
    "                                      ridge_pen=0,\n",
    "                                      epochs=epochs,)\n",
    "end = timer()\n",
    "\n",
    "best_cr_D_free = calc_cr('D', results_D_free, runs)\n",
    "print(f\"Optimality: {'D'}\"\n",
    "      f\"\\nBest criterion: {np.round(best_cr_D_free,3)}\"\n",
    "      f\"\\nExecution time (s): {timedelta(seconds=end-start)}\")"
   ],
   "metadata": {
    "collapsed": false
   }
  },
  {
   "cell_type": "code",
   "execution_count": null,
   "outputs": [],
   "source": [
    "subplot_results(sub_x=3, sub_y=3, T=np.linspace(0, 1, 100), results=results_D_free)"
   ],
   "metadata": {
    "collapsed": false
   }
  },
  {
   "cell_type": "markdown",
   "source": [
    "---"
   ],
   "metadata": {
    "collapsed": false
   }
  },
  {
   "cell_type": "code",
   "execution_count": null,
   "outputs": [],
   "source": [
    "lamb_ridge=np.logspace(-5, 5, num=10)\n",
    "lamb_smooth=np.logspace(-5, 5, num=10)"
   ],
   "metadata": {
    "collapsed": false
   }
  },
  {
   "cell_type": "code",
   "execution_count": null,
   "outputs": [],
   "source": [
    "criteria_list_A, criteria_eff_list_A = run_grid_search(runs=5,\n",
    "                                                   n_x=n_x,\n",
    "                                                   scalars=scalars,\n",
    "                                                   optimality='A',\n",
    "                                                   J_cb=J_cb,\n",
    "                                                   R_0=R_0,\n",
    "                                                   epochs=100,\n",
    "                                                   lamb_ridge=lamb_ridge,\n",
    "                                                   lamb_smooth=lamb_smooth)"
   ],
   "metadata": {
    "collapsed": false
   }
  },
  {
   "cell_type": "code",
   "execution_count": null,
   "outputs": [],
   "source": [
    "criteria_list_D, criteria_eff_list_D = run_grid_search(runs=5,\n",
    "                                                       n_x=n_x,\n",
    "                                                       scalars=scalars,\n",
    "                                                       optimality='D',\n",
    "                                                       J_cb=J_cb,\n",
    "                                                       R_0=R_0,\n",
    "                                                       epochs=100,\n",
    "                                                       lamb_ridge=lamb_ridge,\n",
    "                                                       lamb_smooth=lamb_smooth)"
   ],
   "metadata": {
    "collapsed": false
   }
  },
  {
   "cell_type": "code",
   "execution_count": null,
   "outputs": [],
   "source": [
    "plot_3d(criteria_eff_list_A, lamb_ridge=lamb_ridge, lamb_smooth=lamb_smooth, name='A - Efficiency')"
   ],
   "metadata": {
    "collapsed": false
   }
  },
  {
   "cell_type": "code",
   "execution_count": null,
   "outputs": [],
   "source": [
    "plot_3d(criteria_eff_list_D, lamb_ridge=lamb_ridge, lamb_smooth=lamb_smooth, name='D - Efficiency')"
   ],
   "metadata": {
    "collapsed": false
   }
  },
  {
   "cell_type": "code",
   "execution_count": null,
   "outputs": [],
   "source": [
    "R_0"
   ],
   "metadata": {
    "collapsed": false
   }
  },
  {
   "cell_type": "markdown",
   "source": [
    "---"
   ],
   "metadata": {
    "collapsed": false
   }
  },
  {
   "cell_type": "code",
   "execution_count": null,
   "outputs": [],
   "source": [
    "plot_contour(criteria_eff_list_A, lamb_ridge, lamb_smooth, name='Efficiency')"
   ],
   "metadata": {
    "collapsed": false
   }
  },
  {
   "cell_type": "code",
   "execution_count": null,
   "outputs": [],
   "source": [
    "plot_contour(criteria_eff_list_D, lamb_ridge, lamb_smooth, name='Efficiency')"
   ],
   "metadata": {
    "collapsed": false
   }
  },
  {
   "cell_type": "markdown",
   "source": [
    "## Findings\n",
    "### For A optimality\n",
    "- We want to have small smooth_pen and large ridge_pen\n",
    "### For D optimality\n",
    "- We want to have large smooth_pen and large ridge_pen"
   ],
   "metadata": {
    "collapsed": false
   }
  },
  {
   "cell_type": "code",
   "execution_count": null,
   "outputs": [],
   "source": [
    "start = timer()\n",
    "results_A_free, _ = cordex_continuous(runs=5,\n",
    "                                     f_list=n_x,\n",
    "                                     scalars=scalars,\n",
    "                                     optimality='A',\n",
    "                                     J_cb=J_cb,\n",
    "                                     R_0=None,\n",
    "                                     smooth_pen=0,\n",
    "                                     ridge_pen=0,\n",
    "                                     epochs=epochs,)\n",
    "end = timer()\n",
    "\n",
    "best_cr_A_free = calc_cr('A', results_A_free, 5)\n",
    "print(f\"Optimality: {'A'}\"\n",
    "      f\"\\nBest criterion: {np.round(best_cr_A_free,3)}\"\n",
    "      f\"\\nExecution time (s): {timedelta(seconds=end-start)}\")"
   ],
   "metadata": {
    "collapsed": false
   }
  },
  {
   "cell_type": "code",
   "execution_count": null,
   "outputs": [],
   "source": [
    "start = timer()\n",
    "results_A_pen, _ = cordex_continuous(runs=5,\n",
    "                                      f_list=n_x,\n",
    "                                      scalars=scalars,\n",
    "                                      optimality='A',\n",
    "                                      J_cb=J_cb,\n",
    "                                      R_0=R_0,\n",
    "                                      smooth_pen=4e0,\n",
    "                                      ridge_pen=4e0,\n",
    "                                      epochs=epochs,)\n",
    "end = timer()\n",
    "\n",
    "best_cr_A_pen = calc_cr('A', results_A_pen, 5)\n",
    "print(f\"Optimality: {'A'}\"\n",
    "      f\"\\nBest criterion: {np.round(best_cr_A_pen,3)}\"\n",
    "      f\"\\nBest free crit: {np.round(best_cr_A_free,3)}\"\n",
    "      f\"\\nEfficiency prc: {np.round(np.exp(np.log(best_cr_A_free) - np.log(best_cr_A_pen)) * 100, 2)}\"\n",
    "      f\"\\nExecution time (s): {timedelta(seconds=end-start)}\")"
   ],
   "metadata": {
    "collapsed": false
   }
  },
  {
   "cell_type": "markdown",
   "source": [
    "## EXAMPLES WITH D-opt"
   ],
   "metadata": {
    "collapsed": false
   }
  },
  {
   "cell_type": "code",
   "execution_count": null,
   "outputs": [],
   "source": [
    "runs = 4\n",
    "epochs = 100\n",
    "n_x = [4]\n",
    "n_b = [2]\n",
    "scalars = 0\n",
    "J_cb = Jcb(*[calc_basis_matrix(x_basis=x, b_basis=b) for x, b in zip(n_x, n_b)])\n",
    "R_0 = R(*[calc_penalty_matrix(n_b=b) for b in n_b])"
   ],
   "metadata": {
    "collapsed": false
   }
  },
  {
   "cell_type": "code",
   "execution_count": null,
   "outputs": [],
   "source": [
    "start = timer()\n",
    "results_D_free, _ = cordex_continuous(runs=runs,\n",
    "                                     f_list=n_x,\n",
    "                                     scalars=scalars,\n",
    "                                     optimality='A',\n",
    "                                     J_cb=J_cb,\n",
    "                                     R_0=None,\n",
    "                                     smooth_pen=0,\n",
    "                                     ridge_pen=0,\n",
    "                                     epochs=100,\n",
    "                                      final_pass_iter=100)\n",
    "end = timer()\n",
    "print(_)\n",
    "best_cr_D_free = calc_cr('D', results_D_free, runs=runs)\n",
    "print(f\"Optimality: {'D'}\"\n",
    "      f\"\\nBest criterion: {np.round(best_cr_D_free,5)}\"\n",
    "      f\"\\nExecution time (s): {timedelta(seconds=end-start)}\")"
   ],
   "metadata": {
    "collapsed": false
   }
  },
  {
   "cell_type": "code",
   "execution_count": null,
   "outputs": [],
   "source": [
    "subplot_results(sub_x=2, sub_y=2, results=results_D_free, T=np.linspace(0, 1, 1000))"
   ],
   "metadata": {
    "collapsed": false
   }
  },
  {
   "cell_type": "code",
   "execution_count": 110,
   "outputs": [],
   "source": [
    "runs = 4\n",
    "n_x = [16]\n",
    "n_b = [20]\n",
    "scalars = 0\n",
    "optimality = 'D'\n",
    "J_cb = Jcb(*[calc_basis_matrix(x_basis=x, b_basis=b) for x, b in zip(n_x, n_b)])\n",
    "R_0 = R(*[calc_penalty_matrix(n_b=b) for b in n_b])\n",
    "smooth_pen = 0\n",
    "ridge_pen = 0.87"
   ],
   "metadata": {
    "collapsed": false
   }
  },
  {
   "cell_type": "code",
   "execution_count": 111,
   "outputs": [
    {
     "name": "stderr",
     "output_type": "stream",
     "text": [
      "100%|██████████| 100/100 [00:09<00:00, 10.04it/s]\n"
     ]
    },
    {
     "name": "stdout",
     "output_type": "stream",
     "text": [
      "0.3990144247418294\n",
      "Optimality: D\n",
      "Best criterion: 0.0\n",
      "Execution time (s): 0:00:13.453996\n"
     ]
    }
   ],
   "source": [
    "start = timer()\n",
    "results_D_pen, _ = cordex_continuous(runs=runs,\n",
    "                                      f_list=n_x,\n",
    "                                      scalars=scalars,\n",
    "                                      optimality=optimality,\n",
    "                                      J_cb=J_cb,\n",
    "                                      R_0=None,\n",
    "                                      smooth_pen=smooth_pen,\n",
    "                                      ridge_pen=ridge_pen,\n",
    "                                      epochs=100,\n",
    "                                      estimator='Bayes',\n",
    "                                      final_pass_iter=100)\n",
    "end = timer()\n",
    "print(_)\n",
    "best_cr_D_pen = calc_cr(optimality, results_D_pen, runs=runs)\n",
    "print(f\"Optimality: {optimality}\"\n",
    "      f\"\\nBest criterion: {best_cr_D_pen}\"\n",
    "      f\"\\nExecution time (s): {timedelta(seconds=end-start)}\")"
   ],
   "metadata": {
    "collapsed": false
   }
  },
  {
   "cell_type": "code",
   "execution_count": 104,
   "outputs": [
    {
     "data": {
      "text/plain": "1.5999964952270442"
     },
     "execution_count": 104,
     "metadata": {},
     "output_type": "execute_result"
    }
   ],
   "source": [
    "Z = np.concatenate((np.ones((runs,1)), results_D_pen @ J_cb), axis=1)\n",
    "M = Z.T @ Z + smooth_pen * R_0 + ridge_pen * np.eye(Z.shape[1])\n",
    "np.linalg.det(M)"
   ],
   "metadata": {
    "collapsed": false
   }
  },
  {
   "cell_type": "code",
   "execution_count": 112,
   "outputs": [
    {
     "data": {
      "text/plain": "<Figure size 400x400 with 4 Axes>",
      "image/png": "[encoded data removed]"
     },
     "metadata": {},
     "output_type": "display_data"
    }
   ],
   "source": [
    "subplot_results(sub_x=2, sub_y=2, results=results_D_pen, T=np.linspace(0, 1, 10000))"
   ],
   "metadata": {
    "collapsed": false
   }
  },
  {
   "cell_type": "markdown",
   "source": [
    "---"
   ],
   "metadata": {
    "collapsed": false
   }
  },
  {
   "cell_type": "markdown",
   "source": [
    "## Plots"
   ],
   "metadata": {
    "collapsed": false
   }
  },
  {
   "cell_type": "code",
   "execution_count": null,
   "outputs": [],
   "source": [
    "subplot_results(sub_x=2, sub_y=2, results=results_A_free, T=np.linspace(0, 1, 1000))"
   ],
   "metadata": {
    "collapsed": false
   }
  },
  {
   "cell_type": "code",
   "execution_count": null,
   "outputs": [],
   "source": [
    "subplot_results(sub_x=3, sub_y=2, results=results_A_pen, T=np.linspace(0, 1, 1000))"
   ],
   "metadata": {
    "collapsed": false
   }
  },
  {
   "cell_type": "code",
   "execution_count": null,
   "outputs": [],
   "source": [
    "subplot_results(sub_x=3, sub_y=2, results=results_D_free, T=np.linspace(0, 1, 1000))"
   ],
   "metadata": {
    "collapsed": false
   }
  },
  {
   "cell_type": "code",
   "execution_count": null,
   "outputs": [],
   "source": [
    "subplot_results(sub_x=3, sub_y=2, results=results_D_pen, T=np.linspace(0, 1, 1000))"
   ],
   "metadata": {
    "collapsed": false
   }
  },
  {
   "cell_type": "code",
   "execution_count": null,
   "outputs": [],
   "source": [
    "def mat_det(row, col):\n",
    "    X = np.random.rand(row, col)\n",
    "    Z = X.T @ X\n",
    "    if np.isclose(np.linalg.det(Z), 0):\n",
    "        return 0\n",
    "    return np.linalg.det(Z)"
   ],
   "metadata": {
    "collapsed": false
   }
  },
  {
   "cell_type": "code",
   "execution_count": null,
   "outputs": [],
   "source": [
    "def mat_det_ridge(row, col, lamb):\n",
    "    X = np.random.rand(row, col)\n",
    "    Z = X.T @ X + lamb*np.identity((X.T @ X).shape[1])\n",
    "    if np.isclose(np.linalg.det(Z), 0):\n",
    "        return 0\n",
    "    return np.linalg.det(Z)"
   ],
   "metadata": {
    "collapsed": false
   }
  },
  {
   "cell_type": "code",
   "execution_count": null,
   "outputs": [],
   "source": [
    "mat_det(30, 40)"
   ],
   "metadata": {
    "collapsed": false
   }
  },
  {
   "cell_type": "code",
   "execution_count": null,
   "outputs": [],
   "source": [
    "mat_det_ridge(30, 40, 1e-2)"
   ],
   "metadata": {
    "collapsed": false
   }
  },
  {
   "cell_type": "code",
   "execution_count": 113,
   "outputs": [
    {
     "data": {
      "text/plain": "array([[ 9, 12, 15],\n       [24, 33, 42],\n       [39, 54, 69]])"
     },
     "execution_count": 113,
     "metadata": {},
     "output_type": "execute_result"
    }
   ],
   "source": [
    "A = np.array([[1, 2], [4, 5], [7, 8]]) # 3x2\n",
    "B = np.array([[1, 2, 3], [4, 5, 6]]) # 2x3\n",
    "A@B"
   ],
   "metadata": {
    "collapsed": false
   }
  },
  {
   "cell_type": "code",
   "execution_count": 115,
   "outputs": [
    {
     "data": {
      "text/plain": "array([[ 9, 12, 15],\n       [24, 33, 42],\n       [39, 54, 69]])"
     },
     "execution_count": 115,
     "metadata": {},
     "output_type": "execute_result"
    }
   ],
   "source": [
    "(B.T @ A.T).T"
   ],
   "metadata": {
    "collapsed": false
   }
  },
  {
   "cell_type": "code",
   "execution_count": null,
   "outputs": [],
   "source": [],
   "metadata": {
    "collapsed": false
   }
  }
 ],
 "metadata": {
  "kernelspec": {
   "display_name": "Python 3",
   "language": "python",
   "name": "python3"
  },
  "language_info": {
   "codemirror_mode": {
    "name": "ipython",
    "version": 2
   },
   "file_extension": ".py",
   "mimetype": "text/x-python",
   "name": "python",
   "nbconvert_exporter": "python",
   "pygments_lexer": "ipython2",
   "version": "2.7.6"
  }
 },
 "nbformat": 4,
 "nbformat_minor": 0
}
