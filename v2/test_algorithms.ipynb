{
 "cells": [
  {
   "cell_type": "markdown",
   "source": [
    "## Libraries"
   ],
   "metadata": {
    "collapsed": false
   }
  },
  {
   "cell_type": "code",
   "execution_count": 1,
   "outputs": [],
   "source": [
    "import cProfile\n",
    "import pstats\n",
    "import numpy as np\n",
    "import pandas as pd\n",
    "from timeit import default_timer as timer\n",
    "from datetime import timedelta\n",
    "from matplotlib import pyplot as plt\n",
    "\n",
    "from smooth_output import smooth_fourier\n",
    "from Jcb import calc_basis_matrix\n",
    "from R import calc_penalty_matrix\n",
    "from cordex_discrete import cordex_discrete\n",
    "from cordex_continuous import cordex_continuous\n",
    "from cordex_continuous_v2 import cordex_continuous_v2\n",
    "from plot_fun import subplot_results\n",
    "from bayesian_continuous import bo_loop\n",
    "from Jcb import Jcb\n",
    "from R import R\n",
    "\n",
    "# %load_ext autotime"
   ],
   "metadata": {
    "collapsed": false
   }
  },
  {
   "cell_type": "markdown",
   "source": [
    "## Settings"
   ],
   "metadata": {
    "collapsed": false
   }
  },
  {
   "cell_type": "code",
   "execution_count": 2,
   "outputs": [],
   "source": [
    "runs = 4\n",
    "levels = np.linspace(-1,1,3).tolist()\n",
    "epochs = 1_000\n",
    "optimality = 'A'\n",
    "method = 'L-BFGS-B'\n",
    "n_x = [16]\n",
    "n_b = [2]\n",
    "scalars = 0\n",
    "J_cb = Jcb(*[calc_basis_matrix(x_basis=x, b_basis=b) for x, b in zip(n_x, n_b)])\n",
    "R_0 = R(*[calc_penalty_matrix(n_b=b) for b in n_b])"
   ],
   "metadata": {
    "collapsed": false
   }
  },
  {
   "cell_type": "markdown",
   "source": [
    "## Bayesian Optimization"
   ],
   "metadata": {
    "collapsed": false
   }
  },
  {
   "cell_type": "code",
   "execution_count": 4,
   "outputs": [
    {
     "name": "stderr",
     "output_type": "stream",
     "text": [
      "100%|██████████| 3/3 [00:00<00:00,  6.29it/s]\n",
      "  0%|          | 0/10 [00:00<?, ?it/s]\n"
     ]
    },
    {
     "ename": "TypeError",
     "evalue": "gen_batch_initial_conditions() got an unexpected keyword argument 'fixed_features_list'",
     "output_type": "error",
     "traceback": [
      "\u001B[0;31m---------------------------------------------------------------------------\u001B[0m",
      "\u001B[0;31mTypeError\u001B[0m                                 Traceback (most recent call last)",
      "Cell \u001B[0;32mIn[4], line 2\u001B[0m\n\u001B[1;32m      1\u001B[0m start \u001B[38;5;241m=\u001B[39m timer()\n\u001B[0;32m----> 2\u001B[0m results, best_cr, _ \u001B[38;5;241m=\u001B[39m \u001B[43mbo_loop\u001B[49m\u001B[43m(\u001B[49m\u001B[43mepochs\u001B[49m\u001B[38;5;241;43m=\u001B[39;49m\u001B[38;5;241;43m10\u001B[39;49m\u001B[43m,\u001B[49m\n\u001B[1;32m      3\u001B[0m \u001B[43m                              \u001B[49m\u001B[43mruns\u001B[49m\u001B[38;5;241;43m=\u001B[39;49m\u001B[43mruns\u001B[49m\u001B[43m,\u001B[49m\n\u001B[1;32m      4\u001B[0m \u001B[43m                              \u001B[49m\u001B[43mf_list\u001B[49m\u001B[38;5;241;43m=\u001B[39;49m\u001B[43mn_x\u001B[49m\u001B[43m,\u001B[49m\n\u001B[1;32m      5\u001B[0m \u001B[43m                              \u001B[49m\u001B[43mscalars\u001B[49m\u001B[38;5;241;43m=\u001B[39;49m\u001B[43mscalars\u001B[49m\u001B[43m,\u001B[49m\n\u001B[1;32m      6\u001B[0m \u001B[43m                              \u001B[49m\u001B[43moptimality\u001B[49m\u001B[38;5;241;43m=\u001B[39;49m\u001B[43moptimality\u001B[49m\u001B[43m,\u001B[49m\n\u001B[1;32m      7\u001B[0m \u001B[43m                              \u001B[49m\u001B[43minitialization_method\u001B[49m\u001B[38;5;241;43m=\u001B[39;49m\u001B[38;5;124;43m'\u001B[39;49m\u001B[38;5;124;43mL-BFGS-B\u001B[39;49m\u001B[38;5;124;43m'\u001B[39;49m\u001B[43m,\u001B[49m\n\u001B[1;32m      8\u001B[0m \u001B[43m                              \u001B[49m\u001B[43mJ_cb\u001B[49m\u001B[38;5;241;43m=\u001B[39;49m\u001B[43mJ_cb\u001B[49m\u001B[43m,\u001B[49m\n\u001B[1;32m      9\u001B[0m \u001B[43m                              \u001B[49m\u001B[43macq_f\u001B[49m\u001B[38;5;241;43m=\u001B[39;49m\u001B[38;5;124;43m'\u001B[39;49m\u001B[38;5;124;43mA-UCB\u001B[39;49m\u001B[38;5;124;43m'\u001B[39;49m\u001B[43m,\u001B[49m\n\u001B[1;32m     10\u001B[0m \u001B[43m                              \u001B[49m\u001B[43mbeta\u001B[49m\u001B[38;5;241;43m=\u001B[39;49m\u001B[38;5;241;43m0.1\u001B[39;49m\u001B[43m,\u001B[49m\n\u001B[1;32m     11\u001B[0m \u001B[43m                              \u001B[49m\u001B[43mdecay_rate\u001B[49m\u001B[38;5;241;43m=\u001B[39;49m\u001B[38;5;241;43m0.9\u001B[39;49m\u001B[43m)\u001B[49m\n\u001B[1;32m     12\u001B[0m end \u001B[38;5;241m=\u001B[39m timer()\n\u001B[1;32m     13\u001B[0m \u001B[38;5;28mprint\u001B[39m(\u001B[38;5;124mf\u001B[39m\u001B[38;5;124m\"\u001B[39m\u001B[38;5;124mBest criterion \u001B[39m\u001B[38;5;132;01m{\u001B[39;00mnp\u001B[38;5;241m.\u001B[39mround(best_cr,\u001B[38;5;241m3\u001B[39m)\u001B[38;5;132;01m}\u001B[39;00m\u001B[38;5;124m for optimality \u001B[39m\u001B[38;5;132;01m{\u001B[39;00moptimality\u001B[38;5;132;01m}\u001B[39;00m\u001B[38;5;124m. Execution time (s): \u001B[39m\u001B[38;5;132;01m{\u001B[39;00mtimedelta(seconds\u001B[38;5;241m=\u001B[39mend\u001B[38;5;241m-\u001B[39mstart)\u001B[38;5;132;01m}\u001B[39;00m\u001B[38;5;124m\"\u001B[39m)\n",
      "File \u001B[0;32m~/Documents/code/optidex/v2/bayesian_continuous.py:228\u001B[0m, in \u001B[0;36mbo_loop\u001B[0;34m(epochs, runs, f_list, scalars, optimality, J_cb, R_0, smooth_pen, ridge_pen, estimator, final_pass, n_exp, acq_f, initialization_method, inequality_constraint, beta, decay_rate)\u001B[0m\n\u001B[1;32m    226\u001B[0m epochs_list \u001B[38;5;241m=\u001B[39m [[\u001B[38;5;241m-\u001B[39m\u001B[38;5;241m1\u001B[39m, best_y_init, X_init]]\n\u001B[1;32m    227\u001B[0m \u001B[38;5;28;01mfor\u001B[39;00m epoch \u001B[38;5;129;01min\u001B[39;00m tqdm(\u001B[38;5;28mrange\u001B[39m(epochs)):\n\u001B[0;32m--> 228\u001B[0m     new_candidates \u001B[38;5;241m=\u001B[39m \u001B[43mgen_next_point\u001B[49m\u001B[43m(\u001B[49m\u001B[43mX\u001B[49m\u001B[38;5;241;43m=\u001B[39;49m\u001B[43mX_init\u001B[49m\u001B[43m,\u001B[49m\u001B[43m \u001B[49m\u001B[43my\u001B[49m\u001B[38;5;241;43m=\u001B[39;49m\u001B[43my_init\u001B[49m\u001B[43m,\u001B[49m\u001B[43m \u001B[49m\u001B[43mbest_y\u001B[49m\u001B[38;5;241;43m=\u001B[39;49m\u001B[43mbest_y_init\u001B[49m\u001B[43m,\u001B[49m\u001B[43m \u001B[49m\u001B[43mn_exp\u001B[49m\u001B[38;5;241;43m=\u001B[39;49m\u001B[43mn_exp\u001B[49m\u001B[43m,\u001B[49m\u001B[43m \u001B[49m\u001B[43macq_f\u001B[49m\u001B[38;5;241;43m=\u001B[39;49m\u001B[43macq_f\u001B[49m\u001B[43m,\u001B[49m\n\u001B[1;32m    229\u001B[0m \u001B[43m                                    \u001B[49m\u001B[43minequality_constraints\u001B[49m\u001B[38;5;241;43m=\u001B[39;49m\u001B[43minequality_constraint\u001B[49m\u001B[43m,\u001B[49m\u001B[43m \u001B[49m\u001B[43mbeta\u001B[49m\u001B[38;5;241;43m=\u001B[39;49m\u001B[43mbeta\u001B[49m\u001B[43m,\u001B[49m\n\u001B[1;32m    230\u001B[0m \u001B[43m                                    \u001B[49m\u001B[43mdecay_rate\u001B[49m\u001B[38;5;241;43m=\u001B[39;49m\u001B[43mdecay_rate\u001B[49m\u001B[43m,\u001B[49m\u001B[43m \u001B[49m\u001B[43mepoch\u001B[49m\u001B[38;5;241;43m=\u001B[39;49m\u001B[43mepoch\u001B[49m\u001B[43m)\u001B[49m\n\u001B[1;32m    231\u001B[0m     \u001B[38;5;66;03m# try:\u001B[39;00m\n\u001B[1;32m    232\u001B[0m     \u001B[38;5;66;03m#     new_candidates = gen_next_point(X=X_init, y=y_init, best_y=best_y_init, n_exp=n_exp, acq_f=acq_f,\u001B[39;00m\n\u001B[1;32m    233\u001B[0m     \u001B[38;5;66;03m#                                     inequality_constraints=inequality_constraint, beta=beta,\u001B[39;00m\n\u001B[0;32m   (...)\u001B[0m\n\u001B[1;32m    238\u001B[0m     \u001B[38;5;66;03m#     y_init = y_init[:-1, :]\u001B[39;00m\n\u001B[1;32m    239\u001B[0m     \u001B[38;5;66;03m#     continue\u001B[39;00m\n\u001B[1;32m    240\u001B[0m     new_results \u001B[38;5;241m=\u001B[39m objective(X\u001B[38;5;241m=\u001B[39mnew_candidates, optimality\u001B[38;5;241m=\u001B[39moptimality)\n",
      "File \u001B[0;32m~/Documents/code/optidex/v2/bayesian_continuous.py:63\u001B[0m, in \u001B[0;36mgen_next_point\u001B[0;34m(X, y, best_y, n_exp, acq_f, inequality_constraints, beta, decay_rate, epoch)\u001B[0m\n\u001B[1;32m     59\u001B[0m \u001B[38;5;28;01melse\u001B[39;00m:\n\u001B[1;32m     60\u001B[0m     \u001B[38;5;28;01mraise\u001B[39;00m \u001B[38;5;167;01mValueError\u001B[39;00m(\u001B[38;5;124mf\u001B[39m\u001B[38;5;124m\"\u001B[39m\u001B[38;5;124mInvalid acquisition function \u001B[39m\u001B[38;5;132;01m{\u001B[39;00macq_f\u001B[38;5;132;01m}\u001B[39;00m\u001B[38;5;124m. \u001B[39m\u001B[38;5;124m\"\u001B[39m\n\u001B[1;32m     61\u001B[0m                      \u001B[38;5;124m\"\u001B[39m\u001B[38;5;124macq_f should be one of \u001B[39m\u001B[38;5;124m'\u001B[39m\u001B[38;5;124mEI\u001B[39m\u001B[38;5;124m'\u001B[39m\u001B[38;5;124m, \u001B[39m\u001B[38;5;124m'\u001B[39m\u001B[38;5;124mPI\u001B[39m\u001B[38;5;124m'\u001B[39m\u001B[38;5;124m, or \u001B[39m\u001B[38;5;124m'\u001B[39m\u001B[38;5;124mUCB\u001B[39m\u001B[38;5;124m'\u001B[39m\u001B[38;5;124m.\u001B[39m\u001B[38;5;124m\"\u001B[39m)\n\u001B[0;32m---> 63\u001B[0m candidates, _ \u001B[38;5;241m=\u001B[39m \u001B[43moptimize_acqf\u001B[49m\u001B[43m(\u001B[49m\u001B[43macq_function\u001B[49m\u001B[38;5;241;43m=\u001B[39;49m\u001B[43macq_f\u001B[49m\u001B[43m,\u001B[49m\n\u001B[1;32m     64\u001B[0m \u001B[43m                              \u001B[49m\u001B[43mbounds\u001B[49m\u001B[38;5;241;43m=\u001B[39;49m\u001B[43mbounds\u001B[49m\u001B[43m,\u001B[49m\n\u001B[1;32m     65\u001B[0m \u001B[43m                              \u001B[49m\u001B[43mq\u001B[49m\u001B[38;5;241;43m=\u001B[39;49m\u001B[43mn_exp\u001B[49m\u001B[43m,\u001B[49m\n\u001B[1;32m     66\u001B[0m \u001B[43m                              \u001B[49m\u001B[43mfixed_features_list\u001B[49m\u001B[38;5;241;43m=\u001B[39;49m\u001B[43m[\u001B[49m\u001B[43m]\u001B[49m\u001B[43m,\u001B[49m\n\u001B[1;32m     67\u001B[0m \u001B[43m                              \u001B[49m\u001B[43mnum_restarts\u001B[49m\u001B[38;5;241;43m=\u001B[39;49m\u001B[38;5;241;43m100\u001B[39;49m\u001B[43m,\u001B[49m\n\u001B[1;32m     68\u001B[0m \u001B[43m                              \u001B[49m\u001B[43mraw_samples\u001B[49m\u001B[38;5;241;43m=\u001B[39;49m\u001B[38;5;241;43m512\u001B[39;49m\u001B[43m,\u001B[49m\n\u001B[1;32m     69\u001B[0m \u001B[43m                              \u001B[49m\u001B[43moptions\u001B[49m\u001B[38;5;241;43m=\u001B[39;49m\u001B[43m{\u001B[49m\u001B[38;5;124;43m\"\u001B[39;49m\u001B[38;5;124;43mbatch_limit\u001B[39;49m\u001B[38;5;124;43m\"\u001B[39;49m\u001B[43m:\u001B[49m\u001B[43m \u001B[49m\u001B[38;5;241;43m5\u001B[39;49m\u001B[43m,\u001B[49m\u001B[43m \u001B[49m\u001B[38;5;124;43m\"\u001B[39;49m\u001B[38;5;124;43mmaxiter\u001B[39;49m\u001B[38;5;124;43m\"\u001B[39;49m\u001B[43m:\u001B[49m\u001B[43m \u001B[49m\u001B[38;5;241;43m200\u001B[39;49m\u001B[43m}\u001B[49m\u001B[43m,\u001B[49m\n\u001B[1;32m     70\u001B[0m \u001B[43m                              \u001B[49m\u001B[43minequality_constraints\u001B[49m\u001B[38;5;241;43m=\u001B[39;49m\u001B[43minequality_constraints\u001B[49m\u001B[43m)\u001B[49m\n\u001B[1;32m     71\u001B[0m \u001B[38;5;28;01mreturn\u001B[39;00m candidates\n",
      "File \u001B[0;32m~/miniforge3/envs/optidex/lib/python3.10/site-packages/botorch/optim/optimize.py:238\u001B[0m, in \u001B[0;36moptimize_acqf\u001B[0;34m(acq_function, bounds, q, num_restarts, raw_samples, options, inequality_constraints, equality_constraints, nonlinear_inequality_constraints, fixed_features, post_processing_func, batch_initial_conditions, return_best_only, sequential, **kwargs)\u001B[0m\n\u001B[1;32m    234\u001B[0m     \u001B[38;5;28;01mreturn\u001B[39;00m X, acq_value\n\u001B[1;32m    236\u001B[0m \u001B[38;5;28;01mif\u001B[39;00m \u001B[38;5;129;01mnot\u001B[39;00m initial_conditions_provided:\n\u001B[0;32m--> 238\u001B[0m     batch_initial_conditions \u001B[38;5;241m=\u001B[39m \u001B[43mic_gen\u001B[49m\u001B[43m(\u001B[49m\n\u001B[1;32m    239\u001B[0m \u001B[43m        \u001B[49m\u001B[43macq_function\u001B[49m\u001B[38;5;241;43m=\u001B[39;49m\u001B[43macq_function\u001B[49m\u001B[43m,\u001B[49m\n\u001B[1;32m    240\u001B[0m \u001B[43m        \u001B[49m\u001B[43mbounds\u001B[49m\u001B[38;5;241;43m=\u001B[39;49m\u001B[43mbounds\u001B[49m\u001B[43m,\u001B[49m\n\u001B[1;32m    241\u001B[0m \u001B[43m        \u001B[49m\u001B[43mq\u001B[49m\u001B[38;5;241;43m=\u001B[39;49m\u001B[43mq\u001B[49m\u001B[43m,\u001B[49m\n\u001B[1;32m    242\u001B[0m \u001B[43m        \u001B[49m\u001B[43mnum_restarts\u001B[49m\u001B[38;5;241;43m=\u001B[39;49m\u001B[43mnum_restarts\u001B[49m\u001B[43m,\u001B[49m\n\u001B[1;32m    243\u001B[0m \u001B[43m        \u001B[49m\u001B[43mraw_samples\u001B[49m\u001B[38;5;241;43m=\u001B[39;49m\u001B[43mraw_samples\u001B[49m\u001B[43m,\u001B[49m\n\u001B[1;32m    244\u001B[0m \u001B[43m        \u001B[49m\u001B[43mfixed_features\u001B[49m\u001B[38;5;241;43m=\u001B[39;49m\u001B[43mfixed_features\u001B[49m\u001B[43m,\u001B[49m\n\u001B[1;32m    245\u001B[0m \u001B[43m        \u001B[49m\u001B[43moptions\u001B[49m\u001B[38;5;241;43m=\u001B[39;49m\u001B[43moptions\u001B[49m\u001B[43m,\u001B[49m\n\u001B[1;32m    246\u001B[0m \u001B[43m        \u001B[49m\u001B[43minequality_constraints\u001B[49m\u001B[38;5;241;43m=\u001B[39;49m\u001B[43minequality_constraints\u001B[49m\u001B[43m,\u001B[49m\n\u001B[1;32m    247\u001B[0m \u001B[43m        \u001B[49m\u001B[43mequality_constraints\u001B[49m\u001B[38;5;241;43m=\u001B[39;49m\u001B[43mequality_constraints\u001B[49m\u001B[43m,\u001B[49m\n\u001B[1;32m    248\u001B[0m \u001B[43m        \u001B[49m\u001B[38;5;241;43m*\u001B[39;49m\u001B[38;5;241;43m*\u001B[39;49m\u001B[43mkwargs\u001B[49m\u001B[43m,\u001B[49m\n\u001B[1;32m    249\u001B[0m \u001B[43m    \u001B[49m\u001B[43m)\u001B[49m\n\u001B[1;32m    251\u001B[0m batch_limit: \u001B[38;5;28mint\u001B[39m \u001B[38;5;241m=\u001B[39m options\u001B[38;5;241m.\u001B[39mget(\n\u001B[1;32m    252\u001B[0m     \u001B[38;5;124m\"\u001B[39m\u001B[38;5;124mbatch_limit\u001B[39m\u001B[38;5;124m\"\u001B[39m, num_restarts \u001B[38;5;28;01mif\u001B[39;00m \u001B[38;5;129;01mnot\u001B[39;00m nonlinear_inequality_constraints \u001B[38;5;28;01melse\u001B[39;00m \u001B[38;5;241m1\u001B[39m\n\u001B[1;32m    253\u001B[0m )\n\u001B[1;32m    255\u001B[0m \u001B[38;5;28;01mdef\u001B[39;00m \u001B[38;5;21m_optimize_batch_candidates\u001B[39m() \u001B[38;5;241m-\u001B[39m\u001B[38;5;241m>\u001B[39m Tuple[Tensor, Tensor, List[\u001B[38;5;167;01mWarning\u001B[39;00m]]:\n",
      "\u001B[0;31mTypeError\u001B[0m: gen_batch_initial_conditions() got an unexpected keyword argument 'fixed_features_list'"
     ]
    }
   ],
   "source": [
    "start = timer()\n",
    "results, best_cr, _ = bo_loop(epochs=10,\n",
    "                              runs=runs,\n",
    "                              f_list=n_x,\n",
    "                              scalars=scalars,\n",
    "                              optimality=optimality,\n",
    "                              initialization_method='L-BFGS-B',\n",
    "                              J_cb=J_cb,\n",
    "                              acq_f='A-UCB',\n",
    "                              beta=0.1,\n",
    "                              decay_rate=0.9)\n",
    "end = timer()\n",
    "print(f\"Best criterion {np.round(best_cr,3)} for optimality {optimality}. Execution time (s): {timedelta(seconds=end-start)}\")"
   ],
   "metadata": {
    "collapsed": false
   }
  },
  {
   "cell_type": "code",
   "execution_count": 10,
   "outputs": [
    {
     "data": {
      "text/plain": "<Figure size 400x400 with 4 Axes>",
      "image/png": "[encoded data removed]"
     },
     "metadata": {},
     "output_type": "display_data"
    }
   ],
   "source": [
    "subplot_results(sub_x=2, sub_y=2, T=np.linspace(0, 1, 1000), results=results)"
   ],
   "metadata": {
    "collapsed": false
   }
  },
  {
   "cell_type": "markdown",
   "source": [
    "## Discrete Version"
   ],
   "metadata": {
    "collapsed": false
   }
  },
  {
   "cell_type": "code",
   "execution_count": 45,
   "outputs": [
    {
     "name": "stderr",
     "output_type": "stream",
     "text": [
      "100%|██████████| 1000/1000 [01:43<00:00,  9.63it/s]"
     ]
    },
    {
     "name": "stdout",
     "output_type": "stream",
     "text": [
      "Optimality: A\n",
      "Best criterion: 8.624\n",
      "Execution time (s): 0:01:43.868950\n"
     ]
    },
    {
     "name": "stderr",
     "output_type": "stream",
     "text": [
      "\n"
     ]
    }
   ],
   "source": [
    "start = timer()\n",
    "results, best_cr = cordex_discrete(runs=runs,\n",
    "                                   f_list=n_x,\n",
    "                                   scalars=scalars,\n",
    "                                   levels=levels,\n",
    "                                   epochs=1000,\n",
    "                                   J_cb=J_cb,\n",
    "                                   optimality='A',)\n",
    "end = timer()\n",
    "print(f\"Optimality: {optimality}\"\n",
    "      f\"\\nBest criterion: {np.round(best_cr,3)}\"\n",
    "      f\"\\nExecution time (s): {timedelta(seconds=end-start)}\")"
   ],
   "metadata": {
    "collapsed": false
   }
  },
  {
   "cell_type": "code",
   "execution_count": 46,
   "outputs": [
    {
     "data": {
      "text/plain": "8.62388360781054"
     },
     "execution_count": 46,
     "metadata": {},
     "output_type": "execute_result"
    }
   ],
   "source": [
    "Z = np.concatenate((np.ones((runs,1)), results[:, :sum(n_x)] @ J_cb, results[:, sum(n_x):]), axis=1)\n",
    "np.trace(np.linalg.inv(Z.T @ Z))"
   ],
   "metadata": {
    "collapsed": false
   }
  },
  {
   "cell_type": "code",
   "execution_count": 47,
   "outputs": [
    {
     "data": {
      "text/plain": "<Figure size 400x400 with 4 Axes>",
      "image/png": "[encoded data removed]"
     },
     "metadata": {},
     "output_type": "display_data"
    }
   ],
   "source": [
    "subplot_results(sub_x=2, sub_y=2, T=np.linspace(0, 1, 1000), results=results[:, :n_x[0]])"
   ],
   "metadata": {
    "collapsed": false
   }
  },
  {
   "cell_type": "markdown",
   "source": [
    "## Continuous Version"
   ],
   "metadata": {
    "collapsed": false
   }
  },
  {
   "cell_type": "code",
   "execution_count": null,
   "outputs": [],
   "source": [
    " # Nelder-Mead, L-BFGS-B, Powell, TNC\n",
    "# with cProfile.Profile() as profile:\n",
    "#     start = timer()\n",
    "#     results, best_cr = cordex_continuous(runs=runs,\n",
    "#                                          f_list=n_x,\n",
    "#                                          scalars=scalars,\n",
    "#                                          J_cb=J_cb,\n",
    "#                                          R_0=None,\n",
    "#                                          epochs=1000,\n",
    "#                                          method='L-BFGS-B',\n",
    "#                                          optimality=optimality,\n",
    "#                                          random_start=False,\n",
    "#                                          disable_bar=True,\n",
    "#                                          penalty=0,\n",
    "#                                          final_pass=False)\n",
    "#     end = timer()\n",
    "#     print(f\"Optimality: {optimality}\"\n",
    "#           f\"\\nBest criterion: {np.round(best_cr,3)}\"\n",
    "#           f\"\\nExecution time (s): {timedelta(seconds=end-start)}\")\n",
    "#     presults = pstats.Stats(profile).sort_stats(pstats.SortKey.TIME)\n",
    "#     presults.dump_stats('cordex_continuous.prof')\n",
    "\n",
    "# Nelder-Mead: 2:10 - 8.455\n",
    "# L-BFGS-B: 1:44 - 8.44\n",
    "# Powell: 3:41 - 8.43\n",
    "# TNC: 2:08 - 8.43\n",
    "# ~220"
   ],
   "metadata": {
    "collapsed": false
   }
  },
  {
   "cell_type": "code",
   "execution_count": 12,
   "outputs": [
    {
     "name": "stderr",
     "output_type": "stream",
     "text": [
      "100%|██████████| 3/3 [00:02<00:00,  1.03it/s]\n"
     ]
    },
    {
     "name": "stdout",
     "output_type": "stream",
     "text": [
      "Optimality: A\n",
      "Best criterion: 8.412\n",
      "Execution time (s): 0:00:04.615802\n"
     ]
    }
   ],
   "source": [
    "start = timer()\n",
    "results, best_cr = cordex_continuous(runs=runs,\n",
    "                                     f_list=n_x,\n",
    "                                     scalars=scalars,\n",
    "                                     optimality='A',\n",
    "                                     J_cb=J_cb,\n",
    "                                     R_0=None,\n",
    "                                     smooth_pen=0,\n",
    "                                     ridge_pen=0,\n",
    "                                     epochs=3,\n",
    "                                     method='L-BFGS-B',\n",
    "                                     random_start=False,\n",
    "                                     final_pass=True,\n",
    "                                     final_pass_iter=10)\n",
    "end = timer()\n",
    "print(f\"Optimality: {optimality}\"\n",
    "      f\"\\nBest criterion: {np.round(best_cr,3)}\"\n",
    "      f\"\\nExecution time (s): {timedelta(seconds=end-start)}\")"
   ],
   "metadata": {
    "collapsed": false
   }
  },
  {
   "cell_type": "code",
   "execution_count": 63,
   "outputs": [
    {
     "data": {
      "text/plain": "8.408722138113417"
     },
     "execution_count": 63,
     "metadata": {},
     "output_type": "execute_result"
    }
   ],
   "source": [
    "Z = np.hstack((np.ones((runs,1)), results @ J_cb))\n",
    "M = Z.T @ Z\n",
    "np.trace(np.linalg.inv(M))"
   ],
   "metadata": {
    "collapsed": false
   }
  },
  {
   "cell_type": "code",
   "execution_count": 13,
   "outputs": [
    {
     "data": {
      "text/plain": "<Figure size 400x400 with 4 Axes>",
      "image/png": "[encoded data removed]"
     },
     "metadata": {},
     "output_type": "display_data"
    }
   ],
   "source": [
    "subplot_results(sub_x=2, sub_y=2, T=np.linspace(0, 1, 1000), results=results, size=35, save=False)"
   ],
   "metadata": {
    "collapsed": false
   }
  },
  {
   "cell_type": "code",
   "execution_count": 62,
   "outputs": [
    {
     "data": {
      "text/plain": "0.37832781772235596"
     },
     "execution_count": 62,
     "metadata": {},
     "output_type": "execute_result"
    }
   ],
   "source": [
    "Z = np.hstack((np.ones((runs,1)),results @ J_cb))\n",
    "M = Z.T @ Z\n",
    "np.linalg.det(M)"
   ],
   "metadata": {
    "collapsed": false
   }
  },
  {
   "cell_type": "markdown",
   "source": [
    "## Comparissons with Literature"
   ],
   "metadata": {
    "collapsed": false
   }
  },
  {
   "cell_type": "code",
   "execution_count": 3,
   "outputs": [],
   "source": [
    "literature = np.array([\n",
    "    [2, 2, 4, 8.750],\n",
    "    [2, 3, 4, 8.828],\n",
    "    [2, 4, 4, 8.750],\n",
    "    [2, 8, 4, 8.493],\n",
    "    [2, 16, 4, 8.427],\n",
    "    [2, 100, 4, 8.404],\n",
    "    [2, 2, 8, 3.958],\n",
    "    [2, 3, 8, 4.287],\n",
    "    [2, 4, 8, 3.903],\n",
    "    [2, 8, 8, 3.902],\n",
    "    [2, 16, 8, 3.887],\n",
    "    [2, 100, 8, 3.882],\n",
    "    [2, 2, 12, 2.583],\n",
    "    [2, 3, 12, 2.778],\n",
    "    [2, 4, 12, 2.570],\n",
    "    [2, 8, 12, 2.539],\n",
    "    [2, 16, 12, 2.520],\n",
    "    [2, 100, 12, 2.512],\n",
    "    [3, 3, 4, 386.408],\n",
    "    [3, 4, 4, 246.869],\n",
    "    [3, 8, 4, 218.479],\n",
    "    [3, 16, 4, 208.843],\n",
    "    [3, 100, 4, 206.884],\n",
    "    [3, 3, 8, 189.766],\n",
    "    [3, 4, 8, 103.553],\n",
    "    [3, 8, 8, 99.109],\n",
    "    [3, 16, 8, 97.408],\n",
    "    [3, 100, 8, 96.709],\n",
    "    [3, 3, 12, 126.409],\n",
    "    [3, 4, 12, 67.735],\n",
    "    [3, 8, 12, 65.217],\n",
    "    [3, 16, 12, 63.610],\n",
    "    [3, 100, 12, 63.028],\n",
    "\n",
    "])"
   ],
   "metadata": {
    "collapsed": false
   }
  },
  {
   "cell_type": "code",
   "execution_count": 4,
   "outputs": [
    {
     "name": "stderr",
     "output_type": "stream",
     "text": [
      "100%|██████████| 1000/1000 [00:16<00:00, 60.78it/s]\n"
     ]
    },
    {
     "name": "stdout",
     "output_type": "stream",
     "text": [
      "Executing final pass...\n"
     ]
    },
    {
     "name": "stderr",
     "output_type": "stream",
     "text": [
      "100%|██████████| 1000/1000 [00:24<00:00, 41.22it/s]\n"
     ]
    },
    {
     "name": "stdout",
     "output_type": "stream",
     "text": [
      "Executing final pass...\n"
     ]
    },
    {
     "name": "stderr",
     "output_type": "stream",
     "text": [
      "100%|██████████| 1000/1000 [00:33<00:00, 30.19it/s]\n"
     ]
    },
    {
     "name": "stdout",
     "output_type": "stream",
     "text": [
      "Executing final pass...\n"
     ]
    },
    {
     "name": "stderr",
     "output_type": "stream",
     "text": [
      "100%|██████████| 1000/1000 [01:25<00:00, 11.69it/s]\n"
     ]
    },
    {
     "name": "stdout",
     "output_type": "stream",
     "text": [
      "Executing final pass...\n"
     ]
    },
    {
     "name": "stderr",
     "output_type": "stream",
     "text": [
      "100%|██████████| 1000/1000 [02:14<00:00,  7.41it/s]\n"
     ]
    },
    {
     "name": "stdout",
     "output_type": "stream",
     "text": [
      "Executing final pass...\n"
     ]
    },
    {
     "name": "stderr",
     "output_type": "stream",
     "text": [
      "100%|██████████| 1000/1000 [11:50<00:00,  1.41it/s]\n"
     ]
    },
    {
     "name": "stdout",
     "output_type": "stream",
     "text": [
      "Executing final pass...\n"
     ]
    },
    {
     "name": "stderr",
     "output_type": "stream",
     "text": [
      "100%|██████████| 1000/1000 [00:30<00:00, 32.77it/s]\n"
     ]
    },
    {
     "name": "stdout",
     "output_type": "stream",
     "text": [
      "Executing final pass...\n"
     ]
    },
    {
     "name": "stderr",
     "output_type": "stream",
     "text": [
      "100%|██████████| 1000/1000 [00:46<00:00, 21.63it/s]\n"
     ]
    },
    {
     "name": "stdout",
     "output_type": "stream",
     "text": [
      "Executing final pass...\n"
     ]
    },
    {
     "name": "stderr",
     "output_type": "stream",
     "text": [
      "100%|██████████| 1000/1000 [01:02<00:00, 16.11it/s]\n"
     ]
    },
    {
     "name": "stdout",
     "output_type": "stream",
     "text": [
      "Executing final pass...\n"
     ]
    },
    {
     "name": "stderr",
     "output_type": "stream",
     "text": [
      "100%|██████████| 1000/1000 [02:11<00:00,  7.60it/s]\n"
     ]
    },
    {
     "name": "stdout",
     "output_type": "stream",
     "text": [
      "Executing final pass...\n"
     ]
    },
    {
     "name": "stderr",
     "output_type": "stream",
     "text": [
      "100%|██████████| 1000/1000 [04:07<00:00,  4.05it/s]\n"
     ]
    },
    {
     "name": "stdout",
     "output_type": "stream",
     "text": [
      "Executing final pass...\n"
     ]
    },
    {
     "name": "stderr",
     "output_type": "stream",
     "text": [
      "100%|██████████| 1000/1000 [19:26<00:00,  1.17s/it]\n"
     ]
    },
    {
     "name": "stdout",
     "output_type": "stream",
     "text": [
      "Executing final pass...\n"
     ]
    },
    {
     "name": "stderr",
     "output_type": "stream",
     "text": [
      "100%|██████████| 1000/1000 [00:48<00:00, 20.45it/s]\n"
     ]
    },
    {
     "name": "stdout",
     "output_type": "stream",
     "text": [
      "Executing final pass...\n"
     ]
    },
    {
     "name": "stderr",
     "output_type": "stream",
     "text": [
      "100%|██████████| 1000/1000 [01:26<00:00, 11.58it/s]\n"
     ]
    },
    {
     "name": "stdout",
     "output_type": "stream",
     "text": [
      "Executing final pass...\n"
     ]
    },
    {
     "name": "stderr",
     "output_type": "stream",
     "text": [
      "100%|██████████| 1000/1000 [01:59<00:00,  8.39it/s]\n"
     ]
    },
    {
     "name": "stdout",
     "output_type": "stream",
     "text": [
      "Executing final pass...\n"
     ]
    },
    {
     "name": "stderr",
     "output_type": "stream",
     "text": [
      "100%|██████████| 1000/1000 [03:39<00:00,  4.55it/s]\n"
     ]
    },
    {
     "name": "stdout",
     "output_type": "stream",
     "text": [
      "Executing final pass...\n"
     ]
    },
    {
     "name": "stderr",
     "output_type": "stream",
     "text": [
      "100%|██████████| 1000/1000 [07:19<00:00,  2.28it/s]\n"
     ]
    },
    {
     "name": "stdout",
     "output_type": "stream",
     "text": [
      "Executing final pass...\n"
     ]
    },
    {
     "name": "stderr",
     "output_type": "stream",
     "text": [
      "100%|██████████| 1000/1000 [44:09<00:00,  2.65s/it]\n"
     ]
    },
    {
     "name": "stdout",
     "output_type": "stream",
     "text": [
      "Executing final pass...\n"
     ]
    },
    {
     "name": "stderr",
     "output_type": "stream",
     "text": [
      "100%|██████████| 1000/1000 [00:43<00:00, 22.97it/s]\n"
     ]
    },
    {
     "name": "stdout",
     "output_type": "stream",
     "text": [
      "Executing final pass...\n"
     ]
    },
    {
     "name": "stderr",
     "output_type": "stream",
     "text": [
      "100%|██████████| 1000/1000 [00:48<00:00, 20.54it/s]\n"
     ]
    },
    {
     "name": "stdout",
     "output_type": "stream",
     "text": [
      "Executing final pass...\n"
     ]
    },
    {
     "name": "stderr",
     "output_type": "stream",
     "text": [
      "100%|██████████| 1000/1000 [01:34<00:00, 10.55it/s]\n"
     ]
    },
    {
     "name": "stdout",
     "output_type": "stream",
     "text": [
      "Executing final pass...\n"
     ]
    },
    {
     "name": "stderr",
     "output_type": "stream",
     "text": [
      "100%|██████████| 1000/1000 [03:06<00:00,  5.35it/s]\n"
     ]
    },
    {
     "name": "stdout",
     "output_type": "stream",
     "text": [
      "Executing final pass...\n"
     ]
    },
    {
     "name": "stderr",
     "output_type": "stream",
     "text": [
      "100%|██████████| 1000/1000 [17:53<00:00,  1.07s/it]\n"
     ]
    },
    {
     "name": "stdout",
     "output_type": "stream",
     "text": [
      "Executing final pass...\n"
     ]
    },
    {
     "name": "stderr",
     "output_type": "stream",
     "text": [
      "100%|██████████| 1000/1000 [01:13<00:00, 13.60it/s]\n"
     ]
    },
    {
     "name": "stdout",
     "output_type": "stream",
     "text": [
      "Executing final pass...\n"
     ]
    },
    {
     "name": "stderr",
     "output_type": "stream",
     "text": [
      "100%|██████████| 1000/1000 [01:22<00:00, 12.06it/s]\n"
     ]
    },
    {
     "name": "stdout",
     "output_type": "stream",
     "text": [
      "Executing final pass...\n"
     ]
    },
    {
     "name": "stderr",
     "output_type": "stream",
     "text": [
      "100%|██████████| 1000/1000 [02:59<00:00,  5.58it/s]\n"
     ]
    },
    {
     "name": "stdout",
     "output_type": "stream",
     "text": [
      "Executing final pass...\n"
     ]
    },
    {
     "name": "stderr",
     "output_type": "stream",
     "text": [
      "100%|██████████| 1000/1000 [05:19<00:00,  3.13it/s]\n"
     ]
    },
    {
     "name": "stdout",
     "output_type": "stream",
     "text": [
      "Executing final pass...\n"
     ]
    },
    {
     "name": "stderr",
     "output_type": "stream",
     "text": [
      "100%|██████████| 1000/1000 [31:10<00:00,  1.87s/it]\n"
     ]
    },
    {
     "name": "stdout",
     "output_type": "stream",
     "text": [
      "Executing final pass...\n"
     ]
    },
    {
     "name": "stderr",
     "output_type": "stream",
     "text": [
      "100%|██████████| 1000/1000 [01:44<00:00,  9.61it/s]\n"
     ]
    },
    {
     "name": "stdout",
     "output_type": "stream",
     "text": [
      "Executing final pass...\n"
     ]
    },
    {
     "name": "stderr",
     "output_type": "stream",
     "text": [
      "100%|██████████| 1000/1000 [02:12<00:00,  7.54it/s]\n"
     ]
    },
    {
     "name": "stdout",
     "output_type": "stream",
     "text": [
      "Executing final pass...\n"
     ]
    },
    {
     "name": "stderr",
     "output_type": "stream",
     "text": [
      "100%|██████████| 1000/1000 [03:54<00:00,  4.26it/s]\n"
     ]
    },
    {
     "name": "stdout",
     "output_type": "stream",
     "text": [
      "Executing final pass...\n"
     ]
    },
    {
     "name": "stderr",
     "output_type": "stream",
     "text": [
      "100%|██████████| 1000/1000 [07:47<00:00,  2.14it/s]\n"
     ]
    },
    {
     "name": "stdout",
     "output_type": "stream",
     "text": [
      "Executing final pass...\n"
     ]
    },
    {
     "name": "stderr",
     "output_type": "stream",
     "text": [
      "100%|██████████| 1000/1000 [46:02<00:00,  2.76s/it] \n"
     ]
    },
    {
     "name": "stdout",
     "output_type": "stream",
     "text": [
      "Executing final pass...\n"
     ]
    }
   ],
   "source": [
    "continuous_output_linear = []\n",
    "for n_b in [2]:\n",
    "    for run in [4,8,12]:\n",
    "        for n_x in [2,3,4,8,16,100]:\n",
    "            J_cb = calc_basis_matrix(x_basis=n_x, b_basis=n_b)\n",
    "            _, best_cr = cordex_continuous(runs=run,\n",
    "                                           f_list=[n_x],\n",
    "                                           scalars=scalars,\n",
    "                                           optimality=optimality,\n",
    "                                           J_cb=J_cb,\n",
    "                                           R_0=None,\n",
    "                                           smooth_pen=0,\n",
    "                                           ridge_pen=0,\n",
    "                                           epochs=epochs,\n",
    "                                           method=method,\n",
    "                                           random_start=False,\n",
    "                                           disable_bar=True,\n",
    "                                           final_pass=True,\n",
    "                                           final_pass_iter=200)\n",
    "            continuous_output_linear.append(np.round(best_cr,3))\n",
    "\n",
    "continuous_output_quadratic = []\n",
    "for n_b in [3]:\n",
    "    for run in [4,8,12]:\n",
    "        for n_x in [3,4,8,16,100]:\n",
    "            J_cb = calc_basis_matrix(x_basis=n_x, b_basis=n_b)\n",
    "            _, best_cr = cordex_continuous(runs=run,\n",
    "                                           f_list=[n_x],\n",
    "                                           scalars=scalars,\n",
    "                                           optimality=optimality,\n",
    "                                           J_cb=J_cb,\n",
    "                                           R_0=None,\n",
    "                                           smooth_pen=0,\n",
    "                                           ridge_pen=0,\n",
    "                                           epochs=epochs,\n",
    "                                           method=method,\n",
    "                                           random_start=False,\n",
    "                                           disable_bar=True,\n",
    "                                           final_pass=True,\n",
    "                                           final_pass_iter=200)\n",
    "            continuous_output_quadratic.append(np.round(best_cr,3))"
   ],
   "metadata": {
    "collapsed": false
   }
  },
  {
   "cell_type": "code",
   "execution_count": 16,
   "outputs": [
    {
     "data": {
      "text/plain": "array([  8.75 ,   8.828,   8.75 ,   8.493,   8.429,   8.407,   3.958,\n         4.287,   3.903,   3.902,   3.889,   3.883,   2.583,   2.778,\n         2.57 ,   2.539,   2.52 ,   2.513, 386.538, 246.929, 219.118,\n       210.642, 206.971, 189.766, 103.553,  99.109,  98.657,  97.51 ,\n       126.409,  67.735,  65.226,  63.736,  63.033])"
     },
     "execution_count": 16,
     "metadata": {},
     "output_type": "execute_result"
    }
   ],
   "source": [
    "continuous_output = np.concatenate((continuous_output_linear, continuous_output_quadratic))\n",
    "continuous_output"
   ],
   "metadata": {
    "collapsed": false
   }
  },
  {
   "cell_type": "code",
   "execution_count": 55,
   "outputs": [],
   "source": [
    "final_df = pd.DataFrame([])"
   ],
   "metadata": {
    "collapsed": false
   }
  },
  {
   "cell_type": "code",
   "execution_count": 56,
   "outputs": [],
   "source": [
    "final_df = np.hstack((literature, continuous_output.reshape(-1,1)))\n",
    "# final_df[21, 4] = 208.843"
   ],
   "metadata": {
    "collapsed": false
   }
  },
  {
   "cell_type": "code",
   "execution_count": 57,
   "outputs": [],
   "source": [
    "diffs = np.round(np.abs(final_df[:,3] - final_df[:,4]),3)"
   ],
   "metadata": {
    "collapsed": false
   }
  },
  {
   "cell_type": "code",
   "execution_count": 58,
   "outputs": [
    {
     "data": {
      "text/plain": "array([[2.00000e+00, 2.00000e+00, 4.00000e+00, 8.75000e+00, 8.75000e+00,\n        0.00000e+00],\n       [2.00000e+00, 3.00000e+00, 4.00000e+00, 8.82800e+00, 8.82800e+00,\n        0.00000e+00],\n       [2.00000e+00, 4.00000e+00, 4.00000e+00, 8.75000e+00, 8.75000e+00,\n        0.00000e+00],\n       [2.00000e+00, 8.00000e+00, 4.00000e+00, 8.49300e+00, 8.49300e+00,\n        0.00000e+00],\n       [2.00000e+00, 1.60000e+01, 4.00000e+00, 8.42700e+00, 8.42900e+00,\n        2.00000e-03],\n       [2.00000e+00, 1.00000e+02, 4.00000e+00, 8.40400e+00, 8.40700e+00,\n        3.00000e-03],\n       [2.00000e+00, 2.00000e+00, 8.00000e+00, 3.95800e+00, 3.95800e+00,\n        0.00000e+00],\n       [2.00000e+00, 3.00000e+00, 8.00000e+00, 4.28700e+00, 4.28700e+00,\n        0.00000e+00],\n       [2.00000e+00, 4.00000e+00, 8.00000e+00, 3.90300e+00, 3.90300e+00,\n        0.00000e+00],\n       [2.00000e+00, 8.00000e+00, 8.00000e+00, 3.90200e+00, 3.90200e+00,\n        0.00000e+00],\n       [2.00000e+00, 1.60000e+01, 8.00000e+00, 3.88700e+00, 3.88900e+00,\n        2.00000e-03],\n       [2.00000e+00, 1.00000e+02, 8.00000e+00, 3.88200e+00, 3.88300e+00,\n        1.00000e-03],\n       [2.00000e+00, 2.00000e+00, 1.20000e+01, 2.58300e+00, 2.58300e+00,\n        0.00000e+00],\n       [2.00000e+00, 3.00000e+00, 1.20000e+01, 2.77800e+00, 2.77800e+00,\n        0.00000e+00],\n       [2.00000e+00, 4.00000e+00, 1.20000e+01, 2.57000e+00, 2.57000e+00,\n        0.00000e+00],\n       [2.00000e+00, 8.00000e+00, 1.20000e+01, 2.53900e+00, 2.53900e+00,\n        0.00000e+00],\n       [2.00000e+00, 1.60000e+01, 1.20000e+01, 2.52000e+00, 2.52000e+00,\n        0.00000e+00],\n       [2.00000e+00, 1.00000e+02, 1.20000e+01, 2.51200e+00, 2.51300e+00,\n        1.00000e-03],\n       [3.00000e+00, 3.00000e+00, 4.00000e+00, 3.86408e+02, 3.86538e+02,\n        1.30000e-01],\n       [3.00000e+00, 4.00000e+00, 4.00000e+00, 2.46869e+02, 2.46929e+02,\n        6.00000e-02],\n       [3.00000e+00, 8.00000e+00, 4.00000e+00, 2.18479e+02, 2.19118e+02,\n        6.39000e-01],\n       [3.00000e+00, 1.60000e+01, 4.00000e+00, 2.08843e+02, 2.08843e+02,\n        0.00000e+00],\n       [3.00000e+00, 1.00000e+02, 4.00000e+00, 2.06884e+02, 2.06971e+02,\n        8.70000e-02],\n       [3.00000e+00, 3.00000e+00, 8.00000e+00, 1.89766e+02, 1.89766e+02,\n        0.00000e+00],\n       [3.00000e+00, 4.00000e+00, 8.00000e+00, 1.03553e+02, 1.03553e+02,\n        0.00000e+00],\n       [3.00000e+00, 8.00000e+00, 8.00000e+00, 9.91090e+01, 9.91090e+01,\n        0.00000e+00],\n       [3.00000e+00, 1.60000e+01, 8.00000e+00, 9.74080e+01, 9.86570e+01,\n        1.24900e+00],\n       [3.00000e+00, 1.00000e+02, 8.00000e+00, 9.67090e+01, 9.75100e+01,\n        8.01000e-01],\n       [3.00000e+00, 3.00000e+00, 1.20000e+01, 1.26409e+02, 1.26409e+02,\n        0.00000e+00],\n       [3.00000e+00, 4.00000e+00, 1.20000e+01, 6.77350e+01, 6.77350e+01,\n        0.00000e+00],\n       [3.00000e+00, 8.00000e+00, 1.20000e+01, 6.52170e+01, 6.52260e+01,\n        9.00000e-03],\n       [3.00000e+00, 1.60000e+01, 1.20000e+01, 6.36100e+01, 6.37360e+01,\n        1.26000e-01],\n       [3.00000e+00, 1.00000e+02, 1.20000e+01, 6.30280e+01, 6.30330e+01,\n        5.00000e-03]])"
     },
     "execution_count": 58,
     "metadata": {},
     "output_type": "execute_result"
    }
   ],
   "source": [
    "final_df = np.hstack((final_df, diffs.reshape(-1,1)))\n",
    "final_df"
   ],
   "metadata": {
    "collapsed": false
   }
  },
  {
   "cell_type": "code",
   "execution_count": 59,
   "outputs": [],
   "source": [
    "Final_df = pd.DataFrame(final_df)\n",
    "Final_df.columns = ['n_b', 'n_x', 'runs', 'Literature', 'Continuous', 'Difference']"
   ],
   "metadata": {
    "collapsed": false
   }
  },
  {
   "cell_type": "code",
   "execution_count": 61,
   "outputs": [
    {
     "data": {
      "text/plain": "    n_b    n_x  runs  Literature  Continuous  Difference\n0   2.0    2.0   4.0       8.750       8.750       0.000\n1   2.0    3.0   4.0       8.828       8.828       0.000\n2   2.0    4.0   4.0       8.750       8.750       0.000\n3   2.0    8.0   4.0       8.493       8.493       0.000\n4   2.0   16.0   4.0       8.427       8.429       0.002\n5   2.0  100.0   4.0       8.404       8.407       0.003\n6   2.0    2.0   8.0       3.958       3.958       0.000\n7   2.0    3.0   8.0       4.287       4.287       0.000\n8   2.0    4.0   8.0       3.903       3.903       0.000\n9   2.0    8.0   8.0       3.902       3.902       0.000\n10  2.0   16.0   8.0       3.887       3.889       0.002\n11  2.0  100.0   8.0       3.882       3.883       0.001\n12  2.0    2.0  12.0       2.583       2.583       0.000\n13  2.0    3.0  12.0       2.778       2.778       0.000\n14  2.0    4.0  12.0       2.570       2.570       0.000\n15  2.0    8.0  12.0       2.539       2.539       0.000\n16  2.0   16.0  12.0       2.520       2.520       0.000\n17  2.0  100.0  12.0       2.512       2.513       0.001\n18  3.0    3.0   4.0     386.408     386.538       0.130\n19  3.0    4.0   4.0     246.869     246.929       0.060\n20  3.0    8.0   4.0     218.479     219.118       0.639\n21  3.0   16.0   4.0     208.843     208.843       0.000\n22  3.0  100.0   4.0     206.884     206.971       0.087\n23  3.0    3.0   8.0     189.766     189.766       0.000\n24  3.0    4.0   8.0     103.553     103.553       0.000\n25  3.0    8.0   8.0      99.109      99.109       0.000\n26  3.0   16.0   8.0      97.408      98.657       1.249\n27  3.0  100.0   8.0      96.709      97.510       0.801\n28  3.0    3.0  12.0     126.409     126.409       0.000\n29  3.0    4.0  12.0      67.735      67.735       0.000\n30  3.0    8.0  12.0      65.217      65.226       0.009\n31  3.0   16.0  12.0      63.610      63.736       0.126\n32  3.0  100.0  12.0      63.028      63.033       0.005",
      "text/html": "<div>\n<style scoped>\n    .dataframe tbody tr th:only-of-type {\n        vertical-align: middle;\n    }\n\n    .dataframe tbody tr th {\n        vertical-align: top;\n    }\n\n    .dataframe thead th {\n        text-align: right;\n    }\n</style>\n<table border=\"1\" class=\"dataframe\">\n  <thead>\n    <tr style=\"text-align: right;\">\n      <th></th>\n      <th>n_b</th>\n      <th>n_x</th>\n      <th>runs</th>\n      <th>Literature</th>\n      <th>Continuous</th>\n      <th>Difference</th>\n    </tr>\n  </thead>\n  <tbody>\n    <tr>\n      <th>0</th>\n      <td>2.0</td>\n      <td>2.0</td>\n      <td>4.0</td>\n      <td>8.750</td>\n      <td>8.750</td>\n      <td>0.000</td>\n    </tr>\n    <tr>\n      <th>1</th>\n      <td>2.0</td>\n      <td>3.0</td>\n      <td>4.0</td>\n      <td>8.828</td>\n      <td>8.828</td>\n      <td>0.000</td>\n    </tr>\n    <tr>\n      <th>2</th>\n      <td>2.0</td>\n      <td>4.0</td>\n      <td>4.0</td>\n      <td>8.750</td>\n      <td>8.750</td>\n      <td>0.000</td>\n    </tr>\n    <tr>\n      <th>3</th>\n      <td>2.0</td>\n      <td>8.0</td>\n      <td>4.0</td>\n      <td>8.493</td>\n      <td>8.493</td>\n      <td>0.000</td>\n    </tr>\n    <tr>\n      <th>4</th>\n      <td>2.0</td>\n      <td>16.0</td>\n      <td>4.0</td>\n      <td>8.427</td>\n      <td>8.429</td>\n      <td>0.002</td>\n    </tr>\n    <tr>\n      <th>5</th>\n      <td>2.0</td>\n      <td>100.0</td>\n      <td>4.0</td>\n      <td>8.404</td>\n      <td>8.407</td>\n      <td>0.003</td>\n    </tr>\n    <tr>\n      <th>6</th>\n      <td>2.0</td>\n      <td>2.0</td>\n      <td>8.0</td>\n      <td>3.958</td>\n      <td>3.958</td>\n      <td>0.000</td>\n    </tr>\n    <tr>\n      <th>7</th>\n      <td>2.0</td>\n      <td>3.0</td>\n      <td>8.0</td>\n      <td>4.287</td>\n      <td>4.287</td>\n      <td>0.000</td>\n    </tr>\n    <tr>\n      <th>8</th>\n      <td>2.0</td>\n      <td>4.0</td>\n      <td>8.0</td>\n      <td>3.903</td>\n      <td>3.903</td>\n      <td>0.000</td>\n    </tr>\n    <tr>\n      <th>9</th>\n      <td>2.0</td>\n      <td>8.0</td>\n      <td>8.0</td>\n      <td>3.902</td>\n      <td>3.902</td>\n      <td>0.000</td>\n    </tr>\n    <tr>\n      <th>10</th>\n      <td>2.0</td>\n      <td>16.0</td>\n      <td>8.0</td>\n      <td>3.887</td>\n      <td>3.889</td>\n      <td>0.002</td>\n    </tr>\n    <tr>\n      <th>11</th>\n      <td>2.0</td>\n      <td>100.0</td>\n      <td>8.0</td>\n      <td>3.882</td>\n      <td>3.883</td>\n      <td>0.001</td>\n    </tr>\n    <tr>\n      <th>12</th>\n      <td>2.0</td>\n      <td>2.0</td>\n      <td>12.0</td>\n      <td>2.583</td>\n      <td>2.583</td>\n      <td>0.000</td>\n    </tr>\n    <tr>\n      <th>13</th>\n      <td>2.0</td>\n      <td>3.0</td>\n      <td>12.0</td>\n      <td>2.778</td>\n      <td>2.778</td>\n      <td>0.000</td>\n    </tr>\n    <tr>\n      <th>14</th>\n      <td>2.0</td>\n      <td>4.0</td>\n      <td>12.0</td>\n      <td>2.570</td>\n      <td>2.570</td>\n      <td>0.000</td>\n    </tr>\n    <tr>\n      <th>15</th>\n      <td>2.0</td>\n      <td>8.0</td>\n      <td>12.0</td>\n      <td>2.539</td>\n      <td>2.539</td>\n      <td>0.000</td>\n    </tr>\n    <tr>\n      <th>16</th>\n      <td>2.0</td>\n      <td>16.0</td>\n      <td>12.0</td>\n      <td>2.520</td>\n      <td>2.520</td>\n      <td>0.000</td>\n    </tr>\n    <tr>\n      <th>17</th>\n      <td>2.0</td>\n      <td>100.0</td>\n      <td>12.0</td>\n      <td>2.512</td>\n      <td>2.513</td>\n      <td>0.001</td>\n    </tr>\n    <tr>\n      <th>18</th>\n      <td>3.0</td>\n      <td>3.0</td>\n      <td>4.0</td>\n      <td>386.408</td>\n      <td>386.538</td>\n      <td>0.130</td>\n    </tr>\n    <tr>\n      <th>19</th>\n      <td>3.0</td>\n      <td>4.0</td>\n      <td>4.0</td>\n      <td>246.869</td>\n      <td>246.929</td>\n      <td>0.060</td>\n    </tr>\n    <tr>\n      <th>20</th>\n      <td>3.0</td>\n      <td>8.0</td>\n      <td>4.0</td>\n      <td>218.479</td>\n      <td>219.118</td>\n      <td>0.639</td>\n    </tr>\n    <tr>\n      <th>21</th>\n      <td>3.0</td>\n      <td>16.0</td>\n      <td>4.0</td>\n      <td>208.843</td>\n      <td>208.843</td>\n      <td>0.000</td>\n    </tr>\n    <tr>\n      <th>22</th>\n      <td>3.0</td>\n      <td>100.0</td>\n      <td>4.0</td>\n      <td>206.884</td>\n      <td>206.971</td>\n      <td>0.087</td>\n    </tr>\n    <tr>\n      <th>23</th>\n      <td>3.0</td>\n      <td>3.0</td>\n      <td>8.0</td>\n      <td>189.766</td>\n      <td>189.766</td>\n      <td>0.000</td>\n    </tr>\n    <tr>\n      <th>24</th>\n      <td>3.0</td>\n      <td>4.0</td>\n      <td>8.0</td>\n      <td>103.553</td>\n      <td>103.553</td>\n      <td>0.000</td>\n    </tr>\n    <tr>\n      <th>25</th>\n      <td>3.0</td>\n      <td>8.0</td>\n      <td>8.0</td>\n      <td>99.109</td>\n      <td>99.109</td>\n      <td>0.000</td>\n    </tr>\n    <tr>\n      <th>26</th>\n      <td>3.0</td>\n      <td>16.0</td>\n      <td>8.0</td>\n      <td>97.408</td>\n      <td>98.657</td>\n      <td>1.249</td>\n    </tr>\n    <tr>\n      <th>27</th>\n      <td>3.0</td>\n      <td>100.0</td>\n      <td>8.0</td>\n      <td>96.709</td>\n      <td>97.510</td>\n      <td>0.801</td>\n    </tr>\n    <tr>\n      <th>28</th>\n      <td>3.0</td>\n      <td>3.0</td>\n      <td>12.0</td>\n      <td>126.409</td>\n      <td>126.409</td>\n      <td>0.000</td>\n    </tr>\n    <tr>\n      <th>29</th>\n      <td>3.0</td>\n      <td>4.0</td>\n      <td>12.0</td>\n      <td>67.735</td>\n      <td>67.735</td>\n      <td>0.000</td>\n    </tr>\n    <tr>\n      <th>30</th>\n      <td>3.0</td>\n      <td>8.0</td>\n      <td>12.0</td>\n      <td>65.217</td>\n      <td>65.226</td>\n      <td>0.009</td>\n    </tr>\n    <tr>\n      <th>31</th>\n      <td>3.0</td>\n      <td>16.0</td>\n      <td>12.0</td>\n      <td>63.610</td>\n      <td>63.736</td>\n      <td>0.126</td>\n    </tr>\n    <tr>\n      <th>32</th>\n      <td>3.0</td>\n      <td>100.0</td>\n      <td>12.0</td>\n      <td>63.028</td>\n      <td>63.033</td>\n      <td>0.005</td>\n    </tr>\n  </tbody>\n</table>\n</div>"
     },
     "execution_count": 61,
     "metadata": {},
     "output_type": "execute_result"
    }
   ],
   "source": [
    "Final_df"
   ],
   "metadata": {
    "collapsed": false
   }
  },
  {
   "cell_type": "code",
   "execution_count": 62,
   "outputs": [],
   "source": [
    "Final_df.to_csv('Comparisson.csv')"
   ],
   "metadata": {
    "collapsed": false
   }
  },
  {
   "cell_type": "code",
   "execution_count": null,
   "outputs": [],
   "source": [],
   "metadata": {
    "collapsed": false
   }
  }
 ],
 "metadata": {
  "kernelspec": {
   "display_name": "Python 3",
   "language": "python",
   "name": "python3"
  },
  "language_info": {
   "codemirror_mode": {
    "name": "ipython",
    "version": 2
   },
   "file_extension": ".py",
   "mimetype": "text/x-python",
   "name": "python",
   "nbconvert_exporter": "python",
   "pygments_lexer": "ipython2",
   "version": "2.7.6"
  }
 },
 "nbformat": 4,
 "nbformat_minor": 0
}
