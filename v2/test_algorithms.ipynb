{
 "cells": [
  {
   "cell_type": "markdown",
   "source": [
    "## Libraries"
   ],
   "metadata": {
    "collapsed": false
   }
  },
  {
   "cell_type": "code",
   "execution_count": 1,
   "outputs": [],
   "source": [
    "import cProfile\n",
    "import pstats\n",
    "import numpy as np\n",
    "import pandas as pd\n",
    "from timeit import default_timer as timer\n",
    "from datetime import timedelta\n",
    "from matplotlib import pyplot as plt\n",
    "\n",
    "from smooth_output import smooth_fourier\n",
    "from Jcb import calc_basis_matrix\n",
    "from R import calc_penalty_matrix\n",
    "from cordex_discrete import cordex_discrete\n",
    "from cordex_continuous import cordex_continuous\n",
    "from cordex_continuous_v2 import cordex_continuous_v2\n",
    "from plot_fun import subplot_results\n",
    "from bayesian_continuous import bo_loop\n",
    "from Jcb import Jcb\n",
    "from R import R\n",
    "\n",
    "# %load_ext autotime"
   ],
   "metadata": {
    "collapsed": false
   }
  },
  {
   "cell_type": "markdown",
   "source": [
    "## Settings"
   ],
   "metadata": {
    "collapsed": false
   }
  },
  {
   "cell_type": "code",
   "execution_count": 2,
   "outputs": [],
   "source": [
    "runs = 4\n",
    "levels = np.linspace(-1,1,3).tolist()\n",
    "epochs = 1_000\n",
    "optimality = 'A'\n",
    "method = 'Nelder-Mead'\n",
    "n_x = [100]\n",
    "n_b = [2]\n",
    "scalars = 0\n",
    "J_cb = Jcb(*[calc_basis_matrix(x_basis=x, b_basis=b) for x, b in zip(n_x, n_b)])\n",
    "R_0 = R(*[calc_penalty_matrix(n_b=b) for b in n_b])"
   ],
   "metadata": {
    "collapsed": false
   }
  },
  {
   "cell_type": "markdown",
   "source": [
    "## Bayesian Optimization"
   ],
   "metadata": {
    "collapsed": false
   }
  },
  {
   "cell_type": "code",
   "execution_count": 3,
   "outputs": [],
   "source": [
    "# start = timer()\n",
    "# results, best_cr, _ = bo_loop(epochs=100,\n",
    "#                               runs=runs,\n",
    "#                               feats=J_cb.shape[0],\n",
    "#                               optimality=optimality,\n",
    "#                               initialization_method=None,\n",
    "#                               J_cb=J_cb,\n",
    "#                               acq_f='UCB')\n",
    "# end = timer()\n",
    "# print(f\"Best criterion {np.round(best_cr,3)} for optimality {optimality}. Execution time (s): {timedelta(seconds=end-start)}\")"
   ],
   "metadata": {
    "collapsed": false
   }
  },
  {
   "cell_type": "code",
   "execution_count": 4,
   "outputs": [],
   "source": [
    "# subplot_results(sub_x=2, sub_y=2, T=np.linspace(0, 1, 1000), results=results, J_cb=J_cb)"
   ],
   "metadata": {
    "collapsed": false
   }
  },
  {
   "cell_type": "markdown",
   "source": [
    "## Discrete Version"
   ],
   "metadata": {
    "collapsed": false
   }
  },
  {
   "cell_type": "code",
   "execution_count": 5,
   "outputs": [],
   "source": [
    "# start = timer()\n",
    "# results, best_cr, _ = cordex_discrete(runs=runs,\n",
    "#                                    feats=J_cb.shape[0],\n",
    "#                                    levels=levels,\n",
    "#                                    epochs=epochs,\n",
    "#                                    J_cb=J_cb,\n",
    "#                                    optimality=optimality)\n",
    "# end = timer()\n",
    "# print(f\"Optimality: {optimality}\"\n",
    "#       f\"\\nBest criterion: {np.round(best_cr,3)}\"\n",
    "#       f\"\\nExecution time (s): {timedelta(seconds=end-start)}\")"
   ],
   "metadata": {
    "collapsed": false
   }
  },
  {
   "cell_type": "code",
   "execution_count": 6,
   "outputs": [
    {
     "name": "stderr",
     "output_type": "stream",
     "text": [
      " 61%|██████▏   | 614/1000 [00:06<00:04, 89.72it/s] \n"
     ]
    },
    {
     "ename": "KeyboardInterrupt",
     "evalue": "",
     "output_type": "error",
     "traceback": [
      "\u001B[0;31m---------------------------------------------------------------------------\u001B[0m",
      "\u001B[0;31mKeyboardInterrupt\u001B[0m                         Traceback (most recent call last)",
      "Cell \u001B[0;32mIn[6], line 2\u001B[0m\n\u001B[1;32m      1\u001B[0m start \u001B[38;5;241m=\u001B[39m timer()\n\u001B[0;32m----> 2\u001B[0m results, best_cr, _ \u001B[38;5;241m=\u001B[39m \u001B[43mcordex_discrete\u001B[49m\u001B[43m(\u001B[49m\u001B[43mruns\u001B[49m\u001B[38;5;241;43m=\u001B[39;49m\u001B[43mruns\u001B[49m\u001B[43m,\u001B[49m\n\u001B[1;32m      3\u001B[0m \u001B[43m                                      \u001B[49m\u001B[43mf_list\u001B[49m\u001B[38;5;241;43m=\u001B[39;49m\u001B[43mn_x\u001B[49m\u001B[43m,\u001B[49m\n\u001B[1;32m      4\u001B[0m \u001B[43m                                      \u001B[49m\u001B[43mscalars\u001B[49m\u001B[38;5;241;43m=\u001B[39;49m\u001B[43mscalars\u001B[49m\u001B[43m,\u001B[49m\n\u001B[1;32m      5\u001B[0m \u001B[43m                                      \u001B[49m\u001B[43mlevels\u001B[49m\u001B[38;5;241;43m=\u001B[39;49m\u001B[43mlevels\u001B[49m\u001B[43m,\u001B[49m\n\u001B[1;32m      6\u001B[0m \u001B[43m                                      \u001B[49m\u001B[43mepochs\u001B[49m\u001B[38;5;241;43m=\u001B[39;49m\u001B[43mepochs\u001B[49m\u001B[43m,\u001B[49m\n\u001B[1;32m      7\u001B[0m \u001B[43m                                      \u001B[49m\u001B[43mJ_cb\u001B[49m\u001B[38;5;241;43m=\u001B[39;49m\u001B[43mJ_cb\u001B[49m\u001B[43m,\u001B[49m\n\u001B[1;32m      8\u001B[0m \u001B[43m                                      \u001B[49m\u001B[43moptimality\u001B[49m\u001B[38;5;241;43m=\u001B[39;49m\u001B[38;5;124;43m'\u001B[39;49m\u001B[38;5;124;43mD\u001B[39;49m\u001B[38;5;124;43m'\u001B[39;49m\u001B[43m,\u001B[49m\u001B[43m)\u001B[49m\n\u001B[1;32m      9\u001B[0m end \u001B[38;5;241m=\u001B[39m timer()\n\u001B[1;32m     10\u001B[0m \u001B[38;5;28mprint\u001B[39m(\u001B[38;5;124mf\u001B[39m\u001B[38;5;124m\"\u001B[39m\u001B[38;5;124mOptimality: \u001B[39m\u001B[38;5;132;01m{\u001B[39;00moptimality\u001B[38;5;132;01m}\u001B[39;00m\u001B[38;5;124m\"\u001B[39m\n\u001B[1;32m     11\u001B[0m       \u001B[38;5;124mf\u001B[39m\u001B[38;5;124m\"\u001B[39m\u001B[38;5;130;01m\\n\u001B[39;00m\u001B[38;5;124mBest criterion: \u001B[39m\u001B[38;5;132;01m{\u001B[39;00mnp\u001B[38;5;241m.\u001B[39mround(best_cr,\u001B[38;5;241m3\u001B[39m)\u001B[38;5;132;01m}\u001B[39;00m\u001B[38;5;124m\"\u001B[39m\n\u001B[1;32m     12\u001B[0m       \u001B[38;5;124mf\u001B[39m\u001B[38;5;124m\"\u001B[39m\u001B[38;5;130;01m\\n\u001B[39;00m\u001B[38;5;124mExecution time (s): \u001B[39m\u001B[38;5;132;01m{\u001B[39;00mtimedelta(seconds\u001B[38;5;241m=\u001B[39mend\u001B[38;5;241m-\u001B[39mstart)\u001B[38;5;132;01m}\u001B[39;00m\u001B[38;5;124m\"\u001B[39m)\n",
      "File \u001B[0;32m~/Documents/code/optidex/v2/cordex_discrete.py:118\u001B[0m, in \u001B[0;36mcordex_discrete\u001B[0;34m(runs, f_list, scalars, levels, epochs, optimality, J_cb, disable_bar)\u001B[0m\n\u001B[1;32m    116\u001B[0m \u001B[38;5;28;01mfor\u001B[39;00m level \u001B[38;5;129;01min\u001B[39;00m levels:\n\u001B[1;32m    117\u001B[0m     Model_mat[run, feat] \u001B[38;5;241m=\u001B[39m level\n\u001B[0;32m--> 118\u001B[0m     objective_value \u001B[38;5;241m=\u001B[39m \u001B[43mobjective\u001B[49m\u001B[43m(\u001B[49m\u001B[43m)\u001B[49m\n\u001B[1;32m    119\u001B[0m     best_level_list\u001B[38;5;241m.\u001B[39mappend(objective_value)\n\u001B[1;32m    120\u001B[0m best_level_index \u001B[38;5;241m=\u001B[39m best_level_list\u001B[38;5;241m.\u001B[39mindex(\u001B[38;5;28mmin\u001B[39m(best_level_list))\n",
      "File \u001B[0;32m~/Documents/code/optidex/v2/cordex_discrete.py:86\u001B[0m, in \u001B[0;36mcordex_discrete.<locals>.objective\u001B[0;34m()\u001B[0m\n\u001B[1;32m     84\u001B[0m Gamma \u001B[38;5;241m=\u001B[39m Model_mat[:, :f_coeffs]\n\u001B[1;32m     85\u001B[0m X \u001B[38;5;241m=\u001B[39m Model_mat[:, f_coeffs:]\n\u001B[0;32m---> 86\u001B[0m Zetta \u001B[38;5;241m=\u001B[39m \u001B[43mnp\u001B[49m\u001B[38;5;241;43m.\u001B[39;49m\u001B[43mhstack\u001B[49m\u001B[43m(\u001B[49m\u001B[43m(\u001B[49m\u001B[43mones\u001B[49m\u001B[43m,\u001B[49m\u001B[43m \u001B[49m\u001B[43mGamma\u001B[49m\u001B[43m \u001B[49m\u001B[38;5;241;43m@\u001B[39;49m\u001B[43m \u001B[49m\u001B[43mJ_cb\u001B[49m\u001B[43m,\u001B[49m\u001B[43m \u001B[49m\u001B[43mX\u001B[49m\u001B[43m)\u001B[49m\u001B[43m)\u001B[49m\n\u001B[1;32m     87\u001B[0m M \u001B[38;5;241m=\u001B[39m Zetta\u001B[38;5;241m.\u001B[39mT \u001B[38;5;241m@\u001B[39m Zetta\n\u001B[1;32m     89\u001B[0m \u001B[38;5;28;01mif\u001B[39;00m optimality \u001B[38;5;241m==\u001B[39m \u001B[38;5;124m\"\u001B[39m\u001B[38;5;124mD\u001B[39m\u001B[38;5;124m\"\u001B[39m:\n",
      "File \u001B[0;32m<__array_function__ internals>:177\u001B[0m, in \u001B[0;36mhstack\u001B[0;34m(*args, **kwargs)\u001B[0m\n",
      "\u001B[0;31mKeyboardInterrupt\u001B[0m: "
     ]
    }
   ],
   "source": [
    "start = timer()\n",
    "results, best_cr, _ = cordex_discrete(runs=runs,\n",
    "                                      f_list=n_x,\n",
    "                                      scalars=scalars,\n",
    "                                      levels=levels,\n",
    "                                      epochs=epochs,\n",
    "                                      J_cb=J_cb,\n",
    "                                      optimality='D',)\n",
    "end = timer()\n",
    "print(f\"Optimality: {optimality}\"\n",
    "      f\"\\nBest criterion: {np.round(best_cr,3)}\"\n",
    "      f\"\\nExecution time (s): {timedelta(seconds=end-start)}\")"
   ],
   "metadata": {
    "collapsed": false
   }
  },
  {
   "cell_type": "code",
   "execution_count": null,
   "outputs": [],
   "source": [
    "Z = np.concatenate((np.ones((runs,1)), results[:, :sum(n_x)] @ J_cb, results[:, sum(n_x):]), axis=1)"
   ],
   "metadata": {
    "collapsed": false
   }
  },
  {
   "cell_type": "code",
   "execution_count": null,
   "outputs": [],
   "source": [
    "subplot_results(sub_x=2, sub_y=2, T=np.linspace(0, 1, 1000), results=results[:, :n_x[0]])"
   ],
   "metadata": {
    "collapsed": false
   }
  },
  {
   "cell_type": "markdown",
   "source": [
    "## Continuous Version"
   ],
   "metadata": {
    "collapsed": false
   }
  },
  {
   "cell_type": "code",
   "execution_count": null,
   "outputs": [],
   "source": [
    "J_cb.shape"
   ],
   "metadata": {
    "collapsed": false
   }
  },
  {
   "cell_type": "code",
   "execution_count": null,
   "outputs": [],
   "source": [
    " # Nelder-Mead, L-BFGS-B, Powell, TNC\n",
    "# with cProfile.Profile() as profile:\n",
    "#     start = timer()\n",
    "#     results, best_cr = cordex_continuous(runs=runs,\n",
    "#                                          f_list=n_x,\n",
    "#                                          scalars=scalars,\n",
    "#                                          J_cb=J_cb,\n",
    "#                                          R_0=None,\n",
    "#                                          epochs=1000,\n",
    "#                                          method='L-BFGS-B',\n",
    "#                                          optimality=optimality,\n",
    "#                                          random_start=False,\n",
    "#                                          disable_bar=True,\n",
    "#                                          penalty=0,\n",
    "#                                          final_pass=False)\n",
    "#     end = timer()\n",
    "#     print(f\"Optimality: {optimality}\"\n",
    "#           f\"\\nBest criterion: {np.round(best_cr,3)}\"\n",
    "#           f\"\\nExecution time (s): {timedelta(seconds=end-start)}\")\n",
    "#     presults = pstats.Stats(profile).sort_stats(pstats.SortKey.TIME)\n",
    "#     presults.dump_stats('cordex_continuous.prof')\n",
    "\n",
    "# Nelder-Mead: 2:10 - 8.455\n",
    "# L-BFGS-B: 1:44 - 8.44\n",
    "# Powell: 3:41 - 8.43\n",
    "# TNC: 2:08 - 8.43\n",
    "# ~220"
   ],
   "metadata": {
    "collapsed": false
   }
  },
  {
   "cell_type": "code",
   "execution_count": 3,
   "outputs": [
    {
     "name": "stderr",
     "output_type": "stream",
     "text": [
      "100%|██████████| 1000/1000 [05:10<00:00,  3.22it/s]"
     ]
    },
    {
     "name": "stdout",
     "output_type": "stream",
     "text": [
      "Optimality: A\n",
      "Best criterion: 14089.03\n",
      "Execution time (s): 0:05:10.762809\n"
     ]
    },
    {
     "name": "stderr",
     "output_type": "stream",
     "text": [
      "\n"
     ]
    }
   ],
   "source": [
    "start = timer()\n",
    "\n",
    "results, best_cr = cordex_continuous(runs=runs,\n",
    "                                     f_list=n_x,\n",
    "                                     scalars=scalars,\n",
    "                                     optimality=optimality,\n",
    "                                     J_cb=J_cb,\n",
    "                                     R_0=R_0,\n",
    "                                     smooth_pen=0,\n",
    "                                     ridge_pen=40,\n",
    "                                     epochs=1000,\n",
    "                                     method=method,\n",
    "                                     random_start=False,\n",
    "                                     disable_bar=True,\n",
    "                                     final_pass=False)\n",
    "end = timer()\n",
    "print(f\"Optimality: {optimality}\"\n",
    "      f\"\\nBest criterion: {np.round(best_cr,3)}\"\n",
    "      f\"\\nExecution time (s): {timedelta(seconds=end-start)}\")"
   ],
   "metadata": {
    "collapsed": false
   }
  },
  {
   "cell_type": "code",
   "execution_count": 4,
   "outputs": [
    {
     "data": {
      "text/plain": "8.652239006071802"
     },
     "execution_count": 4,
     "metadata": {},
     "output_type": "execute_result"
    }
   ],
   "source": [
    "Z = np.hstack((np.ones((4,1)), results @ J_cb))\n",
    "M = Z.T @ Z\n",
    "np.trace(np.linalg.inv(M))"
   ],
   "metadata": {
    "collapsed": false
   }
  },
  {
   "cell_type": "code",
   "execution_count": 5,
   "outputs": [
    {
     "data": {
      "text/plain": "<Figure size 400x400 with 4 Axes>",
      "image/png": "[encoded data removed]"
     },
     "metadata": {},
     "output_type": "display_data"
    }
   ],
   "source": [
    "subplot_results(sub_x=2, sub_y=2, T=np.linspace(0, 1, 1000), results=results, size=35, save=False)"
   ],
   "metadata": {
    "collapsed": false
   }
  },
  {
   "cell_type": "markdown",
   "source": [
    "## Comparissons with Literature"
   ],
   "metadata": {
    "collapsed": false
   }
  },
  {
   "cell_type": "code",
   "execution_count": null,
   "outputs": [],
   "source": [
    "literature = np.array([\n",
    "    [2, 2, 4, 8.750],\n",
    "    [2, 3, 4, 8.828],\n",
    "    [2, 4, 4, 8.750],\n",
    "    [2, 8, 4, 8.493],\n",
    "    [2, 16, 4, 8.427],\n",
    "    [2, 100, 4, 8.404],\n",
    "    [2, 2, 8, 3.958],\n",
    "    [2, 3, 8, 4.287],\n",
    "    [2, 4, 8, 3.903],\n",
    "    [2, 8, 8, 3.902],\n",
    "    [2, 16, 8, 3.887],\n",
    "    [2, 100, 8, 3.882],\n",
    "    [2, 2, 12, 2.583],\n",
    "    [2, 3, 12, 2.778],\n",
    "    [2, 4, 12, 2.570],\n",
    "    [2, 8, 12, 2.539],\n",
    "    [2, 16, 12, 2.520],\n",
    "    [2, 100, 12, 2.512],\n",
    "    [3, 3, 4, 386.408],\n",
    "    [3, 4, 4, 246.869],\n",
    "    [3, 8, 4, 218.479],\n",
    "    [3, 16, 4, 208.843],\n",
    "    [3, 100, 4, 206.884],\n",
    "    [3, 3, 8, 189.766],\n",
    "    [3, 4, 8, 103.553],\n",
    "    [3, 8, 8, 99.109],\n",
    "    [3, 16, 8, 97.408],\n",
    "    [3, 100, 8, 96.709],\n",
    "    [3, 3, 12, 126.409],\n",
    "    [3, 4, 12, 67.735],\n",
    "    [3, 8, 12, 65.217],\n",
    "    [3, 16, 12, 63.610],\n",
    "    [3, 100, 12, 63.028],\n",
    "\n",
    "])"
   ],
   "metadata": {
    "collapsed": false
   }
  },
  {
   "cell_type": "code",
   "execution_count": null,
   "outputs": [],
   "source": [
    "discrete_output_linear = []\n",
    "for n_b in [2]:\n",
    "    for run in [4,8,12]:\n",
    "        for n_x in [2,3,4,8,16,100]:\n",
    "            J_cb = calc_basis_matrix(x_basis=n_x, b_basis=n_b)\n",
    "            _, best_cr = cordex_discrete(runs=run,\n",
    "                                               feats=J_cb.shape[0],\n",
    "                                               levels=[-1,0,1],\n",
    "                                               epochs=1000,\n",
    "                                               J_cb=J_cb,\n",
    "                                               optimality='A')\n",
    "            discrete_output_linear.append(np.round(best_cr,3))\n",
    "\n",
    "discrete_output_quadratic = []\n",
    "for n_b in [3]:\n",
    "    for run in [4,8,12]:\n",
    "        for n_x in [3,4,8,16,100]:\n",
    "            J_cb = calc_basis_matrix(x_basis=n_x, b_basis=n_b)\n",
    "            _, best_cr = cordex_discrete(runs=run,\n",
    "                                         feats=J_cb.shape[0],\n",
    "                                         levels=[-1,0,1],\n",
    "                                         epochs=1000,\n",
    "                                         J_cb=J_cb,\n",
    "                                         optimality='A')\n",
    "            discrete_output_quadratic.append(np.round(best_cr,3))"
   ],
   "metadata": {
    "collapsed": false
   }
  },
  {
   "cell_type": "code",
   "execution_count": null,
   "outputs": [],
   "source": [
    "Final = np.round(np.concatenate((literature), axis=1),3)\n",
    "nm_diff = np.round(np.abs(Final[:,3] - Final[:,4]),3).reshape(-1,1)\n",
    "bfgs_diff = np.round(np.abs(Final[:,3] - Final[:,5]),3).reshape(-1,1)\n",
    "p_diff = np.round(np.abs(Final[:,3] - Final[:,6]),3).reshape(-1,1)\n",
    "tnc_diff = np.round(np.abs(Final[:,3] - Final[:,7]),3).reshape(-1,1)\n",
    "bo_diff = np.round(np.abs(Final[:,3] - Final[:,8]),3).reshape(-1,1)\n",
    "\n",
    "Final = np.concatenate((Final, nm_diff, bfgs_diff, p_diff, tnc_diff, bo_diff), axis=1)\n",
    "Final"
   ],
   "metadata": {
    "collapsed": false
   }
  },
  {
   "cell_type": "code",
   "execution_count": null,
   "outputs": [],
   "source": [
    "Final_df = pd.DataFrame(Final, columns=['n_b',\n",
    "                                        'n_x',\n",
    "                                        'n',\n",
    "                                        'Michaelidis',\n",
    "                                        'Nelder-Mead',\n",
    "                                        'L-BFGS-B',\n",
    "                                        'Powell',\n",
    "                                        'TNC',\n",
    "                                        '|Nelder-Mead diff|',\n",
    "                                        '|L-BFGS-B diff|',\n",
    "                                        '|Powell diff|',\n",
    "                                        '|TNC diff|',\n",
    "                                        '|BO diff|'])\n",
    "Final_df.to_csv(\"Comparisson.csv\")"
   ],
   "metadata": {
    "collapsed": false
   }
  },
  {
   "cell_type": "code",
   "execution_count": null,
   "outputs": [],
   "source": [
    "np.hstack((np.ones((4,1)), np.array([])))"
   ],
   "metadata": {
    "collapsed": false
   }
  },
  {
   "cell_type": "code",
   "execution_count": null,
   "outputs": [],
   "source": [],
   "metadata": {
    "collapsed": false
   }
  },
  {
   "cell_type": "code",
   "execution_count": null,
   "outputs": [],
   "source": [
    "import numpy as np\n",
    "from scipy.linalg import cho_factor, cho_solve\n",
    "from tqdm import tqdm\n",
    "# %load_ext autotime"
   ],
   "metadata": {
    "collapsed": false
   }
  },
  {
   "cell_type": "code",
   "execution_count": null,
   "outputs": [],
   "source": [
    "p = 1000\n",
    "I = np.eye(p)\n",
    "times = []\n",
    "for i in tqdm(range(1000)):\n",
    "    X = np.random.rand(p,p)\n",
    "    S = X.T @ X\n",
    "\n",
    "    start = timer()\n",
    "    L, lower = cho_factor(S, lower=True)\n",
    "    S_inv_chol = cho_solve((L, lower), I)\n",
    "    end = timer()\n",
    "    chol_time = end - start\n",
    "\n",
    "    start = timer()\n",
    "    S_inv_simple = np.linalg.inv(S)\n",
    "    end = timer()\n",
    "    simple_time = end - start\n",
    "\n",
    "    times.append([chol_time, simple_time])\n",
    "times = np.array(times)"
   ],
   "metadata": {
    "collapsed": false
   }
  },
  {
   "cell_type": "code",
   "execution_count": null,
   "outputs": [],
   "source": [
    "chol = times[:, 0]\n",
    "inv =  times[:, 1]"
   ],
   "metadata": {
    "collapsed": false
   }
  },
  {
   "cell_type": "code",
   "execution_count": null,
   "outputs": [],
   "source": [
    "print(np.round(chol.mean()-2*chol.std(),3),\n",
    "      np.round(np.median(chol),3),\n",
    "      np.round(chol.mean(),3),\n",
    "      np.round(chol.mean()+2*chol.std(),3),)"
   ],
   "metadata": {
    "collapsed": false
   }
  },
  {
   "cell_type": "code",
   "execution_count": null,
   "outputs": [],
   "source": [
    "print(np.round(inv.mean()-2*inv.std(),3),\n",
    "      np.round(np.median(inv),3),\n",
    "      np.round(inv.mean(),3),\n",
    "      np.round(inv.mean()+2*inv.std(),3),)"
   ],
   "metadata": {
    "collapsed": false
   }
  },
  {
   "cell_type": "code",
   "execution_count": null,
   "outputs": [],
   "source": [],
   "metadata": {
    "collapsed": false
   }
  }
 ],
 "metadata": {
  "kernelspec": {
   "display_name": "Python 3",
   "language": "python",
   "name": "python3"
  },
  "language_info": {
   "codemirror_mode": {
    "name": "ipython",
    "version": 2
   },
   "file_extension": ".py",
   "mimetype": "text/x-python",
   "name": "python",
   "nbconvert_exporter": "python",
   "pygments_lexer": "ipython2",
   "version": "2.7.6"
  }
 },
 "nbformat": 4,
 "nbformat_minor": 0
}
