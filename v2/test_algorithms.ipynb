{
 "cells": [
  {
   "cell_type": "markdown",
   "source": [
    "## Libraries"
   ],
   "metadata": {
    "collapsed": false
   }
  },
  {
   "cell_type": "code",
   "execution_count": 1,
   "outputs": [],
   "source": [
    "import cProfile\n",
    "import pstats\n",
    "import numpy as np\n",
    "import pandas as pd\n",
    "from timeit import default_timer as timer\n",
    "from datetime import timedelta\n",
    "from matplotlib import pyplot as plt\n",
    "\n",
    "from smooth_output import smooth_fourier\n",
    "from Jcb import calc_basis_matrix\n",
    "from R import calc_penalty_matrix\n",
    "from cordex_discrete import cordex_discrete\n",
    "from cordex_continuous import cordex_continuous\n",
    "from cordex_continuous_v2 import cordex_continuous_v2\n",
    "from plot_fun import subplot_results\n",
    "from bayesian_continuous import bo_loop\n",
    "from Jcb import Jcb\n",
    "from R import R\n",
    "\n",
    "# %load_ext autotime"
   ],
   "metadata": {
    "collapsed": false
   }
  },
  {
   "cell_type": "markdown",
   "source": [
    "## Settings"
   ],
   "metadata": {
    "collapsed": false
   }
  },
  {
   "cell_type": "code",
   "execution_count": 3,
   "outputs": [],
   "source": [
    "runs = 4\n",
    "levels = np.linspace(-1,1,3).tolist()\n",
    "epochs = 1_000\n",
    "optimality = 'A'\n",
    "method = 'Nelder-Mead'\n",
    "n_x = [100]\n",
    "n_b = [2]\n",
    "scalars = 0\n",
    "J_cb = Jcb(*[calc_basis_matrix(x_basis=x, b_basis=b) for x, b in zip(n_x, n_b)])\n",
    "R_0 = R(*[calc_penalty_matrix(n_b=b) for b in n_b])"
   ],
   "metadata": {
    "collapsed": false
   }
  },
  {
   "cell_type": "markdown",
   "source": [
    "## Bayesian Optimization"
   ],
   "metadata": {
    "collapsed": false
   }
  },
  {
   "cell_type": "code",
   "execution_count": 7,
   "outputs": [],
   "source": [
    "# start = timer()\n",
    "# results, best_cr, _ = bo_loop(epochs=100,\n",
    "#                               runs=runs,\n",
    "#                               feats=J_cb.shape[0],\n",
    "#                               optimality=optimality,\n",
    "#                               initialization_method=None,\n",
    "#                               J_cb=J_cb,\n",
    "#                               acq_f='UCB')\n",
    "# end = timer()\n",
    "# print(f\"Best criterion {np.round(best_cr,3)} for optimality {optimality}. Execution time (s): {timedelta(seconds=end-start)}\")"
   ],
   "metadata": {
    "collapsed": false
   }
  },
  {
   "cell_type": "code",
   "execution_count": 8,
   "outputs": [],
   "source": [
    "# subplot_results(sub_x=2, sub_y=2, T=np.linspace(0, 1, 1000), results=results, J_cb=J_cb)"
   ],
   "metadata": {
    "collapsed": false
   }
  },
  {
   "cell_type": "markdown",
   "source": [
    "## Discrete Version"
   ],
   "metadata": {
    "collapsed": false
   }
  },
  {
   "cell_type": "code",
   "execution_count": 9,
   "outputs": [],
   "source": [
    "# start = timer()\n",
    "# results, best_cr, _ = cordex_discrete(runs=runs,\n",
    "#                                    feats=J_cb.shape[0],\n",
    "#                                    levels=levels,\n",
    "#                                    epochs=epochs,\n",
    "#                                    J_cb=J_cb,\n",
    "#                                    optimality=optimality)\n",
    "# end = timer()\n",
    "# print(f\"Optimality: {optimality}\"\n",
    "#       f\"\\nBest criterion: {np.round(best_cr,3)}\"\n",
    "#       f\"\\nExecution time (s): {timedelta(seconds=end-start)}\")"
   ],
   "metadata": {
    "collapsed": false
   }
  },
  {
   "cell_type": "code",
   "execution_count": 45,
   "outputs": [
    {
     "name": "stderr",
     "output_type": "stream",
     "text": [
      "100%|██████████| 1000/1000 [01:43<00:00,  9.63it/s]"
     ]
    },
    {
     "name": "stdout",
     "output_type": "stream",
     "text": [
      "Optimality: A\n",
      "Best criterion: 8.624\n",
      "Execution time (s): 0:01:43.868950\n"
     ]
    },
    {
     "name": "stderr",
     "output_type": "stream",
     "text": [
      "\n"
     ]
    }
   ],
   "source": [
    "start = timer()\n",
    "results, best_cr = cordex_discrete(runs=runs,\n",
    "                                   f_list=n_x,\n",
    "                                   scalars=scalars,\n",
    "                                   levels=levels,\n",
    "                                   epochs=1000,\n",
    "                                   J_cb=J_cb,\n",
    "                                   optimality='A',)\n",
    "end = timer()\n",
    "print(f\"Optimality: {optimality}\"\n",
    "      f\"\\nBest criterion: {np.round(best_cr,3)}\"\n",
    "      f\"\\nExecution time (s): {timedelta(seconds=end-start)}\")"
   ],
   "metadata": {
    "collapsed": false
   }
  },
  {
   "cell_type": "code",
   "execution_count": 46,
   "outputs": [
    {
     "data": {
      "text/plain": "8.62388360781054"
     },
     "execution_count": 46,
     "metadata": {},
     "output_type": "execute_result"
    }
   ],
   "source": [
    "Z = np.concatenate((np.ones((runs,1)), results[:, :sum(n_x)] @ J_cb, results[:, sum(n_x):]), axis=1)\n",
    "np.trace(np.linalg.inv(Z.T @ Z))"
   ],
   "metadata": {
    "collapsed": false
   }
  },
  {
   "cell_type": "code",
   "execution_count": 47,
   "outputs": [
    {
     "data": {
      "text/plain": "<Figure size 400x400 with 4 Axes>",
      "image/png": "[encoded data removed]"
     },
     "metadata": {},
     "output_type": "display_data"
    }
   ],
   "source": [
    "subplot_results(sub_x=2, sub_y=2, T=np.linspace(0, 1, 1000), results=results[:, :n_x[0]])"
   ],
   "metadata": {
    "collapsed": false
   }
  },
  {
   "cell_type": "markdown",
   "source": [
    "## Continuous Version"
   ],
   "metadata": {
    "collapsed": false
   }
  },
  {
   "cell_type": "code",
   "execution_count": null,
   "outputs": [],
   "source": [
    " # Nelder-Mead, L-BFGS-B, Powell, TNC\n",
    "# with cProfile.Profile() as profile:\n",
    "#     start = timer()\n",
    "#     results, best_cr = cordex_continuous(runs=runs,\n",
    "#                                          f_list=n_x,\n",
    "#                                          scalars=scalars,\n",
    "#                                          J_cb=J_cb,\n",
    "#                                          R_0=None,\n",
    "#                                          epochs=1000,\n",
    "#                                          method='L-BFGS-B',\n",
    "#                                          optimality=optimality,\n",
    "#                                          random_start=False,\n",
    "#                                          disable_bar=True,\n",
    "#                                          penalty=0,\n",
    "#                                          final_pass=False)\n",
    "#     end = timer()\n",
    "#     print(f\"Optimality: {optimality}\"\n",
    "#           f\"\\nBest criterion: {np.round(best_cr,3)}\"\n",
    "#           f\"\\nExecution time (s): {timedelta(seconds=end-start)}\")\n",
    "#     presults = pstats.Stats(profile).sort_stats(pstats.SortKey.TIME)\n",
    "#     presults.dump_stats('cordex_continuous.prof')\n",
    "\n",
    "# Nelder-Mead: 2:10 - 8.455\n",
    "# L-BFGS-B: 1:44 - 8.44\n",
    "# Powell: 3:41 - 8.43\n",
    "# TNC: 2:08 - 8.43\n",
    "# ~220"
   ],
   "metadata": {
    "collapsed": false
   }
  },
  {
   "cell_type": "code",
   "execution_count": 4,
   "outputs": [
    {
     "name": "stderr",
     "output_type": "stream",
     "text": [
      "100%|██████████| 1000/1000 [12:17<00:00,  1.36it/s]\n"
     ]
    },
    {
     "name": "stdout",
     "output_type": "stream",
     "text": [
      "Optimality: A\n",
      "Best criterion: 8.405\n",
      "Execution time (s): 0:12:51.445637\n"
     ]
    }
   ],
   "source": [
    "start = timer()\n",
    "results, best_cr = cordex_continuous(runs=runs,\n",
    "                                     f_list=n_x,\n",
    "                                     scalars=scalars,\n",
    "                                     optimality=optimality,\n",
    "                                     J_cb=J_cb,\n",
    "                                     R_0=None,\n",
    "                                     smooth_pen=0,\n",
    "                                     ridge_pen=0,\n",
    "                                     epochs=1000,\n",
    "                                     method='L-BFGS-B',\n",
    "                                     random_start=False,\n",
    "                                     disable_bar=True,\n",
    "                                     final_pass=True,\n",
    "                                     final_pass_iter=100)\n",
    "end = timer()\n",
    "print(f\"Optimality: {optimality}\"\n",
    "      f\"\\nBest criterion: {np.round(best_cr,3)}\"\n",
    "      f\"\\nExecution time (s): {timedelta(seconds=end-start)}\")"
   ],
   "metadata": {
    "collapsed": false
   }
  },
  {
   "cell_type": "code",
   "execution_count": 7,
   "outputs": [
    {
     "data": {
      "text/plain": "8.404633780189506"
     },
     "execution_count": 7,
     "metadata": {},
     "output_type": "execute_result"
    }
   ],
   "source": [
    "Z = np.hstack((np.ones((runs,1)), results @ J_cb))\n",
    "M = Z.T @ Z\n",
    "np.trace(np.linalg.inv(M))"
   ],
   "metadata": {
    "collapsed": false
   }
  },
  {
   "cell_type": "code",
   "execution_count": 8,
   "outputs": [
    {
     "data": {
      "text/plain": "<Figure size 400x400 with 4 Axes>",
      "image/png": "[encoded data removed]"
     },
     "metadata": {},
     "output_type": "display_data"
    }
   ],
   "source": [
    "subplot_results(sub_x=2, sub_y=2, T=np.linspace(0, 1, 1000), results=results, size=35, save=False)"
   ],
   "metadata": {
    "collapsed": false
   }
  },
  {
   "cell_type": "markdown",
   "source": [
    "## Comparissons with Literature"
   ],
   "metadata": {
    "collapsed": false
   }
  },
  {
   "cell_type": "code",
   "execution_count": null,
   "outputs": [],
   "source": [
    "literature = np.array([\n",
    "    [2, 2, 4, 8.750],\n",
    "    [2, 3, 4, 8.828],\n",
    "    [2, 4, 4, 8.750],\n",
    "    [2, 8, 4, 8.493],\n",
    "    [2, 16, 4, 8.427],\n",
    "    [2, 100, 4, 8.404],\n",
    "    [2, 2, 8, 3.958],\n",
    "    [2, 3, 8, 4.287],\n",
    "    [2, 4, 8, 3.903],\n",
    "    [2, 8, 8, 3.902],\n",
    "    [2, 16, 8, 3.887],\n",
    "    [2, 100, 8, 3.882],\n",
    "    [2, 2, 12, 2.583],\n",
    "    [2, 3, 12, 2.778],\n",
    "    [2, 4, 12, 2.570],\n",
    "    [2, 8, 12, 2.539],\n",
    "    [2, 16, 12, 2.520],\n",
    "    [2, 100, 12, 2.512],\n",
    "    [3, 3, 4, 386.408],\n",
    "    [3, 4, 4, 246.869],\n",
    "    [3, 8, 4, 218.479],\n",
    "    [3, 16, 4, 208.843],\n",
    "    [3, 100, 4, 206.884],\n",
    "    [3, 3, 8, 189.766],\n",
    "    [3, 4, 8, 103.553],\n",
    "    [3, 8, 8, 99.109],\n",
    "    [3, 16, 8, 97.408],\n",
    "    [3, 100, 8, 96.709],\n",
    "    [3, 3, 12, 126.409],\n",
    "    [3, 4, 12, 67.735],\n",
    "    [3, 8, 12, 65.217],\n",
    "    [3, 16, 12, 63.610],\n",
    "    [3, 100, 12, 63.028],\n",
    "\n",
    "])"
   ],
   "metadata": {
    "collapsed": false
   }
  },
  {
   "cell_type": "code",
   "execution_count": null,
   "outputs": [],
   "source": [
    "discrete_output_linear = []\n",
    "for n_b in [2]:\n",
    "    for run in [4,8,12]:\n",
    "        for n_x in [2,3,4,8,16,100]:\n",
    "            J_cb = calc_basis_matrix(x_basis=n_x, b_basis=n_b)\n",
    "            _, best_cr = cordex_discrete(runs=run,\n",
    "                                               feats=J_cb.shape[0],\n",
    "                                               levels=[-1,0,1],\n",
    "                                               epochs=1000,\n",
    "                                               J_cb=J_cb,\n",
    "                                               optimality='A')\n",
    "            discrete_output_linear.append(np.round(best_cr,3))\n",
    "\n",
    "discrete_output_quadratic = []\n",
    "for n_b in [3]:\n",
    "    for run in [4,8,12]:\n",
    "        for n_x in [3,4,8,16,100]:\n",
    "            J_cb = calc_basis_matrix(x_basis=n_x, b_basis=n_b)\n",
    "            _, best_cr = cordex_discrete(runs=run,\n",
    "                                         feats=J_cb.shape[0],\n",
    "                                         levels=[-1,0,1],\n",
    "                                         epochs=1000,\n",
    "                                         J_cb=J_cb,\n",
    "                                         optimality='A')\n",
    "            discrete_output_quadratic.append(np.round(best_cr,3))"
   ],
   "metadata": {
    "collapsed": false
   }
  },
  {
   "cell_type": "code",
   "execution_count": null,
   "outputs": [],
   "source": [
    "Final = np.round(np.concatenate((literature), axis=1),3)\n",
    "nm_diff = np.round(np.abs(Final[:,3] - Final[:,4]),3).reshape(-1,1)\n",
    "bfgs_diff = np.round(np.abs(Final[:,3] - Final[:,5]),3).reshape(-1,1)\n",
    "p_diff = np.round(np.abs(Final[:,3] - Final[:,6]),3).reshape(-1,1)\n",
    "tnc_diff = np.round(np.abs(Final[:,3] - Final[:,7]),3).reshape(-1,1)\n",
    "bo_diff = np.round(np.abs(Final[:,3] - Final[:,8]),3).reshape(-1,1)\n",
    "\n",
    "Final = np.concatenate((Final, nm_diff, bfgs_diff, p_diff, tnc_diff, bo_diff), axis=1)\n",
    "Final"
   ],
   "metadata": {
    "collapsed": false
   }
  },
  {
   "cell_type": "code",
   "execution_count": null,
   "outputs": [],
   "source": [
    "Final_df = pd.DataFrame(Final, columns=['n_b',\n",
    "                                        'n_x',\n",
    "                                        'n',\n",
    "                                        'Michaelidis',\n",
    "                                        'Nelder-Mead',\n",
    "                                        'L-BFGS-B',\n",
    "                                        'Powell',\n",
    "                                        'TNC',\n",
    "                                        '|Nelder-Mead diff|',\n",
    "                                        '|L-BFGS-B diff|',\n",
    "                                        '|Powell diff|',\n",
    "                                        '|TNC diff|',\n",
    "                                        '|BO diff|'])\n",
    "Final_df.to_csv(\"Comparisson.csv\")"
   ],
   "metadata": {
    "collapsed": false
   }
  }
 ],
 "metadata": {
  "kernelspec": {
   "display_name": "Python 3",
   "language": "python",
   "name": "python3"
  },
  "language_info": {
   "codemirror_mode": {
    "name": "ipython",
    "version": 2
   },
   "file_extension": ".py",
   "mimetype": "text/x-python",
   "name": "python",
   "nbconvert_exporter": "python",
   "pygments_lexer": "ipython2",
   "version": "2.7.6"
  }
 },
 "nbformat": 4,
 "nbformat_minor": 0
}
