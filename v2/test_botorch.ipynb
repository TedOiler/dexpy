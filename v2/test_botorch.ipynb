{
 "cells": [
  {
   "cell_type": "code",
   "execution_count": 4,
   "outputs": [],
   "source": [
    "import numpy as np\n",
    "from tqdm import tqdm\n",
    "import torch\n",
    "from botorch.models import SingleTaskGP, ModelListGP\n",
    "from gpytorch.mlls.exact_marginal_log_likelihood import ExactMarginalLogLikelihood\n",
    "from botorch import fit_gpytorch_model\n",
    "from botorch.acquisition.monte_carlo import qExpectedImprovement\n",
    "from botorch.acquisition.monte_carlo import qUpperConfidenceBound\n",
    "from botorch.acquisition.monte_carlo import qProbabilityOfImprovement\n",
    "from botorch.optim import optimize_acqf\n",
    "\n",
    "from Jcb import calc_basis_matrix\n",
    "from gen_rand_design import gen_rand_design\n",
    "tkwargs = {'dtype': torch.float64, 'device': 'cpu'}\n",
    "from plot_fun import subplot_results"
   ],
   "metadata": {
    "collapsed": false
   }
  },
  {
   "cell_type": "code",
   "execution_count": 2,
   "outputs": [],
   "source": [
    "def objective(X, runs, feats, optimality='A', J_cb=None):\n",
    "    ones = np.array([1]*runs).reshape(-1,1)\n",
    "    X = X.reshape(runs, feats)\n",
    "    Zetta = np.concatenate((ones, X), axis=1) if J_cb is None else np.concatenate((ones, X @ J_cb), axis=1)\n",
    "    M = Zetta.T @ Zetta\n",
    "    if optimality == 'A':\n",
    "        try:\n",
    "            cr = np.trace(np.linalg.inv(M))\n",
    "        except np.linalg.LinAlgError:\n",
    "            cr = np.infty\n",
    "        return np.array([-cr])\n",
    "    elif optimality == 'D':\n",
    "        try:\n",
    "            cr = np.linalg.det(M)\n",
    "        except np.linalg.LinAlgError:\n",
    "            cr = np.infty\n",
    "        return np.array([cr])\n",
    "    else:\n",
    "        raise ValueError(f\"Invalid criterion {optimality}. \"\n",
    "                         \"Criterion should be one of 'D', or 'A'.\")"
   ],
   "metadata": {
    "collapsed": false
   }
  },
  {
   "cell_type": "code",
   "execution_count": 3,
   "outputs": [],
   "source": [
    "def get_initial_data(runs, feats, optimality='A', J_cb=None):\n",
    "    X = gen_rand_design(runs=runs, feats=feats)\n",
    "    X_flat = X.flatten().reshape(1, runs*feats)\n",
    "    y = objective(X_flat, runs=runs, feats=feats, optimality=optimality, J_cb=J_cb)\n",
    "    best_y = y.max().item()\n",
    "    return torch.tensor(X_flat), torch.tensor(y).reshape(-1,1), best_y"
   ],
   "metadata": {
    "collapsed": false
   }
  },
  {
   "cell_type": "code",
   "execution_count": 4,
   "outputs": [],
   "source": [
    "def gen_next_point(X, y, best_y, n_exp, acq_f='EI', inequality_constraints=None):\n",
    "    bounds = torch.Tensor([[-1]*X.shape[1], [1]*X.shape[1]])\n",
    "\n",
    "    model = SingleTaskGP(X, y)\n",
    "    mll = ExactMarginalLogLikelihood(model.likelihood, model)\n",
    "    fit_gpytorch_model(mll)\n",
    "\n",
    "    if acq_f == 'EI':\n",
    "        acq_f = qExpectedImprovement(model=model, best_f=best_y)\n",
    "    elif acq_f == 'PI':\n",
    "        acq_f = qProbabilityOfImprovement(model=model, best_f=best_y)\n",
    "    elif acq_f == 'UCB':\n",
    "        acq_f = qUpperConfidenceBound(model=model, beta=0.3)\n",
    "    else:\n",
    "        raise ValueError(f\"Invalid acquisition function {acq_f}. \"\n",
    "                         \"acq_f should be one of 'EI', 'PI', or 'UCB'.\")\n",
    "\n",
    "    candidates, _ = optimize_acqf(acq_function=acq_f,\n",
    "                                  bounds=bounds,\n",
    "                                  q=n_exp,\n",
    "                                  num_restarts=10,\n",
    "                                  raw_samples=1000,\n",
    "                                  options={\"batch_limit\":5, \"maxiter\":200},\n",
    "                                  inequality_constraints=inequality_constraints)\n",
    "    return candidates"
   ],
   "metadata": {
    "collapsed": false
   }
  },
  {
   "cell_type": "code",
   "execution_count": 5,
   "outputs": [],
   "source": [
    "def bo_loop(epochs, runs, feats, optimality, J_cb, n_exp=1, acq_f='EI', inequality_constraint=None):\n",
    "    X_init, y_init, best_y_init = get_initial_data(runs=runs, feats=feats, optimality=optimality, J_cb=J_cb)\n",
    "    History_mat = []\n",
    "    for i in tqdm(range(epochs)):\n",
    "        try:\n",
    "            new_candidates = gen_next_point(X=X_init, y=y_init, best_y=best_y_init, n_exp=n_exp, acq_f=acq_f, inequality_constraints=inequality_constraint)\n",
    "        except:\n",
    "            X_init = X_init[:-1, :]\n",
    "            y_init = y_init[:-1, :]\n",
    "            continue\n",
    "        new_results = objective(X=new_candidates, runs=runs, feats=feats, optimality=optimality, J_cb=J_cb)\n",
    "        new_results = torch.Tensor(new_results.reshape(-1,1))\n",
    "\n",
    "        X_init = torch.cat([X_init, new_candidates])\n",
    "        y_init = torch.cat([y_init, new_results])\n",
    "        best_y_init = y_init.max().item()\n",
    "        History_mat.append([i, -best_y_init, new_candidates])\n",
    "\n",
    "    History_mat = np.array(History_mat, dtype=object)\n",
    "    epochs_min_id = History_mat[:,1].argmin()\n",
    "    Best_des = History_mat[epochs_min_id, 2]\n",
    "    Best_cr = History_mat[epochs_min_id, 1]\n",
    "    return np.array(Best_des).reshape(runs, feats), Best_cr"
   ],
   "metadata": {
    "collapsed": false
   }
  },
  {
   "cell_type": "code",
   "execution_count": 6,
   "outputs": [],
   "source": [
    "n_x = 2\n",
    "n_b = 2\n",
    "epochs = 250\n",
    "runs = 4"
   ],
   "metadata": {
    "collapsed": false
   }
  },
  {
   "cell_type": "code",
   "execution_count": 7,
   "outputs": [
    {
     "name": "stderr",
     "output_type": "stream",
     "text": [
      " 50%|█████     | 126/250 [01:41<03:59,  1.93s/it]/Users/thodorisladas/miniforge3/envs/optidex/lib/python3.10/site-packages/botorch/fit.py:171: RuntimeWarning: All attempts to fit the model have failed. For more information, try enabling botorch.settings.debug mode.\n",
      "  warn(str(err), RuntimeWarning)\n",
      " 57%|█████▋    | 143/250 [02:32<05:40,  3.19s/it]/Users/thodorisladas/miniforge3/envs/optidex/lib/python3.10/site-packages/botorch/fit.py:171: RuntimeWarning: All attempts to fit the model have failed. For more information, try enabling botorch.settings.debug mode.\n",
      "  warn(str(err), RuntimeWarning)\n",
      " 62%|██████▏   | 155/250 [03:31<07:35,  4.80s/it]/Users/thodorisladas/miniforge3/envs/optidex/lib/python3.10/site-packages/botorch/fit.py:171: RuntimeWarning: All attempts to fit the model have failed. For more information, try enabling botorch.settings.debug mode.\n",
      "  warn(str(err), RuntimeWarning)\n",
      " 70%|███████   | 176/250 [04:53<05:09,  4.18s/it]/Users/thodorisladas/miniforge3/envs/optidex/lib/python3.10/site-packages/botorch/fit.py:171: RuntimeWarning: All attempts to fit the model have failed. For more information, try enabling botorch.settings.debug mode.\n",
      "  warn(str(err), RuntimeWarning)\n",
      " 72%|███████▏  | 179/250 [05:00<03:00,  2.54s/it]/Users/thodorisladas/miniforge3/envs/optidex/lib/python3.10/site-packages/botorch/fit.py:171: RuntimeWarning: All attempts to fit the model have failed. For more information, try enabling botorch.settings.debug mode.\n",
      "  warn(str(err), RuntimeWarning)\n",
      " 76%|███████▌  | 190/250 [05:47<05:14,  5.24s/it]/Users/thodorisladas/miniforge3/envs/optidex/lib/python3.10/site-packages/botorch/fit.py:171: RuntimeWarning: All attempts to fit the model have failed. For more information, try enabling botorch.settings.debug mode.\n",
      "  warn(str(err), RuntimeWarning)\n",
      " 79%|███████▉  | 198/250 [06:39<04:42,  5.43s/it]/Users/thodorisladas/miniforge3/envs/optidex/lib/python3.10/site-packages/botorch/fit.py:171: RuntimeWarning: All attempts to fit the model have failed. For more information, try enabling botorch.settings.debug mode.\n",
      "  warn(str(err), RuntimeWarning)\n",
      " 80%|███████▉  | 199/250 [06:47<05:22,  6.33s/it]/Users/thodorisladas/miniforge3/envs/optidex/lib/python3.10/site-packages/botorch/fit.py:171: RuntimeWarning: All attempts to fit the model have failed. For more information, try enabling botorch.settings.debug mode.\n",
      "  warn(str(err), RuntimeWarning)\n",
      " 81%|████████  | 203/250 [07:15<05:03,  6.45s/it]/Users/thodorisladas/miniforge3/envs/optidex/lib/python3.10/site-packages/botorch/fit.py:171: RuntimeWarning: All attempts to fit the model have failed. For more information, try enabling botorch.settings.debug mode.\n",
      "  warn(str(err), RuntimeWarning)\n",
      " 82%|████████▏ | 205/250 [07:35<06:09,  8.21s/it]/Users/thodorisladas/miniforge3/envs/optidex/lib/python3.10/site-packages/botorch/fit.py:171: RuntimeWarning: All attempts to fit the model have failed. For more information, try enabling botorch.settings.debug mode.\n",
      "  warn(str(err), RuntimeWarning)\n",
      " 82%|████████▏ | 206/250 [07:43<05:57,  8.13s/it]/Users/thodorisladas/miniforge3/envs/optidex/lib/python3.10/site-packages/botorch/fit.py:171: RuntimeWarning: All attempts to fit the model have failed. For more information, try enabling botorch.settings.debug mode.\n",
      "  warn(str(err), RuntimeWarning)\n",
      " 83%|████████▎ | 207/250 [07:55<06:38,  9.28s/it]/Users/thodorisladas/miniforge3/envs/optidex/lib/python3.10/site-packages/botorch/fit.py:171: RuntimeWarning: All attempts to fit the model have failed. For more information, try enabling botorch.settings.debug mode.\n",
      "  warn(str(err), RuntimeWarning)\n",
      " 87%|████████▋ | 218/250 [08:44<02:02,  3.84s/it]/Users/thodorisladas/miniforge3/envs/optidex/lib/python3.10/site-packages/botorch/fit.py:171: RuntimeWarning: All attempts to fit the model have failed. For more information, try enabling botorch.settings.debug mode.\n",
      "  warn(str(err), RuntimeWarning)\n",
      " 88%|████████▊ | 219/250 [08:51<02:23,  4.64s/it]/Users/thodorisladas/miniforge3/envs/optidex/lib/python3.10/site-packages/botorch/fit.py:171: RuntimeWarning: All attempts to fit the model have failed. For more information, try enabling botorch.settings.debug mode.\n",
      "  warn(str(err), RuntimeWarning)\n",
      " 88%|████████▊ | 220/250 [09:00<02:59,  5.99s/it]/Users/thodorisladas/miniforge3/envs/optidex/lib/python3.10/site-packages/botorch/fit.py:171: RuntimeWarning: All attempts to fit the model have failed. For more information, try enabling botorch.settings.debug mode.\n",
      "  warn(str(err), RuntimeWarning)\n",
      " 90%|████████▉ | 224/250 [09:21<02:10,  5.01s/it]/Users/thodorisladas/miniforge3/envs/optidex/lib/python3.10/site-packages/botorch/fit.py:171: RuntimeWarning: All attempts to fit the model have failed. For more information, try enabling botorch.settings.debug mode.\n",
      "  warn(str(err), RuntimeWarning)\n",
      " 90%|█████████ | 226/250 [09:33<02:06,  5.26s/it]/Users/thodorisladas/miniforge3/envs/optidex/lib/python3.10/site-packages/botorch/fit.py:171: RuntimeWarning: All attempts to fit the model have failed. For more information, try enabling botorch.settings.debug mode.\n",
      "  warn(str(err), RuntimeWarning)\n",
      " 92%|█████████▏| 229/250 [09:47<01:33,  4.44s/it]/Users/thodorisladas/miniforge3/envs/optidex/lib/python3.10/site-packages/botorch/fit.py:171: RuntimeWarning: All attempts to fit the model have failed. For more information, try enabling botorch.settings.debug mode.\n",
      "  warn(str(err), RuntimeWarning)\n",
      " 92%|█████████▏| 230/250 [09:56<01:55,  5.76s/it]/Users/thodorisladas/miniforge3/envs/optidex/lib/python3.10/site-packages/botorch/fit.py:171: RuntimeWarning: All attempts to fit the model have failed. For more information, try enabling botorch.settings.debug mode.\n",
      "  warn(str(err), RuntimeWarning)\n",
      " 92%|█████████▏| 231/250 [10:09<02:34,  8.11s/it]/Users/thodorisladas/miniforge3/envs/optidex/lib/python3.10/site-packages/botorch/fit.py:171: RuntimeWarning: All attempts to fit the model have failed. For more information, try enabling botorch.settings.debug mode.\n",
      "  warn(str(err), RuntimeWarning)\n",
      " 95%|█████████▌| 238/250 [10:50<01:15,  6.31s/it]/Users/thodorisladas/miniforge3/envs/optidex/lib/python3.10/site-packages/botorch/fit.py:171: RuntimeWarning: All attempts to fit the model have failed. For more information, try enabling botorch.settings.debug mode.\n",
      "  warn(str(err), RuntimeWarning)\n",
      " 99%|█████████▉| 247/250 [11:40<00:13,  4.64s/it]/Users/thodorisladas/miniforge3/envs/optidex/lib/python3.10/site-packages/botorch/fit.py:171: RuntimeWarning: All attempts to fit the model have failed. For more information, try enabling botorch.settings.debug mode.\n",
      "  warn(str(err), RuntimeWarning)\n",
      "100%|██████████| 250/250 [11:59<00:00,  2.88s/it]\n"
     ]
    }
   ],
   "source": [
    "J_cb = calc_basis_matrix(x_basis=n_x, b_basis=n_b)\n",
    "Design, Cr = bo_loop(epochs=epochs,\n",
    "                     runs=runs,\n",
    "                     feats=n_x,\n",
    "                     optimality='A',\n",
    "                     J_cb=J_cb,\n",
    "                     n_exp=1,\n",
    "                     acq_f='EI',\n",
    "                     inequality_constraint=None)"
   ],
   "metadata": {
    "collapsed": false
   }
  },
  {
   "cell_type": "code",
   "execution_count": 8,
   "outputs": [
    {
     "data": {
      "text/plain": "8.75"
     },
     "execution_count": 8,
     "metadata": {},
     "output_type": "execute_result"
    }
   ],
   "source": [
    "Z = np.concatenate((np.array([1]*4).reshape(-1,1), Design @ J_cb) ,axis=1)\n",
    "np.trace(np.linalg.inv(Z.T @ Z))"
   ],
   "metadata": {
    "collapsed": false
   }
  },
  {
   "cell_type": "code",
   "execution_count": 9,
   "outputs": [
    {
     "data": {
      "text/plain": "array([[-1.,  1.],\n       [-1.,  1.],\n       [ 1.,  1.],\n       [ 1., -1.]], dtype=float32)"
     },
     "execution_count": 9,
     "metadata": {},
     "output_type": "execute_result"
    }
   ],
   "source": [
    "Design"
   ],
   "metadata": {
    "collapsed": false
   }
  },
  {
   "cell_type": "code",
   "execution_count": 19,
   "outputs": [
    {
     "data": {
      "text/plain": "8.75"
     },
     "execution_count": 19,
     "metadata": {},
     "output_type": "execute_result"
    }
   ],
   "source": [
    "Cr"
   ],
   "metadata": {
    "collapsed": false
   }
  },
  {
   "cell_type": "code",
   "execution_count": 27,
   "outputs": [
    {
     "data": {
      "text/plain": "0.1875"
     },
     "execution_count": 27,
     "metadata": {},
     "output_type": "execute_result"
    }
   ],
   "source": [
    "ZZ = Design @ J_cb"
   ],
   "metadata": {
    "collapsed": false
   }
  },
  {
   "cell_type": "code",
   "execution_count": 11,
   "outputs": [
    {
     "data": {
      "text/plain": "<Figure size 640x480 with 4 Axes>",
      "image/png": "[encoded data removed]"
     },
     "metadata": {},
     "output_type": "display_data"
    }
   ],
   "source": [
    "subplot_results(sub_x=2, sub_y=2, T=np.linspace(0,1,1000), results=Design, J_cb=J_cb)"
   ],
   "metadata": {
    "collapsed": false
   }
  },
  {
   "cell_type": "code",
   "execution_count": 21,
   "outputs": [],
   "source": [
    "import torch\n",
    "import numpy as np"
   ],
   "metadata": {
    "collapsed": false
   }
  },
  {
   "cell_type": "code",
   "execution_count": 22,
   "outputs": [],
   "source": [
    "T_data = [\n",
    "    [[1, 1], [-1, -1], [1, -1], [-1, 1]],\n",
    "    [[1, -1], [-1, 1], [0, -1], [-1, 0]],\n",
    "    [[1, 0], [1, -0], [0, -1], [1, 0]],\n",
    "    [[-1, 1], [0, -1], [1, -1], [0, 1]]\n",
    "]"
   ],
   "metadata": {
    "collapsed": false
   }
  },
  {
   "cell_type": "code",
   "execution_count": 23,
   "outputs": [],
   "source": [
    "T = torch.tensor(T_data)"
   ],
   "metadata": {
    "collapsed": false
   }
  },
  {
   "cell_type": "code",
   "execution_count": 26,
   "outputs": [
    {
     "data": {
      "text/plain": "8"
     },
     "execution_count": 26,
     "metadata": {},
     "output_type": "execute_result"
    }
   ],
   "source": [
    "np.trace(T[0].T @ T[0])"
   ],
   "metadata": {
    "collapsed": false
   }
  },
  {
   "cell_type": "code",
   "execution_count": 30,
   "outputs": [
    {
     "data": {
      "text/plain": "tensor([[4, 0],\n        [0, 4]])"
     },
     "execution_count": 30,
     "metadata": {},
     "output_type": "execute_result"
    }
   ],
   "source": [
    "T[0].T @ T[0]"
   ],
   "metadata": {
    "collapsed": false
   }
  },
  {
   "cell_type": "code",
   "execution_count": 38,
   "outputs": [
    {
     "data": {
      "text/plain": "torch.Size([4, 4, 2])"
     },
     "execution_count": 38,
     "metadata": {},
     "output_type": "execute_result"
    }
   ],
   "source": [
    "T.shape"
   ],
   "metadata": {
    "collapsed": false
   }
  },
  {
   "cell_type": "code",
   "execution_count": 57,
   "outputs": [
    {
     "data": {
      "text/plain": "torch.Size([4, 1, 1])"
     },
     "execution_count": 57,
     "metadata": {},
     "output_type": "execute_result"
    }
   ],
   "source": [
    "y = torch.Tensor([[[np.trace(T[i])]] for i in range(T.shape[0])])\n",
    "y.shape"
   ],
   "metadata": {
    "collapsed": false
   }
  },
  {
   "cell_type": "code",
   "execution_count": 58,
   "outputs": [
    {
     "ename": "RuntimeError",
     "evalue": "Sizes of tensors must match except in dimension 1. Expected size 1 but got size 2 for tensor number 1 in the list.",
     "output_type": "error",
     "traceback": [
      "\u001B[0;31m---------------------------------------------------------------------------\u001B[0m",
      "\u001B[0;31mRuntimeError\u001B[0m                              Traceback (most recent call last)",
      "Cell \u001B[0;32mIn[58], line 1\u001B[0m\n\u001B[0;32m----> 1\u001B[0m \u001B[43mtorch\u001B[49m\u001B[38;5;241;43m.\u001B[39;49m\u001B[43mcat\u001B[49m\u001B[43m(\u001B[49m\u001B[43m(\u001B[49m\u001B[43my\u001B[49m\u001B[43m,\u001B[49m\u001B[43mT\u001B[49m\u001B[43m)\u001B[49m\u001B[43m,\u001B[49m\u001B[43m \u001B[49m\u001B[43mdim\u001B[49m\u001B[38;5;241;43m=\u001B[39;49m\u001B[38;5;241;43m1\u001B[39;49m\u001B[43m)\u001B[49m\n",
      "\u001B[0;31mRuntimeError\u001B[0m: Sizes of tensors must match except in dimension 1. Expected size 1 but got size 2 for tensor number 1 in the list."
     ]
    }
   ],
   "source": [
    "torch.cat((y,T), dim=1)"
   ],
   "metadata": {
    "collapsed": false
   }
  },
  {
   "cell_type": "code",
   "execution_count": 44,
   "outputs": [
    {
     "data": {
      "text/plain": "tensor([[[ 1,  1],\n         [-1, -1],\n         [ 1, -1],\n         [-1,  1]],\n\n        [[ 1, -1],\n         [-1,  1],\n         [ 0, -1],\n         [-1,  0]],\n\n        [[ 1,  0],\n         [ 1,  0],\n         [ 0, -1],\n         [ 1,  0]],\n\n        [[-1,  1],\n         [ 0, -1],\n         [ 1, -1],\n         [ 0,  1]]])"
     },
     "execution_count": 44,
     "metadata": {},
     "output_type": "execute_result"
    }
   ],
   "source": [
    "T"
   ],
   "metadata": {
    "collapsed": false
   }
  },
  {
   "cell_type": "code",
   "execution_count": 45,
   "outputs": [
    {
     "data": {
      "text/plain": "tensor([[[ 0.]],\n\n        [[ 2.]],\n\n        [[ 1.]],\n\n        [[-2.]]])"
     },
     "execution_count": 45,
     "metadata": {},
     "output_type": "execute_result"
    }
   ],
   "source": [
    "y"
   ],
   "metadata": {
    "collapsed": false
   }
  },
  {
   "cell_type": "markdown",
   "source": [
    "---"
   ],
   "metadata": {
    "collapsed": false
   }
  },
  {
   "cell_type": "code",
   "execution_count": 8,
   "outputs": [],
   "source": [
    "import numpy as np\n",
    "from skopt import gp_minimize\n",
    "from matplotlib import pyplot as plt"
   ],
   "metadata": {
    "collapsed": false
   }
  },
  {
   "cell_type": "code",
   "execution_count": 5,
   "outputs": [],
   "source": [
    "X = gen_rand_design(2,2)"
   ],
   "metadata": {
    "collapsed": false
   }
  },
  {
   "cell_type": "code",
   "execution_count": 6,
   "outputs": [
    {
     "data": {
      "text/plain": "array([[-0.37691524, -0.09773482],\n       [-0.68368242,  0.7478231 ]])"
     },
     "execution_count": 6,
     "metadata": {},
     "output_type": "execute_result"
    }
   ],
   "source": [
    "def objective(X, runs, feats, J_cb, optimality='A'):\n",
    "    ones = np.array([1]*runs).reshape(-1,1)\n",
    "    Z = np.concatenate((ones, X@J_cb), axis=1)\n",
    "    M = Z.T @ Z\n",
    "    if optimality=='A':\n",
    "        try:\n",
    "            cr = np.trace(np.linalg.inv(M))\n",
    "        except np.linalg.LinAlgError:\n",
    "            cr = np.infty\n",
    "        return cr\n",
    "    elif optimality=='D':\n",
    "        try:\n",
    "            cr = np.linalg.det(M)\n",
    "        except np.linalg.LinAlgError:\n",
    "            cr = np.infty\n",
    "        return -cr"
   ],
   "metadata": {
    "collapsed": false
   }
  },
  {
   "cell_type": "code",
   "execution_count": 46,
   "outputs": [],
   "source": [
    "def f(x, noise_level=0):\n",
    "    return x[0]**2 + x[1]**2 + x[0]*x[1] + np.random.rand() * noise_level"
   ],
   "metadata": {
    "collapsed": false
   }
  },
  {
   "cell_type": "code",
   "execution_count": 13,
   "outputs": [
    {
     "data": {
      "text/plain": "<Figure size 640x480 with 1 Axes>",
      "image/png": "[encoded data removed]"
     },
     "metadata": {},
     "output_type": "display_data"
    }
   ],
   "source": [
    "x = np.linspace(-2,2,400).reshape(-1,1)\n",
    "fx =  [f(x_i, noise_level=0.0) for x_i in x]\n",
    "plt.plot(x, fx, \"r--\", label=\"True (unknown)\")\n",
    "plt.legend()\n",
    "plt.show()"
   ],
   "metadata": {
    "collapsed": false
   }
  },
  {
   "cell_type": "code",
   "execution_count": 100,
   "outputs": [],
   "source": [
    "def a_optim(x):\n",
    "    runs = 4\n",
    "    feats = 100\n",
    "    X = np.array(x).reshape(runs, feats)\n",
    "    J_cb = calc_basis_matrix(feats, 2)\n",
    "    ones = np.array([1]*runs).reshape(-1,1)\n",
    "    Z = np.concatenate((ones, X@J_cb), axis=1)\n",
    "    M = Z.T @ Z\n",
    "    try:\n",
    "        cr = np.trace(np.linalg.inv(M))\n",
    "    except np.linalg.LinAlgError:\n",
    "        cr = 1e+100\n",
    "    return cr"
   ],
   "metadata": {
    "collapsed": false
   }
  },
  {
   "cell_type": "code",
   "execution_count": 178,
   "outputs": [],
   "source": [
    "from cordex_discrete import cordex_discrete\n",
    "Jmat = calc_basis_matrix(100,2)\n",
    "epochs=50\n",
    "\n",
    "x0, y0, history = cordex_discrete(4, Jmat.shape[0], levels=[-1,0,1], epochs=epochs, optimality='A', J_cb=Jmat, disable_bar=True)"
   ],
   "metadata": {
    "collapsed": false
   }
  },
  {
   "cell_type": "code",
   "execution_count": 179,
   "outputs": [],
   "source": [
    "X0 = [history[i][2].flatten().tolist() for i in range(epochs)]\n",
    "Y0 = [history[i][1] for i in range(epochs)]"
   ],
   "metadata": {
    "collapsed": false
   }
  },
  {
   "cell_type": "code",
   "execution_count": 180,
   "outputs": [
    {
     "data": {
      "text/plain": "[9.805591886584091,\n 20.342162548663097,\n 17.166459839795706,\n 9.98742956223371,\n 31.797718683255546,\n 19.326476790980813,\n 22.0572501083415,\n 9.353081640766858,\n 24.756808412121774,\n 26.437484443528987,\n 10.10398839990758,\n 15.437414864168556,\n 16.654870963360132,\n 12.819979421452889,\n 36.97300693261122,\n 12.94576447314051,\n 22.902688751206085,\n 18.190876774378808,\n 11.195921127873813,\n 25.678623984674314,\n 20.895941335100503,\n 24.88771267237879,\n 10.768796111855245,\n 13.036968135545836,\n 35.36563043843203,\n 13.117193177753652,\n 10.929487467676147,\n 21.139196338096955,\n 14.815120201104675,\n 35.84810139124256,\n 10.329748250631477,\n 20.309986855528187,\n 11.782304483474373,\n 25.80175976296345,\n 24.910924754223245,\n 10.247909762898132,\n 11.104002050238456,\n 26.248952098384805,\n 13.207490095632815,\n 9.096669916229175,\n 18.36454069313804,\n 13.041689540939515,\n 12.225315778895745,\n 21.25178665729703,\n 26.871591760628867,\n 20.856785458466845,\n 11.548527811419834,\n 22.38519998766106,\n 16.15786433744244,\n 13.641820090998742]"
     },
     "execution_count": 180,
     "metadata": {},
     "output_type": "execute_result"
    }
   ],
   "source": [
    "Y0"
   ],
   "metadata": {
    "collapsed": false
   }
  },
  {
   "cell_type": "code",
   "execution_count": 181,
   "outputs": [],
   "source": [
    "res = gp_minimize(a_optim,\n",
    "                  [(-1,1) for _ in range(400)],\n",
    "                  acq_func=\"LCB\",\n",
    "                  x0=X0,\n",
    "                  y0=Y0,\n",
    "                  n_calls=30,\n",
    "                  n_random_starts=10,\n",
    "                  noise=0)"
   ],
   "metadata": {
    "collapsed": false
   }
  },
  {
   "cell_type": "code",
   "execution_count": 182,
   "outputs": [],
   "source": [
    "Design = np.array(res.x).reshape(4, 100)"
   ],
   "metadata": {
    "collapsed": false
   }
  },
  {
   "cell_type": "code",
   "execution_count": 183,
   "outputs": [
    {
     "data": {
      "text/plain": "9.096669916229175"
     },
     "execution_count": 183,
     "metadata": {},
     "output_type": "execute_result"
    }
   ],
   "source": [
    "res.fun"
   ],
   "metadata": {
    "collapsed": false
   }
  },
  {
   "cell_type": "code",
   "execution_count": 184,
   "outputs": [
    {
     "ename": "ValueError",
     "evalue": "matmul: Input operand 1 does not have enough dimensions (has 0, gufunc core with signature (n?,k),(k,m?)->(n?,m?) requires 1)",
     "output_type": "error",
     "traceback": [
      "\u001B[0;31m---------------------------------------------------------------------------\u001B[0m",
      "\u001B[0;31mValueError\u001B[0m                                Traceback (most recent call last)",
      "Cell \u001B[0;32mIn[184], line 1\u001B[0m\n\u001B[0;32m----> 1\u001B[0m \u001B[43msubplot_results\u001B[49m\u001B[43m(\u001B[49m\u001B[43msub_x\u001B[49m\u001B[38;5;241;43m=\u001B[39;49m\u001B[38;5;241;43m2\u001B[39;49m\u001B[43m,\u001B[49m\u001B[43m \u001B[49m\u001B[43msub_y\u001B[49m\u001B[38;5;241;43m=\u001B[39;49m\u001B[38;5;241;43m2\u001B[39;49m\u001B[43m,\u001B[49m\u001B[43m \u001B[49m\u001B[43mT\u001B[49m\u001B[38;5;241;43m=\u001B[39;49m\u001B[43mnp\u001B[49m\u001B[38;5;241;43m.\u001B[39;49m\u001B[43mlinspace\u001B[49m\u001B[43m(\u001B[49m\u001B[38;5;241;43m0\u001B[39;49m\u001B[43m,\u001B[49m\u001B[38;5;241;43m1\u001B[39;49m\u001B[43m,\u001B[49m\u001B[38;5;241;43m1000\u001B[39;49m\u001B[43m)\u001B[49m\u001B[43m,\u001B[49m\u001B[43m \u001B[49m\u001B[43mresults\u001B[49m\u001B[38;5;241;43m=\u001B[39;49m\u001B[43mDesign\u001B[49m\u001B[43m,\u001B[49m\u001B[43m \u001B[49m\u001B[43mJ_cb\u001B[49m\u001B[38;5;241;43m=\u001B[39;49m\u001B[38;5;28;43;01mNone\u001B[39;49;00m\u001B[43m)\u001B[49m\n",
      "File \u001B[0;32m~/Documents/code/optidex/v2/plot_fun.py:67\u001B[0m, in \u001B[0;36msubplot_results\u001B[0;34m(sub_x, sub_y, T, results, J_cb)\u001B[0m\n\u001B[1;32m     65\u001B[0m         plot_basis(ax\u001B[38;5;241m=\u001B[39max[i, j], T\u001B[38;5;241m=\u001B[39mT, w\u001B[38;5;241m=\u001B[39mresults[row_to_plot, :]\u001B[38;5;241m.\u001B[39mtolist(), f\u001B[38;5;241m=\u001B[39mstep)\n\u001B[1;32m     66\u001B[0m         row_to_plot \u001B[38;5;241m+\u001B[39m\u001B[38;5;241m=\u001B[39m \u001B[38;5;241m1\u001B[39m\n\u001B[0;32m---> 67\u001B[0m Z \u001B[38;5;241m=\u001B[39m np\u001B[38;5;241m.\u001B[39mconcatenate((np\u001B[38;5;241m.\u001B[39marray([\u001B[38;5;241m1\u001B[39m] \u001B[38;5;241m*\u001B[39m (sub_x \u001B[38;5;241m*\u001B[39m sub_y))\u001B[38;5;241m.\u001B[39mreshape(\u001B[38;5;241m-\u001B[39m\u001B[38;5;241m1\u001B[39m, \u001B[38;5;241m1\u001B[39m), \u001B[43mresults\u001B[49m\u001B[43m \u001B[49m\u001B[38;5;241;43m@\u001B[39;49m\u001B[43m \u001B[49m\u001B[43mJ_cb\u001B[49m), axis\u001B[38;5;241m=\u001B[39m\u001B[38;5;241m1\u001B[39m)\n\u001B[1;32m     68\u001B[0m opt \u001B[38;5;241m=\u001B[39m np\u001B[38;5;241m.\u001B[39mround(np\u001B[38;5;241m.\u001B[39mtrace(np\u001B[38;5;241m.\u001B[39mlinalg\u001B[38;5;241m.\u001B[39minv(Z\u001B[38;5;241m.\u001B[39mT \u001B[38;5;241m@\u001B[39m Z)), \u001B[38;5;241m3\u001B[39m)\n\u001B[1;32m     69\u001B[0m \u001B[38;5;66;03m# fig.suptitle(f'A-opt: {opt}')\u001B[39;00m\n",
      "\u001B[0;31mValueError\u001B[0m: matmul: Input operand 1 does not have enough dimensions (has 0, gufunc core with signature (n?,k),(k,m?)->(n?,m?) requires 1)"
     ]
    },
    {
     "data": {
      "text/plain": "<Figure size 640x480 with 4 Axes>",
      "image/png": "[encoded data removed]"
     },
     "metadata": {},
     "output_type": "display_data"
    }
   ],
   "source": [
    "subplot_results(sub_x=2, sub_y=2, T=np.linspace(0,1,1000), results=Design, J_cb=None)"
   ],
   "metadata": {
    "collapsed": false
   }
  },
  {
   "cell_type": "code",
   "execution_count": null,
   "outputs": [],
   "source": [
    "from skopt.plots import plot_convergence\n",
    "plot_convergence(res)"
   ],
   "metadata": {
    "collapsed": false
   }
  },
  {
   "cell_type": "code",
   "execution_count": null,
   "outputs": [],
   "source": [],
   "metadata": {
    "collapsed": false
   }
  }
 ],
 "metadata": {
  "kernelspec": {
   "display_name": "Python 3",
   "language": "python",
   "name": "python3"
  },
  "language_info": {
   "codemirror_mode": {
    "name": "ipython",
    "version": 2
   },
   "file_extension": ".py",
   "mimetype": "text/x-python",
   "name": "python",
   "nbconvert_exporter": "python",
   "pygments_lexer": "ipython2",
   "version": "2.7.6"
  }
 },
 "nbformat": 4,
 "nbformat_minor": 0
}
