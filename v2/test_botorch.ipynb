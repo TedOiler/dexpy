{
 "cells": [
  {
   "cell_type": "code",
   "execution_count": 1,
   "outputs": [],
   "source": [
    "import numpy as np\n",
    "from tqdm import tqdm\n",
    "import torch\n",
    "from botorch.models import SingleTaskGP, ModelListGP\n",
    "from gpytorch.mlls.exact_marginal_log_likelihood import ExactMarginalLogLikelihood\n",
    "from botorch import fit_gpytorch_model\n",
    "from botorch.acquisition.monte_carlo import qExpectedImprovement\n",
    "from botorch.acquisition.monte_carlo import qUpperConfidenceBound\n",
    "from botorch.acquisition.monte_carlo import qProbabilityOfImprovement\n",
    "from botorch.optim import optimize_acqf\n",
    "\n",
    "from Jcb import calc_basis_matrix\n",
    "from gen_rand_design import gen_rand_design\n",
    "tkwargs = {'dtype': torch.float64, 'device': 'cpu'}\n",
    "from plot_fun import subplot_results"
   ],
   "metadata": {
    "collapsed": false
   }
  },
  {
   "cell_type": "code",
   "execution_count": 2,
   "outputs": [],
   "source": [
    "def objective(X, runs, feats, optimality='A', J_cb=None):\n",
    "    ones = np.array([1]*runs).reshape(-1,1)\n",
    "    X = X.reshape(runs, feats)\n",
    "    Zetta = np.concatenate((ones, X), axis=1) if J_cb is None else np.concatenate((ones, X @ J_cb), axis=1)\n",
    "    M = Zetta.T @ Zetta\n",
    "    if optimality == 'A':\n",
    "        try:\n",
    "            cr = np.trace(np.linalg.inv(M))\n",
    "        except np.linalg.LinAlgError:\n",
    "            cr = np.infty\n",
    "        return np.array([-cr])\n",
    "    elif optimality == 'D':\n",
    "        try:\n",
    "            cr = np.linalg.det(M)\n",
    "        except np.linalg.LinAlgError:\n",
    "            cr = np.infty\n",
    "        return np.array([cr])\n",
    "    else:\n",
    "        raise ValueError(f\"Invalid criterion {optimality}. \"\n",
    "                         \"Criterion should be one of 'D', or 'A'.\")"
   ],
   "metadata": {
    "collapsed": false
   }
  },
  {
   "cell_type": "code",
   "execution_count": 3,
   "outputs": [],
   "source": [
    "def get_initial_data(runs, feats, optimality='A', J_cb=None):\n",
    "    X = gen_rand_design(runs=runs, feats=feats)\n",
    "    X_flat = X.flatten().reshape(1, runs*feats)\n",
    "    y = objective(X_flat, runs=runs, feats=feats, optimality=optimality, J_cb=J_cb)\n",
    "    best_y = y.max().item()\n",
    "    return torch.tensor(X_flat), torch.tensor(y).reshape(-1,1), best_y"
   ],
   "metadata": {
    "collapsed": false
   }
  },
  {
   "cell_type": "code",
   "execution_count": 4,
   "outputs": [],
   "source": [
    "def gen_next_point(X, y, best_y, n_exp, acq_f='EI', inequality_constraints=None):\n",
    "    bounds = torch.Tensor([[-1]*X.shape[1], [1]*X.shape[1]])\n",
    "\n",
    "    model = SingleTaskGP(X, y)\n",
    "    mll = ExactMarginalLogLikelihood(model.likelihood, model)\n",
    "    fit_gpytorch_model(mll)\n",
    "\n",
    "    if acq_f == 'EI':\n",
    "        acq_f = qExpectedImprovement(model=model, best_f=best_y)\n",
    "    elif acq_f == 'PI':\n",
    "        acq_f = qProbabilityOfImprovement(model=model, best_f=best_y)\n",
    "    elif acq_f == 'UCB':\n",
    "        acq_f = qUpperConfidenceBound(model=model, beta=0.3)\n",
    "    else:\n",
    "        raise ValueError(f\"Invalid acquisition function {acq_f}. \"\n",
    "                         \"acq_f should be one of 'EI', 'PI', or 'UCB'.\")\n",
    "\n",
    "    candidates, _ = optimize_acqf(acq_function=acq_f,\n",
    "                                  bounds=bounds,\n",
    "                                  q=n_exp,\n",
    "                                  num_restarts=10,\n",
    "                                  raw_samples=1000,\n",
    "                                  options={\"batch_limit\":5, \"maxiter\":200},\n",
    "                                  inequality_constraints=inequality_constraints)\n",
    "    return candidates"
   ],
   "metadata": {
    "collapsed": false
   }
  },
  {
   "cell_type": "code",
   "execution_count": 5,
   "outputs": [],
   "source": [
    "def bo_loop(epochs, runs, feats, optimality, J_cb, n_exp=1, acq_f='EI', inequality_constraint=None):\n",
    "    X_init, y_init, best_y_init = get_initial_data(runs=runs, feats=feats, optimality=optimality, J_cb=J_cb)\n",
    "    History_mat = []\n",
    "    for i in tqdm(range(epochs)):\n",
    "        try:\n",
    "            new_candidates = gen_next_point(X=X_init, y=y_init, best_y=best_y_init, n_exp=n_exp, acq_f=acq_f, inequality_constraints=inequality_constraint)\n",
    "        except:\n",
    "            X_init = X_init[:-1, :]\n",
    "            y_init = y_init[:-1, :]\n",
    "            continue\n",
    "        new_results = objective(X=new_candidates, runs=runs, feats=feats, optimality=optimality, J_cb=J_cb)\n",
    "        new_results = torch.Tensor(new_results.reshape(-1,1))\n",
    "\n",
    "        X_init = torch.cat([X_init, new_candidates])\n",
    "        y_init = torch.cat([y_init, new_results])\n",
    "        best_y_init = y_init.max().item()\n",
    "        History_mat.append([i, -best_y_init, new_candidates])\n",
    "\n",
    "    History_mat = np.array(History_mat, dtype=object)\n",
    "    epochs_min_id = History_mat[:,1].argmin()\n",
    "    Best_des = History_mat[epochs_min_id, 2]\n",
    "    Best_cr = History_mat[epochs_min_id, 1]\n",
    "    return np.array(Best_des).reshape(runs, feats), Best_cr"
   ],
   "metadata": {
    "collapsed": false
   }
  },
  {
   "cell_type": "code",
   "execution_count": 6,
   "outputs": [],
   "source": [
    "n_x = 2\n",
    "n_b = 2\n",
    "epochs = 250\n",
    "runs = 4"
   ],
   "metadata": {
    "collapsed": false
   }
  },
  {
   "cell_type": "code",
   "execution_count": 7,
   "outputs": [
    {
     "name": "stderr",
     "output_type": "stream",
     "text": [
      " 50%|█████     | 126/250 [01:41<03:59,  1.93s/it]/Users/thodorisladas/miniforge3/envs/optidex/lib/python3.10/site-packages/botorch/fit.py:171: RuntimeWarning: All attempts to fit the model have failed. For more information, try enabling botorch.settings.debug mode.\n",
      "  warn(str(err), RuntimeWarning)\n",
      " 57%|█████▋    | 143/250 [02:32<05:40,  3.19s/it]/Users/thodorisladas/miniforge3/envs/optidex/lib/python3.10/site-packages/botorch/fit.py:171: RuntimeWarning: All attempts to fit the model have failed. For more information, try enabling botorch.settings.debug mode.\n",
      "  warn(str(err), RuntimeWarning)\n",
      " 62%|██████▏   | 155/250 [03:31<07:35,  4.80s/it]/Users/thodorisladas/miniforge3/envs/optidex/lib/python3.10/site-packages/botorch/fit.py:171: RuntimeWarning: All attempts to fit the model have failed. For more information, try enabling botorch.settings.debug mode.\n",
      "  warn(str(err), RuntimeWarning)\n",
      " 70%|███████   | 176/250 [04:53<05:09,  4.18s/it]/Users/thodorisladas/miniforge3/envs/optidex/lib/python3.10/site-packages/botorch/fit.py:171: RuntimeWarning: All attempts to fit the model have failed. For more information, try enabling botorch.settings.debug mode.\n",
      "  warn(str(err), RuntimeWarning)\n",
      " 72%|███████▏  | 179/250 [05:00<03:00,  2.54s/it]/Users/thodorisladas/miniforge3/envs/optidex/lib/python3.10/site-packages/botorch/fit.py:171: RuntimeWarning: All attempts to fit the model have failed. For more information, try enabling botorch.settings.debug mode.\n",
      "  warn(str(err), RuntimeWarning)\n",
      " 76%|███████▌  | 190/250 [05:47<05:14,  5.24s/it]/Users/thodorisladas/miniforge3/envs/optidex/lib/python3.10/site-packages/botorch/fit.py:171: RuntimeWarning: All attempts to fit the model have failed. For more information, try enabling botorch.settings.debug mode.\n",
      "  warn(str(err), RuntimeWarning)\n",
      " 79%|███████▉  | 198/250 [06:39<04:42,  5.43s/it]/Users/thodorisladas/miniforge3/envs/optidex/lib/python3.10/site-packages/botorch/fit.py:171: RuntimeWarning: All attempts to fit the model have failed. For more information, try enabling botorch.settings.debug mode.\n",
      "  warn(str(err), RuntimeWarning)\n",
      " 80%|███████▉  | 199/250 [06:47<05:22,  6.33s/it]/Users/thodorisladas/miniforge3/envs/optidex/lib/python3.10/site-packages/botorch/fit.py:171: RuntimeWarning: All attempts to fit the model have failed. For more information, try enabling botorch.settings.debug mode.\n",
      "  warn(str(err), RuntimeWarning)\n",
      " 81%|████████  | 203/250 [07:15<05:03,  6.45s/it]/Users/thodorisladas/miniforge3/envs/optidex/lib/python3.10/site-packages/botorch/fit.py:171: RuntimeWarning: All attempts to fit the model have failed. For more information, try enabling botorch.settings.debug mode.\n",
      "  warn(str(err), RuntimeWarning)\n",
      " 82%|████████▏ | 205/250 [07:35<06:09,  8.21s/it]/Users/thodorisladas/miniforge3/envs/optidex/lib/python3.10/site-packages/botorch/fit.py:171: RuntimeWarning: All attempts to fit the model have failed. For more information, try enabling botorch.settings.debug mode.\n",
      "  warn(str(err), RuntimeWarning)\n",
      " 82%|████████▏ | 206/250 [07:43<05:57,  8.13s/it]/Users/thodorisladas/miniforge3/envs/optidex/lib/python3.10/site-packages/botorch/fit.py:171: RuntimeWarning: All attempts to fit the model have failed. For more information, try enabling botorch.settings.debug mode.\n",
      "  warn(str(err), RuntimeWarning)\n",
      " 83%|████████▎ | 207/250 [07:55<06:38,  9.28s/it]/Users/thodorisladas/miniforge3/envs/optidex/lib/python3.10/site-packages/botorch/fit.py:171: RuntimeWarning: All attempts to fit the model have failed. For more information, try enabling botorch.settings.debug mode.\n",
      "  warn(str(err), RuntimeWarning)\n",
      " 87%|████████▋ | 218/250 [08:44<02:02,  3.84s/it]/Users/thodorisladas/miniforge3/envs/optidex/lib/python3.10/site-packages/botorch/fit.py:171: RuntimeWarning: All attempts to fit the model have failed. For more information, try enabling botorch.settings.debug mode.\n",
      "  warn(str(err), RuntimeWarning)\n",
      " 88%|████████▊ | 219/250 [08:51<02:23,  4.64s/it]/Users/thodorisladas/miniforge3/envs/optidex/lib/python3.10/site-packages/botorch/fit.py:171: RuntimeWarning: All attempts to fit the model have failed. For more information, try enabling botorch.settings.debug mode.\n",
      "  warn(str(err), RuntimeWarning)\n",
      " 88%|████████▊ | 220/250 [09:00<02:59,  5.99s/it]/Users/thodorisladas/miniforge3/envs/optidex/lib/python3.10/site-packages/botorch/fit.py:171: RuntimeWarning: All attempts to fit the model have failed. For more information, try enabling botorch.settings.debug mode.\n",
      "  warn(str(err), RuntimeWarning)\n",
      " 90%|████████▉ | 224/250 [09:21<02:10,  5.01s/it]/Users/thodorisladas/miniforge3/envs/optidex/lib/python3.10/site-packages/botorch/fit.py:171: RuntimeWarning: All attempts to fit the model have failed. For more information, try enabling botorch.settings.debug mode.\n",
      "  warn(str(err), RuntimeWarning)\n",
      " 90%|█████████ | 226/250 [09:33<02:06,  5.26s/it]/Users/thodorisladas/miniforge3/envs/optidex/lib/python3.10/site-packages/botorch/fit.py:171: RuntimeWarning: All attempts to fit the model have failed. For more information, try enabling botorch.settings.debug mode.\n",
      "  warn(str(err), RuntimeWarning)\n",
      " 92%|█████████▏| 229/250 [09:47<01:33,  4.44s/it]/Users/thodorisladas/miniforge3/envs/optidex/lib/python3.10/site-packages/botorch/fit.py:171: RuntimeWarning: All attempts to fit the model have failed. For more information, try enabling botorch.settings.debug mode.\n",
      "  warn(str(err), RuntimeWarning)\n",
      " 92%|█████████▏| 230/250 [09:56<01:55,  5.76s/it]/Users/thodorisladas/miniforge3/envs/optidex/lib/python3.10/site-packages/botorch/fit.py:171: RuntimeWarning: All attempts to fit the model have failed. For more information, try enabling botorch.settings.debug mode.\n",
      "  warn(str(err), RuntimeWarning)\n",
      " 92%|█████████▏| 231/250 [10:09<02:34,  8.11s/it]/Users/thodorisladas/miniforge3/envs/optidex/lib/python3.10/site-packages/botorch/fit.py:171: RuntimeWarning: All attempts to fit the model have failed. For more information, try enabling botorch.settings.debug mode.\n",
      "  warn(str(err), RuntimeWarning)\n",
      " 95%|█████████▌| 238/250 [10:50<01:15,  6.31s/it]/Users/thodorisladas/miniforge3/envs/optidex/lib/python3.10/site-packages/botorch/fit.py:171: RuntimeWarning: All attempts to fit the model have failed. For more information, try enabling botorch.settings.debug mode.\n",
      "  warn(str(err), RuntimeWarning)\n",
      " 99%|█████████▉| 247/250 [11:40<00:13,  4.64s/it]/Users/thodorisladas/miniforge3/envs/optidex/lib/python3.10/site-packages/botorch/fit.py:171: RuntimeWarning: All attempts to fit the model have failed. For more information, try enabling botorch.settings.debug mode.\n",
      "  warn(str(err), RuntimeWarning)\n",
      "100%|██████████| 250/250 [11:59<00:00,  2.88s/it]\n"
     ]
    }
   ],
   "source": [
    "J_cb = calc_basis_matrix(x_basis=n_x, b_basis=n_b)\n",
    "Design, Cr = bo_loop(epochs=epochs,\n",
    "                     runs=runs,\n",
    "                     feats=n_x,\n",
    "                     optimality='A',\n",
    "                     J_cb=J_cb,\n",
    "                     n_exp=1,\n",
    "                     acq_f='EI',\n",
    "                     inequality_constraint=None)"
   ],
   "metadata": {
    "collapsed": false
   }
  },
  {
   "cell_type": "code",
   "execution_count": 8,
   "outputs": [
    {
     "data": {
      "text/plain": "8.75"
     },
     "execution_count": 8,
     "metadata": {},
     "output_type": "execute_result"
    }
   ],
   "source": [
    "Z = np.concatenate((np.array([1]*4).reshape(-1,1), Design @ J_cb) ,axis=1)\n",
    "np.trace(np.linalg.inv(Z.T @ Z))"
   ],
   "metadata": {
    "collapsed": false
   }
  },
  {
   "cell_type": "code",
   "execution_count": 9,
   "outputs": [
    {
     "data": {
      "text/plain": "array([[-1.,  1.],\n       [-1.,  1.],\n       [ 1.,  1.],\n       [ 1., -1.]], dtype=float32)"
     },
     "execution_count": 9,
     "metadata": {},
     "output_type": "execute_result"
    }
   ],
   "source": [
    "Design"
   ],
   "metadata": {
    "collapsed": false
   }
  },
  {
   "cell_type": "code",
   "execution_count": 19,
   "outputs": [
    {
     "data": {
      "text/plain": "8.75"
     },
     "execution_count": 19,
     "metadata": {},
     "output_type": "execute_result"
    }
   ],
   "source": [
    "Cr"
   ],
   "metadata": {
    "collapsed": false
   }
  },
  {
   "cell_type": "code",
   "execution_count": 27,
   "outputs": [
    {
     "data": {
      "text/plain": "0.1875"
     },
     "execution_count": 27,
     "metadata": {},
     "output_type": "execute_result"
    }
   ],
   "source": [
    "ZZ = Design @ J_cb"
   ],
   "metadata": {
    "collapsed": false
   }
  },
  {
   "cell_type": "code",
   "execution_count": 11,
   "outputs": [
    {
     "data": {
      "text/plain": "<Figure size 640x480 with 4 Axes>",
      "image/png": "[encoded data removed]"
     },
     "metadata": {},
     "output_type": "display_data"
    }
   ],
   "source": [
    "subplot_results(sub_x=2, sub_y=2, T=np.linspace(0,1,1000), results=Design, J_cb=J_cb)"
   ],
   "metadata": {
    "collapsed": false
   }
  }
 ],
 "metadata": {
  "kernelspec": {
   "display_name": "Python 3",
   "language": "python",
   "name": "python3"
  },
  "language_info": {
   "codemirror_mode": {
    "name": "ipython",
    "version": 2
   },
   "file_extension": ".py",
   "mimetype": "text/x-python",
   "name": "python",
   "nbconvert_exporter": "python",
   "pygments_lexer": "ipython2",
   "version": "2.7.6"
  }
 },
 "nbformat": 4,
 "nbformat_minor": 0
}
