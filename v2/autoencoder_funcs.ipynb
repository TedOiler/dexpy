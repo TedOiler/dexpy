{
 "cells": [
  {
   "cell_type": "code",
   "execution_count": 2,
   "metadata": {
    "collapsed": true
   },
   "outputs": [],
   "source": [
    "import numpy as np\n",
    "from mpl_toolkits.mplot3d import Axes3D\n",
    "from sklearn.decomposition import PCA\n",
    "from sklearn.manifold import TSNE\n",
    "from matplotlib import pyplot as plt\n",
    "from tensorflow.keras.utils import plot_model\n",
    "import plotly.graph_objects as go\n",
    "import plotly.io as pio\n",
    "from tabulate import tabulate\n",
    "from sklearn.preprocessing import MinMaxScaler\n",
    "from sklearn.model_selection import train_test_split\n",
    "from tqdm import tqdm\n",
    "import seaborn as sns\n",
    "\n",
    "\n",
    "from cordex_discrete import cordex_discrete\n",
    "from cordex_continuous import cordex_continuous\n",
    "from plot_fun import subplot_results\n",
    "from Jcb import calc_basis_matrix, Jcb\n",
    "\n",
    "from autoencoder import create_train_val_set, create_autoencoder, create_autoencoder_enhanced, fit_autoencoder, fit_denoising_autoencoder, plot_history, fit_vae, create_vae, fit_autoencoder_custom\n",
    "\n",
    "from latent_bo import objective_function, latent_auto_bo, latent_manual_bo, plot_convergence, plot_obj, plot_evals"
   ]
  },
  {
   "cell_type": "code",
   "execution_count": 3,
   "outputs": [],
   "source": [
    "def create_train_val_set_random(runs, n_x, scalars, optimality, J_cb,\n",
    "                                num_designs=1000, test_size=0.2, random_state=42, noise=None, max_iterations=100000, epsilon=1e-10):\n",
    "\n",
    "    design_matrices = []\n",
    "    valid_count = 0\n",
    "    for _ in tqdm(range(max_iterations)):\n",
    "        if valid_count >= num_designs:\n",
    "            break\n",
    "\n",
    "        candidate_matrix = np.random.uniform(-1, 1, size=(runs, n_x[0]))\n",
    "\n",
    "        Z = np.hstack([np.ones((runs, 1)), candidate_matrix @ J_cb])\n",
    "        ZTZ = Z.T @ Z\n",
    "        determinant = np.linalg.det(ZTZ)\n",
    "\n",
    "        if determinant > epsilon:\n",
    "            design_matrices.append(candidate_matrix)\n",
    "            valid_count += 1\n",
    "\n",
    "    if valid_count < num_designs:\n",
    "        print(f\"Warning: Only {valid_count} valid design matrices found after {max_iterations} iterations\")\n",
    "\n",
    "    design_matrices = np.stack(design_matrices)\n",
    "\n",
    "    scaler = MinMaxScaler(feature_range=(-1, 1))\n",
    "    normalized_designs = scaler.fit_transform(design_matrices.reshape(num_designs, -1))\n",
    "\n",
    "    if noise is not None:\n",
    "        noisy_designs = normalized_designs + noise * np.random.normal(size=normalized_designs.shape)\n",
    "        noisy_designs = np.clip(noisy_designs, -1, 1)\n",
    "\n",
    "        x_train, x_val, y_train, y_val = train_test_split(noisy_designs, normalized_designs, test_size=test_size,\n",
    "                                                          random_state=random_state)\n",
    "        return x_train, x_val, y_train, y_val\n",
    "    else:\n",
    "        train_data, val_data = train_test_split(normalized_designs, test_size=test_size, random_state=random_state)\n",
    "        return train_data, val_data"
   ],
   "metadata": {
    "collapsed": false
   }
  },
  {
   "cell_type": "code",
   "execution_count": 4,
   "outputs": [],
   "source": [
    "def select_top_n_designs(des_train, des_val, objective_function, m, n, J_cb, noise=0, upscale=10):\n",
    "    # Calculate the number of top designs based on the proportion of des_train and des_val\n",
    "    top_n_train = int(des_train.shape[0] / 10)\n",
    "    top_n_val = int(des_val.shape[0] / 10)\n",
    "\n",
    "    # Evaluate the objective function for each design\n",
    "    train_objective_values = [objective_function(d, m, n, J_cb=J_cb, noise=noise) for d in des_train]\n",
    "    val_objective_values = [objective_function(d, m, n, J_cb=J_cb, noise=noise) for d in des_val]\n",
    "\n",
    "    # Combine the designs and their objective function values\n",
    "    train_designs_with_values = list(zip(train_objective_values, des_train))\n",
    "    val_designs_with_values = list(zip(val_objective_values, des_val))\n",
    "\n",
    "    # Sort the designs based on their objective function values (ascending order)\n",
    "    sorted_train_designs_with_values = sorted(train_designs_with_values, key=lambda x: x[0])\n",
    "    sorted_val_designs_with_values = sorted(val_designs_with_values, key=lambda x: x[0])\n",
    "\n",
    "    # Select the top num_top_designs designs\n",
    "    des_train_top_n = [design for _, design in sorted_train_designs_with_values[:top_n_train]]\n",
    "    des_val_top_n = [design for _, design in sorted_val_designs_with_values[:top_n_val]]\n",
    "\n",
    "    # Replicate the top designs 10 times to get back to the original dimensions\n",
    "    des_train_top_n_scaled = np.repeat(des_train_top_n, upscale, axis=0)\n",
    "    des_val_top_n_scaled = np.repeat(des_val_top_n, upscale, axis=0)\n",
    "\n",
    "    # Randomize the order of the designs\n",
    "    np.random.shuffle(des_train_top_n_scaled)\n",
    "    np.random.shuffle(des_val_top_n_scaled)\n",
    "\n",
    "    return np.array(des_train_top_n_scaled), np.array(des_val_top_n_scaled)"
   ],
   "metadata": {
    "collapsed": false
   }
  },
  {
   "cell_type": "code",
   "execution_count": 114,
   "outputs": [],
   "source": [
    "def optimize_designs(encoder, decoder, encoder_noisy, decoder_noisy, cordex_discrete, objective_function, runs, n_x, scalars, optimality, J_cb, n_repetitions=10, n_iterations=3, use_denoising=True, use_normal=True):\n",
    "    results = []\n",
    "    all_designs = []\n",
    "\n",
    "    for rep in tqdm(range(n_repetitions)):\n",
    "        cordex_mat, cordex_opt = cordex_discrete(runs=runs,\n",
    "                                                 f_list=n_x,\n",
    "                                                 scalars=scalars,\n",
    "                                                 levels=[-1, 1],\n",
    "                                                 epochs=5,\n",
    "                                                 optimality=optimality,\n",
    "                                                 J_cb=J_cb,\n",
    "                                                 disable_bar=True)\n",
    "\n",
    "        objective_function_values = [cordex_opt]\n",
    "        designs = [cordex_mat]\n",
    "\n",
    "\n",
    "        if use_denoising:\n",
    "            for i in range(n_iterations):\n",
    "                encoded_denoise = encoder_noisy.predict(np.reshape(cordex_mat, (1, -1)), verbose=0)\n",
    "                decoded_denoise = decoder_noisy.predict(encoded_denoise, verbose=0).reshape(cordex_mat.shape)\n",
    "\n",
    "                obj_val = objective_function(np.round(decoded_denoise), m=runs, n=sum(n_x), J_cb=J_cb, noise=0)\n",
    "                objective_function_values.append(obj_val)\n",
    "\n",
    "                designs.append(decoded_denoise)\n",
    "                cordex_mat = decoded_denoise\n",
    "        if use_normal:\n",
    "            for j in range(n_iterations):\n",
    "                encoded_result = encoder.predict(np.reshape(cordex_mat, (1, -1)), verbose=0)\n",
    "                decoded_result = decoder.predict(encoded_result, verbose=0).reshape(cordex_mat.shape)\n",
    "\n",
    "                obj_val = objective_function(np.round(decoded_result), m=runs, n=sum(n_x), J_cb=J_cb, noise=0)\n",
    "                objective_function_values.append(obj_val)\n",
    "\n",
    "                designs.append(decoded_result)\n",
    "                cordex_mat = decoded_result\n",
    "\n",
    "        results.append(objective_function_values)\n",
    "        all_designs.append(designs)\n",
    "\n",
    "    return results, all_designs\n",
    "\n",
    "def plot_results(results, n_repetitions):\n",
    "    fig, ax = plt.subplots()\n",
    "    plt.style.use('default')\n",
    "    colors = plt.cm.jet(np.linspace(0, 1, n_repetitions))\n",
    "    title = use_denoising * \"Denoising \" + use_normal * \"Normal \" + \"Autoencoder\"\n",
    "    for idx, (result, color) in enumerate(zip(results, colors)):\n",
    "        ax.plot(result, '-o', label=f\"Rep_{idx}\", color=color, alpha=min(1/n_repetitions+0.3 , 1))\n",
    "\n",
    "    ax.legend()\n",
    "    plt.xlabel(\"Iteration\")\n",
    "    plt.ylabel(\"Objective Function Value\")\n",
    "    plt.title(f\"Objective Function Values per Iteration and Repetition with \\n{title}\")\n",
    "    # Set x-axis ticks to integer values\n",
    "    num_iterations = len(results[0])\n",
    "    ax.set_xticks(np.arange(0, num_iterations))\n",
    "    ax.xaxis.set_major_formatter(plt.FuncFormatter(lambda x, _: int(x)))\n",
    "    plt.show()\n",
    "\n",
    "def find_best_design(results, all_designs):\n",
    "    results = np.array(results)\n",
    "    min_row, min_col = np.unravel_index(np.argmin(results, axis=None), results.shape)\n",
    "    best_obj_val = results[min_row, min_col]\n",
    "    best_design = all_designs[min_row][min_col]\n",
    "\n",
    "    return best_obj_val, best_design"
   ],
   "metadata": {
    "collapsed": false
   }
  },
  {
   "cell_type": "markdown",
   "source": [
    "## Settings"
   ],
   "metadata": {
    "collapsed": false
   }
  },
  {
   "cell_type": "code",
   "execution_count": 116,
   "outputs": [],
   "source": [
    "runs = 4\n",
    "levels = np.linspace(-1,1,3).tolist()\n",
    "optimality = 'A'\n",
    "n_x = [100]\n",
    "n_b = [2]\n",
    "scalars = 0\n",
    "J_cb = Jcb(*[calc_basis_matrix(x_basis=x, b_basis=b) for x, b in zip(n_x, n_b)])"
   ],
   "metadata": {
    "collapsed": false
   }
  },
  {
   "cell_type": "code",
   "execution_count": 69,
   "outputs": [],
   "source": [
    "# # Generate designs with different optimality criteria and settings\n",
    "# design_settings = [\n",
    "#     {'runs': 4, 'n_x': n_x, 'scalars': 0, 'optimality': 'A', 'J_cb': Jcb(*[calc_basis_matrix(x_basis=x, b_basis=b) for x, b in zip(n_x, n_b)]), 'num_designs': 1000},\n",
    "#     {'runs': 4, 'n_x': n_x, 'scalars': 0, 'optimality': 'D', 'J_cb': Jcb(*[calc_basis_matrix(x_basis=x, b_basis=b) for x, b in zip(n_x, n_b)]), 'num_designs': 1000},\n",
    "#     # Add more settings with different runs, n_x, and n_b values\n",
    "# ]\n",
    "#\n",
    "# # Generate and concatenate datasets\n",
    "# des_train_selected, des_val_selected = [], []\n",
    "# max_size = 0\n",
    "#\n",
    "# for setting in design_settings:\n",
    "#     n_x_sum = sum(setting['n_x'])\n",
    "#     J_cb_current = Jcb(*[calc_basis_matrix(x_basis=x, b_basis=b) for x, b in zip(setting['n_x'], n_b)])\n",
    "#\n",
    "#     des_train, des_val = create_train_val_set(**setting, test_size=0.2, noise=None, cordex=cordex_discrete)\n",
    "#     des_train_top_n, des_val_top_n = select_top_n_designs(des_train, des_val, objective_function, setting['runs'], n_x_sum, J_cb_current, noise=0, upscale=10)\n",
    "#\n",
    "#     max_size = max(max_size, des_train_top_n.shape[1], des_val_top_n.shape[1])\n",
    "#\n",
    "#     des_train_selected.append(des_train_top_n)\n",
    "#     des_val_selected.append(des_val_top_n)\n",
    "#\n",
    "# # Pad arrays with zeros if necessary\n",
    "# for i in range(len(des_train_selected)):\n",
    "#     if des_train_selected[i].shape[1] < max_size:\n",
    "#         padding = np.zeros((des_train_selected[i].shape[0], max_size - des_train_selected[i].shape[1]))\n",
    "#         des_train_selected[i] = np.hstack((des_train_selected[i], padding))\n",
    "#\n",
    "#     if des_val_selected[i].shape[1] < max_size:\n",
    "#         padding = np.zeros((des_val_selected[i].shape[0], max_size - des_val_selected[i].shape[1]))\n",
    "#         des_val_selected[i] = np.hstack((des_val_selected[i], padding))\n",
    "#\n",
    "# des_train_selected = np.concatenate(des_train_selected, axis=0)\n",
    "# des_val_selected = np.concatenate(des_val_selected, axis=0)\n",
    "#\n",
    "# # Randomize the order of the designs\n",
    "# np.random.shuffle(des_train_selected)\n",
    "# np.random.shuffle(des_val_selected)\n",
    "#\n",
    "# # Assign the concatenated top_n designs to des_train and des_val\n",
    "# des_train, des_val = des_train_selected, des_val_selected"
   ],
   "metadata": {
    "collapsed": false
   }
  },
  {
   "cell_type": "code",
   "execution_count": 61,
   "outputs": [],
   "source": [
    "# design_settings = [\n",
    "#     {'runs': 4, 'n_x': n_x, 'scalars': 0, 'optimality': 'A', 'J_cb': Jcb(*[calc_basis_matrix(x_basis=x, b_basis=b) for x, b in zip(n_x, n_b)]), 'num_designs': 3000},\n",
    "#     {'runs': 4, 'n_x': n_x, 'scalars': 0, 'optimality': 'D', 'J_cb': Jcb(*[calc_basis_matrix(x_basis=x, b_basis=b) for x, b in zip(n_x, n_b)]), 'num_designs': 3000},\n",
    "#     # Add more settings with different runs, n_x, and n_b values\n",
    "# ]\n",
    "#\n",
    "# des_pure_train_selected, des_pure_val_selected, des_noisy_train_selected, des_noisy_val_selected = [], [], [], []\n",
    "# max_size = 0\n",
    "#\n",
    "# for setting in design_settings:\n",
    "#     des_pure_train, des_pure_val, des_noisy_train, des_noisy_val = create_train_val_set(**setting, test_size=0.2, noise=0.1, cordex=cordex_discrete)\n",
    "#     max_size = max(max_size, des_pure_train.shape[1], des_pure_val.shape[1], des_noisy_train.shape[1], des_noisy_val.shape[1])\n",
    "#\n",
    "#     des_pure_train_selected.append(des_pure_train)\n",
    "#     des_pure_val_selected.append(des_pure_val)\n",
    "#     des_noisy_train_selected.append(des_noisy_train)\n",
    "#     des_noisy_val_selected.append(des_noisy_val)\n",
    "#\n",
    "# # Pad arrays with zeros if necessary\n",
    "# for i in range(len(des_pure_train_selected)):\n",
    "#     datasets = [des_pure_train_selected, des_pure_val_selected, des_noisy_train_selected, des_noisy_val_selected]\n",
    "#     for dataset in datasets:\n",
    "#         if dataset[i].shape[1] < max_size:\n",
    "#             padding = np.zeros((dataset[i].shape[0], max_size - dataset[i].shape[1]))\n",
    "#             dataset[i] = np.hstack((dataset[i], padding))\n",
    "#\n",
    "# des_pure_train_selected = np.concatenate(des_pure_train_selected, axis=0)\n",
    "# des_pure_val_selected = np.concatenate(des_pure_val_selected, axis=0)\n",
    "# des_noisy_train_selected = np.concatenate(des_noisy_train_selected, axis=0)\n",
    "# des_noisy_val_selected = np.concatenate(des_noisy_val_selected, axis=0)\n",
    "#\n",
    "# # Randomize the order of the designs\n",
    "# np.random.shuffle(des_pure_train_selected)\n",
    "# np.random.shuffle(des_pure_val_selected)\n",
    "# np.random.shuffle(des_noisy_train_selected)\n",
    "# np.random.shuffle(des_noisy_val_selected)\n",
    "#\n",
    "# # Assign the concatenated designs to des_pure_train, des_pure_val, des_noisy_train, and des_noisy_val\n",
    "# des_pure_train, des_pure_val, des_noisy_train, des_noisy_val = des_pure_train_selected, des_pure_val_selected, des_noisy_train_selected, des_noisy_val_selected"
   ],
   "metadata": {
    "collapsed": false
   }
  },
  {
   "cell_type": "code",
   "execution_count": 62,
   "outputs": [],
   "source": [
    "# des_train, des_val = create_train_val_set(runs=runs,\n",
    "#                                           n_x=n_x,\n",
    "#                                           scalars=scalars,\n",
    "#                                           optimality=optimality,\n",
    "#                                           J_cb=J_cb,\n",
    "#                                           num_designs=1_000,\n",
    "#                                           test_size=0.2,\n",
    "#                                           cordex=cordex_discrete)\n",
    "# np.min([objective_function(d, runs, sum(n_x), J_cb=Jcb(*[calc_basis_matrix(x_basis=x, b_basis=b) for x, b in zip(n_x, n_b)]), noise=0) for d in des_train])"
   ],
   "metadata": {
    "collapsed": false
   }
  },
  {
   "cell_type": "code",
   "execution_count": 70,
   "outputs": [
    {
     "name": "stderr",
     "output_type": "stream",
     "text": [
      "100%|██████████| 100/100 [00:01<00:00, 84.55it/s]\n"
     ]
    },
    {
     "data": {
      "text/plain": "26.756467086311417"
     },
     "execution_count": 70,
     "metadata": {},
     "output_type": "execute_result"
    }
   ],
   "source": [
    "des_pure_train, des_pure_val,\\\n",
    "des_noisy_train, des_noisy_val = create_train_val_set(runs=runs,\n",
    "                                                      n_x=n_x,\n",
    "                                                      scalars=scalars,\n",
    "                                                      optimality=optimality,\n",
    "                                                      J_cb=J_cb,\n",
    "                                                      num_designs=100,\n",
    "                                                      test_size=0.2,\n",
    "                                                      noise=0.1)\n",
    "np.max([objective_function(d, runs, sum(n_x), J_cb=Jcb(*[calc_basis_matrix(x_basis=x, b_basis=b) for x, b in zip(n_x, n_b)]), noise=0) for d in des_pure_train])"
   ],
   "metadata": {
    "collapsed": false
   }
  },
  {
   "cell_type": "code",
   "execution_count": 117,
   "outputs": [
    {
     "name": "stderr",
     "output_type": "stream",
     "text": [
      "  2%|▏         | 1500/100000 [00:00<00:04, 20811.96it/s]\n"
     ]
    }
   ],
   "source": [
    "des_pure_train, des_pure_val,\\\n",
    "des_noisy_train, des_noisy_val = create_train_val_set_random(runs=runs,\n",
    "                                                             n_x=n_x,\n",
    "                                                             scalars=scalars,\n",
    "                                                             optimality=optimality,\n",
    "                                                             J_cb=J_cb,\n",
    "                                                             noise=0.75,\n",
    "                                                             num_designs=1_500,\n",
    "                                                             epsilon=1e-10)"
   ],
   "metadata": {
    "collapsed": false
   }
  },
  {
   "cell_type": "markdown",
   "source": [
    "## Autoencoders"
   ],
   "metadata": {
    "collapsed": false
   }
  },
  {
   "cell_type": "code",
   "execution_count": 41,
   "outputs": [],
   "source": [
    "# autoencoder_noiseless,\\\n",
    "# encoder_noiseless, decoder_noiseless,\\\n",
    "# history_noiseless = fit_autoencoder(autoencoder_func=create_autoencoder_enhanced,\n",
    "#                                     train_data=des_train, val_data=des_val,\n",
    "#                                     input_dim=des_train.shape[1], latent_dim=4,\n",
    "#                                     patience=300, epochs=5_000, batch_size=32)\n",
    "# plot_history(history_noiseless, title=\"No noise\")"
   ],
   "metadata": {
    "collapsed": false
   }
  },
  {
   "cell_type": "code",
   "execution_count": 42,
   "outputs": [],
   "source": [
    "# vae, encoder, decoder, history = fit_vae(vae_func=create_vae,\n",
    "#                                          train_data=des_train, val_data=des_val,\n",
    "#                                          input_dim=des_train.shape[1], latent_dim=4,\n",
    "#                                          patience=300, epochs=5_000, batch_size=32)\n",
    "# plot_history(history, title=\"VAE Training\")"
   ],
   "metadata": {
    "collapsed": false
   }
  },
  {
   "cell_type": "code",
   "execution_count": 118,
   "outputs": [
    {
     "name": "stdout",
     "output_type": "stream",
     "text": [
      "Epoch 1/1000\n",
      "10/10 [==============================] - 2s 24ms/step - loss: 308753.5938 - val_loss: 7669.3701\n",
      "Epoch 2/1000\n",
      "10/10 [==============================] - 0s 6ms/step - loss: 4463.4824 - val_loss: 1742.0909\n",
      "Epoch 3/1000\n",
      "10/10 [==============================] - 0s 5ms/step - loss: 1174.7465 - val_loss: 611.9420\n",
      "Epoch 4/1000\n",
      "10/10 [==============================] - 0s 5ms/step - loss: 475.7232 - val_loss: 290.4183\n",
      "Epoch 5/1000\n",
      "10/10 [==============================] - 0s 6ms/step - loss: 228.9710 - val_loss: 148.0766\n",
      "Epoch 6/1000\n",
      "10/10 [==============================] - 0s 5ms/step - loss: 124.7082 - val_loss: 81.4562\n",
      "Epoch 7/1000\n",
      "10/10 [==============================] - 0s 6ms/step - loss: 69.3456 - val_loss: 49.1228\n",
      "Epoch 8/1000\n",
      "10/10 [==============================] - 0s 7ms/step - loss: 43.4757 - val_loss: 31.0700\n",
      "Epoch 9/1000\n",
      "10/10 [==============================] - 0s 6ms/step - loss: 27.5353 - val_loss: 21.1197\n",
      "Epoch 10/1000\n",
      "10/10 [==============================] - 0s 6ms/step - loss: 19.3922 - val_loss: 15.5889\n",
      "Epoch 11/1000\n",
      "10/10 [==============================] - 0s 6ms/step - loss: 14.6376 - val_loss: 12.4981\n",
      "Epoch 12/1000\n",
      "10/10 [==============================] - 0s 6ms/step - loss: 11.9991 - val_loss: 10.6721\n",
      "Epoch 13/1000\n",
      "10/10 [==============================] - 0s 7ms/step - loss: 10.4103 - val_loss: 9.6145\n",
      "Epoch 14/1000\n",
      "10/10 [==============================] - 0s 7ms/step - loss: 9.5161 - val_loss: 9.0264\n",
      "Epoch 15/1000\n",
      "10/10 [==============================] - 0s 7ms/step - loss: 8.9888 - val_loss: 8.6942\n",
      "Epoch 16/1000\n",
      "10/10 [==============================] - 0s 7ms/step - loss: 8.7040 - val_loss: 8.5315\n",
      "Epoch 17/1000\n",
      "10/10 [==============================] - 0s 7ms/step - loss: 8.5554 - val_loss: 8.4603\n",
      "Epoch 18/1000\n",
      "10/10 [==============================] - 0s 7ms/step - loss: 8.4773 - val_loss: 8.4292\n",
      "Epoch 19/1000\n",
      "10/10 [==============================] - 0s 6ms/step - loss: 8.4407 - val_loss: 8.4156\n",
      "Epoch 20/1000\n",
      "10/10 [==============================] - 0s 6ms/step - loss: 8.4313 - val_loss: 8.4095\n",
      "Epoch 21/1000\n",
      "10/10 [==============================] - 0s 6ms/step - loss: 8.4173 - val_loss: 8.4072\n",
      "Epoch 22/1000\n",
      "10/10 [==============================] - 0s 7ms/step - loss: 8.4115 - val_loss: 8.4063\n",
      "Epoch 23/1000\n",
      "10/10 [==============================] - 0s 7ms/step - loss: 8.4094 - val_loss: 8.4060\n",
      "Epoch 24/1000\n",
      "10/10 [==============================] - 0s 7ms/step - loss: 8.4080 - val_loss: 8.4059\n",
      "Epoch 25/1000\n",
      "10/10 [==============================] - 0s 6ms/step - loss: 8.4071 - val_loss: 8.4058\n",
      "Epoch 26/1000\n",
      "10/10 [==============================] - 0s 6ms/step - loss: 8.4068 - val_loss: 8.4058\n",
      "Epoch 27/1000\n",
      "10/10 [==============================] - 0s 6ms/step - loss: 8.4062 - val_loss: 8.4058\n",
      "Epoch 28/1000\n",
      "10/10 [==============================] - 0s 6ms/step - loss: 8.4062 - val_loss: 8.4058\n",
      "Epoch 29/1000\n",
      "10/10 [==============================] - 0s 6ms/step - loss: 8.4060 - val_loss: 8.4058\n",
      "Epoch 30/1000\n",
      "10/10 [==============================] - 0s 12ms/step - loss: 8.4059 - val_loss: 8.4058\n",
      "Epoch 31/1000\n",
      "10/10 [==============================] - 0s 8ms/step - loss: 8.4059 - val_loss: 8.4058\n",
      "Epoch 32/1000\n",
      "10/10 [==============================] - 0s 6ms/step - loss: 8.4059 - val_loss: 8.4058\n",
      "Epoch 33/1000\n",
      "10/10 [==============================] - 0s 6ms/step - loss: 8.4059 - val_loss: 8.4058\n",
      "Epoch 34/1000\n",
      "10/10 [==============================] - 0s 6ms/step - loss: 8.4058 - val_loss: 8.4058\n",
      "Epoch 35/1000\n",
      "10/10 [==============================] - 0s 6ms/step - loss: 8.4058 - val_loss: 8.4058\n",
      "Epoch 36/1000\n",
      "10/10 [==============================] - 0s 6ms/step - loss: 8.4058 - val_loss: 8.4058\n",
      "Epoch 37/1000\n",
      "10/10 [==============================] - 0s 7ms/step - loss: 8.4058 - val_loss: 8.4058\n",
      "Epoch 38/1000\n",
      "10/10 [==============================] - 0s 6ms/step - loss: 8.4058 - val_loss: 8.4058\n",
      "Epoch 39/1000\n",
      "10/10 [==============================] - 0s 6ms/step - loss: 8.4058 - val_loss: 8.4058\n",
      "Epoch 40/1000\n",
      "10/10 [==============================] - 0s 6ms/step - loss: 8.4058 - val_loss: 8.4058\n",
      "Epoch 41/1000\n",
      "10/10 [==============================] - 0s 6ms/step - loss: 8.4058 - val_loss: 8.4058\n",
      "Epoch 42/1000\n",
      "10/10 [==============================] - 0s 6ms/step - loss: 8.4058 - val_loss: 8.4058\n",
      "Epoch 43/1000\n",
      "10/10 [==============================] - 0s 6ms/step - loss: 8.4058 - val_loss: 8.4058\n",
      "Epoch 44/1000\n",
      "10/10 [==============================] - 0s 6ms/step - loss: 8.4058 - val_loss: 8.4058\n",
      "Epoch 45/1000\n",
      "10/10 [==============================] - 0s 6ms/step - loss: 8.4058 - val_loss: 8.4058\n",
      "Epoch 46/1000\n",
      "10/10 [==============================] - 0s 6ms/step - loss: 8.4058 - val_loss: 8.4058\n",
      "Epoch 47/1000\n",
      "10/10 [==============================] - 0s 6ms/step - loss: 8.4058 - val_loss: 8.4058\n",
      "Epoch 48/1000\n",
      "10/10 [==============================] - 0s 6ms/step - loss: 8.4058 - val_loss: 8.4058\n",
      "Epoch 49/1000\n",
      "10/10 [==============================] - 0s 6ms/step - loss: 8.4058 - val_loss: 8.4058\n",
      "Epoch 50/1000\n",
      "10/10 [==============================] - 0s 6ms/step - loss: 8.4058 - val_loss: 8.4058\n",
      "Epoch 51/1000\n",
      "10/10 [==============================] - 0s 6ms/step - loss: 8.4058 - val_loss: 8.4058\n",
      "Epoch 52/1000\n",
      "10/10 [==============================] - 0s 6ms/step - loss: 8.4059 - val_loss: 8.4058\n",
      "Epoch 53/1000\n",
      "10/10 [==============================] - 0s 6ms/step - loss: 8.4058 - val_loss: 8.4058\n",
      "Epoch 54/1000\n",
      "10/10 [==============================] - 0s 6ms/step - loss: 8.4058 - val_loss: 8.4058\n",
      "Epoch 55/1000\n",
      "10/10 [==============================] - 0s 6ms/step - loss: 8.4058 - val_loss: 8.4058\n",
      "Epoch 56/1000\n",
      "10/10 [==============================] - 0s 6ms/step - loss: 8.4059 - val_loss: 8.4058\n",
      "Epoch 57/1000\n",
      "10/10 [==============================] - 0s 6ms/step - loss: 8.4058 - val_loss: 8.4059\n",
      "Epoch 58/1000\n",
      "10/10 [==============================] - 0s 6ms/step - loss: 8.4058 - val_loss: 8.4058\n",
      "Epoch 59/1000\n",
      "10/10 [==============================] - 0s 6ms/step - loss: 8.4059 - val_loss: 8.4059\n",
      "Epoch 60/1000\n",
      "10/10 [==============================] - 0s 6ms/step - loss: 8.4058 - val_loss: 8.4059\n",
      "Epoch 61/1000\n",
      "10/10 [==============================] - 0s 6ms/step - loss: 8.4059 - val_loss: 8.4059\n",
      "Epoch 62/1000\n",
      "10/10 [==============================] - 0s 6ms/step - loss: 8.4059 - val_loss: 8.4058\n",
      "Epoch 63/1000\n",
      "10/10 [==============================] - 0s 6ms/step - loss: 8.4059 - val_loss: 8.4058\n",
      "Epoch 64/1000\n",
      "10/10 [==============================] - 0s 6ms/step - loss: 8.4059 - val_loss: 8.4058\n",
      "Epoch 65/1000\n",
      "10/10 [==============================] - 0s 12ms/step - loss: 8.4059 - val_loss: 8.4059\n",
      "Epoch 66/1000\n",
      "10/10 [==============================] - 0s 6ms/step - loss: 8.4059 - val_loss: 8.4059\n",
      "Epoch 67/1000\n",
      "10/10 [==============================] - 0s 6ms/step - loss: 8.4059 - val_loss: 8.4058\n",
      "Epoch 68/1000\n",
      "10/10 [==============================] - 0s 6ms/step - loss: 8.4059 - val_loss: 8.4059\n",
      "Epoch 69/1000\n",
      "10/10 [==============================] - 0s 6ms/step - loss: 8.4059 - val_loss: 8.4058\n",
      "Epoch 70/1000\n",
      "10/10 [==============================] - 0s 6ms/step - loss: 8.4059 - val_loss: 8.4059\n",
      "Epoch 71/1000\n",
      "10/10 [==============================] - 0s 6ms/step - loss: 8.4059 - val_loss: 8.4058\n",
      "Epoch 72/1000\n",
      "10/10 [==============================] - 0s 6ms/step - loss: 8.4059 - val_loss: 8.4059\n",
      "Epoch 73/1000\n",
      "10/10 [==============================] - 0s 6ms/step - loss: 8.4059 - val_loss: 8.4059\n",
      "Epoch 74/1000\n",
      "10/10 [==============================] - 0s 6ms/step - loss: 8.4059 - val_loss: 8.4058\n",
      "Epoch 75/1000\n",
      "10/10 [==============================] - 0s 6ms/step - loss: 8.4059 - val_loss: 8.4058\n",
      "Epoch 76/1000\n",
      "10/10 [==============================] - 0s 6ms/step - loss: 8.4059 - val_loss: 8.4058\n",
      "Epoch 77/1000\n",
      "10/10 [==============================] - 0s 6ms/step - loss: 8.4059 - val_loss: 8.4058\n",
      "Epoch 78/1000\n",
      "10/10 [==============================] - 0s 6ms/step - loss: 8.4059 - val_loss: 8.4059\n",
      "Epoch 79/1000\n",
      "10/10 [==============================] - 0s 6ms/step - loss: 8.4059 - val_loss: 8.4059\n",
      "Epoch 80/1000\n",
      "10/10 [==============================] - 0s 6ms/step - loss: 8.4059 - val_loss: 8.4058\n",
      "Epoch 81/1000\n",
      "10/10 [==============================] - 0s 6ms/step - loss: 8.4059 - val_loss: 8.4058\n",
      "Epoch 82/1000\n",
      "10/10 [==============================] - 0s 6ms/step - loss: 8.4059 - val_loss: 8.4059\n",
      "Epoch 83/1000\n",
      "10/10 [==============================] - 0s 6ms/step - loss: 8.4059 - val_loss: 8.4059\n",
      "Epoch 84/1000\n",
      "10/10 [==============================] - 0s 7ms/step - loss: 8.4059 - val_loss: 8.4059\n"
     ]
    },
    {
     "data": {
      "text/plain": "<Figure size 640x480 with 1 Axes>",
      "image/png": "[encoded data removed]"
     },
     "metadata": {},
     "output_type": "display_data"
    }
   ],
   "source": [
    "autoencoder_noisy,\\\n",
    "encoder_noisy, decoder_noisy,\\\n",
    "history_noisy = fit_denoising_autoencoder(autoencoder_func=create_autoencoder,\n",
    "                                          x_train=des_noisy_train, y_train=des_pure_train,\n",
    "                                          x_val=des_noisy_val, y_val=des_pure_val,\n",
    "                                          input_dim=des_pure_train.shape[1], latent_dim=2,\n",
    "                                          patience=50, epochs=1_000, batch_size=128, alpha=1, m=runs, n=sum(n_x), J_cb=J_cb, max_layers=10)\n",
    "plot_history(history_noisy, title=\"Denoising Autoencoder\", threshold=100)"
   ],
   "metadata": {
    "collapsed": false
   }
  },
  {
   "cell_type": "code",
   "execution_count": 103,
   "outputs": [
    {
     "data": {
      "text/plain": "8.438385009765625"
     },
     "execution_count": 103,
     "metadata": {},
     "output_type": "execute_result"
    }
   ],
   "source": [
    "np.min(history_noisy.history['val_loss'])"
   ],
   "metadata": {
    "collapsed": false
   }
  },
  {
   "cell_type": "code",
   "execution_count": 119,
   "outputs": [
    {
     "name": "stdout",
     "output_type": "stream",
     "text": [
      "Epoch 1/1000\n",
      "10/10 [==============================] - 2s 28ms/step - loss: 312601.2188 - val_loss: 8661.9785\n",
      "Epoch 2/1000\n",
      "10/10 [==============================] - 0s 6ms/step - loss: 5342.5840 - val_loss: 2382.8579\n",
      "Epoch 3/1000\n",
      "10/10 [==============================] - 0s 6ms/step - loss: 1672.9945 - val_loss: 798.7081\n",
      "Epoch 4/1000\n",
      "10/10 [==============================] - 0s 6ms/step - loss: 607.8020 - val_loss: 328.0597\n",
      "Epoch 5/1000\n",
      "10/10 [==============================] - 0s 6ms/step - loss: 259.6378 - val_loss: 140.4632\n",
      "Epoch 6/1000\n",
      "10/10 [==============================] - 0s 6ms/step - loss: 117.6296 - val_loss: 71.1523\n",
      "Epoch 7/1000\n",
      "10/10 [==============================] - 0s 6ms/step - loss: 62.5216 - val_loss: 37.7157\n",
      "Epoch 8/1000\n",
      "10/10 [==============================] - 0s 6ms/step - loss: 35.8032 - val_loss: 22.7980\n",
      "Epoch 9/1000\n",
      "10/10 [==============================] - 0s 5ms/step - loss: 22.1764 - val_loss: 15.7834\n",
      "Epoch 10/1000\n",
      "10/10 [==============================] - 0s 5ms/step - loss: 15.8694 - val_loss: 12.2608\n",
      "Epoch 11/1000\n",
      "10/10 [==============================] - 0s 6ms/step - loss: 12.7751 - val_loss: 10.3550\n",
      "Epoch 12/1000\n",
      "10/10 [==============================] - 0s 6ms/step - loss: 10.7665 - val_loss: 9.4071\n",
      "Epoch 13/1000\n",
      "10/10 [==============================] - 0s 6ms/step - loss: 9.8980 - val_loss: 8.8771\n",
      "Epoch 14/1000\n",
      "10/10 [==============================] - 0s 6ms/step - loss: 9.1768 - val_loss: 8.6312\n",
      "Epoch 15/1000\n",
      "10/10 [==============================] - 0s 6ms/step - loss: 8.8554 - val_loss: 8.5201\n",
      "Epoch 16/1000\n",
      "10/10 [==============================] - 0s 6ms/step - loss: 8.8021 - val_loss: 8.4623\n",
      "Epoch 17/1000\n",
      "10/10 [==============================] - 0s 6ms/step - loss: 8.5719 - val_loss: 8.4399\n",
      "Epoch 18/1000\n",
      "10/10 [==============================] - 0s 7ms/step - loss: 8.5403 - val_loss: 8.4301\n",
      "Epoch 19/1000\n",
      "10/10 [==============================] - 0s 7ms/step - loss: 8.4806 - val_loss: 8.4270\n",
      "Epoch 20/1000\n",
      "10/10 [==============================] - 0s 6ms/step - loss: 8.4778 - val_loss: 8.4255\n",
      "Epoch 21/1000\n",
      "10/10 [==============================] - 0s 7ms/step - loss: 8.4527 - val_loss: 8.4250\n",
      "Epoch 22/1000\n",
      "10/10 [==============================] - 0s 6ms/step - loss: 8.4414 - val_loss: 8.4249\n",
      "Epoch 23/1000\n",
      "10/10 [==============================] - 0s 6ms/step - loss: 8.4333 - val_loss: 8.4248\n",
      "Epoch 24/1000\n",
      "10/10 [==============================] - 0s 6ms/step - loss: 8.4284 - val_loss: 8.4248\n",
      "Epoch 25/1000\n",
      "10/10 [==============================] - 0s 6ms/step - loss: 8.4282 - val_loss: 8.4247\n",
      "Epoch 26/1000\n",
      "10/10 [==============================] - 0s 6ms/step - loss: 8.4276 - val_loss: 8.4247\n",
      "Epoch 27/1000\n",
      "10/10 [==============================] - 0s 6ms/step - loss: 8.4259 - val_loss: 8.4247\n",
      "Epoch 28/1000\n",
      "10/10 [==============================] - 0s 6ms/step - loss: 8.4255 - val_loss: 8.4247\n",
      "Epoch 29/1000\n",
      "10/10 [==============================] - 0s 6ms/step - loss: 8.4251 - val_loss: 8.4248\n",
      "Epoch 30/1000\n",
      "10/10 [==============================] - 0s 6ms/step - loss: 8.4251 - val_loss: 8.4247\n",
      "Epoch 31/1000\n",
      "10/10 [==============================] - 0s 6ms/step - loss: 8.4249 - val_loss: 8.4248\n",
      "Epoch 32/1000\n",
      "10/10 [==============================] - 0s 6ms/step - loss: 8.4250 - val_loss: 8.4247\n",
      "Epoch 33/1000\n",
      "10/10 [==============================] - 0s 6ms/step - loss: 8.4249 - val_loss: 8.4247\n",
      "Epoch 34/1000\n",
      "10/10 [==============================] - 0s 6ms/step - loss: 8.4249 - val_loss: 8.4247\n",
      "Epoch 35/1000\n",
      "10/10 [==============================] - 0s 6ms/step - loss: 8.4249 - val_loss: 8.4247\n",
      "Epoch 36/1000\n",
      "10/10 [==============================] - 0s 6ms/step - loss: 8.4248 - val_loss: 8.4247\n",
      "Epoch 37/1000\n",
      "10/10 [==============================] - 0s 6ms/step - loss: 8.4248 - val_loss: 8.4248\n",
      "Epoch 38/1000\n",
      "10/10 [==============================] - 0s 6ms/step - loss: 8.4248 - val_loss: 8.4248\n",
      "Epoch 39/1000\n",
      "10/10 [==============================] - 0s 5ms/step - loss: 8.4248 - val_loss: 8.4248\n",
      "Epoch 40/1000\n",
      "10/10 [==============================] - 0s 6ms/step - loss: 8.4248 - val_loss: 8.4248\n",
      "Epoch 41/1000\n",
      "10/10 [==============================] - 0s 6ms/step - loss: 8.4248 - val_loss: 8.4248\n",
      "Epoch 42/1000\n",
      "10/10 [==============================] - 0s 6ms/step - loss: 8.4248 - val_loss: 8.4248\n",
      "Epoch 43/1000\n",
      "10/10 [==============================] - 0s 6ms/step - loss: 8.4248 - val_loss: 8.4248\n",
      "Epoch 44/1000\n",
      "10/10 [==============================] - 0s 6ms/step - loss: 8.4248 - val_loss: 8.4248\n",
      "Epoch 45/1000\n",
      "10/10 [==============================] - 0s 6ms/step - loss: 8.4248 - val_loss: 8.4248\n",
      "Epoch 46/1000\n",
      "10/10 [==============================] - 0s 6ms/step - loss: 8.4248 - val_loss: 8.4248\n",
      "Epoch 47/1000\n",
      "10/10 [==============================] - 0s 5ms/step - loss: 8.4248 - val_loss: 8.4248\n",
      "Epoch 48/1000\n",
      "10/10 [==============================] - 0s 6ms/step - loss: 8.4248 - val_loss: 8.4248\n",
      "Epoch 49/1000\n",
      "10/10 [==============================] - 0s 5ms/step - loss: 8.4248 - val_loss: 8.4248\n",
      "Epoch 50/1000\n",
      "10/10 [==============================] - 0s 6ms/step - loss: 8.4248 - val_loss: 8.4249\n",
      "Epoch 51/1000\n",
      "10/10 [==============================] - 0s 5ms/step - loss: 8.4248 - val_loss: 8.4248\n",
      "Epoch 52/1000\n",
      "10/10 [==============================] - 0s 5ms/step - loss: 8.4248 - val_loss: 8.4248\n",
      "Epoch 53/1000\n",
      "10/10 [==============================] - 0s 5ms/step - loss: 8.4248 - val_loss: 8.4248\n",
      "Epoch 54/1000\n",
      "10/10 [==============================] - 0s 6ms/step - loss: 8.4248 - val_loss: 8.4248\n",
      "Epoch 55/1000\n",
      "10/10 [==============================] - 0s 6ms/step - loss: 8.4248 - val_loss: 8.4249\n",
      "Epoch 56/1000\n",
      "10/10 [==============================] - 0s 6ms/step - loss: 8.4248 - val_loss: 8.4249\n",
      "Epoch 57/1000\n",
      "10/10 [==============================] - 0s 5ms/step - loss: 8.4248 - val_loss: 8.4248\n",
      "Epoch 58/1000\n",
      "10/10 [==============================] - 0s 6ms/step - loss: 8.4249 - val_loss: 8.4248\n",
      "Epoch 59/1000\n",
      "10/10 [==============================] - 0s 6ms/step - loss: 8.4248 - val_loss: 8.4248\n",
      "Epoch 60/1000\n",
      "10/10 [==============================] - 0s 6ms/step - loss: 8.4248 - val_loss: 8.4249\n",
      "Epoch 61/1000\n",
      "10/10 [==============================] - 0s 6ms/step - loss: 8.4249 - val_loss: 8.4249\n",
      "Epoch 62/1000\n",
      "10/10 [==============================] - 0s 6ms/step - loss: 8.4248 - val_loss: 8.4247\n",
      "Epoch 63/1000\n",
      "10/10 [==============================] - 0s 6ms/step - loss: 8.4248 - val_loss: 8.4249\n",
      "Epoch 64/1000\n",
      "10/10 [==============================] - 0s 6ms/step - loss: 8.4249 - val_loss: 8.4248\n",
      "Epoch 65/1000\n",
      "10/10 [==============================] - 0s 6ms/step - loss: 8.4249 - val_loss: 8.4248\n",
      "Epoch 66/1000\n",
      "10/10 [==============================] - 0s 6ms/step - loss: 8.4248 - val_loss: 8.4247\n",
      "Epoch 67/1000\n",
      "10/10 [==============================] - 0s 6ms/step - loss: 8.4248 - val_loss: 8.4250\n",
      "Epoch 68/1000\n",
      "10/10 [==============================] - 0s 6ms/step - loss: 8.4249 - val_loss: 8.4248\n",
      "Epoch 69/1000\n",
      "10/10 [==============================] - 0s 6ms/step - loss: 8.4249 - val_loss: 8.4249\n",
      "Epoch 70/1000\n",
      "10/10 [==============================] - 0s 6ms/step - loss: 8.4249 - val_loss: 8.4248\n",
      "Epoch 71/1000\n",
      "10/10 [==============================] - 0s 5ms/step - loss: 8.4249 - val_loss: 8.4250\n",
      "Epoch 72/1000\n",
      "10/10 [==============================] - 0s 6ms/step - loss: 8.4249 - val_loss: 8.4247\n",
      "Epoch 73/1000\n",
      "10/10 [==============================] - 0s 6ms/step - loss: 8.4249 - val_loss: 8.4248\n",
      "Epoch 74/1000\n",
      "10/10 [==============================] - 0s 6ms/step - loss: 8.4249 - val_loss: 8.4250\n",
      "Epoch 75/1000\n",
      "10/10 [==============================] - 0s 5ms/step - loss: 8.4249 - val_loss: 8.4250\n",
      "Epoch 76/1000\n",
      "10/10 [==============================] - 0s 6ms/step - loss: 8.4249 - val_loss: 8.4250\n",
      "Epoch 77/1000\n",
      "10/10 [==============================] - 0s 6ms/step - loss: 8.4249 - val_loss: 8.4248\n",
      "Epoch 78/1000\n",
      "10/10 [==============================] - 0s 6ms/step - loss: 8.4249 - val_loss: 8.4248\n",
      "Epoch 79/1000\n",
      "10/10 [==============================] - 0s 6ms/step - loss: 8.4249 - val_loss: 8.4247\n",
      "Epoch 80/1000\n",
      "10/10 [==============================] - 0s 6ms/step - loss: 8.4249 - val_loss: 8.4250\n",
      "Epoch 81/1000\n",
      "10/10 [==============================] - 0s 6ms/step - loss: 8.4249 - val_loss: 8.4248\n",
      "Epoch 82/1000\n",
      "10/10 [==============================] - 0s 6ms/step - loss: 8.4249 - val_loss: 8.4248\n"
     ]
    },
    {
     "data": {
      "text/plain": "<Figure size 640x480 with 1 Axes>",
      "image/png": "[encoded data removed]"
     },
     "metadata": {},
     "output_type": "display_data"
    }
   ],
   "source": [
    "autoencoder, encoder, decoder, history = fit_autoencoder_custom(create_autoencoder,\n",
    "                                                         train_data=des_pure_train, val_data=des_pure_val,\n",
    "                                                         input_dim=des_pure_train.shape[1], latent_dim=4, patience=50, epochs=1_000, batch_size=128,\n",
    "                                                         alpha=1, m=runs, n=sum(n_x), J_cb=J_cb, noise=0, max_layers=10)\n",
    "plot_history(history, title=\"Custom Loss\", threshold=100)"
   ],
   "metadata": {
    "collapsed": false
   }
  },
  {
   "cell_type": "code",
   "execution_count": 120,
   "outputs": [
    {
     "data": {
      "text/plain": "8.424739837646484"
     },
     "execution_count": 120,
     "metadata": {},
     "output_type": "execute_result"
    }
   ],
   "source": [
    "np.min(history.history['val_loss'])"
   ],
   "metadata": {
    "collapsed": false
   }
  },
  {
   "cell_type": "code",
   "execution_count": 18,
   "outputs": [
    {
     "name": "stdout",
     "output_type": "stream",
     "text": [
      "WARNING:tensorflow:Compiled the loaded model, but the compiled metrics have yet to be built. `model.compile_metrics` will be empty until you train or evaluate the model.\n"
     ]
    }
   ],
   "source": [
    "autoencoder_plot, _, _ = create_autoencoder(input_dim=des_pure_train.shape[1], latent_dim=2, max_layers=1)\n",
    "autoencoder_plot.save('autoencoder.h5')\n",
    "plot_model(autoencoder_plot, show_shapes=True, show_layer_names=True)"
   ],
   "metadata": {
    "collapsed": false
   }
  },
  {
   "cell_type": "markdown",
   "source": [
    "## Distributions"
   ],
   "metadata": {
    "collapsed": false
   }
  },
  {
   "cell_type": "code",
   "execution_count": 22,
   "outputs": [
    {
     "name": "stderr",
     "output_type": "stream",
     "text": [
      "100%|██████████| 1000/1000 [03:34<00:00,  4.66it/s]\n"
     ]
    }
   ],
   "source": [
    "cordex_pure_train, _, _, _ = create_train_val_set(runs=runs,\n",
    "                                         n_x=n_x,\n",
    "                                         scalars=scalars,\n",
    "                                         optimality=optimality,\n",
    "                                         J_cb=J_cb,\n",
    "                                         num_designs=1000,\n",
    "                                         test_size=0.2,\n",
    "                                         noise=0.1)"
   ],
   "metadata": {
    "collapsed": false
   }
  },
  {
   "cell_type": "code",
   "execution_count": 23,
   "outputs": [
    {
     "name": "stdout",
     "output_type": "stream",
     "text": [
      "25/25 [==============================] - 0s 2ms/step\n"
     ]
    }
   ],
   "source": [
    "# Replace the arguments below with your actual parameters\n",
    "m = runs\n",
    "n = sum(n_x)\n",
    "noise = 0\n",
    "\n",
    "# Calculate the objective function values for each dataset\n",
    "objective_pure_cordex = [objective_function(design, m, n, J_cb, noise) for design in cordex_pure_train]\n",
    "\n",
    "output_designs = autoencoder.predict(cordex_pure_train)\n",
    "objective_output_designs = [objective_function(design, m, n, J_cb, noise) for design in output_designs]"
   ],
   "metadata": {
    "collapsed": false
   }
  },
  {
   "cell_type": "code",
   "execution_count": 24,
   "outputs": [
    {
     "name": "stdout",
     "output_type": "stream",
     "text": [
      "|                    |   Cordex Designs |   Output Designs |\n",
      "|--------------------+------------------+------------------|\n",
      "| Mean               |          112.490 |           64.040 |\n",
      "| Standard Deviation |           24.532 |            0.000 |\n",
      "| Min                |           78.589 |           64.040 |\n",
      "| Max                |          246.707 |           64.040 |\n"
     ]
    }
   ],
   "source": [
    "# Calculate descriptive statistics for the new designs\n",
    "mean_new_designs = np.mean(objective_pure_cordex)\n",
    "std_new_designs = np.std(objective_pure_cordex)\n",
    "min_new_designs = np.min(objective_pure_cordex)\n",
    "max_new_designs = np.max(objective_pure_cordex)\n",
    "\n",
    "# Calculate descriptive statistics for the output designs\n",
    "mean_output_designs = np.mean(objective_output_designs)\n",
    "std_output_designs = np.std(objective_output_designs)\n",
    "min_output_designs = np.min(objective_output_designs)\n",
    "max_output_designs = np.max(objective_output_designs)\n",
    "\n",
    "# Create the table data\n",
    "table_data = [\n",
    "    [\"Mean\", mean_new_designs, mean_output_designs],\n",
    "    [\"Standard Deviation\", std_new_designs, std_output_designs],\n",
    "    [\"Min\", min_new_designs, min_output_designs],\n",
    "    [\"Max\", max_new_designs, max_output_designs]\n",
    "]\n",
    "\n",
    "# Print the table with a header\n",
    "print(tabulate(table_data, headers=[\"\", \"Cordex Designs\", \"Output Designs\"], floatfmt=\".3f\", tablefmt=\"orgtbl\"))"
   ],
   "metadata": {
    "collapsed": false
   }
  },
  {
   "cell_type": "code",
   "execution_count": 25,
   "outputs": [
    {
     "data": {
      "text/plain": "<Figure size 640x480 with 1 Axes>",
      "image/png": "[encoded data removed]"
     },
     "metadata": {},
     "output_type": "display_data"
    }
   ],
   "source": [
    "# Plot KDE histograms\n",
    "sns.kdeplot(objective_pure_cordex, fill=True, color='blue', label='Pure Train')\n",
    "sns.kdeplot(objective_output_designs, fill=True, color='red', label='Output Designs')\n",
    "plt.legend()\n",
    "plt.xlabel('Objective Function Value')\n",
    "plt.ylabel('Density')\n",
    "# plt.ylim(0,0.1)\n",
    "plt.title('KDE Histogram - Pure Train vs Output Designs')\n",
    "plt.show()"
   ],
   "metadata": {
    "collapsed": false
   }
  },
  {
   "cell_type": "code",
   "execution_count": null,
   "outputs": [],
   "source": [
    " # Latent BO\n",
    "# results = latent_auto_bo(runs=runs,\n",
    "#                          n_x=n_x,\n",
    "#                          J_cb=J_cb,\n",
    "#                          decoder=decoder,\n",
    "#                          latent_dim=8,\n",
    "#                          n_iterations=70,\n",
    "#                          n_runs=3,\n",
    "#                          initial_point_generator='random',\n",
    "#                          acq_func='EI')\n",
    "# plot_convergence(results, \"Convergence for multiple random starts\", threshold=10)\n",
    "# optimal_mat, optimal_cr, gp_results = results[np.argmin([result[1] for result in results])]\n",
    "# plot_obj(gp_result)\n",
    "# plot_evals(gp_result)\n",
    "# subplot_results(sub_x=2, sub_y=2, T=np.linspace(0,1,100), results=optimal_mat)\n",
    "# objective_function(optimal_mat,m=runs, n=sum(n_x), J_cb=J_cb, noise=0)"
   ],
   "metadata": {
    "collapsed": false
   }
  },
  {
   "cell_type": "code",
   "execution_count": null,
   "outputs": [],
   "source": [
    "# cordex_mat, cordex_opt = cordex_discrete(runs=runs,\n",
    "#                                          f_list=n_x,\n",
    "#                                          scalars=scalars,\n",
    "#                                          levels=[-1,0,1],\n",
    "#                                          epochs=5,\n",
    "#                                          optimality=optimality,\n",
    "#                                          J_cb=J_cb)\n",
    "# cordex_mat, cordex_opt = cordex_discrete(runs=runs,\n",
    "#                                          f_list=n_x,\n",
    "#                                          scalars=scalars,\n",
    "#                                          levels=[-1,1],\n",
    "#                                          epochs=1,\n",
    "#                                          optimality=optimality,\n",
    "#                                          J_cb=J_cb)\n",
    "#\n",
    "# subplot_results(sub_x=2, sub_y=2, T=np.linspace(0,1,100), results=cordex_mat)\n",
    "# print(cordex_opt)"
   ],
   "metadata": {
    "collapsed": false
   }
  },
  {
   "cell_type": "code",
   "execution_count": 121,
   "outputs": [
    {
     "name": "stderr",
     "output_type": "stream",
     "text": [
      "100%|██████████| 5/5 [00:04<00:00,  1.07it/s]\n"
     ]
    }
   ],
   "source": [
    "if np.min(history_noisy.history['val_loss']) < np.min(history.history['val_loss']):\n",
    "    use_denoising = True\n",
    "    use_normal = False\n",
    "else:\n",
    "    use_denoising = False\n",
    "    use_normal = True\n",
    "\n",
    "results, all_designs = optimize_designs(encoder, decoder, encoder_noisy, decoder_noisy, cordex_discrete, objective_function, runs, n_x, scalars, optimality, J_cb, n_repetitions=5, n_iterations=3, use_denoising=use_denoising, use_normal=use_normal)"
   ],
   "metadata": {
    "collapsed": false
   }
  },
  {
   "cell_type": "code",
   "execution_count": 122,
   "outputs": [
    {
     "data": {
      "text/plain": "<Figure size 640x480 with 1 Axes>",
      "image/png": "[encoded data removed]"
     },
     "metadata": {},
     "output_type": "display_data"
    }
   ],
   "source": [
    "plot_results(results, n_repetitions=5)"
   ],
   "metadata": {
    "collapsed": false
   }
  },
  {
   "cell_type": "code",
   "execution_count": 123,
   "outputs": [
    {
     "data": {
      "text/plain": "<Figure size 400x400 with 4 Axes>",
      "image/png": "[encoded data removed]"
     },
     "metadata": {},
     "output_type": "display_data"
    },
    {
     "name": "stdout",
     "output_type": "stream",
     "text": [
      "Best Design Optimality Criterion: 8.406\n"
     ]
    }
   ],
   "source": [
    "best_opt, best_des = find_best_design(results, all_designs)\n",
    "subplot_results(sub_x=2, sub_y=2, T=np.linspace(0,1,100), results=best_des)\n",
    "print(f\"Best Design Optimality Criterion: {np.round(best_opt,3)}\")"
   ],
   "metadata": {
    "collapsed": false
   }
  },
  {
   "cell_type": "code",
   "execution_count": null,
   "outputs": [],
   "source": [
    "# X = np.linspace(-1,1,1000)\n",
    "# y = []\n",
    "# for x in X:\n",
    "#     xi = np.reshape(x, (1, -1))\n",
    "#     decoded_output = decoder_noiseless.predict(xi)\n",
    "#     y.append(objective_function(decoded_output,m=runs, n=sum(n_x), J_cb=J_cb, noise=0))"
   ],
   "metadata": {
    "collapsed": false
   }
  },
  {
   "cell_type": "code",
   "execution_count": null,
   "outputs": [],
   "source": [
    "# from matplotlib import pyplot as plt\n",
    "# plt.style.use('default')\n",
    "# plt.plot(X,y)\n",
    "# plt.ylim(0,20)\n",
    "# plt.show()"
   ],
   "metadata": {
    "collapsed": false
   }
  },
  {
   "cell_type": "markdown",
   "source": [
    "## Latent space Representation"
   ],
   "metadata": {
    "collapsed": false
   }
  },
  {
   "cell_type": "code",
   "execution_count": 44,
   "outputs": [],
   "source": [
    "def plot_latent_space(train_data, val_data, opt_des, n_components, threshold=10):\n",
    "\n",
    "    train_data = np.append(train_data, opt_des.reshape(1,-1), axis=0)\n",
    "    latent_train = encoder.predict(train_data)\n",
    "    latent_val = encoder.predict(val_data)\n",
    "    obj_train = [objective_function(d, runs, sum(n_x), J_cb=Jcb(*[calc_basis_matrix(x_basis=x, b_basis=b) for x, b in zip(n_x, n_b)]), noise=0) for d in des_pure_train]\n",
    "    obj_val = [objective_function(d, runs, sum(n_x), J_cb=Jcb(*[calc_basis_matrix(x_basis=x, b_basis=b) for x, b in zip(n_x, n_b)]), noise=0) for d in des_pure_val]\n",
    "\n",
    "    obj_opt = objective_function(opt_des, runs, sum(n_x), J_cb=Jcb(*[calc_basis_matrix(x_basis=x, b_basis=b) for x, b in zip(n_x, n_b)]), noise=0)\n",
    "    obj_combined = obj_train + obj_val + [obj_opt]\n",
    "\n",
    "    combined_data = np.vstack((latent_train, latent_val))\n",
    "\n",
    "    # Filter out the designs with objective values higher than the threshold\n",
    "    filtered_indices = [i for i, obj in enumerate(obj_combined) if obj <= threshold]\n",
    "    filtered_obj_combined = [obj_combined[i] for i in filtered_indices]\n",
    "    filtered_combined_data = combined_data[filtered_indices]\n",
    "\n",
    "    min_val, max_val = np.round(np.max(filtered_obj_combined), 2), np.round(np.min(filtered_obj_combined), 2)\n",
    "    colors_filtered = (np.array(filtered_obj_combined[:-1]) - min_val) / (max_val - min_val)\n",
    "\n",
    "    pca = PCA(n_components=n_components)\n",
    "    filtered_combined_data_pca = pca.fit_transform(filtered_combined_data)\n",
    "\n",
    "    if n_components == 2:\n",
    "        plt.figure(figsize=(10, 6))\n",
    "        plt.scatter(filtered_combined_data_pca[:-1, 0], filtered_combined_data_pca[:-1, 1], c=colors_filtered, marker='o', alpha=0.6)\n",
    "        plt.scatter(filtered_combined_data_pca[-1, 0], filtered_combined_data_pca[-1, 1], c='red', marker='*', s=200, label='Optimum Design')\n",
    "        plt.xlabel('Principal Component 1')\n",
    "        plt.ylabel('Principal Component 2')\n",
    "        plt.title('Latent Space Visualization using PCA (2D)')\n",
    "    elif n_components == 3:\n",
    "        fig = plt.figure(figsize=(10, 8))\n",
    "        ax = fig.add_subplot(111, projection='3d')\n",
    "        ax.scatter(filtered_combined_data_pca[:-1, 0], filtered_combined_data_pca[:-1, 1], filtered_combined_data_pca[:-1, 2], c=colors_filtered, marker='o', alpha=0.6)\n",
    "        ax.scatter(filtered_combined_data_pca[-1, 0], filtered_combined_data_pca[-1, 1], filtered_combined_data_pca[-1, 2], c='red', marker='*', s=200, label='Optimum Design')\n",
    "        ax.set_xlabel('Principal Component 1')\n",
    "        ax.set_ylabel('Principal Component 2')\n",
    "        ax.set_zlabel('Principal Component 3')\n",
    "        ax.set_title('Latent Space Visualization using PCA (3D)')\n",
    "\n",
    "    if n_components == 2:\n",
    "        scatter_plot = plt.scatter(filtered_combined_data_pca[:-1, 0], filtered_combined_data_pca[:-1, 1], c=colors_filtered, marker='o', alpha=0.6)\n",
    "        scatter_plot = plt.scatter(filtered_combined_data_pca[-1, 0], filtered_combined_data_pca[-1, 1], c='red', marker='*', s=200, label='Optimum Design')\n",
    "    elif n_components == 3:\n",
    "        scatter_plot = ax.scatter(filtered_combined_data_pca[:-1, 0], filtered_combined_data_pca[:-1, 1], filtered_combined_data_pca[:-1, 2], c=colors_filtered, marker='o', alpha=0.6)\n",
    "        scatter_plot = ax.scatter(filtered_combined_data_pca[-1, 0], filtered_combined_data_pca[-1, 1], filtered_combined_data_pca[-1, 2], c='red', marker='*', s=200, label='Optimum Design')\n",
    "\n",
    "    cbar = plt.colorbar(scatter_plot)\n",
    "    cbar.set_ticks([0, 1])\n",
    "    cbar.set_ticklabels([min_val, max_val])\n",
    "    cbar.set_label('Objective function value')\n",
    "\n",
    "    plt.show()"
   ],
   "metadata": {
    "collapsed": false
   }
  },
  {
   "cell_type": "code",
   "execution_count": 45,
   "outputs": [
    {
     "name": "stdout",
     "output_type": "stream",
     "text": [
      "38/38 [==============================] - 0s 2ms/step\n",
      "10/10 [==============================] - 0s 2ms/step\n"
     ]
    },
    {
     "ename": "ValueError",
     "evalue": "zero-size array to reduction operation maximum which has no identity",
     "output_type": "error",
     "traceback": [
      "\u001B[0;31m---------------------------------------------------------------------------\u001B[0m",
      "\u001B[0;31mValueError\u001B[0m                                Traceback (most recent call last)",
      "Cell \u001B[0;32mIn[45], line 1\u001B[0m\n\u001B[0;32m----> 1\u001B[0m \u001B[43mplot_latent_space\u001B[49m\u001B[43m(\u001B[49m\u001B[43mtrain_data\u001B[49m\u001B[38;5;241;43m=\u001B[39;49m\u001B[43mdes_pure_train\u001B[49m\u001B[43m,\u001B[49m\u001B[43m \u001B[49m\u001B[43mval_data\u001B[49m\u001B[38;5;241;43m=\u001B[39;49m\u001B[43mdes_pure_val\u001B[49m\u001B[43m,\u001B[49m\u001B[43m \u001B[49m\u001B[43mopt_des\u001B[49m\u001B[38;5;241;43m=\u001B[39;49m\u001B[43mbest_des\u001B[49m\u001B[43m,\u001B[49m\u001B[43m \u001B[49m\u001B[43mn_components\u001B[49m\u001B[38;5;241;43m=\u001B[39;49m\u001B[38;5;241;43m2\u001B[39;49m\u001B[43m,\u001B[49m\u001B[43m \u001B[49m\u001B[43mthreshold\u001B[49m\u001B[38;5;241;43m=\u001B[39;49m\u001B[38;5;241;43m20\u001B[39;49m\u001B[43m)\u001B[49m\n",
      "Cell \u001B[0;32mIn[44], line 19\u001B[0m, in \u001B[0;36mplot_latent_space\u001B[0;34m(train_data, val_data, opt_des, n_components, threshold)\u001B[0m\n\u001B[1;32m     16\u001B[0m filtered_obj_combined \u001B[38;5;241m=\u001B[39m [obj_combined[i] \u001B[38;5;28;01mfor\u001B[39;00m i \u001B[38;5;129;01min\u001B[39;00m filtered_indices]\n\u001B[1;32m     17\u001B[0m filtered_combined_data \u001B[38;5;241m=\u001B[39m combined_data[filtered_indices]\n\u001B[0;32m---> 19\u001B[0m min_val, max_val \u001B[38;5;241m=\u001B[39m np\u001B[38;5;241m.\u001B[39mround(\u001B[43mnp\u001B[49m\u001B[38;5;241;43m.\u001B[39;49m\u001B[43mmax\u001B[49m\u001B[43m(\u001B[49m\u001B[43mfiltered_obj_combined\u001B[49m\u001B[43m)\u001B[49m, \u001B[38;5;241m2\u001B[39m), np\u001B[38;5;241m.\u001B[39mround(np\u001B[38;5;241m.\u001B[39mmin(filtered_obj_combined), \u001B[38;5;241m2\u001B[39m)\n\u001B[1;32m     20\u001B[0m colors_filtered \u001B[38;5;241m=\u001B[39m (np\u001B[38;5;241m.\u001B[39marray(filtered_obj_combined[:\u001B[38;5;241m-\u001B[39m\u001B[38;5;241m1\u001B[39m]) \u001B[38;5;241m-\u001B[39m min_val) \u001B[38;5;241m/\u001B[39m (max_val \u001B[38;5;241m-\u001B[39m min_val)\n\u001B[1;32m     22\u001B[0m pca \u001B[38;5;241m=\u001B[39m PCA(n_components\u001B[38;5;241m=\u001B[39mn_components)\n",
      "File \u001B[0;32m<__array_function__ internals>:180\u001B[0m, in \u001B[0;36mamax\u001B[0;34m(*args, **kwargs)\u001B[0m\n",
      "File \u001B[0;32m~/miniforge3/envs/optidex/lib/python3.10/site-packages/numpy/core/fromnumeric.py:2793\u001B[0m, in \u001B[0;36mamax\u001B[0;34m(a, axis, out, keepdims, initial, where)\u001B[0m\n\u001B[1;32m   2677\u001B[0m \u001B[38;5;129m@array_function_dispatch\u001B[39m(_amax_dispatcher)\n\u001B[1;32m   2678\u001B[0m \u001B[38;5;28;01mdef\u001B[39;00m \u001B[38;5;21mamax\u001B[39m(a, axis\u001B[38;5;241m=\u001B[39m\u001B[38;5;28;01mNone\u001B[39;00m, out\u001B[38;5;241m=\u001B[39m\u001B[38;5;28;01mNone\u001B[39;00m, keepdims\u001B[38;5;241m=\u001B[39mnp\u001B[38;5;241m.\u001B[39m_NoValue, initial\u001B[38;5;241m=\u001B[39mnp\u001B[38;5;241m.\u001B[39m_NoValue,\n\u001B[1;32m   2679\u001B[0m          where\u001B[38;5;241m=\u001B[39mnp\u001B[38;5;241m.\u001B[39m_NoValue):\n\u001B[1;32m   2680\u001B[0m     \u001B[38;5;124;03m\"\"\"\u001B[39;00m\n\u001B[1;32m   2681\u001B[0m \u001B[38;5;124;03m    Return the maximum of an array or maximum along an axis.\u001B[39;00m\n\u001B[1;32m   2682\u001B[0m \n\u001B[0;32m   (...)\u001B[0m\n\u001B[1;32m   2791\u001B[0m \u001B[38;5;124;03m    5\u001B[39;00m\n\u001B[1;32m   2792\u001B[0m \u001B[38;5;124;03m    \"\"\"\u001B[39;00m\n\u001B[0;32m-> 2793\u001B[0m     \u001B[38;5;28;01mreturn\u001B[39;00m \u001B[43m_wrapreduction\u001B[49m\u001B[43m(\u001B[49m\u001B[43ma\u001B[49m\u001B[43m,\u001B[49m\u001B[43m \u001B[49m\u001B[43mnp\u001B[49m\u001B[38;5;241;43m.\u001B[39;49m\u001B[43mmaximum\u001B[49m\u001B[43m,\u001B[49m\u001B[43m \u001B[49m\u001B[38;5;124;43m'\u001B[39;49m\u001B[38;5;124;43mmax\u001B[39;49m\u001B[38;5;124;43m'\u001B[39;49m\u001B[43m,\u001B[49m\u001B[43m \u001B[49m\u001B[43maxis\u001B[49m\u001B[43m,\u001B[49m\u001B[43m \u001B[49m\u001B[38;5;28;43;01mNone\u001B[39;49;00m\u001B[43m,\u001B[49m\u001B[43m \u001B[49m\u001B[43mout\u001B[49m\u001B[43m,\u001B[49m\n\u001B[1;32m   2794\u001B[0m \u001B[43m                          \u001B[49m\u001B[43mkeepdims\u001B[49m\u001B[38;5;241;43m=\u001B[39;49m\u001B[43mkeepdims\u001B[49m\u001B[43m,\u001B[49m\u001B[43m \u001B[49m\u001B[43minitial\u001B[49m\u001B[38;5;241;43m=\u001B[39;49m\u001B[43minitial\u001B[49m\u001B[43m,\u001B[49m\u001B[43m \u001B[49m\u001B[43mwhere\u001B[49m\u001B[38;5;241;43m=\u001B[39;49m\u001B[43mwhere\u001B[49m\u001B[43m)\u001B[49m\n",
      "File \u001B[0;32m~/miniforge3/envs/optidex/lib/python3.10/site-packages/numpy/core/fromnumeric.py:86\u001B[0m, in \u001B[0;36m_wrapreduction\u001B[0;34m(obj, ufunc, method, axis, dtype, out, **kwargs)\u001B[0m\n\u001B[1;32m     83\u001B[0m         \u001B[38;5;28;01melse\u001B[39;00m:\n\u001B[1;32m     84\u001B[0m             \u001B[38;5;28;01mreturn\u001B[39;00m reduction(axis\u001B[38;5;241m=\u001B[39maxis, out\u001B[38;5;241m=\u001B[39mout, \u001B[38;5;241m*\u001B[39m\u001B[38;5;241m*\u001B[39mpasskwargs)\n\u001B[0;32m---> 86\u001B[0m \u001B[38;5;28;01mreturn\u001B[39;00m \u001B[43mufunc\u001B[49m\u001B[38;5;241;43m.\u001B[39;49m\u001B[43mreduce\u001B[49m\u001B[43m(\u001B[49m\u001B[43mobj\u001B[49m\u001B[43m,\u001B[49m\u001B[43m \u001B[49m\u001B[43maxis\u001B[49m\u001B[43m,\u001B[49m\u001B[43m \u001B[49m\u001B[43mdtype\u001B[49m\u001B[43m,\u001B[49m\u001B[43m \u001B[49m\u001B[43mout\u001B[49m\u001B[43m,\u001B[49m\u001B[43m \u001B[49m\u001B[38;5;241;43m*\u001B[39;49m\u001B[38;5;241;43m*\u001B[39;49m\u001B[43mpasskwargs\u001B[49m\u001B[43m)\u001B[49m\n",
      "\u001B[0;31mValueError\u001B[0m: zero-size array to reduction operation maximum which has no identity"
     ]
    }
   ],
   "source": [
    "plot_latent_space(train_data=des_pure_train, val_data=des_pure_val, opt_des=best_des, n_components=2, threshold=20)"
   ],
   "metadata": {
    "collapsed": false
   }
  },
  {
   "cell_type": "code",
   "execution_count": 46,
   "outputs": [],
   "source": [
    "def filter_by_threshold(train_data, val_data, opt_des, threshold):\n",
    "    obj_train = [objective_function(d, runs, sum(n_x), J_cb=Jcb(*[calc_basis_matrix(x_basis=x, b_basis=b) for x, b in zip(n_x, n_b)]), noise=0) for d in des_pure_train]\n",
    "    obj_val = [objective_function(d, runs, sum(n_x), J_cb=Jcb(*[calc_basis_matrix(x_basis=x, b_basis=b) for x, b in zip(n_x, n_b)]), noise=0) for d in des_pure_val]\n",
    "\n",
    "    # Add the objective function value of the optimized design to the combined list\n",
    "    obj_opt = objective_function(opt_des, runs, sum(n_x), J_cb=Jcb(*[calc_basis_matrix(x_basis=x, b_basis=b) for x, b in zip(n_x, n_b)]), noise=0)\n",
    "    obj_combined = obj_train + obj_val + [obj_opt]\n",
    "\n",
    "    # Combine the train and validation data\n",
    "    combined_data = np.vstack((train_data, val_data))\n",
    "\n",
    "    # Add the optimized design to the combined data\n",
    "    combined_data = np.append(combined_data, opt_des.reshape(1,-1), axis=0)\n",
    "\n",
    "    # Filter designs based on the threshold value\n",
    "    indices_below_threshold = [i for i, obj_value in enumerate(obj_combined) if obj_value <= threshold]\n",
    "    obj_combined_filtered = [obj_combined[i] for i in indices_below_threshold]\n",
    "    combined_data_filtered = combined_data[indices_below_threshold]\n",
    "\n",
    "    return obj_combined_filtered, combined_data_filtered\n",
    "def plot_latent_space_tsne(train_data, val_data, opt_des, threshold=10):\n",
    "\n",
    "    # Filter the designs based on the threshold value\n",
    "    obj_combined_filtered, combined_data_filtered = filter_by_threshold(train_data, val_data, opt_des, threshold)\n",
    "\n",
    "    # Encode the filtered train and validation data to the latent space\n",
    "    latent_train_filtered = encoder.predict(combined_data_filtered[:-1])\n",
    "    latent_val_filtered = encoder.predict(combined_data_filtered[-1:])\n",
    "\n",
    "    # Normalize the objective function values for color-coding\n",
    "    min_val, max_val = np.round(np.max(obj_combined_filtered), 2), np.round(np.min(obj_combined_filtered), 2)\n",
    "    colors_filtered = (np.array(obj_combined_filtered[:-1]) - min_val) / (max_val - min_val)\n",
    "\n",
    "    # Combine the filtered train and validation data\n",
    "    combined_data_latent_filtered = np.vstack((latent_train_filtered, latent_val_filtered))\n",
    "\n",
    "    # Apply t-SNE to the combined data\n",
    "    tsne = TSNE(n_components=2, perplexity=30, n_iter=1000, random_state=42)\n",
    "    combined_data_tsne = tsne.fit_transform(combined_data_latent_filtered)\n",
    "\n",
    "    # Plot the reduced latent space in 2D\n",
    "    plt.figure(figsize=(10, 6))\n",
    "    plt.scatter(combined_data_tsne[:-1, 0], combined_data_tsne[:-1, 1], c=colors_filtered, marker='o', alpha=0.6)\n",
    "    plt.scatter(combined_data_tsne[-1, 0], combined_data_tsne[-1, 1], c='red', marker='*', s=200, label='Optimum Design')\n",
    "    plt.xlabel('t-SNE Component 1')\n",
    "    plt.ylabel('t-SNE Component 2')\n",
    "    plt.title('Latent Space Visualization using t-SNE (2D)')\n",
    "\n",
    "    # Add colorbar to show the objective function values\n",
    "    scatter_plot = plt.scatter(combined_data_tsne[:-1, 0], combined_data_tsne[:-1, 1], c=colors_filtered, marker='o', alpha=0.6)\n",
    "    scatter_plot = plt.scatter(combined_data_tsne[-1, 0], combined_data_tsne[-1, 1], c='red', marker='*', s=200, label='Optimum Design')\n",
    "\n",
    "    cbar = plt.colorbar(scatter_plot)\n",
    "    cbar.set_ticks([0, 1])\n",
    "    cbar.set_ticklabels([min_val, max_val])\n",
    "    cbar.set_label('Objective function value')\n",
    "\n",
    "    plt.show()"
   ],
   "metadata": {
    "collapsed": false
   }
  },
  {
   "cell_type": "code",
   "execution_count": 47,
   "outputs": [
    {
     "ename": "ValueError",
     "evalue": "Unexpected result of `predict_function` (Empty batch_outputs). Please use `Model.compile(..., run_eagerly=True)`, or `tf.config.run_functions_eagerly(True)` for more information of where went wrong, or file a issue/bug to `tf.keras`.",
     "output_type": "error",
     "traceback": [
      "\u001B[0;31m---------------------------------------------------------------------------\u001B[0m",
      "\u001B[0;31mValueError\u001B[0m                                Traceback (most recent call last)",
      "Cell \u001B[0;32mIn[47], line 1\u001B[0m\n\u001B[0;32m----> 1\u001B[0m \u001B[43mplot_latent_space_tsne\u001B[49m\u001B[43m(\u001B[49m\u001B[43mtrain_data\u001B[49m\u001B[38;5;241;43m=\u001B[39;49m\u001B[43mdes_pure_train\u001B[49m\u001B[43m,\u001B[49m\u001B[43m \u001B[49m\u001B[43mval_data\u001B[49m\u001B[38;5;241;43m=\u001B[39;49m\u001B[43mdes_pure_val\u001B[49m\u001B[43m,\u001B[49m\u001B[43m \u001B[49m\u001B[43mopt_des\u001B[49m\u001B[38;5;241;43m=\u001B[39;49m\u001B[43mbest_des\u001B[49m\u001B[43m,\u001B[49m\u001B[43m \u001B[49m\u001B[43mthreshold\u001B[49m\u001B[38;5;241;43m=\u001B[39;49m\u001B[38;5;241;43m20\u001B[39;49m\u001B[43m)\u001B[49m\n",
      "Cell \u001B[0;32mIn[46], line 27\u001B[0m, in \u001B[0;36mplot_latent_space_tsne\u001B[0;34m(train_data, val_data, opt_des, threshold)\u001B[0m\n\u001B[1;32m     24\u001B[0m obj_combined_filtered, combined_data_filtered \u001B[38;5;241m=\u001B[39m filter_by_threshold(train_data, val_data, opt_des, threshold)\n\u001B[1;32m     26\u001B[0m \u001B[38;5;66;03m# Encode the filtered train and validation data to the latent space\u001B[39;00m\n\u001B[0;32m---> 27\u001B[0m latent_train_filtered \u001B[38;5;241m=\u001B[39m \u001B[43mencoder\u001B[49m\u001B[38;5;241;43m.\u001B[39;49m\u001B[43mpredict\u001B[49m\u001B[43m(\u001B[49m\u001B[43mcombined_data_filtered\u001B[49m\u001B[43m[\u001B[49m\u001B[43m:\u001B[49m\u001B[38;5;241;43m-\u001B[39;49m\u001B[38;5;241;43m1\u001B[39;49m\u001B[43m]\u001B[49m\u001B[43m)\u001B[49m\n\u001B[1;32m     28\u001B[0m latent_val_filtered \u001B[38;5;241m=\u001B[39m encoder\u001B[38;5;241m.\u001B[39mpredict(combined_data_filtered[\u001B[38;5;241m-\u001B[39m\u001B[38;5;241m1\u001B[39m:])\n\u001B[1;32m     30\u001B[0m \u001B[38;5;66;03m# Normalize the objective function values for color-coding\u001B[39;00m\n",
      "File \u001B[0;32m~/miniforge3/envs/optidex/lib/python3.10/site-packages/keras/utils/traceback_utils.py:70\u001B[0m, in \u001B[0;36mfilter_traceback.<locals>.error_handler\u001B[0;34m(*args, **kwargs)\u001B[0m\n\u001B[1;32m     67\u001B[0m     filtered_tb \u001B[38;5;241m=\u001B[39m _process_traceback_frames(e\u001B[38;5;241m.\u001B[39m__traceback__)\n\u001B[1;32m     68\u001B[0m     \u001B[38;5;66;03m# To get the full stack trace, call:\u001B[39;00m\n\u001B[1;32m     69\u001B[0m     \u001B[38;5;66;03m# `tf.debugging.disable_traceback_filtering()`\u001B[39;00m\n\u001B[0;32m---> 70\u001B[0m     \u001B[38;5;28;01mraise\u001B[39;00m e\u001B[38;5;241m.\u001B[39mwith_traceback(filtered_tb) \u001B[38;5;28;01mfrom\u001B[39;00m \u001B[38;5;28mNone\u001B[39m\n\u001B[1;32m     71\u001B[0m \u001B[38;5;28;01mfinally\u001B[39;00m:\n\u001B[1;32m     72\u001B[0m     \u001B[38;5;28;01mdel\u001B[39;00m filtered_tb\n",
      "File \u001B[0;32m~/miniforge3/envs/optidex/lib/python3.10/site-packages/keras/engine/training.py:2375\u001B[0m, in \u001B[0;36mModel.predict\u001B[0;34m(self, x, batch_size, verbose, steps, callbacks, max_queue_size, workers, use_multiprocessing)\u001B[0m\n\u001B[1;32m   2371\u001B[0m                 callbacks\u001B[38;5;241m.\u001B[39mon_predict_batch_end(\n\u001B[1;32m   2372\u001B[0m                     end_step, {\u001B[38;5;124m\"\u001B[39m\u001B[38;5;124moutputs\u001B[39m\u001B[38;5;124m\"\u001B[39m: batch_outputs}\n\u001B[1;32m   2373\u001B[0m                 )\n\u001B[1;32m   2374\u001B[0m     \u001B[38;5;28;01mif\u001B[39;00m batch_outputs \u001B[38;5;129;01mis\u001B[39;00m \u001B[38;5;28;01mNone\u001B[39;00m:\n\u001B[0;32m-> 2375\u001B[0m         \u001B[38;5;28;01mraise\u001B[39;00m \u001B[38;5;167;01mValueError\u001B[39;00m(\n\u001B[1;32m   2376\u001B[0m             \u001B[38;5;124m\"\u001B[39m\u001B[38;5;124mUnexpected result of `predict_function` \u001B[39m\u001B[38;5;124m\"\u001B[39m\n\u001B[1;32m   2377\u001B[0m             \u001B[38;5;124m\"\u001B[39m\u001B[38;5;124m(Empty batch_outputs). Please use \u001B[39m\u001B[38;5;124m\"\u001B[39m\n\u001B[1;32m   2378\u001B[0m             \u001B[38;5;124m\"\u001B[39m\u001B[38;5;124m`Model.compile(..., run_eagerly=True)`, or \u001B[39m\u001B[38;5;124m\"\u001B[39m\n\u001B[1;32m   2379\u001B[0m             \u001B[38;5;124m\"\u001B[39m\u001B[38;5;124m`tf.config.run_functions_eagerly(True)` for more \u001B[39m\u001B[38;5;124m\"\u001B[39m\n\u001B[1;32m   2380\u001B[0m             \u001B[38;5;124m\"\u001B[39m\u001B[38;5;124minformation of where went wrong, or file a \u001B[39m\u001B[38;5;124m\"\u001B[39m\n\u001B[1;32m   2381\u001B[0m             \u001B[38;5;124m\"\u001B[39m\u001B[38;5;124missue/bug to `tf.keras`.\u001B[39m\u001B[38;5;124m\"\u001B[39m\n\u001B[1;32m   2382\u001B[0m         )\n\u001B[1;32m   2383\u001B[0m     callbacks\u001B[38;5;241m.\u001B[39mon_predict_end()\n\u001B[1;32m   2384\u001B[0m all_outputs \u001B[38;5;241m=\u001B[39m tf\u001B[38;5;241m.\u001B[39m__internal__\u001B[38;5;241m.\u001B[39mnest\u001B[38;5;241m.\u001B[39mmap_structure_up_to(\n\u001B[1;32m   2385\u001B[0m     batch_outputs, potentially_ragged_concat, outputs\n\u001B[1;32m   2386\u001B[0m )\n",
      "\u001B[0;31mValueError\u001B[0m: Unexpected result of `predict_function` (Empty batch_outputs). Please use `Model.compile(..., run_eagerly=True)`, or `tf.config.run_functions_eagerly(True)` for more information of where went wrong, or file a issue/bug to `tf.keras`."
     ]
    }
   ],
   "source": [
    "plot_latent_space_tsne(train_data=des_pure_train, val_data=des_pure_val, opt_des=best_des, threshold=20)"
   ],
   "metadata": {
    "collapsed": false
   }
  },
  {
   "cell_type": "markdown",
   "source": [
    "## 3d-Plot of the latent space"
   ],
   "metadata": {
    "collapsed": false
   }
  },
  {
   "cell_type": "code",
   "execution_count": 48,
   "outputs": [
    {
     "name": "stdout",
     "output_type": "stream",
     "text": [
      "31250/31250 [==============================] - 30s 947us/step\n"
     ]
    }
   ],
   "source": [
    "# Create a grid of points in the 2D latent space\n",
    "x = np.linspace(-1, 1, 1_000)\n",
    "y = np.linspace(-1, 1, 1_000)\n",
    "x_grid, y_grid = np.meshgrid(x, y)\n",
    "latent_points = np.vstack([x_grid.ravel(), y_grid.ravel()]).T\n",
    "\n",
    "# Use the decoder to transform the points back to the original space\n",
    "decoded_points = decoder.predict(latent_points)\n",
    "\n",
    "# Calculate the objective function values for each point\n",
    "z_values = np.array([objective_function(point, m=runs, n=sum(n_x), J_cb=J_cb, noise=0) for point in decoded_points])\n",
    "\n",
    "# Reshape the z_values to match the grid shape\n",
    "z_grid = z_values.reshape(x_grid.shape)\n",
    "\n",
    "# Find the index of the minimum value in z_values\n",
    "min_index = np.argmin(z_values)\n",
    "\n",
    "# Find the corresponding point in the latent space and the original space\n",
    "min_latent_point = latent_points[min_index]\n",
    "min_decoded_point = decoded_points[min_index]\n",
    "min_z_value = z_values[min_index]\n",
    "\n",
    "# Create the interactive 3D surface plot with the marked minimum\n",
    "fig = go.Figure(data=[\n",
    "    go.Surface(x=x_grid, y=y_grid, z=z_grid, colorscale='Viridis', reversescale=True),\n",
    "    go.Scatter3d(x=[min_latent_point[0]], y=[min_latent_point[1]], z=[min_z_value],\n",
    "                 mode='markers', marker=dict(size=8, color='red', symbol='circle'))\n",
    "])\n",
    "\n",
    "fig.update_layout(scene=dict(xaxis_title='Latent Dimension 1',\n",
    "                             yaxis_title='Latent Dimension 2',\n",
    "                             zaxis_title='Objective Function Value'),\n",
    "                  title='Interactive 3D Surface Plot with Minimum')\n",
    "\n",
    "# Save the interactive plot to an HTML file\n",
    "pio.write_html(fig, file='interactive_3d_with_minimum.html', auto_open=True)"
   ],
   "metadata": {
    "collapsed": false
   }
  },
  {
   "cell_type": "code",
   "execution_count": null,
   "outputs": [],
   "source": [],
   "metadata": {
    "collapsed": false,
    "pycharm": {
     "is_executing": true
    }
   }
  },
  {
   "cell_type": "code",
   "execution_count": null,
   "outputs": [],
   "source": [],
   "metadata": {
    "collapsed": false
   }
  }
 ],
 "metadata": {
  "kernelspec": {
   "display_name": "Python 3",
   "language": "python",
   "name": "python3"
  },
  "language_info": {
   "codemirror_mode": {
    "name": "ipython",
    "version": 2
   },
   "file_extension": ".py",
   "mimetype": "text/x-python",
   "name": "python",
   "nbconvert_exporter": "python",
   "pygments_lexer": "ipython2",
   "version": "2.7.6"
  }
 },
 "nbformat": 4,
 "nbformat_minor": 0
}
