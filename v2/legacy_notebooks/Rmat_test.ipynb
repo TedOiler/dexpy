{
 "cells": [
  {
   "cell_type": "code",
   "execution_count": 1,
   "metadata": {
    "collapsed": true
   },
   "outputs": [],
   "source": [
    "import numpy as np\n",
    "from scipy.misc import derivative\n",
    "from scipy.integrate import quad\n",
    "from typing import Callable, Tuple\n",
    "import inspect\n",
    "from R import calc_penalty_matrix\n",
    "\n",
    "from basis import indicator, polynomial"
   ]
  },
  {
   "cell_type": "code",
   "execution_count": 2,
   "outputs": [],
   "source": [
    "# import numpy as np\n",
    "# from scipy.integrate import quad\n",
    "#\n",
    "# def indicator(t, l, u):\n",
    "#     \"\"\"\n",
    "#     Computes an indicator function with lower bound l and upper bound u. The output is 1 if the input t is in the range\n",
    "#     [l, u) or if t equals both l and u, and 0 otherwise.\n",
    "#\n",
    "#     Args:\n",
    "#         t (float): Input value to be evaluated.\n",
    "#         l (float): Lower bound for the indicator function.\n",
    "#         u (float): Upper bound for the indicator function.\n",
    "#\n",
    "#     Returns:\n",
    "#         int: 1 if t is in the range [l, u) or if t equals both l and u, 0 otherwise.\n",
    "#     \"\"\"\n",
    "#     return 1 if ((t == u == 1) | ((t >= l) & (t < u))) else 0\n",
    "#\n",
    "# def polynomial(t, p=0):\n",
    "#     \"\"\"\n",
    "#     Calculates the value of the polynomial t^p at the given value of t.\n",
    "#\n",
    "#     Args:\n",
    "#         t (float): The input value for the polynomial.\n",
    "#         p (int): The power to which t is raised. Default is 0.\n",
    "#\n",
    "#     Returns:\n",
    "#         float: The value of the polynomial t^p evaluated at t.\n",
    "#     \"\"\"\n",
    "#     return t ** p\n",
    "#\n",
    "# def elements(n, p, l1=0) -> float:\n",
    "#     \"\"\"\n",
    "#     Calculates the integral of a polynomial basis function over a subinterval of [0,1] with length 1/n.\n",
    "#     The subinterval is determined by the value of l1.\n",
    "#\n",
    "#     Args:\n",
    "#         n (int): The total number of subintervals.\n",
    "#         p (int): The degree of the polynomial to integrate.\n",
    "#         l1 (float, optional): The starting point of the subinterval. Defaults to 0.\n",
    "#\n",
    "#     Returns:\n",
    "#         float: The value of the integral.\n",
    "#     \"\"\"\n",
    "#     return quad(lambda t: (indicator(t, l=l1 / n, u=(l1 + 1) / n)) * (polynomial(t, p=p)), l1 / n, (l1 + 1) / n,\n",
    "#                 full_output=True)[0]\n",
    "#\n",
    "# def calc_basis_matrix(x_basis, b_basis) -> np.ndarray:\n",
    "#     \"\"\"\n",
    "#     Calculates the matrix of basis functions for the input dataset.\n",
    "#\n",
    "#     Parameters:\n",
    "#         x_basis (int): The number of subintervals to divide the input data into.\n",
    "#         b_basis (int): The degree of the polynomial basis functions to use.\n",
    "#\n",
    "#     Returns:\n",
    "#         np.ndarray: A matrix of size (x_basis x b_basis) containing the values of the polynomial basis\n",
    "#         functions evaluated over the subintervals.\n",
    "#     \"\"\"\n",
    "#     return np.array([[elements(n=x_basis, p=p, l1=l1) for p in range(b_basis)] for l1 in range(x_basis)])"
   ],
   "metadata": {
    "collapsed": false
   }
  },
  {
   "cell_type": "code",
   "execution_count": 3,
   "outputs": [],
   "source": [
    "# def elements(f1, f2, low_lim=0, up_lim=1, **kwargs):\n",
    "#     f1_kwargs = {k:v for k,v in kwargs.items() if k in inspect.signature(f1).parameters}\n",
    "#     f2_kwargs = {k:v for k,v in kwargs.items() if k in inspect.signature(f2).parameters}\n",
    "#     return quad(lambda t:(f1(t, **f1_kwargs) * f2(t, **f2_kwargs)), low_lim, up_lim)[0]"
   ],
   "metadata": {
    "collapsed": false
   }
  },
  {
   "cell_type": "code",
   "execution_count": 4,
   "outputs": [],
   "source": [
    "# def calc_basis_matrix(basis_for_x, n_x, basis_for_b, n_b):\n",
    "#     if basis_for_x or basis_for_b is not indicator:\n",
    "#         return np.array(\n",
    "#             [[elements(f1=basis_for_x, f2=basis_for_b, low_lim=0, up_lim=1, l=l1, u=(l1+1)/n_x, p=p) for p in range(n_b)] for l1 in range(n_x)])\n",
    "#     else:\n",
    "#         return np.array(\n",
    "#             [[elements(f1=basis_for_x, f2=basis_for_b, low_lim=l1, up_lim=(l1+1)/n_x, l=l1, u=(l1+1)/n_x, p=p) for p in range(n_b)] for l1 in range(n_x)])"
   ],
   "metadata": {
    "collapsed": false
   }
  },
  {
   "cell_type": "code",
   "execution_count": 5,
   "outputs": [],
   "source": [
    "# calc_basis_matrix(basis_for_x=indicator, n_x=2, basis_for_b=polynomial, n_b=3)"
   ],
   "metadata": {
    "collapsed": false
   }
  },
  {
   "cell_type": "code",
   "execution_count": 8,
   "outputs": [],
   "source": [
    "def indicator(t, l, u):\n",
    "    return 1 if ((t == u == 1) | ((t >= l) & (t < u))) else 0\n",
    "\n",
    "def polynomial(t, p=0):\n",
    "    return t ** p\n",
    "\n",
    "def basis_function(t, type, l, u, p):\n",
    "    if type == 'indicator':\n",
    "        return indicator(t=t, l=l, u=u)\n",
    "    elif type=='polynomial':\n",
    "        return polynomial(t=t, p=p)"
   ],
   "metadata": {
    "collapsed": false
   }
  },
  {
   "cell_type": "code",
   "execution_count": 17,
   "outputs": [],
   "source": [
    "def elements(n, p, type1, type2, l1=0):\n",
    "    if type1=='indicator' or type2=='indicator':\n",
    "        int_lower_lim = l1/n\n",
    "        int_upper_lim = (l1+1)/n\n",
    "    else:\n",
    "        int_lower_lim = 0\n",
    "        int_upper_lim = 1\n",
    "\n",
    "    return quad(lambda t: (basis_function(t, type=type1, l=l1/n, u=(l1+1)/n, p=p))*\n",
    "                          (basis_function(t, type=type2, l=l1/n, u=(l1+1)/n, p=p)),\n",
    "                int_lower_lim, int_upper_lim,\n",
    "                full_output=True)[0]"
   ],
   "metadata": {
    "collapsed": false
   }
  },
  {
   "cell_type": "code",
   "execution_count": 18,
   "outputs": [],
   "source": [
    "def calc_basis_matrix(x_basis, n_x, b_basis, n_b):\n",
    "    if x_basis=='indicator' or b_basis=='indicator':\n",
    "        basis_matrix= np.array(\n",
    "            [[elements(n=n_x, p=p, type1=x_basis, type2=b_basis, l1=l1) for p in range(n_b)] for l1 in range(n_x)]\n",
    "        )\n",
    "    else:\n",
    "        basis_matrix = np.array(\n",
    "            [[elements(n=n, p=p, type1=x_basis, type2=b_basis, l1=0) for p in range(n_b)] for n in range(n_x)]\n",
    "        )\n",
    "    return basis_matrix"
   ],
   "metadata": {
    "collapsed": false
   }
  },
  {
   "cell_type": "code",
   "execution_count": 19,
   "outputs": [
    {
     "data": {
      "text/plain": "array([[0.5  , 0.125],\n       [0.5  , 0.375]])"
     },
     "execution_count": 19,
     "metadata": {},
     "output_type": "execute_result"
    }
   ],
   "source": [
    "calc_basis_matrix(x_basis='indicator', n_x=2, b_basis='polynomial', n_b=2)"
   ],
   "metadata": {
    "collapsed": false
   }
  },
  {
   "cell_type": "code",
   "execution_count": 21,
   "outputs": [
    {
     "data": {
      "text/plain": "array([[0.5  , 0.125],\n       [0.5  , 0.375]])"
     },
     "execution_count": 21,
     "metadata": {},
     "output_type": "execute_result"
    }
   ],
   "source": [
    "calc_basis_matrix(x_basis='indicator', n_x=2, b_basis='polynomial', n_b=2)"
   ],
   "metadata": {
    "collapsed": false
   }
  },
  {
   "cell_type": "markdown",
   "source": [
    "---"
   ],
   "metadata": {
    "collapsed": false
   }
  },
  {
   "cell_type": "code",
   "execution_count": 43,
   "outputs": [
    {
     "name": "stderr",
     "output_type": "stream",
     "text": [
      "/var/folders/bb/tzggm8cx2f5fyxfhdmmhn7j40000gn/T/ipykernel_19991/1542043282.py:4: DeprecationWarning: scipy.misc.derivative is deprecated in SciPy v1.10.0; and will be completely removed in SciPy v1.12.0. You may consider using findiff: https://github.com/maroba/findiff or numdifftools: https://github.com/pbrod/numdifftools\n",
      "  [[quad(lambda t: ( derivative(polynomial, t, dx=1e-6, n=2, args=[j]) ) *\n",
      "/var/folders/bb/tzggm8cx2f5fyxfhdmmhn7j40000gn/T/ipykernel_19991/1542043282.py:5: DeprecationWarning: scipy.misc.derivative is deprecated in SciPy v1.10.0; and will be completely removed in SciPy v1.12.0. You may consider using findiff: https://github.com/maroba/findiff or numdifftools: https://github.com/pbrod/numdifftools\n",
      "  ( derivative(polynomial, t, dx=1e-6, n=2, args=[i]) ),\n"
     ]
    },
    {
     "data": {
      "text/plain": "array([[0., 0., 0., 0.],\n       [0., 0., 0., 0.],\n       [0., 0., 0., 0.],\n       [0., 0., 0., 4.]])"
     },
     "execution_count": 43,
     "metadata": {},
     "output_type": "execute_result"
    }
   ],
   "source": [
    "basis_b=3\n",
    "\n",
    "R = np.array(\n",
    "    [[quad(lambda t: ( derivative(polynomial, t, dx=1e-6, n=2, args=[j]) ) *\n",
    "                     ( derivative(polynomial, t, dx=1e-6, n=2, args=[i]) ),\n",
    "           0,1,full_output=True)[0] for j in range(basis_b)] for i in range(basis_b)])\n",
    "zeros_ver = np.zeros(basis_b).reshape(-1,1)\n",
    "zeros_hor = np.zeros(basis_b+1).reshape(1,-1)\n",
    "R_0 = np.round(np.concatenate((zeros_hor, np.concatenate((zeros_ver, R), axis=1)), axis=0),3)\n",
    "R_0"
   ],
   "metadata": {
    "collapsed": false
   }
  },
  {
   "cell_type": "code",
   "execution_count": 26,
   "outputs": [
    {
     "name": "stderr",
     "output_type": "stream",
     "text": [
      "/var/folders/bb/tzggm8cx2f5fyxfhdmmhn7j40000gn/T/ipykernel_19991/457178830.py:1: DeprecationWarning: scipy.misc.derivative is deprecated in SciPy v1.10.0; and will be completely removed in SciPy v1.12.0. You may consider using findiff: https://github.com/maroba/findiff or numdifftools: https://github.com/pbrod/numdifftools\n",
      "  derivative(polynomial, 0.5, dx=1e-6, n=2, args=[2])\n"
     ]
    },
    {
     "data": {
      "text/plain": "2.0000667788622195"
     },
     "execution_count": 26,
     "metadata": {},
     "output_type": "execute_result"
    }
   ],
   "source": [
    "derivative(polynomial, 0.5, dx=1e-6, n=2, args=[2])"
   ],
   "metadata": {
    "collapsed": false
   }
  },
  {
   "cell_type": "code",
   "execution_count": 45,
   "outputs": [
    {
     "data": {
      "text/plain": "array([[ 0. ,  0. ,  0. ,  0. ,  0. ,  0. ],\n       [ 0. ,  0. ,  0. ,  0. ,  0. ,  0. ],\n       [ 0. ,  0. ,  0. ,  0. ,  0. ,  0. ],\n       [ 0. ,  0. ,  0. ,  4. ,  6. ,  8. ],\n       [ 0. ,  0. ,  0. ,  6. , 12. , 18. ],\n       [ 0. ,  0. ,  0. ,  8. , 18. , 28.8]])"
     },
     "execution_count": 45,
     "metadata": {},
     "output_type": "execute_result"
    }
   ],
   "source": [
    "R_0 = calc_penalty_matrix(n_b=5, padding=True)\n",
    "R_0"
   ],
   "metadata": {
    "collapsed": false
   }
  },
  {
   "cell_type": "markdown",
   "source": [],
   "metadata": {
    "collapsed": false
   }
  },
  {
   "cell_type": "code",
   "execution_count": 46,
   "outputs": [
    {
     "data": {
      "text/plain": "array([[ 0. ,  0. ,  0. ,  0. ,  0. ,  0. ],\n       [ 0. ,  0. ,  0. ,  0. ,  0. ,  0. ],\n       [ 0. ,  0. ,  0. ,  0. ,  0. ,  0. ],\n       [ 0. ,  0. ,  0. , 12. , 18. , 24. ],\n       [ 0. ,  0. ,  0. , 18. , 36. , 54. ],\n       [ 0. ,  0. ,  0. , 24. , 54. , 86.4]])"
     },
     "execution_count": 46,
     "metadata": {},
     "output_type": "execute_result"
    }
   ],
   "source": [
    "3*R_0"
   ],
   "metadata": {
    "collapsed": false
   }
  },
  {
   "cell_type": "code",
   "execution_count": null,
   "outputs": [],
   "source": [],
   "metadata": {
    "collapsed": false
   }
  }
 ],
 "metadata": {
  "kernelspec": {
   "display_name": "Python 3",
   "language": "python",
   "name": "python3"
  },
  "language_info": {
   "codemirror_mode": {
    "name": "ipython",
    "version": 2
   },
   "file_extension": ".py",
   "mimetype": "text/x-python",
   "name": "python",
   "nbconvert_exporter": "python",
   "pygments_lexer": "ipython2",
   "version": "2.7.6"
  }
 },
 "nbformat": 4,
 "nbformat_minor": 0
}
