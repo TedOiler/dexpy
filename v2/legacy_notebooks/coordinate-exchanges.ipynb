{
 "cells": [
  {
   "cell_type": "code",
   "execution_count": null,
   "metadata": {
    "collapsed": true,
    "pycharm": {
     "is_executing": true
    }
   },
   "outputs": [],
   "source": [
    "import numpy as np\n",
    "from tqdm import tqdm\n",
    "import os\n",
    "import torch\n",
    "from gen_rand_design import gen_rand_design"
   ]
  },
  {
   "cell_type": "code",
   "execution_count": null,
   "outputs": [],
   "source": [
    "tkwargs = {'dtype': torch.float64, 'device': 'cpu'}\n",
    "from botorch.models import SingleTaskGP, ModelListGP\n",
    "from gpytorch.mlls.exact_marginal_log_likelihood import ExactMarginalLogLikelihood\n",
    "from botorch import fit_gpytorch_model\n",
    "from botorch.acquisition.monte_carlo import qExpectedImprovement\n",
    "from botorch.acquisition.monte_carlo import qUpperConfidenceBound\n",
    "from botorch.acquisition.monte_carlo import qProbabilityOfImprovement\n",
    "from botorch.optim import optimize_acqf"
   ],
   "metadata": {
    "collapsed": false,
    "pycharm": {
     "is_executing": true
    }
   }
  },
  {
   "cell_type": "code",
   "execution_count": 1,
   "outputs": [],
   "source": [
    "def target_function(X):\n",
    "    ones = np.array([1]*X.shape[0]).reshape(-1,1)\n",
    "    Z = np.concatenate((ones, X), axis=1)\n",
    "    M = Z.T @ Z\n",
    "    try:\n",
    "        d_opt = np.array(np.linalg.det(M)).reshape(-1,1)\n",
    "    except:\n",
    "        d_opt = np.array([-np.infty])\n",
    "    return torch.tensor(d_opt)"
   ],
   "metadata": {
    "collapsed": false
   }
  },
  {
   "cell_type": "code",
   "execution_count": 2,
   "outputs": [
    {
     "ename": "NameError",
     "evalue": "name 'gen_rand_design' is not defined",
     "output_type": "error",
     "traceback": [
      "\u001B[0;31m---------------------------------------------------------------------------\u001B[0m",
      "\u001B[0;31mNameError\u001B[0m                                 Traceback (most recent call last)",
      "\u001B[0;32m/var/folders/bb/tzggm8cx2f5fyxfhdmmhn7j40000gn/T/ipykernel_15239/2684034173.py\u001B[0m in \u001B[0;36m<module>\u001B[0;34m\u001B[0m\n\u001B[0;32m----> 1\u001B[0;31m \u001B[0mX\u001B[0m \u001B[0;34m=\u001B[0m \u001B[0mgen_rand_design\u001B[0m\u001B[0;34m(\u001B[0m\u001B[0mruns\u001B[0m\u001B[0;34m=\u001B[0m\u001B[0;36m4\u001B[0m\u001B[0;34m,\u001B[0m \u001B[0mfeats\u001B[0m\u001B[0;34m=\u001B[0m\u001B[0;36m16\u001B[0m\u001B[0;34m)\u001B[0m\u001B[0;34m\u001B[0m\u001B[0;34m\u001B[0m\u001B[0m\n\u001B[0m\u001B[1;32m      2\u001B[0m \u001B[0mX\u001B[0m\u001B[0;34m\u001B[0m\u001B[0;34m\u001B[0m\u001B[0m\n",
      "\u001B[0;31mNameError\u001B[0m: name 'gen_rand_design' is not defined"
     ]
    }
   ],
   "source": [
    "X = gen_rand_design(runs=4, feats=16)\n",
    "X"
   ],
   "metadata": {
    "collapsed": false
   }
  },
  {
   "cell_type": "code",
   "execution_count": null,
   "outputs": [],
   "source": [],
   "metadata": {
    "collapsed": false
   }
  },
  {
   "cell_type": "code",
   "execution_count": 742,
   "outputs": [],
   "source": [
    "def get_initial_data(n=1, low=None, high=None):\n",
    "    x1 = torch.FloatTensor(n,1).uniform_(low[0], high[0])\n",
    "    x2 = torch.FloatTensor(n,1).uniform_(low[1], high[1])\n",
    "    x3 = torch.FloatTensor(n,1).uniform_(low[2], high[2])\n",
    "    x4 = torch.FloatTensor(n,1).uniform_(low[3], high[3])\n",
    "    x5 = torch.FloatTensor(n,1).uniform_(low[4], high[4])\n",
    "    x6 = torch.FloatTensor(n,1).uniform_(low[5], high[5])\n",
    "    x7 = torch.FloatTensor(n,1).uniform_(low[6], high[6])\n",
    "    x8 = torch.FloatTensor(n,1).uniform_(low[7], high[7])\n",
    "    x9 = torch.FloatTensor(n,1).uniform_(low[8], high[8])\n",
    "    x10 = torch.FloatTensor(n,1).uniform_(low[9], high[9])\n",
    "    x11 = torch.FloatTensor(n,1).uniform_(low[10], high[10])\n",
    "    x12 = torch.FloatTensor(n,1).uniform_(low[11], high[11])\n",
    "    X = np.vstack((x1, x2, x3, x4, x5, x6, x7, x8, x9, x10, x11, x12))\n",
    "    y = target_function(X)\n",
    "    best_y = y.max().item()\n",
    "    return x1, x2, x3, x4, x5, x6, x7, x8, x9, x10, x11, x12, y, best_y"
   ],
   "metadata": {
    "collapsed": false
   }
  },
  {
   "cell_type": "code",
   "execution_count": 743,
   "outputs": [],
   "source": [
    "def get_initial_data_4(n=1, low=None, high=None):\n",
    "    x1 = torch.FloatTensor(n,1).uniform_(low[0], high[0])\n",
    "    x2 = torch.FloatTensor(n,1).uniform_(low[1], high[1])\n",
    "    x3 = torch.FloatTensor(n,1).uniform_(low[2], high[2])\n",
    "    x4 = torch.FloatTensor(n,1).uniform_(low[3], high[3])\n",
    "    X = np.vstack((x1, x2, x3, x4))\n",
    "    y = target_function(X)\n",
    "    best_y = y.max().item()\n",
    "    return x1, x2, x3, x4, y, best_y"
   ],
   "metadata": {
    "collapsed": false
   }
  },
  {
   "cell_type": "code",
   "execution_count": 797,
   "outputs": [],
   "source": [
    "def gen_next_point(X, y, best_y, bounds, n_exp, inequality_constraints=None):\n",
    "    model = SingleTaskGP(X, y)\n",
    "    mll = ExactMarginalLogLikelihood(model.likelihood, model)\n",
    "    fit_gpytorch_model(mll)\n",
    "    EI = qExpectedImprovement(model=model, best_f=best_y)\n",
    "    PI = qProbabilityOfImprovement(model=model, best_f=best_y)\n",
    "    UCB = qUpperConfidenceBound(model=model, beta=0.3)\n",
    "    candidates, _ = optimize_acqf(acq_function=EI,\n",
    "                                  bounds=bounds,\n",
    "                                  q=n_exp,\n",
    "                                  num_restarts=10,\n",
    "                                  raw_samples=1000,\n",
    "                                  options={\"batch_limit\": 5, \"maxiter\": 200},\n",
    "                                  inequality_constraints=inequality_constraints)\n",
    "    return candidates"
   ],
   "metadata": {
    "collapsed": false
   }
  },
  {
   "cell_type": "code",
   "execution_count": 1,
   "outputs": [
    {
     "ename": "NameError",
     "evalue": "name 'get_initial_data_4' is not defined",
     "output_type": "error",
     "traceback": [
      "\u001B[0;31m---------------------------------------------------------------------------\u001B[0m",
      "\u001B[0;31mNameError\u001B[0m                                 Traceback (most recent call last)",
      "\u001B[0;32m/var/folders/bb/tzggm8cx2f5fyxfhdmmhn7j40000gn/T/ipykernel_43215/564350658.py\u001B[0m in \u001B[0;36m<module>\u001B[0;34m\u001B[0m\n\u001B[1;32m      3\u001B[0m \u001B[0mx3_init\u001B[0m\u001B[0;34m,\u001B[0m\u001B[0;31m\\\u001B[0m\u001B[0;34m\u001B[0m\u001B[0;34m\u001B[0m\u001B[0m\n\u001B[1;32m      4\u001B[0m \u001B[0mx4_init\u001B[0m\u001B[0;34m,\u001B[0m\u001B[0;31m\\\u001B[0m\u001B[0;34m\u001B[0m\u001B[0;34m\u001B[0m\u001B[0m\n\u001B[0;32m----> 5\u001B[0;31m \u001B[0my_init\u001B[0m\u001B[0;34m,\u001B[0m \u001B[0mbest_y_init\u001B[0m \u001B[0;34m=\u001B[0m \u001B[0mget_initial_data_4\u001B[0m\u001B[0;34m(\u001B[0m\u001B[0mn\u001B[0m\u001B[0;34m=\u001B[0m\u001B[0;36m1\u001B[0m\u001B[0;34m,\u001B[0m \u001B[0mlow\u001B[0m\u001B[0;34m=\u001B[0m\u001B[0;34m[\u001B[0m\u001B[0;34m-\u001B[0m\u001B[0;36m1\u001B[0m\u001B[0;34m,\u001B[0m\u001B[0;34m-\u001B[0m\u001B[0;36m1\u001B[0m\u001B[0;34m,\u001B[0m\u001B[0;34m-\u001B[0m\u001B[0;36m1\u001B[0m\u001B[0;34m,\u001B[0m\u001B[0;34m-\u001B[0m\u001B[0;36m1\u001B[0m\u001B[0;34m]\u001B[0m\u001B[0;34m,\u001B[0m \u001B[0mhigh\u001B[0m\u001B[0;34m=\u001B[0m\u001B[0;34m[\u001B[0m\u001B[0;36m1\u001B[0m\u001B[0;34m,\u001B[0m\u001B[0;36m1\u001B[0m\u001B[0;34m,\u001B[0m\u001B[0;36m1\u001B[0m\u001B[0;34m,\u001B[0m\u001B[0;36m1\u001B[0m\u001B[0;34m]\u001B[0m\u001B[0;34m)\u001B[0m\u001B[0;34m\u001B[0m\u001B[0;34m\u001B[0m\u001B[0m\n\u001B[0m",
      "\u001B[0;31mNameError\u001B[0m: name 'get_initial_data_4' is not defined"
     ]
    }
   ],
   "source": [
    "x1_init,\\\n",
    "x2_init,\\\n",
    "x3_init,\\\n",
    "x4_init,\\\n",
    "y_init, best_y_init = get_initial_data_4(n=1, low=[-1,-1,-1,-1], high=[1,1,1,1])"
   ],
   "metadata": {
    "collapsed": false
   }
  },
  {
   "cell_type": "code",
   "execution_count": 801,
   "outputs": [],
   "source": [
    "X_init = torch.tensor(np.vstack((x1_init, x2_init, x3_init, x4_init))).T\n",
    "bounds = torch.Tensor([[-1,-1,-1,-1], [1,1,1,1]])"
   ],
   "metadata": {
    "collapsed": false
   }
  },
  {
   "cell_type": "code",
   "execution_count": 803,
   "outputs": [],
   "source": [
    "n_runs=250\n",
    "History_Matrix = []\n",
    "for i in tqdm(range(n_runs)):\n",
    "    #print(f\"Nr. of optimization run: {i+1}\")\n",
    "    new_candidates = gen_next_point(X_init, y_init, best_y_init, bounds=bounds, n_exp=1)\n",
    "    X = np.vstack((new_candidates[:,0],\n",
    "                   new_candidates[:,1],\n",
    "                   new_candidates[:,2],\n",
    "                   new_candidates[:,3],\n",
    "                   new_candidates[:,4],\n",
    "                   new_candidates[:,5],\n",
    "                   new_candidates[:,6],\n",
    "                   new_candidates[:,7],\n",
    "                   new_candidates[:,8],\n",
    "                   new_candidates[:,9],\n",
    "                   new_candidates[:,10],\n",
    "                   new_candidates[:,11]))\n",
    "    new_result = target_function(X)\n",
    "    #print(f\"New candidate is: {new_candidates}\")\n",
    "\n",
    "    X_init = torch.cat([X_init, new_candidates])\n",
    "    y_init = torch.cat([y_init, new_result])\n",
    "    best_y_init = y_init.max().item()\n",
    "    #print(f\"Best point performs this way: {best_y_init}\")\n",
    "    History_Matrix.append([i, best_y_init, new_candidates])"
   ],
   "metadata": {
    "collapsed": false
   }
  },
  {
   "cell_type": "code",
   "execution_count": 804,
   "outputs": [
    {
     "name": "stderr",
     "output_type": "stream",
     "text": [
      "100%|██████████| 10/10 [00:04<00:00,  2.27it/s]\n"
     ]
    }
   ],
   "source": [
    "n_runs=10\n",
    "History_Matrix = []\n",
    "for i in tqdm(range(n_runs)):\n",
    "    #print(f\"Nr. of optimization run: {i+1}\")\n",
    "    new_candidates = gen_next_point(X_init, y_init, best_y_init, bounds=bounds, n_exp=1)\n",
    "    X = np.vstack((new_candidates[:,0],\n",
    "                   new_candidates[:,1],\n",
    "                   new_candidates[:,2],\n",
    "                   new_candidates[:,3]))\n",
    "    new_result = target_function(X)\n",
    "    #print(f\"New candidate is: {new_candidates}\")\n",
    "\n",
    "    X_init = torch.cat([X_init, new_candidates])\n",
    "    y_init = torch.cat([y_init, new_result])\n",
    "    best_y_init = y_init.max().item()\n",
    "    #print(f\"Best point performs this way: {best_y_init}\")\n",
    "    History_Matrix.append([i, best_y_init, new_candidates])"
   ],
   "metadata": {
    "collapsed": false
   }
  },
  {
   "cell_type": "code",
   "execution_count": 805,
   "outputs": [],
   "source": [
    "History_Matrix = np.array(History_Matrix, dtype=object)\n",
    "epoch_max_det_id = History_Matrix[:, 1].argmax()\n",
    "Best_design = History_Matrix[epoch_max_det_id, 2]\n",
    "Best_criterion = History_Matrix[epoch_max_det_id, 1]"
   ],
   "metadata": {
    "collapsed": false
   }
  },
  {
   "cell_type": "code",
   "execution_count": 806,
   "outputs": [
    {
     "data": {
      "text/plain": "15.999999999999998"
     },
     "execution_count": 806,
     "metadata": {},
     "output_type": "execute_result"
    }
   ],
   "source": [
    "Best_criterion"
   ],
   "metadata": {
    "collapsed": false
   }
  },
  {
   "cell_type": "code",
   "execution_count": 807,
   "outputs": [
    {
     "data": {
      "text/plain": "tensor([[ 1.],\n        [ 1.],\n        [-1.],\n        [-1.]])"
     },
     "execution_count": 807,
     "metadata": {},
     "output_type": "execute_result"
    }
   ],
   "source": [
    "Best_design.T"
   ],
   "metadata": {
    "collapsed": false
   }
  },
  {
   "cell_type": "code",
   "execution_count": null,
   "outputs": [],
   "source": [],
   "metadata": {
    "collapsed": false
   }
  },
  {
   "cell_type": "code",
   "execution_count": null,
   "outputs": [],
   "source": [],
   "metadata": {
    "collapsed": false
   }
  },
  {
   "cell_type": "code",
   "execution_count": null,
   "outputs": [],
   "source": [],
   "metadata": {
    "collapsed": false
   }
  },
  {
   "cell_type": "code",
   "execution_count": 354,
   "outputs": [
    {
     "data": {
      "text/plain": "array([[ 0.11435723],\n       [-0.01103151]], dtype=float32)"
     },
     "execution_count": 354,
     "metadata": {},
     "output_type": "execute_result"
    }
   ],
   "source": [
    "x1 = torch.FloatTensor(1,1).uniform_(-1, 1)\n",
    "x2 = torch.FloatTensor(1,1).uniform_(-1, 1)\n",
    "x = np.vstack((x1, x2))\n",
    "x"
   ],
   "metadata": {
    "collapsed": false
   }
  },
  {
   "cell_type": "code",
   "execution_count": 322,
   "outputs": [
    {
     "data": {
      "text/plain": "tensor([[-0.8926]])"
     },
     "execution_count": 322,
     "metadata": {},
     "output_type": "execute_result"
    }
   ],
   "source": [
    "(torch.FloatTensor(1,1).uniform_(-1, 1))"
   ],
   "metadata": {
    "collapsed": false
   }
  },
  {
   "cell_type": "code",
   "execution_count": 360,
   "outputs": [
    {
     "name": "stderr",
     "output_type": "stream",
     "text": [
      "/var/folders/bb/tzggm8cx2f5fyxfhdmmhn7j40000gn/T/ipykernel_64148/1921890978.py:1: FutureWarning: The input object of type 'Tensor' is an array-like implementing one of the corresponding protocols (`__array__`, `__array_interface__` or `__array_struct__`); but not a sequence (or 0-D). In the future, this object will be coerced as if it was first converted using `np.array(obj)`. To retain the old behaviour, you have to either modify the type 'Tensor', or assign to an empty array created with `np.empty(correct_shape, dtype=object)`.\n",
      "  x_iter = np.array([torch.FloatTensor(1,1).uniform_(-1,1) for n in range(2)], dtype=object)\n"
     ]
    }
   ],
   "source": [
    "x_iter = np.array([torch.FloatTensor(1,1).uniform_(-1,1) for n in range(2)], dtype=object)"
   ],
   "metadata": {
    "collapsed": false
   }
  },
  {
   "cell_type": "code",
   "execution_count": 361,
   "outputs": [
    {
     "data": {
      "text/plain": "array([tensor([[0.1906]]), tensor([[-0.8332]])], dtype=object)"
     },
     "execution_count": 361,
     "metadata": {},
     "output_type": "execute_result"
    }
   ],
   "source": [
    "x_iter"
   ],
   "metadata": {
    "collapsed": false
   }
  },
  {
   "cell_type": "markdown",
   "source": [
    "## BO sklearn"
   ],
   "metadata": {
    "collapsed": false
   }
  },
  {
   "cell_type": "code",
   "execution_count": 1,
   "outputs": [],
   "source": [
    "from scipy.stats import norm\n",
    "import random\n",
    "import numpy as np\n",
    "from sklearn.gaussian_process import GaussianProcessRegressor\n",
    "from sklearn.gaussian_process.kernels import ConstantKernel\n",
    "from sklearn.gaussian_process.kernels import WhiteKernel\n",
    "from sklearn.gaussian_process.kernels import RBF\n",
    "from sklearn.gaussian_process.kernels import Matern\n",
    "\n",
    "from gen_rand_design import gen_rand_design\n",
    "from Jcb import calc_basis_matrix"
   ],
   "metadata": {
    "collapsed": false
   }
  },
  {
   "cell_type": "code",
   "execution_count": 2,
   "outputs": [],
   "source": [
    "def surrogate(model, X):\n",
    "    return model.predict(X, return_std=True)"
   ],
   "metadata": {
    "collapsed": false
   }
  },
  {
   "cell_type": "code",
   "execution_count": 12,
   "outputs": [],
   "source": [
    "def acq_pi(X, Xsamples, model, beta=None):\n",
    "    yhat, _ = surrogate(model, X)\n",
    "    best = max(yhat) # calculate the best so far\n",
    "\n",
    "    mu, std = surrogate(model, Xsamples)\n",
    "    mu = mu.reshape(-1,1)[:, 0]\n",
    "    gamma = (mu - best) / (std + 1E-9)\n",
    "    probs = norm.cdf(gamma) # add a very small number to std to avoid dividing with 0\n",
    "    return probs\n",
    "\n",
    "def acq_ei(X, Xsamples, model, beta=None):\n",
    "    yhat, _ = surrogate(model, X)\n",
    "    best = max(yhat) # calculate the best so far\n",
    "\n",
    "    mu, std = surrogate(model, Xsamples)\n",
    "    mu = mu.reshape(-1,1)[:, 0]\n",
    "    gamma = (mu-best)/(std + 1E-9) # add a very small number to std to avoid dividing with 0\n",
    "    probs = std * (gamma * norm.cdf(gamma)) + norm.pdf(gamma)\n",
    "    return probs\n",
    "\n",
    "def acq_ucb(X, Xsamples, model, beta=1):\n",
    "    yhat, _ = surrogate(model, X)\n",
    "    mu, std = surrogate(model, Xsamples)\n",
    "    mu = mu.reshape(-1, 1)[:, 0]\n",
    "    probs = mu + np.sqrt(beta)*std\n",
    "    return probs\n",
    "\n",
    "def opt_acq(X, y, model, acq, low, high, beta=0.5):\n",
    "    Xsamples = get_random_X(low=low, high=high, samples=10000)\n",
    "    scores = acq(X, Xsamples, model, beta=beta)\n",
    "    ix = np.argmax(scores)\n",
    "    return Xsamples[ix]\n",
    "\n",
    "def get_random_X(low, high, samples):\n",
    "    ALL = np.array(np.meshgrid(*[np.arange(low[k], high[k], 0.1) for k in range(len(low))])).T.reshape(-1,len(low))\n",
    "    idx = random.sample(range(0, ALL.shape[0]-1), samples)\n",
    "    return ALL[idx]"
   ],
   "metadata": {
    "collapsed": false
   }
  },
  {
   "cell_type": "code",
   "execution_count": 13,
   "outputs": [],
   "source": [
    "def objective(X, runs, feats, optimality='A', J_cb=None):\n",
    "    ones = np.array([1]*runs).reshape(-1,1)\n",
    "    X = X.reshape(runs, feats)\n",
    "    Zetta = np.concatenate((ones, X), axis=1) if J_cb is None else np.concatenate((ones, X @ J_cb), axis=1)\n",
    "    M = Zetta.T @ Zetta\n",
    "    if optimality == 'A':\n",
    "        try:\n",
    "            cr = np.trace(np.linalg.inv(M))\n",
    "        except np.linalg.LinAlgError:\n",
    "            cr = np.infty\n",
    "        return np.array([cr])\n",
    "    elif optimality == 'D':\n",
    "        try:\n",
    "            cr = np.linalg.det(M)\n",
    "        except np.linalg.LinAlgError:\n",
    "            cr = np.infty\n",
    "        return np.array([-cr])\n",
    "    else:\n",
    "        raise ValueError(f\"Invalid criterion {optimality}. \"\n",
    "                         \"Criterion should be one of 'D', or 'A'.\")"
   ],
   "metadata": {
    "collapsed": false
   }
  },
  {
   "cell_type": "code",
   "execution_count": 14,
   "outputs": [],
   "source": [
    "runs = 4\n",
    "feats = 8\n",
    "J_cb = calc_basis_matrix(x_basis=feats, b_basis=2)\n",
    "X = gen_rand_design(runs, feats)\n",
    "X_flat = X.flatten().reshape(1, X.shape[0]*X.shape[1])\n",
    "y = objective(X=X_flat, runs=runs, feats=feats, optimality='A', J_cb=J_cb)"
   ],
   "metadata": {
    "collapsed": false
   }
  },
  {
   "cell_type": "code",
   "execution_count": 15,
   "outputs": [],
   "source": [
    "kernel=None\n",
    "model = GaussianProcessRegressor(kernel=kernel)\n",
    "\n",
    "def random_start(runs, feats, model=model, J_cb=None):\n",
    "    data = gen_rand_design(runs=runs, feats=feats)\n",
    "    data_flat = data.flatten().reshape(1, runs*feats)\n",
    "    target = objective(data_flat, runs=runs, feats=feats, optimality='A', J_cb=J_cb)\n",
    "    model.fit(data_flat, target)\n",
    "    return data_flat, target, model"
   ],
   "metadata": {
    "collapsed": false
   }
  },
  {
   "cell_type": "code",
   "execution_count": 16,
   "outputs": [],
   "source": [
    "X_init, y_init, model = random_start(runs=4, feats=8, model=GaussianProcessRegressor(kernel=None), J_cb=J_cb)"
   ],
   "metadata": {
    "collapsed": false
   }
  },
  {
   "cell_type": "code",
   "execution_count": null,
   "outputs": [],
   "source": [
    "x_next = opt_acq(X_init, y_init, model=model, acq=acq_ei, low=[-1]*feats, high=[1]*feats, beta=None)"
   ],
   "metadata": {
    "collapsed": false
   }
  },
  {
   "cell_type": "code",
   "execution_count": null,
   "outputs": [],
   "source": [],
   "metadata": {
    "collapsed": false
   }
  }
 ],
 "metadata": {
  "kernelspec": {
   "display_name": "Python 3",
   "language": "python",
   "name": "python3"
  },
  "language_info": {
   "codemirror_mode": {
    "name": "ipython",
    "version": 2
   },
   "file_extension": ".py",
   "mimetype": "text/x-python",
   "name": "python",
   "nbconvert_exporter": "python",
   "pygments_lexer": "ipython2",
   "version": "2.7.6"
  }
 },
 "nbformat": 4,
 "nbformat_minor": 0
}
